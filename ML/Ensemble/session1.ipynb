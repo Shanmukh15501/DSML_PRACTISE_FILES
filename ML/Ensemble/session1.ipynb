{
 "cells": [
  {
   "cell_type": "markdown",
   "id": "33f26f93",
   "metadata": {},
   "source": [
    "# 📚 What is Ensemble Learning?\n",
    "\n",
    "**Ensemble learning** is a technique where multiple models (also called **learners** or **estimators**) are combined to solve a problem and improve performance. The main idea is that a group of **weak models**, when combined properly, can create a **stronger overall model**.\n",
    "\n",
    "Eg:- Majority Voting, Average, Weighted Mean are basic techniques\n",
    "---\n",
    "\n",
    "## 🔧 Some of Advance Types of Ensemble Methods:\n",
    "\n",
    "### 1. 🧺 Bagging (Bootstrap Aggregating)\n",
    "\n",
    "- **How it works**: Trains several instances of the same model on **random subsets** of the training data (with replacement), then **averages** the results (for regression) or uses **majority voting** (for classification).\n",
    "- **Goal**: Reduce **variance** and prevent **overfitting**.\n",
    "- **Example**: `Random Forest` (ensemble of decision trees)\n",
    "\n",
    "---\n",
    "\n",
    "### 2. 🚀 Boosting\n",
    "\n",
    "- **How it works**: Models are trained **sequentially**. Each new model focuses on **correcting the errors** made by the previous one.\n",
    "- **Goal**: Reduce **bias** and improve **accuracy**.\n",
    "- **Popular boosting methods**:\n",
    "  - AdaBoost\n",
    "  - Gradient Boosting\n",
    "  - XGBoost, LightGBM, CatBoost\n",
    "\n",
    "---\n",
    "\n",
    "### 3. 🧠 Stacking (Stacked Generalization)\n",
    "\n",
    "- **How it works**: Combines predictions from multiple models using a **meta-model** (e.g., logistic regression) that learns how to best combine the outputs of the base models.\n",
    "- **Common use**: Frequently used in machine learning competitions like **Kaggle**.\n",
    "\n",
    "---\n",
    "\n",
    "## 🎯 Why Use Ensemble Learning?\n",
    "\n",
    "- ✅ Better accuracy than a single model  \n",
    "- ✅ More robust and generalizes better to new data  \n",
    "- ✅ Reduces overfitting  \n",
    "- ✅ Helps capture more complex patterns in the data\n"
   ]
  },
  {
   "cell_type": "markdown",
   "id": "a5e12594",
   "metadata": {},
   "source": []
  }
 ],
 "metadata": {
  "language_info": {
   "name": "python"
  }
 },
 "nbformat": 4,
 "nbformat_minor": 5
}
