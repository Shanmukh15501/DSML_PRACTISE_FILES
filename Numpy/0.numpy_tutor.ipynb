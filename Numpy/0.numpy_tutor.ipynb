{
 "cells": [
  {
   "cell_type": "markdown",
   "id": "5aa49dbe",
   "metadata": {},
   "source": [
    "# Import and Checking NumPy Version\n"
   ]
  },
  {
   "cell_type": "code",
   "execution_count": 9,
   "id": "35937a18",
   "metadata": {},
   "outputs": [
    {
     "name": "stdout",
     "output_type": "stream",
     "text": [
      "1.26.4\n"
     ]
    }
   ],
   "source": [
    "import numpy as np\n",
    "\n",
    "print(np.__version__)"
   ]
  },
  {
   "cell_type": "markdown",
   "id": "97f0dd6a",
   "metadata": {},
   "source": [
    "# Define a Numpy Array and its Type\n",
    "- https://www.w3schools.com/python/numpy/numpy_data_types.asp"
   ]
  },
  {
   "cell_type": "code",
   "execution_count": 10,
   "id": "feb600fc",
   "metadata": {},
   "outputs": [
    {
     "name": "stdout",
     "output_type": "stream",
     "text": [
      "[1 2 3 4 5]\n",
      "int32\n",
      "[b'1' b'2' b'3' b'4' b'5']\n",
      "|S1\n",
      "[1 2 3]\n",
      "int32\n"
     ]
    }
   ],
   "source": [
    "import numpy as np\n",
    "arr = np.array([1,2,3,4,5])\n",
    "print(arr)\n",
    "print(arr.dtype)\n",
    "\n",
    "#You can also specify the data type explicitly using the dtype parameter.\n",
    "arr = np.array([1, 2, 3, 4,5], dtype='S')\n",
    "print(arr)\n",
    "print(arr.dtype)\n",
    "\n",
    "# Best Way of converting dtype of an array is using astype() method.\n",
    "#The astype() function creates a copy of the array, and allows you to specify the data type as a parameter.\n",
    "\n",
    "arr = np.array([1.1, 2.1, 3.1])\n",
    "newarr = arr.astype('i')\n",
    "print(newarr)\n",
    "print(newarr.dtype)"
   ]
  },
  {
   "cell_type": "markdown",
   "id": "3e185620",
   "metadata": {},
   "source": [
    "# NumPy Array Reshaping"
   ]
  },
  {
   "cell_type": "code",
   "execution_count": 11,
   "id": "ce4ca80f",
   "metadata": {},
   "outputs": [
    {
     "name": "stdout",
     "output_type": "stream",
     "text": [
      "[[ 1  2  3]\n",
      " [ 4  5  6]\n",
      " [ 7  8  9]\n",
      " [10 11 12]]\n",
      "[[[ 1  2]\n",
      "  [ 3  4]\n",
      "  [ 5  6]]\n",
      "\n",
      " [[ 7  8]\n",
      "  [ 9 10]\n",
      "  [11 12]]]\n"
     ]
    }
   ],
   "source": [
    "import numpy as np\n",
    "\n",
    "arr = np.array([1, 2, 3, 4, 5, 6, 7, 8, 9, 10, 11, 12])\n",
    "\n",
    "newarr = arr.reshape(4, 3)\n",
    "\n",
    "print(newarr)\n",
    "\n",
    "import numpy as np\n",
    "#The outermost dimension will have 2 arrays that contains 3 arrays, each with 2 elements:\n",
    "\n",
    "arr = np.array([1, 2, 3, 4, 5, 6, 7, 8, 9, 10, 11, 12])\n",
    "\n",
    "newarr = arr.reshape(2, 3, 2)\n",
    "\n",
    "print(newarr)"
   ]
  },
  {
   "cell_type": "markdown",
   "id": "d525307b",
   "metadata": {},
   "source": [
    "# 📐 Understanding 1D, 2D, and 3D NumPy Arrays: Dimensions and Shapes Explained\n"
   ]
  },
  {
   "cell_type": "code",
   "execution_count": 12,
   "id": "27cedfe1",
   "metadata": {},
   "outputs": [
    {
     "name": "stdout",
     "output_type": "stream",
     "text": [
      "#---------------------- 0D Array (Scalar) ----------------------#\n",
      "Array: 1\n",
      "Type: <class 'numpy.ndarray'>\n",
      "Dimensions (ndim): 0\n",
      "Shape: ()\n",
      "\n",
      "#---------------------- 1D Array (Vector) ----------------------#\n",
      "Array:\n",
      " [1 2]\n",
      "Type: <class 'numpy.ndarray'>\n",
      "Dimensions (ndim): 1\n",
      "Shape: (2,)\n",
      "\n",
      "#---------------------- 2D Array (Matrix) ----------------------#\n",
      "Array:\n",
      " [[1 2]]\n",
      "Type: <class 'numpy.ndarray'>\n",
      "Dimensions (ndim): 2\n",
      "Shape: (1, 2)\n",
      "\n",
      "#---------------------- 3D Array (Tensor) ----------------------#\n",
      "Array:\n",
      " [[[1 2 3]\n",
      "  [4 5 6]]\n",
      "\n",
      " [[1 2 3]\n",
      "  [4 5 6]]]\n",
      "Type: <class 'numpy.ndarray'>\n",
      "Dimensions (ndim): 3\n",
      "Shape: (2, 2, 3)\n",
      "\n",
      "#---------------- Another 3D Array Example ---------------------#\n",
      "Array:\n",
      " [[[1 2]\n",
      "  [4 5]\n",
      "  [7 8]]\n",
      "\n",
      " [[1 2]\n",
      "  [4 5]\n",
      "  [7 8]]]\n",
      "Type: <class 'numpy.ndarray'>\n",
      "Dimensions (ndim): 3\n",
      "Shape: (2, 3, 2)\n",
      "\n"
     ]
    }
   ],
   "source": [
    "import numpy as np\n",
    "\n",
    "# 0-D Numpy Array (Scalar)\n",
    "print('#---------------------- 0D Array (Scalar) ----------------------#')\n",
    "arr0 = np.array(1)\n",
    "print(\"Array:\", arr0)\n",
    "print(\"Type:\", type(arr0))\n",
    "print(\"Dimensions (ndim):\", arr0.ndim)\n",
    "print(\"Shape:\", arr0.shape)\n",
    "print()\n",
    "\n",
    "# 1-D Numpy Array (Vector)\n",
    "print('#---------------------- 1D Array (Vector) ----------------------#')\n",
    "arr1 = np.array([1, 2])\n",
    "print(\"Array:\\n\", arr1)\n",
    "print(\"Type:\", type(arr1))\n",
    "print(\"Dimensions (ndim):\", arr1.ndim)\n",
    "print(\"Shape:\", arr1.shape)\n",
    "print()\n",
    "\n",
    "# 2-D Numpy Array (Matrix)\n",
    "print('#---------------------- 2D Array (Matrix) ----------------------#')\n",
    "arr2 = np.array([[1, 2]])\n",
    "print(\"Array:\\n\", arr2)\n",
    "print(\"Type:\", type(arr2))\n",
    "print(\"Dimensions (ndim):\", arr2.ndim)\n",
    "print(\"Shape:\", arr2.shape)\n",
    "print()\n",
    "\n",
    "# 3-D Numpy Array (Tensor)\n",
    "print('#---------------------- 3D Array (Tensor) ----------------------#')\n",
    "arr3 = np.array([[[1, 2, 3], [4, 5, 6]],\n",
    "                 [[1, 2, 3], [4, 5, 6]]])\n",
    "print(\"Array:\\n\", arr3)\n",
    "print(\"Type:\", type(arr3))\n",
    "print(\"Dimensions (ndim):\", arr3.ndim)\n",
    "print(\"Shape:\", arr3.shape)\n",
    "print()\n",
    "\n",
    "# Another 3-D Example\n",
    "print('#---------------- Another 3D Array Example ---------------------#')\n",
    "arr4 = np.array([[[1, 2], [4, 5], [7, 8]],\n",
    "                 [[1, 2], [4, 5], [7, 8]]])\n",
    "print(\"Array:\\n\", arr4)\n",
    "print(\"Type:\", type(arr4))\n",
    "print(\"Dimensions (ndim):\", arr4.ndim)\n",
    "print(\"Shape:\", arr4.shape)\n",
    "print()\n"
   ]
  },
  {
   "cell_type": "markdown",
   "id": "91668522",
   "metadata": {},
   "source": [
    "# 🔍 Accessing Elements in a 2D NumPy Array by Index\n"
   ]
  },
  {
   "cell_type": "code",
   "execution_count": 13,
   "id": "e9206125",
   "metadata": {},
   "outputs": [
    {
     "name": "stdout",
     "output_type": "stream",
     "text": [
      "🔹 2D NumPy Array:\n",
      "[[ 1  2  3  4  5]\n",
      " [ 6  7  8  9 10]]\n",
      "\n",
      "\n",
      "📍 Accessing Elements:\n",
      "➡️  2nd element in 1st row   (arr[0, 1]) = 2\n",
      "➡️  5th element in 2nd row  (arr[1, 4]) = 10\n"
     ]
    }
   ],
   "source": [
    "import numpy as np\n",
    "\n",
    "# Creating a 2D NumPy array\n",
    "arr = np.array([\n",
    "    [1, 2, 3, 4, 5], \n",
    "    [6, 7, 8, 9, 10]\n",
    "])\n",
    "\n",
    "# Print the array with labels\n",
    "print(\"🔹 2D NumPy Array:\")\n",
    "print(arr)\n",
    "print(\"\\n\")\n",
    "\n",
    "# Access specific elements with formatted output\n",
    "print(\"📍 Accessing Elements:\")\n",
    "print(f\"➡️  2nd element in 1st row   (arr[0, 1]) = {arr[0, 1]}\")\n",
    "print(f\"➡️  5th element in 2nd row  (arr[1, 4]) = {arr[1, 4]}\")"
   ]
  },
  {
   "cell_type": "markdown",
   "id": "eec20d80",
   "metadata": {},
   "source": [
    "## The Difference Between `Copy` and `View`\n",
    "\n",
    "- **Copy:**\n",
    "  - A **copy** creates a new independent array.\n",
    "  - The new array owns its own data.\n",
    "  - Changes made to the copy do **not** affect the original array.\n",
    "  - Changes made to the original array do **not** affect the copy.\n",
    "\n",
    "- **View:**\n",
    "  - A **view** does **not** create a new independent array.\n",
    "  - The view references the original array's data.\n",
    "  - Changes made to the view **will** affect the original array.\n",
    "  - Changes made to the original array **will** affect the view.\n",
    "\n",
    "### Summary:\n",
    "- **Copy** = Independent, does not affect the original.\n",
    "- **View** = Dependent, changes reflect in the original array.\n",
    "\n"
   ]
  },
  {
   "cell_type": "markdown",
   "id": "1c0117a5",
   "metadata": {},
   "source": [
    "# USE Copy"
   ]
  },
  {
   "cell_type": "code",
   "execution_count": 11,
   "id": "8aac0ee8",
   "metadata": {},
   "outputs": [
    {
     "name": "stdout",
     "output_type": "stream",
     "text": [
      "[42  2  3  4  5]\n",
      "[1 2 3 4 5]\n"
     ]
    }
   ],
   "source": [
    "arr = np.array([1, 2, 3, 4, 5])\n",
    "x = arr.copy()\n",
    "arr[0] = 42\n",
    "\n",
    "print(arr)\n",
    "print(x)\n"
   ]
  },
  {
   "cell_type": "markdown",
   "id": "e8c70b36",
   "metadata": {},
   "source": [
    "# USE View"
   ]
  },
  {
   "cell_type": "code",
   "execution_count": 3,
   "id": "7f6740e0",
   "metadata": {},
   "outputs": [
    {
     "name": "stdout",
     "output_type": "stream",
     "text": [
      "[42  2  3  4  5]\n",
      "[42  2  3  4  5]\n"
     ]
    }
   ],
   "source": [
    "import numpy as np\n",
    "\n",
    "arr = np.array([1, 2, 3, 4, 5])\n",
    "x = arr.view()\n",
    "arr[0] = 42\n",
    "\n",
    "print(arr)\n",
    "print(x)"
   ]
  },
  {
   "cell_type": "markdown",
   "id": "f3b7fcb6",
   "metadata": {},
   "source": [
    "# 🧮 Reshaping and Summing Arrays in NumPy"
   ]
  },
  {
   "cell_type": "code",
   "execution_count": 12,
   "id": "b83630e8",
   "metadata": {},
   "outputs": [
    {
     "name": "stdout",
     "output_type": "stream",
     "text": [
      "Array (3x3):\n",
      " [[0 1 2]\n",
      " [3 4 5]\n",
      " [6 7 8]]\n",
      "Shape: (3, 3)\n",
      "Number of Dimensions: 2\n",
      "\n",
      "Column-wise Sum (axis=0): [ 9 12 15]\n",
      "Row-wise Sum (axis=1): [ 3 12 21]\n",
      "--------------------\n",
      "Array (1D with 8 elements):\n",
      " [0 1 2 3 4 5 6 7]\n",
      "Reshaped into 4x2 matrix:\n",
      " [[0 1]\n",
      " [2 3]\n",
      " [4 5]\n",
      " [6 7]]\n",
      "Reshaping each 4x2 matrix into n*m form:\n",
      " [[[0]\n",
      "  [1]]\n",
      "\n",
      " [[2]\n",
      "  [3]]\n",
      "\n",
      " [[4]\n",
      "  [5]]\n",
      "\n",
      " [[6]\n",
      "  [7]]]\n",
      "--------------------\n",
      "Flattened array: [0 1 2 3 4 5 6 7]\n",
      "--------------------\n",
      "Reshaped array into 1D (using -1): [0 1 2 3 4 5 6 7]\n"
     ]
    }
   ],
   "source": [
    "import numpy as np\n",
    "\n",
    "# Create a 3x3 array using arange and reshape\n",
    "a = np.arange(9).reshape(3, 3)\n",
    "\n",
    "# Print the array, its shape, and number of dimensions\n",
    "print(\"Array (3x3):\\n\", a)\n",
    "print(\"Shape:\", a.shape)\n",
    "print(\"Number of Dimensions:\", a.ndim)\n",
    "print()\n",
    "\n",
    "# Calculate the column-wise sum (sum along axis 0)\n",
    "print(\"Column-wise Sum (axis=0):\", np.sum(a, axis=0))\n",
    "\n",
    "# Calculate the row-wise sum (sum along axis 1)\n",
    "print(\"Row-wise Sum (axis=1):\", np.sum(a, axis=1))\n",
    "print(\"--------------------\")\n",
    "\n",
    "# Create a new array with 8 elements\n",
    "a = np.arange(8)\n",
    "print(\"Array (1D with 8 elements):\\n\", a)\n",
    "\n",
    "# Reshape it into a 4x2 array\n",
    "print(\"Reshaped into 4x2 matrix:\\n\", a.reshape(4, 2))\n",
    "\n",
    "# Now, reshape each 4x2 matrix into a n*m form\n",
    "print(\"Reshaping each 4x2 matrix into n*m form:\\n\", a.reshape(4, 2, -1))\n",
    "print(\"--------------------\")\n",
    "\n",
    "# Flatten the array into a 1D array\n",
    "print(\"Flattened array:\", a.flatten())\n",
    "print(\"--------------------\")\n",
    "\n",
    "# Reshape into a 1D array using -1, allowing NumPy to infer the shape\n",
    "a = a.reshape(-1)\n",
    "print(\"Reshaped array into 1D (using -1):\", a)\n"
   ]
  },
  {
   "cell_type": "markdown",
   "id": "ec1c32cd",
   "metadata": {},
   "source": [
    "# 🔪 Slicing Arrays in NumPy\n"
   ]
  },
  {
   "cell_type": "code",
   "execution_count": 13,
   "id": "3d522e86",
   "metadata": {},
   "outputs": [
    {
     "name": "stdout",
     "output_type": "stream",
     "text": [
      "Slicing (0:4): [0 1 2 3]\n",
      "Slicing (0:4:2): [0 2]\n",
      "\n",
      "Reshaped 4x2 Array:\n",
      " [[0 1]\n",
      " [2 3]\n",
      " [4 5]\n",
      " [6 7]]\n",
      "Shape: (4, 2)\n",
      "Number of Dimensions: 2\n"
     ]
    }
   ],
   "source": [
    "import numpy as np\n",
    "\n",
    "# Create an array with 8 elements\n",
    "a = np.arange(8)\n",
    "\n",
    "# Slice the array from index 0 to 4 (exclusive) - simple slicing\n",
    "print(\"Slicing (0:4):\", a[0:4])\n",
    "\n",
    "# Slice the array from index 0 to 4 (exclusive) with a step of 2\n",
    "print(\"Slicing (0:4:2):\", a[0:4:2])\n",
    "\n",
    "# Reshape the array into a 4x2 matrix\n",
    "a = a.reshape(4, 2)\n",
    "\n",
    "# Print the reshaped array along with its shape and dimensions\n",
    "print(\"\\nReshaped 4x2 Array:\\n\", a)\n",
    "print(\"Shape:\", a.shape)\n",
    "print(\"Number of Dimensions:\", a.ndim)\n"
   ]
  },
  {
   "cell_type": "markdown",
   "id": "3e450856",
   "metadata": {},
   "source": [
    "# 🔗 Concatenating Arrays in NumPy"
   ]
  },
  {
   "cell_type": "code",
   "execution_count": 14,
   "id": "cfe634ac",
   "metadata": {},
   "outputs": [
    {
     "name": "stdout",
     "output_type": "stream",
     "text": [
      "1D Array Concatenation:\n",
      "Concatenated Array: [1 2 3 4 5 6]\n",
      "Shape: (6,)\n",
      "--------------------\n",
      "2D Array Concatenation (Row-wise):\n",
      "Concatenated Array (axis=0):\n",
      " [[1 2]\n",
      " [3 4]\n",
      " [5 6]\n",
      " [7 8]]\n",
      "Shape: (4, 2)\n",
      "--------------------\n",
      "2D Array Concatenation (Column-wise):\n",
      "Concatenated Array (axis=1):\n",
      " [[1 2 5 6]\n",
      " [3 4 7 8]]\n",
      "Shape: (2, 4)\n"
     ]
    }
   ],
   "source": [
    "import numpy as np\n",
    "\n",
    "# 1D Array Concatenation\n",
    "arr1 = np.array([1, 2, 3])\n",
    "arr2 = np.array([4, 5, 6])\n",
    "\n",
    "# Concatenating two 1D arrays\n",
    "arr = np.concatenate((arr1, arr2))\n",
    "\n",
    "print(\"1D Array Concatenation:\")\n",
    "print(\"Concatenated Array:\", arr)\n",
    "print(\"Shape:\", arr.shape)\n",
    "print(\"--------------------\")\n",
    "\n",
    "# 2D Array Concatenation (Row-wise)\n",
    "arr1 = np.array([[1, 2], [3, 4]])\n",
    "arr2 = np.array([[5, 6], [7, 8]])\n",
    "\n",
    "# Concatenating 2D arrays along rows (axis=0)\n",
    "arr_rowwise = np.concatenate((arr1, arr2), axis=0)\n",
    "\n",
    "print(\"2D Array Concatenation (Row-wise):\")\n",
    "print(\"Concatenated Array (axis=0):\\n\", arr_rowwise)\n",
    "print(\"Shape:\", arr_rowwise.shape)\n",
    "print(\"--------------------\")\n",
    "\n",
    "# Concatenating 2D arrays along columns (axis=1)\n",
    "arr_colwise = np.concatenate((arr1, arr2), axis=1)\n",
    "\n",
    "print(\"2D Array Concatenation (Column-wise):\")\n",
    "print(\"Concatenated Array (axis=1):\\n\", arr_colwise)\n",
    "print(\"Shape:\", arr_colwise.shape)\n"
   ]
  },
  {
   "cell_type": "code",
   "execution_count": 8,
   "id": "adf3cd5f",
   "metadata": {},
   "outputs": [
    {
     "name": "stdout",
     "output_type": "stream",
     "text": [
      "🔹 Original Array:\n",
      "[0 1 2 3 4 5 6 7]\n",
      "\n",
      "Split into 2 parts: [array([0, 1, 2, 3]), array([4, 5, 6, 7])]\n",
      "\n",
      "Split into 4 parts: [array([0, 1]), array([2, 3]), array([4, 5]), array([6, 7])]\n",
      "\n",
      "HSPLIT (from index 2 to index 6): [array([0, 1]), array([2, 3, 4, 5]), array([6, 7])]\n",
      "--------------------\n",
      "\n",
      "2D Array before VSPLIT:\n",
      "[[0 1]\n",
      " [2 3]\n",
      " [4 5]\n",
      " [6 7]]\n",
      "\n",
      "2D Array after VSPLIT (by rows):\n",
      "[array([[0, 1],\n",
      "       [2, 3]]), array([[4, 5],\n",
      "       [6, 7]])]\n",
      "--------------------\n"
     ]
    }
   ],
   "source": [
    "import numpy as np\n",
    "\n",
    "# ---------- SPLITTING ARRAYS ----------\n",
    "print(\"🔹 Original Array:\")\n",
    "a = np.arange(8)\n",
    "print(a)\n",
    "\n",
    "# Split into 2 equal parts\n",
    "a_split_2 = np.split(a, 2)\n",
    "print(\"\\nSplit into 2 parts:\", a_split_2)\n",
    "\n",
    "# Split into 4 equal parts\n",
    "a_split_4 = np.split(a, 4)\n",
    "print(\"\\nSplit into 4 parts:\", a_split_4)\n",
    "\n",
    "# Horizontal split using specific indices (from index 2 to 6)\n",
    "a_hsplit = np.hsplit(a, [2, 6])\n",
    "print(\"\\nHSPLIT (from index 2 to index 6):\", a_hsplit)\n",
    "print(\"--------------------\")\n",
    "\n",
    "# Attempting vsplit on 1D array (throws an error)\n",
    "# a_vsplit_error = np.vsplit(a, 2)  # Uncommenting this will raise an error: vsplit does not work on 1D arrays\n",
    "\n",
    "# ---------- VSPLIT FOR 2D ARRAYS ----------\n",
    "a_2d = np.arange(8).reshape(4, 2)\n",
    "print(\"\\n2D Array before VSPLIT:\")\n",
    "print(a_2d)\n",
    "\n",
    "# Perform vsplit on 2D array (splitting by rows)\n",
    "a_vsplit = np.vsplit(a_2d, 2)\n",
    "print(\"\\n2D Array after VSPLIT (by rows):\")\n",
    "print(a_vsplit)\n",
    "print(\"--------------------\")"
   ]
  },
  {
   "cell_type": "markdown",
   "id": "de1f9836",
   "metadata": {},
   "source": [
    "📡 Broadcasting in NumPy\n",
    "Broadcasting is a powerful feature in NumPy that allows you to perform arithmetic operations on arrays of different shapes. It automatically expands the smaller array to match the shape of the larger array, without creating any copies of the data, which can save memory and improve efficiency.\n",
    "\n",
    "In simpler terms, broadcasting allows NumPy to perform element-wise operations (like addition, subtraction, etc.) on arrays that have different shapes but are compatible in a certain way."
   ]
  },
  {
   "cell_type": "code",
   "execution_count": 21,
   "id": "7bfcbe34",
   "metadata": {},
   "outputs": [
    {
     "name": "stdout",
     "output_type": "stream",
     "text": [
      "Original Array: [1 2 3]\n",
      "Scalar: 10\n",
      "Result after Broadcasting: [11 12 13]\n"
     ]
    }
   ],
   "source": [
    "import numpy as np\n",
    "\n",
    "# Create a 1D array\n",
    "arr1 = np.array([1, 2, 3])\n",
    "\n",
    "# Create a scalar (single value)\n",
    "scalar = 10\n",
    "\n",
    "# Broadcasting allows us to add the scalar to the array\n",
    "result = arr1 + scalar\n",
    "\n",
    "print(\"Original Array:\", arr1)\n",
    "print(\"Scalar:\", scalar)\n",
    "print(\"Result after Broadcasting:\", result)\n"
   ]
  },
  {
   "cell_type": "markdown",
   "id": "760b5213",
   "metadata": {},
   "source": [
    "# Example 2: Broadcasting in 2D Arrays\n",
    "\n"
   ]
  },
  {
   "cell_type": "code",
   "execution_count": 22,
   "id": "8f858cd2",
   "metadata": {},
   "outputs": [
    {
     "name": "stdout",
     "output_type": "stream",
     "text": [
      "2D Array (arr1):\n",
      " [[1 2]\n",
      " [3 4]]\n",
      "1D Array (arr2): [10 20]\n",
      "Result after Broadcasting:\n",
      " [[11 22]\n",
      " [13 24]]\n"
     ]
    }
   ],
   "source": [
    "import numpy as np\n",
    "\n",
    "# Create a 2D array\n",
    "arr1 = np.array([[1, 2], [3, 4]])\n",
    "\n",
    "# Create a 1D array (row vector)\n",
    "arr2 = np.array([10, 20])\n",
    "\n",
    "# Broadcasting allows us to add arr2 to each row of arr1\n",
    "result = arr1 + arr2\n",
    "\n",
    "print(\"2D Array (arr1):\\n\", arr1)\n",
    "print(\"1D Array (arr2):\", arr2)\n",
    "print(\"Result after Broadcasting:\\n\", result)\n"
   ]
  },
  {
   "cell_type": "markdown",
   "id": "47dc9997",
   "metadata": {},
   "source": [
    "# Example 3: Broadcasting in 3D Arrays"
   ]
  },
  {
   "cell_type": "code",
   "execution_count": 23,
   "id": "78417b4b",
   "metadata": {},
   "outputs": [
    {
     "name": "stdout",
     "output_type": "stream",
     "text": [
      "3D Array (arr1):\n",
      " [[[1 2]\n",
      "  [3 4]]\n",
      "\n",
      " [[5 6]\n",
      "  [7 8]]]\n",
      "1D Array (arr2): [10 20]\n",
      "Result after Broadcasting:\n",
      " [[[11 22]\n",
      "  [13 24]]\n",
      "\n",
      " [[15 26]\n",
      "  [17 28]]]\n"
     ]
    }
   ],
   "source": [
    "import numpy as np\n",
    "\n",
    "# Create a 3D array\n",
    "arr1 = np.array([[[1, 2], [3, 4]], [[5, 6], [7, 8]]])\n",
    "\n",
    "# Create a 1D array\n",
    "arr2 = np.array([10, 20])\n",
    "\n",
    "# Broadcasting allows us to add arr2 to each row of each 2D slice in arr1\n",
    "result = arr1 + arr2\n",
    "\n",
    "print(\"3D Array (arr1):\\n\", arr1)\n",
    "print(\"1D Array (arr2):\", arr2)\n",
    "print(\"Result after Broadcasting:\\n\", result)\n"
   ]
  },
  {
   "cell_type": "markdown",
   "id": "d66adc17",
   "metadata": {},
   "source": [
    "# Summary of Broadcasting:\n",
    "- Efficient: Broadcasting avoids creating copies of data, which saves memory.\n",
    "- Flexible: You can perform element-wise operations on arrays with different shapes.\n",
    "- Automatic: NumPy handles the broadcasting automatically, without needing explicit replication of smaller arrays."
   ]
  },
  {
   "cell_type": "markdown",
   "id": "a004b2d7",
   "metadata": {},
   "source": [
    "# SEARCH IN NUMPY\n",
    "- You can search an array for a certain value, and return the indexes that get a match.\n"
   ]
  },
  {
   "cell_type": "code",
   "execution_count": 27,
   "id": "8baf0860",
   "metadata": {},
   "outputs": [
    {
     "name": "stdout",
     "output_type": "stream",
     "text": [
      "(array([3, 5, 6], dtype=int64),)\n"
     ]
    }
   ],
   "source": [
    "import numpy as np\n",
    "\n",
    "arr = np.array([1, 2, 3, 4, 5, 4, 4])\n",
    "\n",
    "x = np.where(arr == 4)\n",
    "\n",
    "print(x)"
   ]
  },
  {
   "cell_type": "markdown",
   "id": "33c46352",
   "metadata": {},
   "source": [
    "# 🔍 Boolean Indexing and Masking in NumPy"
   ]
  },
  {
   "cell_type": "code",
   "execution_count": 14,
   "id": "5f4d4363",
   "metadata": {},
   "outputs": [
    {
     "name": "stdout",
     "output_type": "stream",
     "text": [
      "Original Array:\n",
      " [ 0  1  2  3  4  5  6  7  8  9 10 11]\n",
      "\n",
      "Condition (a < 3):\n",
      " [ True  True  True False False False False False False False False False]\n",
      "\n",
      "Filtered (a < 3):\n",
      " [0 1 2]\n",
      "\n",
      "Filtered (a % 3 == 0):\n",
      " [0 3 6 9]\n"
     ]
    }
   ],
   "source": [
    "import numpy as np\n",
    "\n",
    "# Create a 1D array with values from 0 to 11\n",
    "a = np.arange(12)\n",
    "print(\"Original Array:\\n\", a)\n",
    "\n",
    "# Create a boolean mask for values less than 3\n",
    "print(\"\\nCondition (a < 3):\\n\", a < 3)\n",
    "\n",
    "# Use boolean indexing to filter values less than 3\n",
    "print(\"\\nFiltered (a < 3):\\n\", a[a < 3])\n",
    "\n",
    "# Filter values that are divisible by 3\n",
    "print(\"\\nFiltered (a % 3 == 0):\\n\", a[a % 3 == 0])\n"
   ]
  },
  {
   "cell_type": "markdown",
   "id": "c7cfa58c",
   "metadata": {},
   "source": [
    "# 🧾 Accessing Rows, Columns, and Elements in a NumPy 2D Array"
   ]
  },
  {
   "cell_type": "code",
   "execution_count": 16,
   "id": "00bade99",
   "metadata": {},
   "outputs": [
    {
     "name": "stdout",
     "output_type": "stream",
     "text": [
      "Original Array:\n",
      " [[1 2 3]\n",
      " [4 5 6]\n",
      " [7 8 9]]\n",
      "-------------\n",
      "1️⃣ First Row:\n",
      "[1 2 3]\n",
      "-------------\n",
      "3️⃣ Third Row:\n",
      "[7 8 9]\n",
      "-------------\n",
      "📍 First Column:\n",
      "[1 4 7]\n",
      "-------------\n",
      "📍 Third Column:\n",
      "[3 6 9]\n",
      "-------------\n",
      "🎯 Element at [0,2] (1st row, 3rd col):\n",
      "3\n",
      "-------------\n",
      "🎯 Element at [2,2] (3rd row, 3rd col):\n",
      "9\n",
      "-------------\n",
      "📊 All Rows, 1st and 3rd Columns:\n",
      "[[1 3]\n",
      " [4 6]\n",
      " [7 9]]\n"
     ]
    }
   ],
   "source": [
    "import numpy as np\n",
    "\n",
    "# Create a 3x3 matrix\n",
    "a = np.arange(1, 10).reshape(3, 3)\n",
    "print(\"Original Array:\\n\", a)\n",
    "print(\"-------------\")\n",
    "\n",
    "# ✅ Get 1st row\n",
    "print(\"1️⃣ First Row:\")\n",
    "print(a[0])\n",
    "print(\"-------------\")\n",
    "\n",
    "# ✅ Get 3rd row\n",
    "print(\"3️⃣ Third Row:\")\n",
    "print(a[2])\n",
    "print(\"-------------\")\n",
    "\n",
    "# ✅ Get 1st column\n",
    "print(\"📍 First Column:\")\n",
    "print(a[:, 0])\n",
    "print(\"-------------\")\n",
    "\n",
    "# ✅ Get 3rd column\n",
    "print(\"📍 Third Column:\")\n",
    "print(a[:, 2])\n",
    "print(\"-------------\")\n",
    "\n",
    "# ✅ Get element at 1st row, 3rd column\n",
    "print(\"🎯 Element at [0,2] (1st row, 3rd col):\")\n",
    "print(a[0, 2])\n",
    "print(\"-------------\")\n",
    "\n",
    "# ✅ Get element at 3rd row, 3rd column\n",
    "print(\"🎯 Element at [2,2] (3rd row, 3rd col):\")\n",
    "print(a[2, 2])\n",
    "print(\"-------------\")\n",
    "\n",
    "# ✅ Get all rows, 1st and 3rd columns\n",
    "print(\"📊 All Rows, 1st and 3rd Columns:\")\n",
    "print(a[:, 0::2])\n"
   ]
  },
  {
   "cell_type": "markdown",
   "id": "1499f80a",
   "metadata": {},
   "source": [
    "# Generate Random Number\n"
   ]
  },
  {
   "cell_type": "code",
   "execution_count": 16,
   "id": "20ad0054",
   "metadata": {},
   "outputs": [
    {
     "name": "stdout",
     "output_type": "stream",
     "text": [
      "5\n",
      "[0.85726062 0.65430354 0.22223625 0.46591239 0.07393191]\n",
      "[10  5  1  3  8]\n",
      "[7 7 3 7 5]\n"
     ]
    }
   ],
   "source": [
    "from numpy import random\n",
    "import numpy as np\n",
    "\n",
    "x = random.randint(100)\n",
    "print(x)\n",
    "\n",
    "# Generate Random Float\n",
    "x = random.rand(5)\n",
    "print(x)\n",
    "\n",
    "#Generate Random Array\n",
    "x = np.random.randint(1, 11, size=5)\n",
    "print(x)\n",
    "\n",
    "# Random Data Distribution\n",
    "from numpy import random\n",
    "x = random.choice([3, 5, 7, 9], p=[0.1, 0.3, 0.6, 0.0], size=(5))\n",
    "print(x)"
   ]
  },
  {
   "cell_type": "markdown",
   "id": "fa4f194c",
   "metadata": {},
   "source": [
    "# Normal Distribution"
   ]
  },
  {
   "cell_type": "code",
   "execution_count": 29,
   "id": "ecf6fd14",
   "metadata": {},
   "outputs": [
    {
     "data": {
      "image/png": "[encoded data removed]",
      "text/plain": [
       "<Figure size 500x500 with 1 Axes>"
      ]
     },
     "metadata": {},
     "output_type": "display_data"
    }
   ],
   "source": [
    "\n",
    "from numpy import random\n",
    "import matplotlib.pyplot as plt\n",
    "import seaborn as sns\n",
    "sns.displot(random.normal(loc=1, scale=2, size=(1000)), kde=True, bins=30)\n",
    "plt.show()"
   ]
  },
  {
   "cell_type": "markdown",
   "id": "985b7b9b",
   "metadata": {},
   "source": [
    "# Binomial Distribution"
   ]
  },
  {
   "cell_type": "code",
   "execution_count": 30,
   "id": "272a3cf4",
   "metadata": {},
   "outputs": [
    {
     "data": {
      "image/png": "[encoded data removed]",
      "text/plain": [
       "<Figure size 500x500 with 1 Axes>"
      ]
     },
     "metadata": {},
     "output_type": "display_data"
    }
   ],
   "source": [
    "from numpy import random\n",
    "import matplotlib.pyplot as plt\n",
    "import seaborn as sns\n",
    "\n",
    "sns.displot(random.binomial(n=10, p=0.5, size=1000))\n",
    "\n",
    "plt.show()\n"
   ]
  },
  {
   "cell_type": "markdown",
   "id": "033175ad",
   "metadata": {},
   "source": [
    "- The main difference is that normal distribution is continous whereas binomial is discrete, but if there are enough data points it will be quite similar to normal distribution with certain loc and scale."
   ]
  },
  {
   "cell_type": "code",
   "execution_count": 31,
   "id": "0a45f89e",
   "metadata": {},
   "outputs": [
    {
     "data": {
      "image/png": "[encoded data removed]",
      "text/plain": [
       "<Figure size 609.875x500 with 1 Axes>"
      ]
     },
     "metadata": {},
     "output_type": "display_data"
    }
   ],
   "source": [
    "from numpy import random\n",
    "import matplotlib.pyplot as plt\n",
    "import seaborn as sns\n",
    "\n",
    "data = {\n",
    "  \"normal\": random.normal(loc=50, scale=5, size=1000),\n",
    "  \"binomial\": random.binomial(n=100, p=0.5, size=1000)\n",
    "}\n",
    "\n",
    "sns.displot(data, kind=\"kde\")\n",
    "\n",
    "plt.show()"
   ]
  },
  {
   "cell_type": "markdown",
   "id": "8bac3b7b",
   "metadata": {},
   "source": [
    "# Poisson Distribution"
   ]
  },
  {
   "cell_type": "code",
   "execution_count": 32,
   "id": "5a634b28",
   "metadata": {},
   "outputs": [
    {
     "data": {
      "image/png": "[encoded data removed]",
      "text/plain": [
       "<Figure size 500x500 with 1 Axes>"
      ]
     },
     "metadata": {},
     "output_type": "display_data"
    }
   ],
   "source": [
    "from numpy import random\n",
    "import matplotlib.pyplot as plt\n",
    "import seaborn as sns\n",
    "\n",
    "sns.displot(random.poisson(lam=2, size=1000))\n",
    "\n",
    "plt.show()"
   ]
  },
  {
   "cell_type": "markdown",
   "id": "9f9b87b7",
   "metadata": {},
   "source": [
    "# Uniform Distribution"
   ]
  },
  {
   "cell_type": "code",
   "execution_count": 34,
   "id": "5386cbfa",
   "metadata": {},
   "outputs": [
    {
     "data": {
      "image/png": "[encoded data removed]",
      "text/plain": [
       "<Figure size 500x500 with 1 Axes>"
      ]
     },
     "metadata": {},
     "output_type": "display_data"
    }
   ],
   "source": [
    "from numpy import random\n",
    "import matplotlib.pyplot as plt\n",
    "import seaborn as sns\n",
    "\n",
    "sns.displot(random.uniform(size=1000), kind=\"kde\")\n",
    "\n",
    "plt.show()"
   ]
  },
  {
   "cell_type": "markdown",
   "id": "bcabbef6",
   "metadata": {},
   "source": [
    "# Logistic Distribution"
   ]
  },
  {
   "cell_type": "code",
   "execution_count": 36,
   "id": "73792828",
   "metadata": {},
   "outputs": [
    {
     "data": {
      "image/png": "[encoded data removed]",
      "text/plain": [
       "<Figure size 500x500 with 1 Axes>"
      ]
     },
     "metadata": {},
     "output_type": "display_data"
    }
   ],
   "source": [
    "from numpy import random\n",
    "import matplotlib.pyplot as plt\n",
    "import seaborn as sns\n",
    "\n",
    "sns.displot(random.logistic(size=1000), kind=\"kde\")\n",
    "\n",
    "plt.show()"
   ]
  },
  {
   "cell_type": "markdown",
   "id": "2f1932fc",
   "metadata": {},
   "source": [
    "# Pareto Distribution"
   ]
  },
  {
   "cell_type": "code",
   "execution_count": 37,
   "id": "cd117969",
   "metadata": {},
   "outputs": [
    {
     "data": {
      "image/png": "[encoded data removed]",
      "text/plain": [
       "<Figure size 500x500 with 1 Axes>"
      ]
     },
     "metadata": {},
     "output_type": "display_data"
    }
   ],
   "source": [
    "from numpy import random\n",
    "import matplotlib.pyplot as plt\n",
    "import seaborn as sns\n",
    "\n",
    "sns.displot(random.pareto(a=2, size=1000))\n",
    "\n",
    "plt.show()"
   ]
  },
  {
   "cell_type": "code",
   "execution_count": null,
   "id": "51a51033",
   "metadata": {},
   "outputs": [],
   "source": []
  }
 ],
 "metadata": {
  "kernelspec": {
   "display_name": "Python 3",
   "language": "python",
   "name": "python3"
  },
  "language_info": {
   "codemirror_mode": {
    "name": "ipython",
    "version": 3
   },
   "file_extension": ".py",
   "mimetype": "text/x-python",
   "name": "python",
   "nbconvert_exporter": "python",
   "pygments_lexer": "ipython3",
   "version": "3.11.4"
  }
 },
 "nbformat": 4,
 "nbformat_minor": 5
}
