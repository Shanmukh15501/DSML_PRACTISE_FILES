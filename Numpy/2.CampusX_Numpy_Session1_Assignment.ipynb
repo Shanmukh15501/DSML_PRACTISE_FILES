{
  "cells": [
    {
      "cell_type": "markdown",
      "metadata": {
        "id": "1uamk9vAix0o"
      },
      "source": [
        "###`Q-1:` Find the nearest element in the array to a given integer.\n",
        "```\n",
        "Ex:-\n",
        "a=23 and array - [10 17 24 31 38 45 52 59].\n",
        "Nearest element is 24\n",
        "```\n",
        "\n",
        "Hint: Read about this function `argmin()`"
      ]
    },
    {
      "cell_type": "code",
      "execution_count": 9,
      "metadata": {
        "id": "ddkpbpR6iySZ"
      },
      "outputs": [
        {
          "name": "stdout",
          "output_type": "stream",
          "text": [
            "1\n"
          ]
        }
      ],
      "source": [
        "# code here\n",
        "import numpy as np  \n",
        "a=np.array([1,-1,24,31,38,45,52,59])\n",
        "c=abs(a-0)\n",
        "print(a[c.argmin()])"
      ]
    },
    {
      "cell_type": "markdown",
      "metadata": {
        "id": "Y1QkHyPpizyp"
      },
      "source": [
        "###`Q-2:` Replace multiples of 3 or 5 as 0 in the given array.\n",
        "```\n",
        "arr=[1 2 3 4 5 6 7 9]\n",
        "\n",
        "result-> [1 2 0 4 0 0 7 0]\n",
        "```"
      ]
    },
    {
      "cell_type": "code",
      "execution_count": 10,
      "metadata": {
        "id": "JjtxMlhWi25l"
      },
      "outputs": [
        {
          "name": "stdout",
          "output_type": "stream",
          "text": [
            "[1 2 0 4 0 0 7 0]\n"
          ]
        }
      ],
      "source": [
        "# code here\n",
        "a=np.array([1,2,3,4,5,6,7,9])\n",
        "a[(a%3==0)]=0\n",
        "a[(a%5==0)]=0\n",
        "print(a)"
      ]
    },
    {
      "cell_type": "markdown",
      "metadata": {
        "id": "Pi_dZSwTi4OI"
      },
      "source": [
        "###`Q-3:` Use Fancy Indexing.\n",
        "1. Double the array elements at  given indexes\n",
        "```\n",
        "arr = np.arrange(10)\n",
        "indexes = [0,3,4,9]\n",
        "```\n",
        "Result -> `[ 0  1  2  6  8  5  6  7  8 18]`\n",
        "\n",
        "2. Using a given array make a different array as in below example\n",
        "```\n",
        "array = [1,2,3]\n",
        "result array -> [1 1 1 2 2 2 3 3 3]\n",
        "```\n",
        "* Internal-repetion should be as length of the array.\n",
        "\n",
        "Hint:\n",
        "```\n",
        "if a is an array\n",
        "a = [2,4]\n",
        "a[[1,1,0,1]] will result in-> [4 4 2 4]\n",
        "```"
      ]
    },
    {
      "cell_type": "code",
      "execution_count": 11,
      "metadata": {
        "id": "SHYuyuovi66N"
      },
      "outputs": [
        {
          "name": "stdout",
          "output_type": "stream",
          "text": [
            "[1 1 1 2 2 2 3 3 3]\n",
            "[1 1 1 1]\n"
          ]
        }
      ],
      "source": [
        "# code here\n",
        "import numpy as np\n",
        "#in one dimention it repeats each element n times\n",
        "# Given array\n",
        "array = np.array([1, 2, 3])\n",
        "\n",
        "# Repeat each element based on the length of the array\n",
        "result_array = np.repeat(array, len(array))\n",
        "\n",
        "print(result_array)\n",
        "print(result_array[[1,1,0,1]])\n"
      ]
    },
    {
      "cell_type": "markdown",
      "metadata": {
        "id": "UDehG0tFi89i"
      },
      "source": [
        "###`Q-4:` Your are given an array which is havig some nan value. You job is to fill those nan values with most common element in the array.\n",
        "```\n",
        "arr=np.array([[1,2,np.nan],[4,2,6],[np.nan,np.nan,5]])\n",
        "\n",
        "```"
      ]
    },
    {
      "cell_type": "code",
      "execution_count": 12,
      "metadata": {
        "id": "YH13A6w9jEyu"
      },
      "outputs": [
        {
          "name": "stdout",
          "output_type": "stream",
          "text": [
            "[ 1.  2. nan  4.  2.  6. nan nan  5.]\n",
            "[1. 2. 2. 4. 2. 6. 2. 2. 5.]\n"
          ]
        }
      ],
      "source": [
        "# code here\n",
        "from scipy import stats as st\n",
        "\n",
        "arr=np.array([[1,2,np.nan],[4,2,6],[np.nan,np.nan,5]])\n",
        "\n",
        "\n",
        "arr1 =  np.ravel(arr)\n",
        "b = st.mode(arr1[~np.isnan(arr1)])\n",
        "print(arr1)\n",
        "arr_filled = np.nan_to_num(arr1, nan=b.mode)\n",
        "print(arr_filled)\n",
        "\n",
        "\n"
      ]
    },
    {
      "cell_type": "markdown",
      "metadata": {
        "id": "Tk2JnioUjJ_t"
      },
      "source": [
        "### `Q-5:` Write a NumPy program\n",
        "\n",
        "- to find the missing data in a given array. Return a boolean matrix.\n",
        "- also try to fill those missing values with 0. For that, you can use `np.nan_to_num(a)`\n",
        "\n",
        "```python\n",
        "import numpy as np\n",
        "\n",
        "np.array([[3, 2, np.nan, 1],\n",
        "          [10, 12, 10, 9],\n",
        "          [5, np.nan, 1, np.nan]])\n",
        "```"
      ]
    },
    {
      "cell_type": "code",
      "execution_count": 13,
      "metadata": {
        "id": "nPEBTQJ_jJZe"
      },
      "outputs": [
        {
          "name": "stdout",
          "output_type": "stream",
          "text": [
            "[[ 3.  2.  0.  1.]\n",
            " [10. 12. 10.  9.]\n",
            " [ 5.  0.  1.  0.]]\n"
          ]
        }
      ],
      "source": [
        "# code here\n",
        "a=np.array([[3, 2, np.nan, 1],\n",
        "          [10, 12, 10, 9],\n",
        "          [5, np.nan, 1, np.nan]])\n",
        "\n",
        "a=np.nan_to_num(a,nan=0)\n",
        "\n",
        "print(a)"
      ]
    },
    {
      "cell_type": "markdown",
      "metadata": {
        "id": "FFUnZtG7jNBH"
      },
      "source": [
        "###`Q-6:` Given two arrays, X and Y, construct the Cauchy matrix C.\n",
        "`Cij =1/(xi - yj)`\n",
        "\n",
        "http://en.wikipedia.org/wiki/Cauchy_matrix\n",
        "```\n",
        "x = numpy.array([1,2,3,4]).reshape((-1, 1))\n",
        "y = numpy.array([5,6,7])\n",
        "```"
      ]
    },
    {
      "cell_type": "code",
      "execution_count": 14,
      "metadata": {
        "id": "pQXHa38TjVEh"
      },
      "outputs": [
        {
          "name": "stdout",
          "output_type": "stream",
          "text": [
            "[[-4.         -5.         -6.        ]\n",
            " [-4.5        -5.5        -6.5       ]\n",
            " [-4.66666667 -5.66666667 -6.66666667]\n",
            " [-4.75       -5.75       -6.75      ]]\n"
          ]
        }
      ],
      "source": [
        "# code here\n",
        "x = np.array([1,2,3,4]).reshape((-1, 1))\n",
        "y = np.array([5,6,7])\n",
        "z=1/x-y\n",
        "print(z)"
      ]
    },
    {
      "cell_type": "markdown",
      "metadata": {
        "id": "EbkHZCF1jWNc"
      },
      "source": [
        "###`Q-7:` Plot this below equation.\n",
        "\n",
        "$$\\large y = \\frac{e^x - e^{-x}}{e^x + e^{-x}}$$\n",
        "\n",
        "**Note: This equation is called tanh activation function. In deep learning, many times this function is used. If you find some difference between the sigmoid function and this tanh function, note that to your notebook.**"
      ]
    },
    {
      "cell_type": "code",
      "execution_count": 15,
      "metadata": {
        "id": "n6OcN--FjbLC"
      },
      "outputs": [
        {
          "name": "stdout",
          "output_type": "stream",
          "text": [
            "[1.00000000e+00 2.95082599e+00 7.50607574e+00 2.01328452e+01\n",
            " 5.46161302e+01 1.48419852e+02 4.03431266e+02 1.09663407e+03\n",
            " 2.98095832e+03]\n"
          ]
        }
      ],
      "source": [
        "# code here\n",
        "a=np.arange(9)\n",
        "y=np.exp(a)-np.exp(-a)/np.exp(a)+np.exp(-a)\n",
        "print(y)"
      ]
    },
    {
      "cell_type": "markdown",
      "metadata": {
        "id": "xujS-pu4jciH"
      },
      "source": [
        "### `Q-8:` Plot the below equation.\n",
        "\n",
        "$$\\large y = \\sqrt{36 - (x - 4)^2} + 2$$\n",
        "\n",
        "The range of x should be between -2 to 10. $x ∈ [-2, 10]$\n",
        "\n"
      ]
    },
    {
      "cell_type": "code",
      "execution_count": 16,
      "metadata": {
        "id": "7CagwKP_jhIQ"
      },
      "outputs": [
        {
          "name": "stdout",
          "output_type": "stream",
          "text": [
            "\n",
            "[-2 -1  0  1  2  3  4  5  6  7  8  9 10]\n",
            "[2.         5.31662479 6.47213595 7.19615242 7.65685425 7.91607978\n",
            " 8.         7.91607978 7.65685425 7.19615242 6.47213595 5.31662479\n",
            " 2.        ]\n"
          ]
        },
        {
          "data": {
            "text/plain": [
              "[<matplotlib.lines.Line2D at 0x1ede7d41c90>]"
            ]
          },
          "execution_count": 16,
          "metadata": {},
          "output_type": "execute_result"
        },
        {
          "data": {
            "image/png": "[encoded data removed]",
            "text/plain": [
              "<Figure size 640x480 with 1 Axes>"
            ]
          },
          "metadata": {},
          "output_type": "display_data"
        }
      ],
      "source": [
        "# code here\n",
        "from matplotlib import pyplot as plt\n",
        "x_values = [i for i in range(-2,11)]\n",
        "\n",
        "x_values = np.array(x_values)\n",
        "print()\n",
        "y_values = np.sqrt(36-(x_values-4)**2)+2\n",
        "print(x_values)\n",
        "print(y_values)\n",
        "plt.plot(x_values, y_values)"
      ]
    },
    {
      "cell_type": "markdown",
      "metadata": {
        "id": "Jf14pxCfjiX1"
      },
      "source": [
        "### `Q-9:` Write a program implement Boradcasting Rule to check if two array can be added or not.\n",
        "Given tuples of shapes.\n",
        "```\n",
        "shape of a- (3,2,2)\n",
        "shape of b- (2,2)\n",
        "\n",
        "check_broadcast(a, b) -> return Boolean (True if can broadcasted, False other wise.)\n",
        "```"
      ]
    },
    {
      "cell_type": "code",
      "execution_count": 17,
      "metadata": {
        "id": "qSKGG0Yajlc8"
      },
      "outputs": [],
      "source": [
        "# code here\n",
        "def check_broad_cast(arr1,arr2):\n",
        "    \n",
        "    if len(arr1)>len(arr2):\n",
        "        print(arr1,len(arr1))\n",
        "        print(arr2,len(arr2))\n",
        "        a=[1]*(len(arr1)-len(arr2))\n",
        "        a.extend(list(arr2))\n",
        "        arr2=tuple(a)\n",
        "    elif len(arr1)<len(arr2):\n",
        "        a=[1]*(len(arr2)-len(arr1))\n",
        "        a.extend(list(arr1))\n",
        "        arr1=tuple(a)\n",
        "    arr1=list(arr1)\n",
        "    arr2=list(arr2)\n",
        "    if len(arr1)==len(arr2):\n",
        "        for i in range(len(arr1)):\n",
        "            if arr1[i]!=arr2[i] and arr1[i]!=1 and arr2[i]!=1:\n",
        "                return -1\n",
        "            elif arr1[i]==1:\n",
        "                arr1[i]=arr2[i]\n",
        "            elif arr2[i]==1:\n",
        "                arr2[i]=arr1[i]\n",
        "        if arr1==arr2:\n",
        "            return 1\n",
        "        else:\n",
        "            return -1    "
      ]
    },
    {
      "cell_type": "code",
      "execution_count": 18,
      "metadata": {},
      "outputs": [
        {
          "name": "stdout",
          "output_type": "stream",
          "text": [
            "(3, 4) 2\n",
            "(3,) 1\n",
            "-1\n"
          ]
        }
      ],
      "source": [
        "print(check_broad_cast((3,4,),(3,)))"
      ]
    },
    {
      "cell_type": "code",
      "execution_count": null,
      "metadata": {},
      "outputs": [],
      "source": []
    },
    {
      "cell_type": "code",
      "execution_count": null,
      "metadata": {},
      "outputs": [],
      "source": []
    },
    {
      "cell_type": "code",
      "execution_count": null,
      "metadata": {},
      "outputs": [],
      "source": []
    }
  ],
  "metadata": {
    "colab": {
      "provenance": []
    },
    "kernelspec": {
      "display_name": "Python 3",
      "name": "python3"
    },
    "language_info": {
      "codemirror_mode": {
        "name": "ipython",
        "version": 3
      },
      "file_extension": ".py",
      "mimetype": "text/x-python",
      "name": "python",
      "nbconvert_exporter": "python",
      "pygments_lexer": "ipython3",
      "version": "3.11.4"
    }
  },
  "nbformat": 4,
  "nbformat_minor": 0
}
