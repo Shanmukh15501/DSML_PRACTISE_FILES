{
  "cells": [
    {
      "cell_type": "markdown",
      "metadata": {
        "id": "J88qfqQEk_sT"
      },
      "source": [
        "###`Q-1:` Create a random 3x4 matrix with value between 0-100. And perform below tasks\n",
        "\n",
        "    i. Sort this matrix. np.sort()\n",
        "    ii. Sort this matrix based on values in 2nd column.\n",
        "    iii. Sort this matrix based on max value in each row.\n",
        "    iv. Sort based on elements value.\n"
      ]
    },
    {
      "cell_type": "markdown",
      "metadata": {
        "id": "xpOwOdhqlE9R"
      },
      "source": [
        "See examples:\n",
        "```\n",
        "arr =\n",
        "    [[92 90 74]\n",
        "    [ 6 63 93]\n",
        "    [15 93 96]\n",
        "    [70 60 48]]\n",
        "```\n",
        "```\n",
        "i. np.sort\n",
        "[[74 90 92]\n",
        " [ 6 63 93]\n",
        " [15 93 96]\n",
        " [48 60 70]]\n",
        "\n",
        "ii. based on 2nd column\n",
        "[[70 60 48]\n",
        " [ 6 63 93]\n",
        " [92 90 74]\n",
        " [15 93 96]]\n",
        "\n",
        "iii. based on row max- ascending\n",
        "[[15 93 96]\n",
        " [ 6 63 93]\n",
        " [92 90 74]\n",
        " [70 60 48]]\n",
        "\n",
        "iv. based on elements value\n",
        "[[ 6 15 48]\n",
        " [60 63 70]\n",
        " [74 90 92]\n",
        " [93 93 96]]\n",
        "\n",
        "```"
      ]
    },
    {
      "cell_type": "code",
      "execution_count": 2,
      "metadata": {
        "id": "Auy-guUwlALv"
      },
      "outputs": [
        {
          "name": "stdout",
          "output_type": "stream",
          "text": [
            "Original Matrix:\n",
            "[[43 95 40 75]\n",
            " [72 97  4 75]\n",
            " [45 36 44 91]]\n",
            "\n",
            "Sorted Matrix (all elements sorted):\n",
            "[[ 4 36 40 43]\n",
            " [44 45 72 75]\n",
            " [75 91 95 97]]\n",
            "\\Row Sorting Matrix\n",
            "[[40 43 75 95]\n",
            " [ 4 72 75 97]\n",
            " [36 44 45 91]]\n",
            "\\Column Sorting Matrix\n",
            "[[43 36  4 75]\n",
            " [45 95 40 75]\n",
            " [72 97 44 91]]\n",
            "[[45 36 44 91]\n",
            " [43 95 40 75]\n",
            " [72 97  4 75]]\n",
            "\n",
            "Sorted Matrix by Max Value in Each Row:\n",
            "[[45 36 44 91]\n",
            " [43 95 40 75]\n",
            " [72 97  4 75]]\n",
            "\n",
            "Sorted Matrix based on Elements Value:\n",
            "[[ 4 36 40 43]\n",
            " [44 45 72 75]\n",
            " [75 91 95 97]]\n"
          ]
        }
      ],
      "source": [
        "# code here\n",
        "import numpy as np\n",
        "\n",
        "# Create a random 3x4 matrix with values between 0 and 100\n",
        "matrix = np.random.randint(0, 101, size=(3, 4))\n",
        "\n",
        "print(\"Original Matrix:\")\n",
        "print(matrix)\n",
        "\n",
        "# i. Sort the entire matrix\n",
        "sorted_matrix = np.sort(matrix, axis=None).reshape(matrix.shape)\n",
        "print(\"\\nSorted Matrix (all elements sorted):\")\n",
        "print(sorted_matrix)\n",
        "\n",
        "# i. Sort the Row matrix\n",
        "sorted_row_matrix = np.sort(matrix, axis=1)\n",
        "print(\"\\Row Sorting Matrix\")\n",
        "print(sorted_row_matrix)\n",
        "\n",
        "# i. Sort the Column matrix\n",
        "sorted_col_matrix = np.sort(matrix, axis=0)\n",
        "print(\"\\Column Sorting Matrix\")\n",
        "print(sorted_col_matrix)\n",
        "\n",
        "\n",
        "\n",
        "\n",
        "# ii. Sort the matrix based on values in the 2nd column (index 1)\n",
        "\n",
        "sorted_by_column_2 = matrix[matrix[:, 1].argsort()]\n",
        "print(sorted_by_column_2)\n",
        "\n",
        "# iii. Sort the matrix based on the max value in each row\n",
        "sorted_by_max_in_row = matrix[matrix.max(axis=1).argsort()]\n",
        "print(\"\\nSorted Matrix by Max Value in Each Row:\")\n",
        "print(sorted_by_max_in_row)\n",
        "\n",
        "# iv. Sort based on the values of the elements (flatten, sort, and reshape)\n",
        "sorted_by_elements = np.sort(matrix, axis=None).reshape(matrix.shape)\n",
        "print(\"\\nSorted Matrix based on Elements Value:\")\n",
        "print(sorted_by_elements)\n",
        "\n"
      ]
    },
    {
      "cell_type": "markdown",
      "metadata": {
        "id": "Jx_I3gx9lBay"
      },
      "source": [
        "###`Q-2:` There is an array of marks of 5 students in 4 subjects. Further you are asked to perform below task.\n",
        "    i. Add marks every student of an extra subject in the same array.\n",
        "    ii. Add two new students marks in respective 5 subjects.(one subject added in above task)\n",
        "    iii. Add extra column with sum of all subjects(5-subjects) marks\n",
        "    iv. Sort the array(non-ascending order) on total marks column--one added in above task. Show top 2 rows.\n",
        "\n",
        "Note: Change dimension of arrays during concatenation or appending if required."
      ]
    },
    {
      "cell_type": "markdown",
      "metadata": {
        "id": "lXF-CE6ylNIw"
      },
      "source": [
        "Given Array-\n",
        "```\n",
        "marks = [[13, 10,  9, 33],\n",
        "       [63, 46, 90, 42],\n",
        "       [39, 76, 13, 29],\n",
        "       [82,  9, 29, 78],\n",
        "       [67, 61, 59, 36]]\n",
        "\n",
        "extra_subject = [41, 87, 72, 36, 92]\n",
        "#Two extra students record-\n",
        "rec1 = [77, 83, 98, 95, 89]\n",
        "rec2 = [92, 71, 52, 61, 53]\n",
        "```"
      ]
    },
    {
      "cell_type": "code",
      "execution_count": 3,
      "metadata": {
        "id": "7YKsWO2olMkq"
      },
      "outputs": [
        {
          "name": "stdout",
          "output_type": "stream",
          "text": [
            "[[75 25 72 55]\n",
            " [88 52 83 12]\n",
            " [46 96 29 96]\n",
            " [24 43 25 79]\n",
            " [16 62 31 40]]\n",
            "(5, 4)\n",
            "(5, 1)\n",
            "[[41]\n",
            " [87]\n",
            " [72]\n",
            " [36]\n",
            " [92]]\n",
            "---------------------------------------------------------\n",
            "---------------------------------------------------------\n",
            "[[268]\n",
            " [322]\n",
            " [339]\n",
            " [207]\n",
            " [241]\n",
            " [442]\n",
            " [329]]\n",
            "---------------------------------------------------------\n",
            "[[ 77  83  98  95  89 442]\n",
            " [ 46  96  29  96  72 339]\n",
            " [ 92  71  52  61  53 329]\n",
            " [ 88  52  83  12  87 322]\n",
            " [ 75  25  72  55  41 268]\n",
            " [ 16  62  31  40  92 241]\n",
            " [ 24  43  25  79  36 207]]\n",
            "top 2 rows\n",
            "[[ 77  83  98  95  89 442]\n",
            " [ 46  96  29  96  72 339]]\n"
          ]
        }
      ],
      "source": [
        "# code here\n",
        "\n",
        "marks = np.random.randint(10,100,size=(5,4))\n",
        "print(marks)\n",
        "print(marks.shape)\n",
        "extra_subject = np.array([41, 87, 72, 36, 92]).reshape(5,-1)\n",
        "print(extra_subject.shape)\n",
        "print(extra_subject)\n",
        "arr = np.concatenate((marks,extra_subject),axis=1)\n",
        "print(\"---------------------------------------------------------\")\n",
        "extra_student1 = np.array([77, 83, 98, 95, 89]).reshape(1,-1)\n",
        "extra_student2 = np.array([92, 71, 52, 61, 53]).reshape(1,-1)\n",
        "arr = np.concatenate((arr,extra_student1),axis=0)\n",
        "arr = np.concatenate((arr,extra_student2),axis=0)\n",
        "print(\"---------------------------------------------------------\")\n",
        "sum = np.sum(arr,axis=1).reshape(-1,1)\n",
        "arr = np.concatenate((arr,sum),axis=1)\n",
        "print(sum)\n",
        "print(\"---------------------------------------------------------\")\n",
        "\n",
        "print(arr[arr[:,-1].argsort()[::-1]])\n",
        "\n",
        "print(\"top 2 rows\")\n",
        "print(arr[arr[:,-1].argsort()[::-1]][:2])\n",
        "\n",
        "\n"
      ]
    },
    {
      "cell_type": "markdown",
      "metadata": {},
      "source": [
        "\n",
        "- Feature\tnp.concatenate()|np.append()\n",
        "- Input type\tTakes a sequence of arrays (list or tuple).\t| Takes an array and the values to append.\n",
        "- Flexibility\tMore flexible: can concatenate along any axis.\t| Less flexible: appends along the specified axis (or flattens arrays).\n",
        "- Flattening\tDoes not flatten arrays unless specified.\t| Flattens arrays by default unless axis is specified.\n",
        "- Use case\tSuitable for combining arrays in multiple dimensions.| Convenient for adding elements to the end of an array.\n",
        "- Performance\tGenerally faster for combining large arrays. | Slightly slower due to flattening behavior.\n"
      ]
    },
    {
      "cell_type": "markdown",
      "metadata": {
        "id": "VmOyK_8klRqR"
      },
      "source": [
        "###`Q-3:` Find unique arrays from a 2D array column wise and row wise.\n",
        "```\n",
        "arr = np.array([[1,2,3,3,1,1],\n",
        "                [0,9,1,2,8,8],\n",
        "                [1,2,3,8,8,8],\n",
        "                [1,2,3,3,1,1]])\n",
        "```\n",
        "Expected Result-\n",
        "```\n",
        "Row Wise\n",
        "[[0 9 1 2 8 8]\n",
        " [1 2 3 3 1 1]\n",
        " [1 2 3 8 8 8]]\n",
        "\n",
        "Col Wise\n",
        "[[1 1 2 3 3]\n",
        " [0 8 9 1 2]\n",
        " [1 8 2 3 8]\n",
        " [1 1 2 3 3]]\n",
        "```"
      ]
    },
    {
      "cell_type": "code",
      "execution_count": 4,
      "metadata": {
        "id": "LJl10VQrlU5q"
      },
      "outputs": [
        {
          "name": "stdout",
          "output_type": "stream",
          "text": [
            "[[0 9 1 2 8 8]\n",
            " [1 2 3 3 1 1]\n",
            " [1 2 3 8 8 8]]\n",
            "[[1 1 2 3 3]\n",
            " [0 8 9 1 2]\n",
            " [1 8 2 3 8]\n",
            " [1 1 2 3 3]]\n"
          ]
        }
      ],
      "source": [
        "# code here\n",
        "arr = np.array([[1,2,3,3,1,1],\n",
        "                [0,9,1,2,8,8],\n",
        "                [1,2,3,8,8,8],\n",
        "                [1,2,3,3,1,1]])\n",
        "\n",
        "print(np.unique(arr,axis=0))\n",
        "\n",
        "print(np.unique(arr,axis=1))\n"
      ]
    },
    {
      "cell_type": "markdown",
      "metadata": {
        "id": "RaXwVkywlWY2"
      },
      "source": [
        "###`Q-4:` Flip given 2-D array along both axes at the same time."
      ]
    },
    {
      "cell_type": "code",
      "execution_count": 5,
      "metadata": {
        "id": "mN7-4G8Kleeq"
      },
      "outputs": [
        {
          "name": "stdout",
          "output_type": "stream",
          "text": [
            "[[0 1 2]\n",
            " [3 4 5]\n",
            " [6 7 8]]\n",
            "[[6 7 8]\n",
            " [3 4 5]\n",
            " [0 1 2]]\n",
            "[[2 1 0]\n",
            " [5 4 3]\n",
            " [8 7 6]]\n",
            "[[8 7 6]\n",
            " [5 4 3]\n",
            " [2 1 0]]\n"
          ]
        }
      ],
      "source": [
        "# code here\n",
        "a=np.arange(9).reshape(3,3)\n",
        "print(a)\n",
        "print(np.flip(a,axis=0))\n",
        "print(np.flip(a,axis=1))\n",
        "flipped = np.flip(a, axis=(0, 1))\n",
        "print(flipped)"
      ]
    },
    {
      "cell_type": "markdown",
      "metadata": {
        "id": "X0S7BUNTlfoq"
      },
      "source": [
        "### `Q-5:` Get row numbers of NumPy array having element larger than X.\n",
        "```\n",
        "arr = [[1,2,3,4,5],\n",
        "      [10,-3,30,4,5],\n",
        "      [3,2,5,-4,5],\n",
        "      [9,7,3,6,5]]\n",
        "\n",
        "X = 6\n",
        "```"
      ]
    },
    {
      "cell_type": "code",
      "execution_count": 6,
      "metadata": {
        "id": "bi8jRmWhlkBU"
      },
      "outputs": [
        {
          "data": {
            "text/plain": [
              "array([[10, -3, 30,  4,  5],\n",
              "       [ 9,  7,  3,  6,  5]])"
            ]
          },
          "execution_count": 6,
          "metadata": {},
          "output_type": "execute_result"
        }
      ],
      "source": [
        "# code here\n",
        "arr = np.array([[1,2,3,4,5],\n",
        "      [10,-3,30,4,5],\n",
        "      [3,2,5,-4,5],\n",
        "      [9,7,3,6,5]])\n",
        "\n",
        "arr[np.max(arr,axis=1)>6]"
      ]
    },
    {
      "cell_type": "markdown",
      "metadata": {
        "id": "DSCQMo4mlnDG"
      },
      "source": [
        "### `Q-6:` How to convert an array of arrays into a flat 1d array?\n"
      ]
    },
    {
      "cell_type": "code",
      "execution_count": 7,
      "metadata": {
        "id": "QZhSkUT2lsJW"
      },
      "outputs": [
        {
          "name": "stdout",
          "output_type": "stream",
          "text": [
            "[0 1 2 3 4 5 6 7 8 9]\n"
          ]
        }
      ],
      "source": [
        "# These arrays are given.\n",
        "arr1 = np.arange(3)\n",
        "arr2 = np.arange(3,7)\n",
        "arr3 = np.arange(7,10)\n",
        "combined = np.concatenate([arr1, arr2, arr3])\n",
        "print(combined)\n"
      ]
    },
    {
      "cell_type": "code",
      "execution_count": 8,
      "metadata": {
        "id": "f42OXNrFls0I"
      },
      "outputs": [],
      "source": [
        "# code here"
      ]
    },
    {
      "cell_type": "markdown",
      "metadata": {
        "id": "A1J4oOVCluqO"
      },
      "source": [
        "### `Q-7:` You are given a array. You have to find the minimum and maximum array element and remove that from the array.\n",
        "\n",
        "```python\n",
        "import numpy as np\n",
        "\n",
        "np.random.seed(400)\n",
        "arr = np.random.randint(100, 1000, 200).reshape((1, 200))\n",
        "```"
      ]
    },
    {
      "cell_type": "code",
      "execution_count": 9,
      "metadata": {
        "id": "c6kmgtUJlybZ"
      },
      "outputs": [
        {
          "name": "stdout",
          "output_type": "stream",
          "text": [
            "[[799 332 851 301 721 588 924 511 663 724 309 405 783 801 223 690 242 585\n",
            "  134 376 393 832 472 134 324 443 776 275 369 797 940 556 453 424 413 162\n",
            "  139 773 197 143 635 593 118 289 586 513 521 992 429 251 193 920 230 131\n",
            "  924 221 201 776 797 325 110 860 492 826 374 852 867 565 236 898 413 461\n",
            "  415 785 628 350 796 955 187 581 424 269 490 996 383 773 999 912 635 419\n",
            "  181 930 268 810 757 736 541 656 143 872 200 369 599 290 658 605 513 788\n",
            "  575 752 811 673 117 435 815 360 999 532 478 339 656 494 644 175 676 696\n",
            "  296 909 146 530 692 957 564 755 122 752 482 385 951 884 607 780 473 859\n",
            "  363 245 181 688 962 815 558 733 689 333 571 736 240 109 555 915 290 267\n",
            "  233 284 378 691 760 474 919 845 346 937 942 838 453 292 125 676 235 647\n",
            "  368 977 974 582 333 639 621 454 331 102 328 808 466 158 733 329 772 349\n",
            "  156 361]]\n",
            "86\n",
            "[999]\n",
            "[102]\n",
            "189\n"
          ]
        },
        {
          "data": {
            "text/plain": [
              "array([799, 332, 851, 301, 721, 588, 924, 511, 663, 724, 309, 405, 783,\n",
              "       801, 223, 690, 242, 585, 134, 376, 393, 832, 472, 134, 324, 443,\n",
              "       776, 275, 369, 797, 940, 556, 453, 424, 413, 162, 139, 773, 197,\n",
              "       143, 635, 593, 118, 289, 586, 513, 521, 992, 429, 251, 193, 920,\n",
              "       230, 131, 924, 221, 201, 776, 797, 325, 110, 860, 492, 826, 374,\n",
              "       852, 867, 565, 236, 898, 413, 461, 415, 785, 628, 350, 796, 955,\n",
              "       187, 581, 424, 269, 490, 996, 383, 773, 999, 912, 635, 419, 181,\n",
              "       930, 268, 810, 757, 736, 541, 656, 143, 872, 200, 369, 599, 290,\n",
              "       658, 605, 513, 788, 575, 752, 811, 673, 117, 435, 815, 360, 999,\n",
              "       532, 478, 339, 656, 494, 644, 175, 676, 696, 296, 909, 146, 530,\n",
              "       692, 957, 564, 755, 122, 752, 482, 385, 951, 884, 607, 780, 473,\n",
              "       859, 363, 245, 181, 688, 962, 815, 558, 733, 689, 333, 571, 736,\n",
              "       240, 109, 555, 915, 290, 267, 233, 284, 378, 691, 760, 474, 919,\n",
              "       845, 346, 937, 942, 838, 453, 292, 125, 676, 235, 647, 368, 977,\n",
              "       974, 582, 333, 639, 621, 454, 331, 328, 808, 466, 158, 733, 329,\n",
              "       772, 349, 156, 361])"
            ]
          },
          "execution_count": 9,
          "metadata": {},
          "output_type": "execute_result"
        }
      ],
      "source": [
        "# code here\n",
        "arr = np.random.randint(100, 1000, 200).reshape((1, 200))\n",
        "print(arr)\n",
        "print(np.argmax(arr))\n",
        "print(arr[:,np.argmax(arr)])\n",
        "np.delete(arr,[np.argmax(arr)])\n",
        "print(arr[:,np.argmin(arr)])\n",
        "print(np.argmin(arr))\n",
        "np.delete(arr,[np.argmin(arr)])\n"
      ]
    },
    {
      "cell_type": "markdown",
      "metadata": {
        "id": "0dHN1sdnl0Jy"
      },
      "source": [
        "### `Q-8:` You are given an arrays. You have to limit this array's elements between 100 to 200. $arr ∈ [100, 700]$. So replace those values accordingly with the minimum and maximum value. Then sort the array and perform the cumulative sum of that array."
      ]
    },
    {
      "cell_type": "code",
      "execution_count": 16,
      "metadata": {
        "id": "a3YF_E-Hlza7"
      },
      "outputs": [
        {
          "name": "stdout",
          "output_type": "stream",
          "text": [
            "[  100   209   327   446   567   691   815   946  1083  1220  1357  1500\n",
            "  1651  1802  1967  2133  2301  2470  2645  2832  3023  3220  3420  3620\n",
            "  3820  4020  4220  4420  4620  4820  5020  5220  5420  5620  5820  6020\n",
            "  6220  6420  6620  6820  7020  7220  7420  7620  7820  8020  8220  8420\n",
            "  8620  8820  9020  9220  9420  9620  9820 10020 10220 10420 10620 10820\n",
            " 11020 11220 11420 11620 11820 12020 12220 12420 12620 12820 13020 13220\n",
            " 13420 13620 13820 14020 14220 14420 14620 14820 15020 15220 15420 15620\n",
            " 15820 16020 16220 16420 16620 16820 17020 17220 17420 17620 17820 18020\n",
            " 18220 18420 18620 18820 19020 19220 19420 19620 19820 20020 20220 20420\n",
            " 20620 20820 21020 21220 21420 21620 21820 22020 22220 22420 22620 22820\n",
            " 23020 23220 23420 23620 23820 24020 24220 24420 24620 24820 25020 25220\n",
            " 25420 25620 25820 26020 26220 26420 26620 26820 27020 27220 27420 27620\n",
            " 27820 28020 28220 28420 28620 28820 29020 29220 29420 29620 29820 30020\n",
            " 30220 30420 30620 30820 31020 31220 31420 31620 31820 32020 32220 32420\n",
            " 32620 32820 33020 33220 33420 33620 33820 34020 34220 34420 34620 34820\n",
            " 35020 35220 35420 35620 35820 36020 36220 36420 36620 36820 37020 37220\n",
            " 37420 37620 37820 38020 38220 38420 38620 38820]\n"
          ]
        }
      ],
      "source": [
        "# code here\n",
        "arr = np.random.randint(100, 1000, 200).reshape((1, 200))\n",
        "\n",
        "#in clip any value <100 will be replaced by 100 and >200 will be replaced by 200\n",
        "arr = np.clip(arr,100,200)\n",
        "\n",
        "# Step 2: Sort the array\n",
        "arr_sorted = np.sort(arr)\n",
        "\n",
        "# Step 3: Perform cumulative sum\n",
        "cumulative_sum = np.cumsum(arr_sorted)\n",
        "\n",
        "# Print the result\n",
        "print(cumulative_sum)"
      ]
    },
    {
      "cell_type": "markdown",
      "metadata": {
        "id": "cXj90Susl4-I"
      },
      "source": [
        "### `Q-9:` You are given a array ($arr ∈ [0, 1]$). First you have round off the elements upto 3 decimal places and compare that\n",
        "- 0th percentile == minimum value of the array\n",
        "- 100th percentile == maximum value of the array\n",
        "- also find the difference betwen 51th percenile and 50th percentile values"
      ]
    },
    {
      "cell_type": "code",
      "execution_count": 27,
      "metadata": {
        "id": "SgBEHodgl7Lo"
      },
      "outputs": [
        {
          "name": "stdout",
          "output_type": "stream",
          "text": [
            "0.094\n",
            "0.82\n",
            "0.489\n",
            "0.48956\n",
            "diffence 0.0005600000000000049\n"
          ]
        }
      ],
      "source": [
        "# code here\n",
        "arr = np.random.random((3,3))\n",
        "arr = np.round(arr,3)\n",
        "arr\n",
        "minimum = np.percentile(arr,0)\n",
        "print(minimum)\n",
        "maximum = np.percentile(arr,100)\n",
        "print(maximum)\n",
        "a50_percentile = np.percentile(arr,50)\n",
        "print(a50_percentile)\n",
        "a51_percentile = np.percentile(arr,51)\n",
        "print(a51_percentile)\n",
        "print(\"diffence\",a51_percentile-a50_percentile)\n"
      ]
    }
  ],
  "metadata": {
    "colab": {
      "provenance": []
    },
    "kernelspec": {
      "display_name": "Python 3",
      "name": "python3"
    },
    "language_info": {
      "codemirror_mode": {
        "name": "ipython",
        "version": 3
      },
      "file_extension": ".py",
      "mimetype": "text/x-python",
      "name": "python",
      "nbconvert_exporter": "python",
      "pygments_lexer": "ipython3",
      "version": "3.11.4"
    }
  },
  "nbformat": 4,
  "nbformat_minor": 0
}
