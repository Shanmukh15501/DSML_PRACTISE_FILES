{
 "cells": [
  {
   "cell_type": "markdown",
   "id": "8e009198",
   "metadata": {},
   "source": [
    "Questions on NumPy Array"
   ]
  },
  {
   "cell_type": "code",
   "execution_count": 6,
   "id": "c1eed0e0",
   "metadata": {},
   "outputs": [
    {
     "name": "stdout",
     "output_type": "stream",
     "text": [
      "Empty Array\n",
      "[[0 0 0 0]\n",
      " [0 0 0 0]\n",
      " [0 0 0 0]]\n",
      "\n",
      " Full Array\n",
      "[[100 100 100]\n",
      " [100 100 100]\n",
      " [100 100 100]]\n"
     ]
    }
   ],
   "source": [
    "#How to create an empty and a full NumPy array?\n",
    "import numpy as np\n",
    "  \n",
    "#numpy.empty :- Return a new array of given shape and type, with random values.\n",
    "#numpy.full :-  Return a new array with the same shape and type as a given array filled with a fill_value.\n",
    "\n",
    "# Create an empty array\n",
    "arr = np.empty((3, 4), dtype=int)\n",
    "print(\"Empty Array\")\n",
    "print(arr)\n",
    "  \n",
    "# Create a full array\n",
    "arr1 = np.full([3, 3], 100, dtype=int)\n",
    "print(\"\\n Full Array\")\n",
    "print(arr1)\n",
    "\n"
   ]
  },
  {
   "cell_type": "code",
   "execution_count": 11,
   "id": "96066e62",
   "metadata": {},
   "outputs": [
    {
     "data": {
      "text/plain": [
       "array([[0, 0, 0, 0],\n",
       "       [0, 0, 0, 0],\n",
       "       [0, 0, 0, 0]])"
      ]
     },
     "execution_count": 11,
     "metadata": {},
     "output_type": "execute_result"
    }
   ],
   "source": [
    "#Create a Numpy array filled with all zeros\n",
    "arr = np.zeros([3,4], dtype = int)\n",
    "arr"
   ]
  },
  {
   "cell_type": "code",
   "execution_count": 12,
   "id": "32e25f72",
   "metadata": {},
   "outputs": [
    {
     "data": {
      "text/plain": [
       "array([[1, 1, 1, 1],\n",
       "       [1, 1, 1, 1],\n",
       "       [1, 1, 1, 1]])"
      ]
     },
     "execution_count": 12,
     "metadata": {},
     "output_type": "execute_result"
    }
   ],
   "source": [
    "#Create a Numpy array filled with all ones\n",
    "arr = np.ones([3,4], dtype = int)\n",
    "arr"
   ]
  },
  {
   "cell_type": "code",
   "execution_count": 49,
   "id": "f4ab7684",
   "metadata": {},
   "outputs": [
    {
     "name": "stdout",
     "output_type": "stream",
     "text": [
      "[[1, 2, 3, 4, 5], [6, 7, 8, 9, 10], [11, 12, 13, 14, 15], [16, 17, 18, 19, 20]]\n",
      "True\n",
      "[[0.0527003  0.09913698 0.26823802]\n",
      " [0.03105203 0.49064427 0.17374576]\n",
      " [0.88580755 0.80327115 0.53319973]]\n",
      "[[5 4 0]\n",
      " [2 4 6]\n",
      " [7 5 0]]\n"
     ]
    }
   ],
   "source": [
    "#Check whether a Numpy array contains a specified row\n",
    "\n",
    "\n",
    "\n",
    "arr = np.array([[1, 2, 3, 4, 5],\n",
    "                   [6, 7, 8, 9, 10],\n",
    "                   [11, 12, 13, 14, 15],\n",
    "                   [16, 17, 18, 19, 20]\n",
    "                   ])\n",
    "\n",
    "print(arr.tolist())\n",
    "\n",
    "print([1, 2, 3, 4, 5] in arr.tolist())\n",
    "#------------------------------------------------------or\n",
    "arr = np.random.rand(9).reshape(3,3)\n",
    "print(arr)\n",
    "#----or\n",
    "arr = np.random.randint(9, size=9).reshape(3,3)\n",
    "print(arr)\n"
   ]
  },
  {
   "cell_type": "code",
   "execution_count": 74,
   "id": "abc22d51",
   "metadata": {},
   "outputs": [
    {
     "name": "stdout",
     "output_type": "stream",
     "text": [
      "[[5 4 0]\n",
      " [2 4 6]\n",
      " [7 5 0]]\n"
     ]
    },
    {
     "data": {
      "text/plain": [
       "(array([0], dtype=int64),)"
      ]
     },
     "execution_count": 74,
     "metadata": {},
     "output_type": "execute_result"
    }
   ],
   "source": [
    "#Method 2\n",
    "print(arr)\n",
    "np.where((arr == [5,4,0]).all(axis=1))"
   ]
  },
  {
   "cell_type": "code",
   "execution_count": 135,
   "id": "f75b35e7",
   "metadata": {},
   "outputs": [
    {
     "name": "stdout",
     "output_type": "stream",
     "text": [
      "(3, 4)\n",
      "[ 1  2  3  4  1  4 32  4]\n"
     ]
    }
   ],
   "source": [
    "#How to Remove rows in Numpy array that contains non-numeric values?\n",
    "nparray=np.array([[1,2,3,4],['s','q',1,4],[1.2,4.2,32,4]])\n",
    "print(nparray.shape)\n",
    "\n",
    "for i in range(nparray.shape[0]):\n",
    "    for j in range(nparray.shape[1]):\n",
    "        try:\n",
    "            if int(nparray[i][j]):\n",
    "                pass\n",
    "        except Exception as e:\n",
    "            nparray[i][j]= False\n",
    "            \n",
    "arr2 = nparray[nparray !='False'].astype(int)\n",
    "print(arr2)"
   ]
  },
  {
   "cell_type": "code",
   "execution_count": 202,
   "id": "ca103040",
   "metadata": {},
   "outputs": [
    {
     "name": "stdout",
     "output_type": "stream",
     "text": [
      "Given array:\n",
      "\n",
      "Remove all rows containing non-numeric elements\n",
      "[[10.5 22.5  3.8]]\n"
     ]
    }
   ],
   "source": [
    "import numpy as np\n",
    "  \n",
    "# Creating 2X3 2-D Numpy array\n",
    "n_arr = np.array([[10.5, 22.5, 3.8],\n",
    "                  [41, np.nan, np.nan]])\n",
    "  \n",
    "print(\"Given array:\",)\n",
    "  \n",
    "print(\"\\nRemove all rows containing non-numeric elements\")\n",
    "print(n_arr[~np.isnan(n_arr).any(axis=1)])"
   ]
  },
  {
   "cell_type": "code",
   "execution_count": 203,
   "id": "86325f50",
   "metadata": {},
   "outputs": [
    {
     "name": "stdout",
     "output_type": "stream",
     "text": [
      "[0 1 2]\n"
     ]
    }
   ],
   "source": [
    "#Make into single dimentional array\n",
    "x = np.array([[[0], [1], [2]]])\n",
    "print(x.flatten())"
   ]
  },
  {
   "cell_type": "code",
   "execution_count": 204,
   "id": "c2cdd3e8",
   "metadata": {},
   "outputs": [
    {
     "name": "stdout",
     "output_type": "stream",
     "text": [
      "5\n",
      "5\n",
      "5\n"
     ]
    }
   ],
   "source": [
    "#Find the number of occurrences of a sequence in a NumPy array\n",
    "# importing package\n",
    "import numpy\n",
    "\n",
    "# create numpy array\n",
    "arr = numpy.array([[2, 8, 9, 4],[9, 4, 9, 4],[4, 5, 9, 7],[2, 9, 4, 3]])\n",
    "\n",
    "# Counting sequence\n",
    "output = repr(arr).count(\"4\")\n",
    "\n",
    "# view output\n",
    "print(output)\n",
    "\n",
    "\n",
    "arr = numpy.array([[2, 8, 9, 4],[9, 4, 9, 4],[4, 5, 9, 7],[2, 9, 4, 3]])\n",
    "print(arr.flatten().tolist().count(4))\n",
    "print(len(arr[np.where(arr==4)]))\n"
   ]
  },
  {
   "cell_type": "code",
   "execution_count": 222,
   "id": "f0319dbe",
   "metadata": {},
   "outputs": [
    {
     "name": "stdout",
     "output_type": "stream",
     "text": [
      "[ 1  2  4  5 25]\n",
      "[ 5  3 11  1  1]\n"
     ]
    }
   ],
   "source": [
    "#Find the most frequent value in a NumPy array\n",
    "x = np.array([1,1,1,2,2,2,5,25,1,1,4,4,4,4,4,4,4,4,4,4,4])\n",
    "unique, numbers = np.unique(x, return_counts=True)\n",
    "print(unique)\n",
    "print(numbers)"
   ]
  },
  {
   "cell_type": "code",
   "execution_count": 223,
   "id": "23bce5d5",
   "metadata": {},
   "outputs": [
    {
     "data": {
      "text/plain": [
       "4"
      ]
     },
     "execution_count": 223,
     "metadata": {},
     "output_type": "execute_result"
    }
   ],
   "source": [
    "unique[np.argmax(numbers)]"
   ]
  },
  {
   "cell_type": "code",
   "execution_count": 230,
   "id": "a83be2f2",
   "metadata": {},
   "outputs": [
    {
     "name": "stdout",
     "output_type": "stream",
     "text": [
      "One dimensional array:\n",
      "[0 1 2 3 4]\n",
      "\n",
      "Two dimensional array:\n",
      "[[0 1 2 3 4]\n",
      " [5 6 7 8 9]]\n",
      "0:0\n",
      "1:1\n",
      "2:2\n",
      "3:3\n",
      "4:4\n",
      "0:5\n",
      "1:6\n",
      "2:7\n",
      "3:8\n",
      "4:9\n"
     ]
    }
   ],
   "source": [
    "#Combining a one and a two-dimensional NumPy Array\n",
    "import numpy as np\n",
    "  \n",
    "num_1d = np.arange(5)\n",
    "print(\"One dimensional array:\")\n",
    "print(num_1d)\n",
    "  \n",
    "num_2d = np.arange(10).reshape(2,5)\n",
    "print(\"\\nTwo dimensional array:\")\n",
    "print(num_2d)\n",
    "  \n",
    "# Combine 1-D and 2-D arrays and display \n",
    "# their elements using numpy.nditer() \n",
    "for a, b in np.nditer([num_1d, num_2d]):\n",
    "    print(\"%d:%d\" % (a, b),)"
   ]
  },
  {
   "cell_type": "code",
   "execution_count": 9,
   "id": "bf270ba6",
   "metadata": {},
   "outputs": [
    {
     "name": "stdout",
     "output_type": "stream",
     "text": [
      "Array-1\n",
      "[1 2 3]\n",
      "\n",
      "Array-2\n",
      "[ 4  6  8 10]\n",
      "\n",
      "Combine array:\n",
      "[[ 1  4]\n",
      " [ 1  6]\n",
      " [ 1  8]\n",
      " [ 1 10]\n",
      " [ 2  4]\n",
      " [ 2  6]\n",
      " [ 2  8]\n",
      " [ 2 10]\n",
      " [ 3  4]\n",
      " [ 3  6]\n",
      " [ 3  8]\n",
      " [ 3 10]]\n"
     ]
    }
   ],
   "source": [
    "#How to build an array of all combinations of two NumPy arrays?\n",
    "\n",
    "import numpy as np\n",
    "  \n",
    "# creating 2 numpy arrays\n",
    "array_1 = np.array([1, 2,3])\n",
    "array_2 = np.array([4, 6,8,10])\n",
    "  \n",
    "print(\"Array-1\")\n",
    "print(array_1)\n",
    "  \n",
    "print(\"\\nArray-2\")\n",
    "print(array_2)\n",
    "  \n",
    "# combination of elements of array_1 and array_2\n",
    "# using numpy.meshgrid().T.reshape()\n",
    "comb_array = np.array(np.meshgrid(array_1, array_2)).T.reshape(-1, 2)\n",
    "  \n",
    "print(\"\\nCombine array:\")\n",
    "print(comb_array)"
   ]
  },
  {
   "cell_type": "code",
   "execution_count": 10,
   "id": "a614297e",
   "metadata": {},
   "outputs": [
    {
     "name": "stdout",
     "output_type": "stream",
     "text": [
      "Original array\n",
      "[[1. 1.]\n",
      " [1. 1.]]\n",
      "\n",
      "0 on the border and 1 inside the array\n",
      "[[0. 0. 0. 0.]\n",
      " [0. 1. 1. 0.]\n",
      " [0. 1. 1. 0.]\n",
      " [0. 0. 0. 0.]]\n"
     ]
    }
   ],
   "source": [
    "#How to add a border around a NumPy array?\n",
    "\n",
    "# importing Numpy package\n",
    "import numpy as np\n",
    "  \n",
    "# Creating a 2X2 Numpy matrix\n",
    "array = np.ones((2, 2))\n",
    "  \n",
    "print(\"Original array\")\n",
    "print(array)\n",
    "  \n",
    "print(\"\\n0 on the border and 1 inside the array\")\n",
    "  \n",
    "# constructing border of 0 around 2D identity matrix\n",
    "# using np.pad()\n",
    "array = np.pad(array, pad_width=1, mode='constant',\n",
    "               constant_values=0)\n",
    "  \n",
    "print(array)"
   ]
  },
  {
   "cell_type": "code",
   "execution_count": 23,
   "id": "ccc3dbcf",
   "metadata": {},
   "outputs": [
    {
     "name": "stdout",
     "output_type": "stream",
     "text": [
      "[[ True  True]\n",
      " [ True  True]]\n",
      "True\n"
     ]
    }
   ],
   "source": [
    "#How to compare two NumPy arrays?\n",
    "\n",
    "import numpy as np\n",
    " \n",
    "an_array = np.array([[1, 2], [3, 4]])\n",
    "another_array = np.array([[1, 2], [3, 4]])\n",
    " \n",
    "comparison = an_array == another_array\n",
    "equal_arrays = comparison.all()\n",
    " \n",
    "print(comparison)\n",
    "print(equal_arrays)"
   ]
  },
  {
   "cell_type": "code",
   "execution_count": 31,
   "id": "f73e3a68",
   "metadata": {},
   "outputs": [
    {
     "name": "stdout",
     "output_type": "stream",
     "text": [
      "[[ True  True]\n",
      " [ True False]]\n",
      "True\n"
     ]
    }
   ],
   "source": [
    "#How to compare two NumPy arrays?\n",
    "\n",
    "import numpy as np\n",
    " \n",
    "an_array = np.array([[1, 2], [3, 4]])\n",
    "another_array = np.array([[1, 2], [3, 5]])\n",
    " \n",
    "comparison = an_array == another_array\n",
    "equal_arrays = comparison.any()\n",
    " \n",
    "print(comparison)\n",
    "print(equal_arrays)"
   ]
  },
  {
   "cell_type": "code",
   "execution_count": 34,
   "id": "7c05d576",
   "metadata": {},
   "outputs": [
    {
     "name": "stdout",
     "output_type": "stream",
     "text": [
      "[[ True  True]\n",
      " [ True False]]\n",
      "-----------------------------------------\n",
      "[[False False]\n",
      " [False  True]]\n",
      "-----------------------------------------\n",
      "[[ True  True]\n",
      " [ True  True]]\n"
     ]
    }
   ],
   "source": [
    "print(np.greater_equal(an_array, another_array))\n",
    "print(\"-----------------------------------------\")\n",
    "print(np.less(an_array, another_array))\n",
    "print(\"-----------------------------------------\")\n",
    "\n",
    "print(np.less_equal(an_array, another_array))"
   ]
  },
  {
   "cell_type": "code",
   "execution_count": 35,
   "id": "c4ac8c4c",
   "metadata": {},
   "outputs": [
    {
     "name": "stdout",
     "output_type": "stream",
     "text": [
      "Given array:\n",
      "[[2 3 0]\n",
      " [4 1 6]]\n",
      "True\n",
      "True\n",
      "True\n",
      "False\n",
      "False\n"
     ]
    }
   ],
   "source": [
    "#How to check whether specified values are present in NumPy array?\n",
    "\n",
    "# importing Numpy package\n",
    "import numpy as np\n",
    "\n",
    "# creating a Numpy array\n",
    "n_array = np.array([[2, 3, 0],[4, 1, 6]])\n",
    "\n",
    "print(\"Given array:\")\n",
    "print(n_array)\n",
    "\n",
    "# Checking whether specific values\n",
    "# are present in \"n_array\" or not\n",
    "print(2 in n_array)\n",
    "print(0 in n_array)\n",
    "print(6 in n_array)\n",
    "print(50 in n_array)\n",
    "print(10 in n_array)\n",
    "\n"
   ]
  },
  {
   "cell_type": "code",
   "execution_count": 36,
   "id": "b50ba427",
   "metadata": {},
   "outputs": [
    {
     "data": {
      "text/plain": [
       "array([[[[0., 0., 0., 0.],\n",
       "         [0., 0., 0., 0.],\n",
       "         [0., 0., 0., 0.]],\n",
       "\n",
       "        [[0., 0., 0., 0.],\n",
       "         [0., 0., 0., 0.],\n",
       "         [0., 0., 0., 0.]]]])"
      ]
     },
     "execution_count": 36,
     "metadata": {},
     "output_type": "execute_result"
    }
   ],
   "source": [
    "#How to get all 2D diagonals of a 3D NumPy array?\n",
    "\n",
    "np.zeros((1, 2, 3, 4))\n"
   ]
  },
  {
   "cell_type": "code",
   "execution_count": 57,
   "id": "0780064b",
   "metadata": {},
   "outputs": [
    {
     "name": "stdout",
     "output_type": "stream",
     "text": [
      "[0, 1, 1, 2, 3, 5, 8, 13, 21, 34, 55, 89]\n"
     ]
    }
   ],
   "source": [
    "import numpy as np\n",
    "a=[0,1]\n",
    "n=10\n",
    "for i in range(10):\n",
    "    a.append(a[-1]+a[-2])\n",
    "print(a)"
   ]
  },
  {
   "cell_type": "code",
   "execution_count": 65,
   "id": "5241e047",
   "metadata": {},
   "outputs": [
    {
     "name": "stdout",
     "output_type": "stream",
     "text": [
      "3\n"
     ]
    }
   ],
   "source": [
    "def fib(n):\n",
    "    if n <= 1:\n",
    "       return 1\n",
    "    else:\n",
    "        return fib(n-1)+fib(n-2)\n",
    "print(fib(3))"
   ]
  },
  {
   "cell_type": "code",
   "execution_count": 72,
   "id": "391e52d6",
   "metadata": {},
   "outputs": [
    {
     "data": {
      "text/plain": [
       "8"
      ]
     },
     "execution_count": 72,
     "metadata": {},
     "output_type": "execute_result"
    }
   ],
   "source": [
    "arr=np.arange(9).reshape(3,3)\n",
    "len(arr[arr>0])"
   ]
  },
  {
   "cell_type": "code",
   "execution_count": 74,
   "id": "b549814a",
   "metadata": {},
   "outputs": [
    {
     "name": "stdout",
     "output_type": "stream",
     "text": [
      "Before any change \n",
      "[0. 0. 0. 0. 0. 0. 0. 0. 0. 0. 0.]\n",
      "Before after first change \n",
      "[0. 2. 0. 0. 0. 0. 0. 0. 0. 0. 0.]\n",
      "After making array immutable on attempting second change \n"
     ]
    },
    {
     "ename": "ValueError",
     "evalue": "assignment destination is read-only",
     "output_type": "error",
     "traceback": [
      "\u001b[1;31m---------------------------------------------------------------------------\u001b[0m",
      "\u001b[1;31mValueError\u001b[0m                                Traceback (most recent call last)",
      "Cell \u001b[1;32mIn[74], line 15\u001b[0m\n\u001b[0;32m     13\u001b[0m a\u001b[38;5;241m.\u001b[39msetflags(write\u001b[38;5;241m=\u001b[39m\u001b[38;5;28;01mFalse\u001b[39;00m)\n\u001b[0;32m     14\u001b[0m \u001b[38;5;28mprint\u001b[39m(\u001b[38;5;124m\"\u001b[39m\u001b[38;5;124mAfter making array immutable on attempting second change \u001b[39m\u001b[38;5;124m\"\u001b[39m)\n\u001b[1;32m---> 15\u001b[0m \u001b[43ma\u001b[49m\u001b[43m[\u001b[49m\u001b[38;5;241;43m1\u001b[39;49m\u001b[43m]\u001b[49m \u001b[38;5;241m=\u001b[39m \u001b[38;5;241m7\u001b[39m\n",
      "\u001b[1;31mValueError\u001b[0m: assignment destination is read-only"
     ]
    }
   ],
   "source": [
    "#How to make a NumPy array read-only?\n",
    "import numpy as np\n",
    "\n",
    "\n",
    "a = np.zeros(11)\n",
    "print(\"Before any change \")\n",
    "print(a)\n",
    "\n",
    "a[1] = 2\n",
    "print(\"Before after first change \")\n",
    "print(a)\n",
    "\n",
    "a.setflags(write=False)\n",
    "print(\"After making array immutable on attempting second change \")\n",
    "a[1] = 7\n"
   ]
  },
  {
   "cell_type": "code",
   "execution_count": 93,
   "id": "e5a938f2",
   "metadata": {},
   "outputs": [
    {
     "name": "stdout",
     "output_type": "stream",
     "text": [
      "[[0 1 2]\n",
      " [3 4 5]\n",
      " [6 7 8]]\n",
      "----------\n",
      "8\n",
      "----------\n",
      "0\n",
      "----------\n",
      "(3, 3)\n",
      "----------\n",
      "4\n",
      "----------\n",
      "4\n",
      "----------\n",
      "36\n",
      "----------\n",
      "[ 3 12 21]\n",
      "----------\n",
      "[ 9 12 15]\n",
      "----------\n"
     ]
    }
   ],
   "source": [
    "print(arr)\n",
    "print(\"----------\")\n",
    "print(np.max(arr))\n",
    "print(\"----------\")\n",
    "print(np.min(arr))\n",
    "print(\"----------\")\n",
    "print(np.shape(arr))\n",
    "print(\"----------\")\n",
    "print(arr[1,1])\n",
    "print(\"----------\")\n",
    "print(arr.take(4))\n",
    "print(\"----------\")\n",
    "print(np.sum(arr))\n",
    "print(\"----------\")\n",
    "print(arr.sum(axis=1))\n",
    "print(\"----------\")\n",
    "print(arr.sum(axis=0))\n",
    "print(\"----------\")"
   ]
  },
  {
   "cell_type": "code",
   "execution_count": 95,
   "id": "24deed7a",
   "metadata": {},
   "outputs": [
    {
     "name": "stdout",
     "output_type": "stream",
     "text": [
      "Numpy Matrix is:\n",
      "[[55 25 15]\n",
      " [30 44  2]\n",
      " [11 45 77]]\n",
      "\n",
      "Diagonal elements are:\n",
      "[55 44 77]\n",
      "\n",
      "Sum of Diagonal elements is:\n",
      "176\n"
     ]
    }
   ],
   "source": [
    "#Calculate the sum of the diagonal elements of a NumPy array\n",
    "\n",
    "\n",
    "# importing Numpy package\n",
    "import numpy as np\n",
    "\n",
    "# creating a 3X3 Numpy matrix\n",
    "n_array = np.array([[55, 25, 15],\n",
    "\t\t\t\t\t[30, 44, 2],\n",
    "\t\t\t\t\t[11, 45, 77]])\n",
    "\n",
    "# Displaying the Matrix\n",
    "print(\"Numpy Matrix is:\")\n",
    "print(n_array)\n",
    "\n",
    "# Finding the diagonal elements of a matrix\n",
    "diag = np.diagonal(n_array)\n",
    "\n",
    "print(\"\\nDiagonal elements are:\")\n",
    "print(diag)\n",
    "\n",
    "print(\"\\nSum of Diagonal elements is:\")\n",
    "print(sum(diag))\n"
   ]
  },
  {
   "cell_type": "code",
   "execution_count": 100,
   "id": "4a45c9d1",
   "metadata": {},
   "outputs": [
    {
     "name": "stdout",
     "output_type": "stream",
     "text": [
      "Printing elements of first matrix\n",
      "[[1 2]\n",
      " [3 4]]\n",
      "Printing elements of second matrix\n",
      "[[4 5]\n",
      " [6 9]]\n",
      "Addition of two matrix\n",
      "[[ 5  7]\n",
      " [ 9 13]]\n",
      "Subtraction of two matrix\n",
      "[[-3 -3]\n",
      " [-3 -5]]\n"
     ]
    }
   ],
   "source": [
    "#add subtract 2 matrices\n",
    "\n",
    "import numpy as np\n",
    " \n",
    " \n",
    "# creating first matrix\n",
    "A = np.array([[1, 2], [3, 4]])\n",
    " \n",
    "# creating second matrix\n",
    "B = np.array([[4, 5], [6, 9]])\n",
    " \n",
    "print(\"Printing elements of first matrix\")\n",
    "print(A)\n",
    "print(\"Printing elements of second matrix\")\n",
    "print(B)\n",
    " \n",
    "# adding two matrix\n",
    "print(\"Addition of two matrix\")\n",
    "print(np.add(A, B))\n",
    "print(\"Subtraction of two matrix\")\n",
    "print(np.subtract(A, B))"
   ]
  },
  {
   "cell_type": "code",
   "execution_count": null,
   "id": "97755b7a",
   "metadata": {},
   "outputs": [],
   "source": []
  },
  {
   "cell_type": "code",
   "execution_count": null,
   "id": "d66c5621",
   "metadata": {},
   "outputs": [],
   "source": []
  }
 ],
 "metadata": {
  "kernelspec": {
   "display_name": "Python 3 (ipykernel)",
   "language": "python",
   "name": "python3"
  },
  "language_info": {
   "codemirror_mode": {
    "name": "ipython",
    "version": 3
   },
   "file_extension": ".py",
   "mimetype": "text/x-python",
   "name": "python",
   "nbconvert_exporter": "python",
   "pygments_lexer": "ipython3",
   "version": "3.11.3"
  }
 },
 "nbformat": 4,
 "nbformat_minor": 5
}
