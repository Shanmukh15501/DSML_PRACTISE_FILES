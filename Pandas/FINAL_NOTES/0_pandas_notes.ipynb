{
 "cells": [
  {
   "cell_type": "markdown",
   "id": "752caeba",
   "metadata": {},
   "source": [
    "# PANDAS Series\n"
   ]
  },
  {
   "cell_type": "markdown",
   "id": "5eb44cca",
   "metadata": {},
   "source": [
    "## Imports"
   ]
  },
  {
   "cell_type": "code",
   "execution_count": 793,
   "id": "77f33a19",
   "metadata": {},
   "outputs": [],
   "source": [
    "import numpy as np\n",
    "import pandas as pd"
   ]
  },
  {
   "cell_type": "markdown",
   "id": "0c7aee97",
   "metadata": {},
   "source": [
    "# Operations on Series"
   ]
  },
  {
   "cell_type": "markdown",
   "id": "af5aca21",
   "metadata": {},
   "source": [
    "## Create Series from List\n"
   ]
  },
  {
   "cell_type": "code",
   "execution_count": 794,
   "id": "af4b902d",
   "metadata": {},
   "outputs": [
    {
     "name": "stdout",
     "output_type": "stream",
     "text": [
      "1->Series\n",
      " 0       India\n",
      "1    Pakistan\n",
      "2         USA\n",
      "3       Nepal\n",
      "4    Srilanka\n",
      "dtype: object\n",
      "\n",
      "2->Index\n",
      " RangeIndex(start=0, stop=5, step=1)\n"
     ]
    }
   ],
   "source": [
    "country = ['India','Pakistan','USA','Nepal','Srilanka']\n",
    "\n",
    "print(\"1->Series\\n\",pd.Series(country))\n",
    "print()\n",
    "print(\"2->Index\\n\",pd.Series(country).index)"
   ]
  },
  {
   "cell_type": "markdown",
   "id": "88aec32c",
   "metadata": {},
   "source": [
    "## Create Series from dictionary"
   ]
  },
  {
   "cell_type": "code",
   "execution_count": 795,
   "id": "129ed519",
   "metadata": {},
   "outputs": [
    {
     "name": "stdout",
     "output_type": "stream",
     "text": [
      "1->Series\n",
      " maths       67\n",
      "english     57\n",
      "science     89\n",
      "hindi      100\n",
      "Name: Shanmukh Marks, dtype: int64\n",
      "\n",
      "2->Index\n",
      " Index(['maths', 'english', 'science', 'hindi'], dtype='object')\n",
      "\n",
      "3->Maths\n",
      " 67\n",
      "\n",
      "Data Type\n",
      " int64\n",
      "\n",
      "Is Data Unique??? True\n",
      "\n"
     ]
    }
   ],
   "source": [
    "#The keys of the dictionary become the index of the Series.\n",
    "\n",
    "marks = {\n",
    "    'maths':67,\n",
    "    'english':57,\n",
    "    'science':89,\n",
    "    'hindi':100\n",
    "}\n",
    "\n",
    "marks_series = pd.Series(marks,name='Shanmukh Marks')\n",
    "print(\"1->Series\\n\",marks_series)\n",
    "print()\n",
    "print(\"2->Index\\n\",marks_series.index)\n",
    "print()\n",
    "print(\"3->Maths\\n\",marks_series['maths'])\n",
    "print()\n",
    "print(\"Data Type\\n\",marks_series.dtype)\n",
    "print()\n",
    "print(\"Is Data Unique???\",marks_series.is_unique)\n",
    "print()\n"
   ]
  },
  {
   "cell_type": "markdown",
   "id": "ea62cbfe",
   "metadata": {},
   "source": [
    "## Additional Functions For Pandas Series"
   ]
  },
  {
   "cell_type": "code",
   "execution_count": 796,
   "id": "e91dde30",
   "metadata": {},
   "outputs": [
    {
     "name": "stdout",
     "output_type": "stream",
     "text": [
      "🎯 Mean of marks:\n",
      "87.0 \n",
      "\n",
      "🔺 Maximum mark:\n",
      "92 \n",
      "\n",
      "🔻 Minimum mark:\n",
      "78 \n",
      "\n",
      "🔢 Sum of all marks:\n",
      "435 \n",
      "\n",
      "➕ Applying lambda (x + 2) to each element:\n",
      "Alice      87\n",
      "Bob        94\n",
      "Charlie    80\n",
      "David      94\n",
      "Eva        90\n",
      "dtype: int64 \n",
      "\n",
      "➕ Adding 5 to each mark:\n",
      "Alice      90\n",
      "Bob        97\n",
      "Charlie    83\n",
      "David      97\n",
      "Eva        93\n",
      "dtype: int64 \n",
      "\n",
      "✖️ Multiplying each mark by 2:\n",
      "Alice      170\n",
      "Bob        184\n",
      "Charlie    156\n",
      "David      184\n",
      "Eva        176\n",
      "dtype: int64 \n",
      "\n",
      "🔝 First 2 elements:\n",
      "Alice    85\n",
      "Bob      92\n",
      "dtype: int64 \n",
      "\n",
      "🔚 Last 2 elements:\n",
      "David    92\n",
      "Eva      88\n",
      "dtype: int64 \n",
      "\n",
      "📊 Series sorted by values:\n",
      "Charlie    78\n",
      "Alice      85\n",
      "Eva        88\n",
      "Bob        92\n",
      "David      92\n",
      "dtype: int64 \n",
      "\n",
      "📇 Series sorted by index:\n",
      "Alice      85\n",
      "Bob        92\n",
      "Charlie    78\n",
      "David      92\n",
      "Eva        88\n",
      "dtype: int64 \n",
      "\n",
      "📈 Frequency of each unique mark:\n",
      "92    2\n",
      "85    1\n",
      "78    1\n",
      "88    1\n",
      "Name: count, dtype: int64 \n",
      "\n"
     ]
    }
   ],
   "source": [
    "import pandas as pd\n",
    "\n",
    "# Example Series\n",
    "marks_series = pd.Series([85, 92, 78, 92, 88], index=['Alice', 'Bob', 'Charlie', 'David', 'Eva'])\n",
    "\n",
    "print(\"🎯 Mean of marks:\")\n",
    "print(marks_series.mean(), \"\\n\")\n",
    "\n",
    "print(\"🔺 Maximum mark:\")\n",
    "print(marks_series.max(), \"\\n\")\n",
    "\n",
    "print(\"🔻 Minimum mark:\")\n",
    "print(marks_series.min(), \"\\n\")\n",
    "\n",
    "print(\"🔢 Sum of all marks:\")\n",
    "print(marks_series.sum(), \"\\n\")\n",
    "\n",
    "print(\"➕ Applying lambda (x + 2) to each element:\")\n",
    "print(marks_series.apply(lambda x: x + 2), \"\\n\")\n",
    "\n",
    "print(\"➕ Adding 5 to each mark:\")\n",
    "print(marks_series + 5, \"\\n\")\n",
    "\n",
    "print(\"✖️ Multiplying each mark by 2:\")\n",
    "print(marks_series * 2, \"\\n\")\n",
    "\n",
    "print(\"🔝 First 2 elements:\")\n",
    "print(marks_series.head(2), \"\\n\")\n",
    "\n",
    "print(\"🔚 Last 2 elements:\")\n",
    "print(marks_series.tail(2), \"\\n\")\n",
    "\n",
    "print(\"📊 Series sorted by values:\")\n",
    "print(marks_series.sort_values(), \"\\n\")\n",
    "\n",
    "print(\"📇 Series sorted by index:\")\n",
    "print(marks_series.sort_index(), \"\\n\")\n",
    "\n",
    "print(\"📈 Frequency of each unique mark:\")\n",
    "print(marks_series.value_counts(), \"\\n\")\n"
   ]
  },
  {
   "cell_type": "code",
   "execution_count": 797,
   "id": "0584e369",
   "metadata": {},
   "outputs": [
    {
     "name": "stdout",
     "output_type": "stream",
     "text": [
      "1->Series\n",
      " maths      67\n",
      "english    57\n",
      "science    89\n",
      "hindi      89\n",
      "dtype: int64\n",
      "\n",
      "2->Index\n",
      " Index(['maths', 'english', 'science', 'hindi'], dtype='object')\n",
      "\n",
      "3->Maths\n",
      " 67\n",
      "\n",
      "Data Type\n",
      " int64\n",
      "\n",
      "Is Data Unique??? False\n",
      "\n"
     ]
    }
   ],
   "source": [
    "# custom index\n",
    "marks = [67,57,89,89]\n",
    "subjects = ['maths','english','science','hindi']\n",
    "\n",
    "print(\"1->Series\\n\",pd.Series(marks,index=subjects))\n",
    "print()\n",
    "print(\"2->Index\\n\",pd.Series(marks,index=subjects).index)\n",
    "print()\n",
    "print(\"3->Maths\\n\",pd.Series(marks,index=subjects)['maths'])\n",
    "print()\n",
    "print(\"Data Type\\n\",pd.Series(marks,index=subjects).dtype)\n",
    "print()\n",
    "print(\"Is Data Unique???\",pd.Series(marks,index=subjects).is_unique)\n",
    "print()"
   ]
  },
  {
   "cell_type": "code",
   "execution_count": 798,
   "id": "8107df8e",
   "metadata": {},
   "outputs": [
    {
     "name": "stdout",
     "output_type": "stream",
     "text": [
      "a    10\n",
      "b    20\n",
      "c    30\n",
      "d    40\n",
      "dtype: int64\n",
      "a    11.0\n",
      "b    22.0\n",
      "c     NaN\n",
      "d     NaN\n",
      "e     NaN\n",
      "dtype: float64\n"
     ]
    }
   ],
   "source": [
    "import pandas as pd\n",
    "\n",
    "s = pd.Series([10, 20, 30, 40], index=['a', 'b', 'c', 'd'])\n",
    "print(s)\n",
    "s2 = pd.Series([1, 2, 3], index=['a', 'b', 'e'])\n",
    "print(s + s2)     # NaN for unmatched indexes\n",
    "\n",
    "\n"
   ]
  },
  {
   "cell_type": "code",
   "execution_count": 799,
   "id": "db1553d8",
   "metadata": {},
   "outputs": [
    {
     "name": "stdout",
     "output_type": "stream",
     "text": [
      "0         1\n",
      "1         2\n",
      "2    Python\n",
      "3       2.0\n",
      "4      True\n",
      "5       100\n",
      "dtype: object\n",
      "0      1.0\n",
      "1      2.0\n",
      "2      NaN\n",
      "3      2.0\n",
      "4      1.0\n",
      "5    100.0\n",
      "dtype: float64\n"
     ]
    },
    {
     "name": "stderr",
     "output_type": "stream",
     "text": [
      "C:\\Users\\Adari Shanmukh\\AppData\\Local\\Temp\\ipykernel_5984\\2999302811.py:4: FutureWarning: errors='ignore' is deprecated and will raise in a future version. Use to_numeric without passing `errors` and catch exceptions explicitly instead\n",
      "  print(pd.to_numeric(series, errors ='ignore') )\n"
     ]
    }
   ],
   "source": [
    "\n",
    "series = pd.Series([1,2,'Python', 2.0, True, 100])\n",
    "#ignore->Does nothing if any non-numeric values are present.\n",
    "#ignore->Forces the conversion Non-convertible values are replaced with NaN\n",
    "print(pd.to_numeric(series, errors ='ignore') )\n",
    "print(pd.to_numeric(series, errors ='coerce') )"
   ]
  },
  {
   "cell_type": "markdown",
   "id": "78f760c6",
   "metadata": {},
   "source": [
    "# Opearations on DataFrame"
   ]
  },
  {
   "cell_type": "code",
   "execution_count": 800,
   "id": "75b80b84",
   "metadata": {},
   "outputs": [
    {
     "name": "stdout",
     "output_type": "stream",
     "text": [
      "🔍 DataFrame:\n",
      "       Name  Age  Score\n",
      "A    Alice   25   85.5\n",
      "B      Bob   30  190.0\n",
      "C  Charlie   22   95.5\n",
      "D  Charlie   22   95.5 \n",
      "\n",
      "🔍Transpose of a DataFrame:\n",
      "            A      B        C        D\n",
      "Name   Alice    Bob  Charlie  Charlie\n",
      "Age       25     30       22       22\n",
      "Score   85.5  190.0     95.5     95.5 \n",
      "\n",
      "🔍Loc\n",
      " A      Alice\n",
      "B        Bob\n",
      "C    Charlie\n",
      "D    Charlie\n",
      "Name: Name, dtype: object \n",
      "\n",
      "🔍iLoc\n",
      " A      Alice\n",
      "B        Bob\n",
      "C    Charlie\n",
      "D    Charlie\n",
      "Name: Name, dtype: object \n",
      "\n"
     ]
    }
   ],
   "source": [
    "import pandas as pd\n",
    "\n",
    "data = {'Name': ['Alice', 'Bob', 'Charlie','Charlie'],'Age': [25, 30, 22,22],'Score': [85.5, 190.0, 95.5,95.5]}\n",
    "df_test = pd.DataFrame(data,index=['A', 'B', 'C','D'])\n",
    "\n",
    "print(\"🔍 DataFrame:\\n\", df_test, \"\\n\")\n",
    "print(\"🔍Transpose of a DataFrame:\\n\", df_test.T, \"\\n\")\n",
    "print(\"🔍Loc\\n\", df_test.T.loc['Name'], \"\\n\")\n",
    "print(\"🔍iLoc\\n\", df_test.T.iloc[0], \"\\n\")"
   ]
  },
  {
   "cell_type": "code",
   "execution_count": 801,
   "id": "6a664c26",
   "metadata": {},
   "outputs": [
    {
     "name": "stdout",
     "output_type": "stream",
     "text": [
      "📋 Columns:\n",
      " Index(['Name', 'Age', 'Score'], dtype='object') \n",
      "\n",
      "🔢 First row (iloc):\n",
      " Name     Alice\n",
      "Age         25\n",
      "Score     85.5\n",
      "Name: A, dtype: object \n",
      "\n",
      "🎯 Age column:\n",
      " A    25\n",
      "B    30\n",
      "C    22\n",
      "D    22\n",
      "Name: Age, dtype: int64 \n",
      "\n",
      "🪪 Row by label (loc):\n",
      " Name     Alice\n",
      "Age         25\n",
      "Score     85.5\n",
      "Name: A, dtype: object \n",
      "\n"
     ]
    }
   ],
   "source": [
    "print(\"📋 Columns:\\n\", df_test.columns, \"\\n\")\n",
    "print(\"🔢 First row (iloc):\\n\", df_test.iloc[0], \"\\n\")         # By position\n",
    "print(\"🎯 Age column:\\n\", df_test['Age'], \"\\n\")                # By column label\n",
    "print(\"🪪 Row by label (loc):\\n\", df_test.loc['A'], \"\\n\")        # By index\n"
   ]
  },
  {
   "cell_type": "code",
   "execution_count": 802,
   "id": "695d6542",
   "metadata": {},
   "outputs": [
    {
     "data": {
      "text/plain": [
       "Name     0\n",
       "Age      0\n",
       "Score    0\n",
       "dtype: int64"
      ]
     },
     "execution_count": 802,
     "metadata": {},
     "output_type": "execute_result"
    }
   ],
   "source": [
    "df_test.isna().sum() # Check for missing values"
   ]
  },
  {
   "cell_type": "code",
   "execution_count": 803,
   "id": "c9f77f2a",
   "metadata": {},
   "outputs": [
    {
     "data": {
      "text/html": [
       "<div>\n",
       "<style scoped>\n",
       "    .dataframe tbody tr th:only-of-type {\n",
       "        vertical-align: middle;\n",
       "    }\n",
       "\n",
       "    .dataframe tbody tr th {\n",
       "        vertical-align: top;\n",
       "    }\n",
       "\n",
       "    .dataframe thead th {\n",
       "        text-align: right;\n",
       "    }\n",
       "</style>\n",
       "<table border=\"1\" class=\"dataframe\">\n",
       "  <thead>\n",
       "    <tr style=\"text-align: right;\">\n",
       "      <th></th>\n",
       "      <th>country</th>\n",
       "      <th>year</th>\n",
       "      <th>population</th>\n",
       "      <th>continent</th>\n",
       "      <th>life_exp</th>\n",
       "      <th>gdp_cap</th>\n",
       "    </tr>\n",
       "  </thead>\n",
       "  <tbody>\n",
       "    <tr>\n",
       "      <th>0</th>\n",
       "      <td>Afghanistan</td>\n",
       "      <td>1952</td>\n",
       "      <td>8425333</td>\n",
       "      <td>Asia</td>\n",
       "      <td>28.801</td>\n",
       "      <td>779.445314</td>\n",
       "    </tr>\n",
       "    <tr>\n",
       "      <th>1</th>\n",
       "      <td>Afghanistan</td>\n",
       "      <td>1957</td>\n",
       "      <td>9240934</td>\n",
       "      <td>Asia</td>\n",
       "      <td>30.332</td>\n",
       "      <td>820.853030</td>\n",
       "    </tr>\n",
       "  </tbody>\n",
       "</table>\n",
       "</div>"
      ],
      "text/plain": [
       "       country  year  population continent  life_exp     gdp_cap\n",
       "0  Afghanistan  1952     8425333      Asia    28.801  779.445314\n",
       "1  Afghanistan  1957     9240934      Asia    30.332  820.853030"
      ]
     },
     "execution_count": 803,
     "metadata": {},
     "output_type": "execute_result"
    }
   ],
   "source": [
    "df = pd.read_csv('D:\\\\utils\\\\DataSets\\\\Scalar\\\\mckinsey.csv') # We are storing the data in df\n",
    "df.head(2)"
   ]
  },
  {
   "cell_type": "code",
   "execution_count": 804,
   "id": "d86085d8",
   "metadata": {},
   "outputs": [
    {
     "data": {
      "text/plain": [
       "Index(['country', 'year', 'population', 'continent', 'life_exp', 'gdp_cap'], dtype='object')"
      ]
     },
     "execution_count": 804,
     "metadata": {},
     "output_type": "execute_result"
    }
   ],
   "source": [
    "df.columns"
   ]
  },
  {
   "cell_type": "code",
   "execution_count": 805,
   "id": "f3f82792",
   "metadata": {},
   "outputs": [
    {
     "data": {
      "text/html": [
       "<div>\n",
       "<style scoped>\n",
       "    .dataframe tbody tr th:only-of-type {\n",
       "        vertical-align: middle;\n",
       "    }\n",
       "\n",
       "    .dataframe tbody tr th {\n",
       "        vertical-align: top;\n",
       "    }\n",
       "\n",
       "    .dataframe thead th {\n",
       "        text-align: right;\n",
       "    }\n",
       "</style>\n",
       "<table border=\"1\" class=\"dataframe\">\n",
       "  <thead>\n",
       "    <tr style=\"text-align: right;\">\n",
       "      <th></th>\n",
       "      <th>country</th>\n",
       "      <th>life_exp</th>\n",
       "    </tr>\n",
       "  </thead>\n",
       "  <tbody>\n",
       "    <tr>\n",
       "      <th>0</th>\n",
       "      <td>Afghanistan</td>\n",
       "      <td>28.801</td>\n",
       "    </tr>\n",
       "    <tr>\n",
       "      <th>1</th>\n",
       "      <td>Afghanistan</td>\n",
       "      <td>30.332</td>\n",
       "    </tr>\n",
       "  </tbody>\n",
       "</table>\n",
       "</div>"
      ],
      "text/plain": [
       "       country  life_exp\n",
       "0  Afghanistan    28.801\n",
       "1  Afghanistan    30.332"
      ]
     },
     "execution_count": 805,
     "metadata": {},
     "output_type": "execute_result"
    }
   ],
   "source": [
    "df[['country', 'life_exp']].head(2) "
   ]
  },
  {
   "cell_type": "code",
   "execution_count": 806,
   "id": "1abb5fdf",
   "metadata": {},
   "outputs": [
    {
     "data": {
      "text/plain": [
       "array(['Afghanistan', 'Albania', 'Algeria', 'Angola', 'Argentina',\n",
       "       'Australia', 'Austria', 'Bahrain', 'Bangladesh', 'Belgium',\n",
       "       'Benin', 'Bolivia', 'Bosnia and Herzegovina', 'Botswana', 'Brazil',\n",
       "       'Bulgaria', 'Burkina Faso', 'Burundi', 'Cambodia', 'Cameroon',\n",
       "       'Canada', 'Central African Republic', 'Chad', 'Chile', 'China',\n",
       "       'Colombia', 'Comoros', 'Congo, Dem. Rep.', 'Congo, Rep.',\n",
       "       'Costa Rica', \"Cote d'Ivoire\", 'Croatia', 'Cuba', 'Czech Republic',\n",
       "       'Denmark', 'Djibouti', 'Dominican Republic', 'Ecuador', 'Egypt',\n",
       "       'El Salvador', 'Equatorial Guinea', 'Eritrea', 'Ethiopia',\n",
       "       'Finland', 'France', 'Gabon', 'Gambia', 'Germany', 'Ghana',\n",
       "       'Greece', 'Guatemala', 'Guinea', 'Guinea-Bissau', 'Haiti',\n",
       "       'Honduras', 'Hong Kong, China', 'Hungary', 'Iceland', 'India',\n",
       "       'Indonesia', 'Iran', 'Iraq', 'Ireland', 'Israel', 'Italy',\n",
       "       'Jamaica', 'Japan', 'Jordan', 'Kenya', 'Korea, Dem. Rep.',\n",
       "       'Korea, Rep.', 'Kuwait', 'Lebanon', 'Lesotho', 'Liberia', 'Libya',\n",
       "       'Madagascar', 'Malawi', 'Malaysia', 'Mali', 'Mauritania',\n",
       "       'Mauritius', 'Mexico', 'Mongolia', 'Montenegro', 'Morocco',\n",
       "       'Mozambique', 'Myanmar', 'Namibia', 'Nepal', 'Netherlands',\n",
       "       'New Zealand', 'Nicaragua', 'Niger', 'Nigeria', 'Norway', 'Oman',\n",
       "       'Pakistan', 'Panama', 'Paraguay', 'Peru', 'Philippines', 'Poland',\n",
       "       'Portugal', 'Puerto Rico', 'Reunion', 'Romania', 'Rwanda',\n",
       "       'Sao Tome and Principe', 'Saudi Arabia', 'Senegal', 'Serbia',\n",
       "       'Sierra Leone', 'Singapore', 'Slovak Republic', 'Slovenia',\n",
       "       'Somalia', 'South Africa', 'Spain', 'Sri Lanka', 'Sudan',\n",
       "       'Swaziland', 'Sweden', 'Switzerland', 'Syria', 'Taiwan',\n",
       "       'Tanzania', 'Thailand', 'Togo', 'Trinidad and Tobago', 'Tunisia',\n",
       "       'Turkey', 'Uganda', 'United Kingdom', 'United States', 'Uruguay',\n",
       "       'Venezuela', 'Vietnam', 'West Bank and Gaza', 'Yemen, Rep.',\n",
       "       'Zambia', 'Zimbabwe'], dtype=object)"
      ]
     },
     "execution_count": 806,
     "metadata": {},
     "output_type": "execute_result"
    }
   ],
   "source": [
    "df['country'].unique()"
   ]
  },
  {
   "cell_type": "code",
   "execution_count": 807,
   "id": "504f5e82",
   "metadata": {},
   "outputs": [
    {
     "data": {
      "text/plain": [
       "country\n",
       "Afghanistan          12\n",
       "Pakistan             12\n",
       "New Zealand          12\n",
       "Nicaragua            12\n",
       "Niger                12\n",
       "                     ..\n",
       "Eritrea              12\n",
       "Equatorial Guinea    12\n",
       "El Salvador          12\n",
       "Egypt                12\n",
       "Zimbabwe             12\n",
       "Name: count, Length: 142, dtype: int64"
      ]
     },
     "execution_count": 807,
     "metadata": {},
     "output_type": "execute_result"
    }
   ],
   "source": [
    "df['country'].value_counts()"
   ]
  },
  {
   "cell_type": "code",
   "execution_count": 808,
   "id": "37f44903",
   "metadata": {},
   "outputs": [
    {
     "data": {
      "text/html": [
       "<div>\n",
       "<style scoped>\n",
       "    .dataframe tbody tr th:only-of-type {\n",
       "        vertical-align: middle;\n",
       "    }\n",
       "\n",
       "    .dataframe tbody tr th {\n",
       "        vertical-align: top;\n",
       "    }\n",
       "\n",
       "    .dataframe thead th {\n",
       "        text-align: right;\n",
       "    }\n",
       "</style>\n",
       "<table border=\"1\" class=\"dataframe\">\n",
       "  <thead>\n",
       "    <tr style=\"text-align: right;\">\n",
       "      <th></th>\n",
       "      <th>country</th>\n",
       "      <th>year</th>\n",
       "      <th>population</th>\n",
       "      <th>continent</th>\n",
       "      <th>life_exp</th>\n",
       "      <th>gdp_cap</th>\n",
       "      <th>gdp</th>\n",
       "    </tr>\n",
       "  </thead>\n",
       "  <tbody>\n",
       "    <tr>\n",
       "      <th>0</th>\n",
       "      <td>Afghanistan</td>\n",
       "      <td>1952</td>\n",
       "      <td>8425333</td>\n",
       "      <td>Asia</td>\n",
       "      <td>28.801</td>\n",
       "      <td>779.445314</td>\n",
       "      <td>6.567086e+09</td>\n",
       "    </tr>\n",
       "  </tbody>\n",
       "</table>\n",
       "</div>"
      ],
      "text/plain": [
       "       country  year  population continent  life_exp     gdp_cap           gdp\n",
       "0  Afghanistan  1952     8425333      Asia    28.801  779.445314  6.567086e+09"
      ]
     },
     "execution_count": 808,
     "metadata": {},
     "output_type": "execute_result"
    }
   ],
   "source": [
    "df['gdp']=df['gdp_cap'] * df['population']\n",
    "df.head(1)"
   ]
  },
  {
   "cell_type": "markdown",
   "id": "07e30a62",
   "metadata": {},
   "source": [
    "## Renaming Columns"
   ]
  },
  {
   "cell_type": "code",
   "execution_count": 809,
   "id": "bc2a3cfd",
   "metadata": {},
   "outputs": [
    {
     "data": {
      "text/html": [
       "<div>\n",
       "<style scoped>\n",
       "    .dataframe tbody tr th:only-of-type {\n",
       "        vertical-align: middle;\n",
       "    }\n",
       "\n",
       "    .dataframe tbody tr th {\n",
       "        vertical-align: top;\n",
       "    }\n",
       "\n",
       "    .dataframe thead th {\n",
       "        text-align: right;\n",
       "    }\n",
       "</style>\n",
       "<table border=\"1\" class=\"dataframe\">\n",
       "  <thead>\n",
       "    <tr style=\"text-align: right;\">\n",
       "      <th></th>\n",
       "      <th>Country</th>\n",
       "      <th>year</th>\n",
       "      <th>Population</th>\n",
       "      <th>continent</th>\n",
       "      <th>life_exp</th>\n",
       "      <th>gdp_cap</th>\n",
       "      <th>gdp</th>\n",
       "    </tr>\n",
       "  </thead>\n",
       "  <tbody>\n",
       "    <tr>\n",
       "      <th>0</th>\n",
       "      <td>Afghanistan</td>\n",
       "      <td>1952</td>\n",
       "      <td>8425333</td>\n",
       "      <td>Asia</td>\n",
       "      <td>28.801</td>\n",
       "      <td>779.445314</td>\n",
       "      <td>6.567086e+09</td>\n",
       "    </tr>\n",
       "  </tbody>\n",
       "</table>\n",
       "</div>"
      ],
      "text/plain": [
       "       Country  year  Population continent  life_exp     gdp_cap           gdp\n",
       "0  Afghanistan  1952     8425333      Asia    28.801  779.445314  6.567086e+09"
      ]
     },
     "execution_count": 809,
     "metadata": {},
     "output_type": "execute_result"
    }
   ],
   "source": [
    "#Column Renaming left to right\n",
    "df.rename({\"population\": \"Population\", \"country\":\"Country\" }, axis = 1).head(1)"
   ]
  },
  {
   "cell_type": "code",
   "execution_count": 810,
   "id": "6253c11e",
   "metadata": {},
   "outputs": [
    {
     "data": {
      "text/html": [
       "<div>\n",
       "<style scoped>\n",
       "    .dataframe tbody tr th:only-of-type {\n",
       "        vertical-align: middle;\n",
       "    }\n",
       "\n",
       "    .dataframe tbody tr th {\n",
       "        vertical-align: top;\n",
       "    }\n",
       "\n",
       "    .dataframe thead th {\n",
       "        text-align: right;\n",
       "    }\n",
       "</style>\n",
       "<table border=\"1\" class=\"dataframe\">\n",
       "  <thead>\n",
       "    <tr style=\"text-align: right;\">\n",
       "      <th></th>\n",
       "      <th>country</th>\n",
       "      <th>year</th>\n",
       "      <th>Population</th>\n",
       "      <th>continent</th>\n",
       "      <th>Life_Exp</th>\n",
       "      <th>gdp_cap</th>\n",
       "      <th>gdp</th>\n",
       "    </tr>\n",
       "  </thead>\n",
       "  <tbody>\n",
       "    <tr>\n",
       "      <th>0</th>\n",
       "      <td>Afghanistan</td>\n",
       "      <td>1952</td>\n",
       "      <td>8425333</td>\n",
       "      <td>Asia</td>\n",
       "      <td>28.801</td>\n",
       "      <td>779.445314</td>\n",
       "      <td>6.567086e+09</td>\n",
       "    </tr>\n",
       "  </tbody>\n",
       "</table>\n",
       "</div>"
      ],
      "text/plain": [
       "       country  year  Population continent  Life_Exp     gdp_cap           gdp\n",
       "0  Afghanistan  1952     8425333      Asia    28.801  779.445314  6.567086e+09"
      ]
     },
     "execution_count": 810,
     "metadata": {},
     "output_type": "execute_result"
    }
   ],
   "source": [
    "#or \n",
    "df.rename(columns={\"population\":\"Population\",\"life_exp\":\"Life_Exp\"}).head(1)"
   ]
  },
  {
   "cell_type": "code",
   "execution_count": 811,
   "id": "8b05fe9a",
   "metadata": {},
   "outputs": [
    {
     "data": {
      "text/html": [
       "<div>\n",
       "<style scoped>\n",
       "    .dataframe tbody tr th:only-of-type {\n",
       "        vertical-align: middle;\n",
       "    }\n",
       "\n",
       "    .dataframe tbody tr th {\n",
       "        vertical-align: top;\n",
       "    }\n",
       "\n",
       "    .dataframe thead th {\n",
       "        text-align: right;\n",
       "    }\n",
       "</style>\n",
       "<table border=\"1\" class=\"dataframe\">\n",
       "  <thead>\n",
       "    <tr style=\"text-align: right;\">\n",
       "      <th></th>\n",
       "      <th>country</th>\n",
       "      <th>year</th>\n",
       "      <th>population</th>\n",
       "      <th>continent</th>\n",
       "      <th>life_exp</th>\n",
       "      <th>gdp_cap</th>\n",
       "      <th>gdp</th>\n",
       "    </tr>\n",
       "  </thead>\n",
       "  <tbody>\n",
       "    <tr>\n",
       "      <th>Zero</th>\n",
       "      <td>Afghanistan</td>\n",
       "      <td>1952</td>\n",
       "      <td>8425333</td>\n",
       "      <td>Asia</td>\n",
       "      <td>28.801</td>\n",
       "      <td>779.445314</td>\n",
       "      <td>6.567086e+09</td>\n",
       "    </tr>\n",
       "  </tbody>\n",
       "</table>\n",
       "</div>"
      ],
      "text/plain": [
       "          country  year  population continent  life_exp     gdp_cap  \\\n",
       "Zero  Afghanistan  1952     8425333      Asia    28.801  779.445314   \n",
       "\n",
       "               gdp  \n",
       "Zero  6.567086e+09  "
      ]
     },
     "execution_count": 811,
     "metadata": {},
     "output_type": "execute_result"
    }
   ],
   "source": [
    "#Renaming rows top to bottom here 0 and 1 are the index values of the rows\n",
    "df.rename({0: \"Zero\",1:\"One\"}, axis = 0).head(1)"
   ]
  },
  {
   "cell_type": "markdown",
   "id": "c3dbc83e",
   "metadata": {},
   "source": [
    "## Drop Columns"
   ]
  },
  {
   "cell_type": "code",
   "execution_count": 812,
   "id": "a5f9b33c",
   "metadata": {},
   "outputs": [
    {
     "data": {
      "text/html": [
       "<div>\n",
       "<style scoped>\n",
       "    .dataframe tbody tr th:only-of-type {\n",
       "        vertical-align: middle;\n",
       "    }\n",
       "\n",
       "    .dataframe tbody tr th {\n",
       "        vertical-align: top;\n",
       "    }\n",
       "\n",
       "    .dataframe thead th {\n",
       "        text-align: right;\n",
       "    }\n",
       "</style>\n",
       "<table border=\"1\" class=\"dataframe\">\n",
       "  <thead>\n",
       "    <tr style=\"text-align: right;\">\n",
       "      <th></th>\n",
       "      <th>country</th>\n",
       "      <th>year</th>\n",
       "      <th>population</th>\n",
       "      <th>life_exp</th>\n",
       "      <th>gdp_cap</th>\n",
       "      <th>gdp</th>\n",
       "    </tr>\n",
       "  </thead>\n",
       "  <tbody>\n",
       "    <tr>\n",
       "      <th>0</th>\n",
       "      <td>Afghanistan</td>\n",
       "      <td>1952</td>\n",
       "      <td>8425333</td>\n",
       "      <td>28.801</td>\n",
       "      <td>779.445314</td>\n",
       "      <td>6.567086e+09</td>\n",
       "    </tr>\n",
       "  </tbody>\n",
       "</table>\n",
       "</div>"
      ],
      "text/plain": [
       "       country  year  population  life_exp     gdp_cap           gdp\n",
       "0  Afghanistan  1952     8425333    28.801  779.445314  6.567086e+09"
      ]
     },
     "execution_count": 812,
     "metadata": {},
     "output_type": "execute_result"
    }
   ],
   "source": [
    "df.drop(columns=['continent']).head(1)"
   ]
  },
  {
   "cell_type": "markdown",
   "id": "0cf8c4c5",
   "metadata": {},
   "source": [
    "## Loc and Iloc Operations"
   ]
  },
  {
   "cell_type": "code",
   "execution_count": 813,
   "id": "623ed2aa",
   "metadata": {},
   "outputs": [
    {
     "data": {
      "text/html": [
       "<div>\n",
       "<style scoped>\n",
       "    .dataframe tbody tr th:only-of-type {\n",
       "        vertical-align: middle;\n",
       "    }\n",
       "\n",
       "    .dataframe tbody tr th {\n",
       "        vertical-align: top;\n",
       "    }\n",
       "\n",
       "    .dataframe thead th {\n",
       "        text-align: right;\n",
       "    }\n",
       "</style>\n",
       "<table border=\"1\" class=\"dataframe\">\n",
       "  <thead>\n",
       "    <tr style=\"text-align: right;\">\n",
       "      <th></th>\n",
       "      <th>country</th>\n",
       "      <th>year</th>\n",
       "      <th>population</th>\n",
       "      <th>continent</th>\n",
       "      <th>life_exp</th>\n",
       "      <th>gdp_cap</th>\n",
       "      <th>gdp</th>\n",
       "    </tr>\n",
       "  </thead>\n",
       "  <tbody>\n",
       "    <tr>\n",
       "      <th>1</th>\n",
       "      <td>Afghanistan</td>\n",
       "      <td>1957</td>\n",
       "      <td>9240934</td>\n",
       "      <td>Asia</td>\n",
       "      <td>30.332</td>\n",
       "      <td>820.853030</td>\n",
       "      <td>7.585449e+09</td>\n",
       "    </tr>\n",
       "    <tr>\n",
       "      <th>2</th>\n",
       "      <td>Afghanistan</td>\n",
       "      <td>1962</td>\n",
       "      <td>10267083</td>\n",
       "      <td>Asia</td>\n",
       "      <td>31.997</td>\n",
       "      <td>853.100710</td>\n",
       "      <td>8.758856e+09</td>\n",
       "    </tr>\n",
       "    <tr>\n",
       "      <th>0</th>\n",
       "      <td>Afghanistan</td>\n",
       "      <td>1952</td>\n",
       "      <td>8425333</td>\n",
       "      <td>Asia</td>\n",
       "      <td>28.801</td>\n",
       "      <td>779.445314</td>\n",
       "      <td>6.567086e+09</td>\n",
       "    </tr>\n",
       "  </tbody>\n",
       "</table>\n",
       "</div>"
      ],
      "text/plain": [
       "       country  year  population continent  life_exp     gdp_cap           gdp\n",
       "1  Afghanistan  1957     9240934      Asia    30.332  820.853030  7.585449e+09\n",
       "2  Afghanistan  1962    10267083      Asia    31.997  853.100710  8.758856e+09\n",
       "0  Afghanistan  1952     8425333      Asia    28.801  779.445314  6.567086e+09"
      ]
     },
     "execution_count": 813,
     "metadata": {},
     "output_type": "execute_result"
    }
   ],
   "source": [
    "df.iloc[[1, 2, 0]]"
   ]
  },
  {
   "cell_type": "code",
   "execution_count": 814,
   "id": "80775b74",
   "metadata": {},
   "outputs": [
    {
     "data": {
      "text/html": [
       "<div>\n",
       "<style scoped>\n",
       "    .dataframe tbody tr th:only-of-type {\n",
       "        vertical-align: middle;\n",
       "    }\n",
       "\n",
       "    .dataframe tbody tr th {\n",
       "        vertical-align: top;\n",
       "    }\n",
       "\n",
       "    .dataframe thead th {\n",
       "        text-align: right;\n",
       "    }\n",
       "</style>\n",
       "<table border=\"1\" class=\"dataframe\">\n",
       "  <thead>\n",
       "    <tr style=\"text-align: right;\">\n",
       "      <th></th>\n",
       "      <th>Name</th>\n",
       "      <th>Age</th>\n",
       "      <th>Score</th>\n",
       "    </tr>\n",
       "  </thead>\n",
       "  <tbody>\n",
       "    <tr>\n",
       "      <th>B</th>\n",
       "      <td>Bob</td>\n",
       "      <td>30</td>\n",
       "      <td>190.0</td>\n",
       "    </tr>\n",
       "    <tr>\n",
       "      <th>C</th>\n",
       "      <td>Charlie</td>\n",
       "      <td>22</td>\n",
       "      <td>95.5</td>\n",
       "    </tr>\n",
       "    <tr>\n",
       "      <th>A</th>\n",
       "      <td>Alice</td>\n",
       "      <td>25</td>\n",
       "      <td>85.5</td>\n",
       "    </tr>\n",
       "  </tbody>\n",
       "</table>\n",
       "</div>"
      ],
      "text/plain": [
       "      Name  Age  Score\n",
       "B      Bob   30  190.0\n",
       "C  Charlie   22   95.5\n",
       "A    Alice   25   85.5"
      ]
     },
     "execution_count": 814,
     "metadata": {},
     "output_type": "execute_result"
    }
   ],
   "source": [
    "df_test.loc[['B', 'C', 'A']]\n"
   ]
  },
  {
   "cell_type": "code",
   "execution_count": 815,
   "id": "3b7ea1ca",
   "metadata": {},
   "outputs": [
    {
     "data": {
      "text/html": [
       "<div>\n",
       "<style scoped>\n",
       "    .dataframe tbody tr th:only-of-type {\n",
       "        vertical-align: middle;\n",
       "    }\n",
       "\n",
       "    .dataframe tbody tr th {\n",
       "        vertical-align: top;\n",
       "    }\n",
       "\n",
       "    .dataframe thead th {\n",
       "        text-align: right;\n",
       "    }\n",
       "</style>\n",
       "<table border=\"1\" class=\"dataframe\">\n",
       "  <thead>\n",
       "    <tr style=\"text-align: right;\">\n",
       "      <th></th>\n",
       "      <th>Name</th>\n",
       "      <th>Score</th>\n",
       "    </tr>\n",
       "  </thead>\n",
       "  <tbody>\n",
       "    <tr>\n",
       "      <th>B</th>\n",
       "      <td>Bob</td>\n",
       "      <td>190.0</td>\n",
       "    </tr>\n",
       "    <tr>\n",
       "      <th>C</th>\n",
       "      <td>Charlie</td>\n",
       "      <td>95.5</td>\n",
       "    </tr>\n",
       "  </tbody>\n",
       "</table>\n",
       "</div>"
      ],
      "text/plain": [
       "      Name  Score\n",
       "B      Bob  190.0\n",
       "C  Charlie   95.5"
      ]
     },
     "execution_count": 815,
     "metadata": {},
     "output_type": "execute_result"
    }
   ],
   "source": [
    "# loc and iloc are used to access a group of rows and columns by labels or a boolean array.\n",
    "df_test.iloc[1:3, 0:3:2]\n"
   ]
  },
  {
   "cell_type": "code",
   "execution_count": 816,
   "id": "5eb4014c",
   "metadata": {},
   "outputs": [
    {
     "data": {
      "text/html": [
       "<div>\n",
       "<style scoped>\n",
       "    .dataframe tbody tr th:only-of-type {\n",
       "        vertical-align: middle;\n",
       "    }\n",
       "\n",
       "    .dataframe tbody tr th {\n",
       "        vertical-align: top;\n",
       "    }\n",
       "\n",
       "    .dataframe thead th {\n",
       "        text-align: right;\n",
       "    }\n",
       "</style>\n",
       "<table border=\"1\" class=\"dataframe\">\n",
       "  <thead>\n",
       "    <tr style=\"text-align: right;\">\n",
       "      <th></th>\n",
       "      <th>Name</th>\n",
       "      <th>Age</th>\n",
       "    </tr>\n",
       "  </thead>\n",
       "  <tbody>\n",
       "    <tr>\n",
       "      <th>A</th>\n",
       "      <td>Alice</td>\n",
       "      <td>25</td>\n",
       "    </tr>\n",
       "    <tr>\n",
       "      <th>B</th>\n",
       "      <td>Bob</td>\n",
       "      <td>30</td>\n",
       "    </tr>\n",
       "    <tr>\n",
       "      <th>C</th>\n",
       "      <td>Charlie</td>\n",
       "      <td>22</td>\n",
       "    </tr>\n",
       "  </tbody>\n",
       "</table>\n",
       "</div>"
      ],
      "text/plain": [
       "      Name  Age\n",
       "A    Alice   25\n",
       "B      Bob   30\n",
       "C  Charlie   22"
      ]
     },
     "execution_count": 816,
     "metadata": {},
     "output_type": "execute_result"
    }
   ],
   "source": [
    "df_test.loc['A':'C', ['Name', 'Age']].head(5)"
   ]
  },
  {
   "cell_type": "markdown",
   "id": "94f20fa3",
   "metadata": {},
   "source": [
    "## Set and Reset Index"
   ]
  },
  {
   "cell_type": "code",
   "execution_count": 817,
   "id": "48a8b211",
   "metadata": {},
   "outputs": [
    {
     "data": {
      "text/html": [
       "<div>\n",
       "<style scoped>\n",
       "    .dataframe tbody tr th:only-of-type {\n",
       "        vertical-align: middle;\n",
       "    }\n",
       "\n",
       "    .dataframe tbody tr th {\n",
       "        vertical-align: top;\n",
       "    }\n",
       "\n",
       "    .dataframe thead th {\n",
       "        text-align: right;\n",
       "    }\n",
       "</style>\n",
       "<table border=\"1\" class=\"dataframe\">\n",
       "  <thead>\n",
       "    <tr style=\"text-align: right;\">\n",
       "      <th></th>\n",
       "      <th>Age</th>\n",
       "      <th>Score</th>\n",
       "    </tr>\n",
       "    <tr>\n",
       "      <th>Name</th>\n",
       "      <th></th>\n",
       "      <th></th>\n",
       "    </tr>\n",
       "  </thead>\n",
       "  <tbody>\n",
       "    <tr>\n",
       "      <th>Alice</th>\n",
       "      <td>25</td>\n",
       "      <td>85.5</td>\n",
       "    </tr>\n",
       "    <tr>\n",
       "      <th>Bob</th>\n",
       "      <td>30</td>\n",
       "      <td>190.0</td>\n",
       "    </tr>\n",
       "  </tbody>\n",
       "</table>\n",
       "</div>"
      ],
      "text/plain": [
       "       Age  Score\n",
       "Name             \n",
       "Alice   25   85.5\n",
       "Bob     30  190.0"
      ]
     },
     "execution_count": 817,
     "metadata": {},
     "output_type": "execute_result"
    }
   ],
   "source": [
    "df_test.set_index('Name').head(2) # Set index to country column   "
   ]
  },
  {
   "cell_type": "code",
   "execution_count": 818,
   "id": "b5ec0d5a",
   "metadata": {},
   "outputs": [
    {
     "data": {
      "text/plain": [
       "Age      25.0\n",
       "Score    85.5\n",
       "Name: Alice, dtype: float64"
      ]
     },
     "execution_count": 818,
     "metadata": {},
     "output_type": "execute_result"
    }
   ],
   "source": [
    "df_test.set_index('Name').head(2).loc['Alice']"
   ]
  },
  {
   "cell_type": "code",
   "execution_count": 819,
   "id": "d866339d",
   "metadata": {},
   "outputs": [
    {
     "data": {
      "text/plain": [
       "Age      25.0\n",
       "Score    85.5\n",
       "Name: Alice, dtype: float64"
      ]
     },
     "execution_count": 819,
     "metadata": {},
     "output_type": "execute_result"
    }
   ],
   "source": [
    "df_test.set_index('Name').head(2).iloc[0] # Get first row by position"
   ]
  },
  {
   "cell_type": "code",
   "execution_count": 820,
   "id": "736eee10",
   "metadata": {},
   "outputs": [
    {
     "data": {
      "text/html": [
       "<div>\n",
       "<style scoped>\n",
       "    .dataframe tbody tr th:only-of-type {\n",
       "        vertical-align: middle;\n",
       "    }\n",
       "\n",
       "    .dataframe tbody tr th {\n",
       "        vertical-align: top;\n",
       "    }\n",
       "\n",
       "    .dataframe thead th {\n",
       "        text-align: right;\n",
       "    }\n",
       "</style>\n",
       "<table border=\"1\" class=\"dataframe\">\n",
       "  <thead>\n",
       "    <tr style=\"text-align: right;\">\n",
       "      <th></th>\n",
       "      <th>Name</th>\n",
       "      <th>Age</th>\n",
       "      <th>Score</th>\n",
       "    </tr>\n",
       "  </thead>\n",
       "  <tbody>\n",
       "    <tr>\n",
       "      <th>A</th>\n",
       "      <td>Alice</td>\n",
       "      <td>25</td>\n",
       "      <td>85.5</td>\n",
       "    </tr>\n",
       "    <tr>\n",
       "      <th>B</th>\n",
       "      <td>Bob</td>\n",
       "      <td>30</td>\n",
       "      <td>190.0</td>\n",
       "    </tr>\n",
       "    <tr>\n",
       "      <th>C</th>\n",
       "      <td>Charlie</td>\n",
       "      <td>22</td>\n",
       "      <td>95.5</td>\n",
       "    </tr>\n",
       "    <tr>\n",
       "      <th>D</th>\n",
       "      <td>Charlie</td>\n",
       "      <td>22</td>\n",
       "      <td>95.5</td>\n",
       "    </tr>\n",
       "  </tbody>\n",
       "</table>\n",
       "</div>"
      ],
      "text/plain": [
       "      Name  Age  Score\n",
       "A    Alice   25   85.5\n",
       "B      Bob   30  190.0\n",
       "C  Charlie   22   95.5\n",
       "D  Charlie   22   95.5"
      ]
     },
     "execution_count": 820,
     "metadata": {},
     "output_type": "execute_result"
    }
   ],
   "source": [
    "df_test"
   ]
  },
  {
   "cell_type": "markdown",
   "id": "c0ab8b28",
   "metadata": {},
   "source": [
    "## check and remove duplicates"
   ]
  },
  {
   "cell_type": "code",
   "execution_count": 821,
   "id": "65ab39e0",
   "metadata": {},
   "outputs": [
    {
     "data": {
      "text/plain": [
       "A    False\n",
       "B    False\n",
       "C    False\n",
       "D     True\n",
       "dtype: bool"
      ]
     },
     "execution_count": 821,
     "metadata": {},
     "output_type": "execute_result"
    }
   ],
   "source": [
    "df_test.duplicated()"
   ]
  },
  {
   "cell_type": "code",
   "execution_count": 822,
   "id": "3619ee07",
   "metadata": {},
   "outputs": [
    {
     "data": {
      "text/html": [
       "<div>\n",
       "<style scoped>\n",
       "    .dataframe tbody tr th:only-of-type {\n",
       "        vertical-align: middle;\n",
       "    }\n",
       "\n",
       "    .dataframe tbody tr th {\n",
       "        vertical-align: top;\n",
       "    }\n",
       "\n",
       "    .dataframe thead th {\n",
       "        text-align: right;\n",
       "    }\n",
       "</style>\n",
       "<table border=\"1\" class=\"dataframe\">\n",
       "  <thead>\n",
       "    <tr style=\"text-align: right;\">\n",
       "      <th></th>\n",
       "      <th>Name</th>\n",
       "      <th>Age</th>\n",
       "      <th>Score</th>\n",
       "    </tr>\n",
       "  </thead>\n",
       "  <tbody>\n",
       "    <tr>\n",
       "      <th>D</th>\n",
       "      <td>Charlie</td>\n",
       "      <td>22</td>\n",
       "      <td>95.5</td>\n",
       "    </tr>\n",
       "  </tbody>\n",
       "</table>\n",
       "</div>"
      ],
      "text/plain": [
       "      Name  Age  Score\n",
       "D  Charlie   22   95.5"
      ]
     },
     "execution_count": 822,
     "metadata": {},
     "output_type": "execute_result"
    }
   ],
   "source": [
    "df_test[df_test.duplicated()]"
   ]
  },
  {
   "cell_type": "code",
   "execution_count": 823,
   "id": "b5648b3e",
   "metadata": {},
   "outputs": [
    {
     "data": {
      "text/html": [
       "<div>\n",
       "<style scoped>\n",
       "    .dataframe tbody tr th:only-of-type {\n",
       "        vertical-align: middle;\n",
       "    }\n",
       "\n",
       "    .dataframe tbody tr th {\n",
       "        vertical-align: top;\n",
       "    }\n",
       "\n",
       "    .dataframe thead th {\n",
       "        text-align: right;\n",
       "    }\n",
       "</style>\n",
       "<table border=\"1\" class=\"dataframe\">\n",
       "  <thead>\n",
       "    <tr style=\"text-align: right;\">\n",
       "      <th></th>\n",
       "      <th>Name</th>\n",
       "      <th>Age</th>\n",
       "      <th>Score</th>\n",
       "    </tr>\n",
       "  </thead>\n",
       "  <tbody>\n",
       "    <tr>\n",
       "      <th>A</th>\n",
       "      <td>Alice</td>\n",
       "      <td>25</td>\n",
       "      <td>85.5</td>\n",
       "    </tr>\n",
       "    <tr>\n",
       "      <th>B</th>\n",
       "      <td>Bob</td>\n",
       "      <td>30</td>\n",
       "      <td>190.0</td>\n",
       "    </tr>\n",
       "    <tr>\n",
       "      <th>C</th>\n",
       "      <td>Charlie</td>\n",
       "      <td>22</td>\n",
       "      <td>95.5</td>\n",
       "    </tr>\n",
       "  </tbody>\n",
       "</table>\n",
       "</div>"
      ],
      "text/plain": [
       "      Name  Age  Score\n",
       "A    Alice   25   85.5\n",
       "B      Bob   30  190.0\n",
       "C  Charlie   22   95.5"
      ]
     },
     "execution_count": 823,
     "metadata": {},
     "output_type": "execute_result"
    }
   ],
   "source": [
    "df_test.drop_duplicates()"
   ]
  },
  {
   "cell_type": "code",
   "execution_count": 824,
   "id": "a18e16f9",
   "metadata": {},
   "outputs": [
    {
     "data": {
      "text/html": [
       "<div>\n",
       "<style scoped>\n",
       "    .dataframe tbody tr th:only-of-type {\n",
       "        vertical-align: middle;\n",
       "    }\n",
       "\n",
       "    .dataframe tbody tr th {\n",
       "        vertical-align: top;\n",
       "    }\n",
       "\n",
       "    .dataframe thead th {\n",
       "        text-align: right;\n",
       "    }\n",
       "</style>\n",
       "<table border=\"1\" class=\"dataframe\">\n",
       "  <thead>\n",
       "    <tr style=\"text-align: right;\">\n",
       "      <th></th>\n",
       "      <th>Name</th>\n",
       "      <th>Age</th>\n",
       "      <th>Score</th>\n",
       "    </tr>\n",
       "  </thead>\n",
       "  <tbody>\n",
       "    <tr>\n",
       "      <th>A</th>\n",
       "      <td>Alice</td>\n",
       "      <td>25</td>\n",
       "      <td>85.5</td>\n",
       "    </tr>\n",
       "    <tr>\n",
       "      <th>B</th>\n",
       "      <td>Bob</td>\n",
       "      <td>30</td>\n",
       "      <td>190.0</td>\n",
       "    </tr>\n",
       "    <tr>\n",
       "      <th>D</th>\n",
       "      <td>Charlie</td>\n",
       "      <td>22</td>\n",
       "      <td>95.5</td>\n",
       "    </tr>\n",
       "  </tbody>\n",
       "</table>\n",
       "</div>"
      ],
      "text/plain": [
       "      Name  Age  Score\n",
       "A    Alice   25   85.5\n",
       "B      Bob   30  190.0\n",
       "D  Charlie   22   95.5"
      ]
     },
     "execution_count": 824,
     "metadata": {},
     "output_type": "execute_result"
    }
   ],
   "source": [
    "#### But how can we decide among all duplicate rows which ones we want to keep ?\n",
    "\n",
    "#Here we can use argument **keep**: \n",
    "\n",
    "#This Controls how to consider duplicate value. \n",
    "\n",
    "#It has only three distinct value \n",
    "#- `first`\n",
    "#- `last`\n",
    "#- `False`\n",
    "\n",
    "#The default is ‘first’. \n",
    "\n",
    "#If `first`, this considers first value as unique and rest of the same values as duplicate.\n",
    "\n",
    "df_test.drop_duplicates(keep='last')"
   ]
  },
  {
   "cell_type": "code",
   "execution_count": 825,
   "id": "c65dfb36",
   "metadata": {},
   "outputs": [
    {
     "data": {
      "text/html": [
       "<div>\n",
       "<style scoped>\n",
       "    .dataframe tbody tr th:only-of-type {\n",
       "        vertical-align: middle;\n",
       "    }\n",
       "\n",
       "    .dataframe tbody tr th {\n",
       "        vertical-align: top;\n",
       "    }\n",
       "\n",
       "    .dataframe thead th {\n",
       "        text-align: right;\n",
       "    }\n",
       "</style>\n",
       "<table border=\"1\" class=\"dataframe\">\n",
       "  <thead>\n",
       "    <tr style=\"text-align: right;\">\n",
       "      <th></th>\n",
       "      <th>Name</th>\n",
       "      <th>Age</th>\n",
       "      <th>Score</th>\n",
       "    </tr>\n",
       "  </thead>\n",
       "  <tbody>\n",
       "    <tr>\n",
       "      <th>A</th>\n",
       "      <td>Alice</td>\n",
       "      <td>25</td>\n",
       "      <td>85.5</td>\n",
       "    </tr>\n",
       "    <tr>\n",
       "      <th>B</th>\n",
       "      <td>Bob</td>\n",
       "      <td>30</td>\n",
       "      <td>190.0</td>\n",
       "    </tr>\n",
       "    <tr>\n",
       "      <th>C</th>\n",
       "      <td>Charlie</td>\n",
       "      <td>22</td>\n",
       "      <td>95.5</td>\n",
       "    </tr>\n",
       "  </tbody>\n",
       "</table>\n",
       "</div>"
      ],
      "text/plain": [
       "      Name  Age  Score\n",
       "A    Alice   25   85.5\n",
       "B      Bob   30  190.0\n",
       "C  Charlie   22   95.5"
      ]
     },
     "execution_count": 825,
     "metadata": {},
     "output_type": "execute_result"
    }
   ],
   "source": [
    "df_test.drop_duplicates(keep='first')"
   ]
  },
  {
   "cell_type": "code",
   "execution_count": 826,
   "id": "309918bf",
   "metadata": {},
   "outputs": [
    {
     "data": {
      "text/html": [
       "<div>\n",
       "<style scoped>\n",
       "    .dataframe tbody tr th:only-of-type {\n",
       "        vertical-align: middle;\n",
       "    }\n",
       "\n",
       "    .dataframe tbody tr th {\n",
       "        vertical-align: top;\n",
       "    }\n",
       "\n",
       "    .dataframe thead th {\n",
       "        text-align: right;\n",
       "    }\n",
       "</style>\n",
       "<table border=\"1\" class=\"dataframe\">\n",
       "  <thead>\n",
       "    <tr style=\"text-align: right;\">\n",
       "      <th></th>\n",
       "      <th>Name</th>\n",
       "      <th>Age</th>\n",
       "      <th>Score</th>\n",
       "    </tr>\n",
       "  </thead>\n",
       "  <tbody>\n",
       "    <tr>\n",
       "      <th>A</th>\n",
       "      <td>Alice</td>\n",
       "      <td>25</td>\n",
       "      <td>85.5</td>\n",
       "    </tr>\n",
       "    <tr>\n",
       "      <th>B</th>\n",
       "      <td>Bob</td>\n",
       "      <td>30</td>\n",
       "      <td>190.0</td>\n",
       "    </tr>\n",
       "    <tr>\n",
       "      <th>C</th>\n",
       "      <td>Charlie</td>\n",
       "      <td>22</td>\n",
       "      <td>95.5</td>\n",
       "    </tr>\n",
       "  </tbody>\n",
       "</table>\n",
       "</div>"
      ],
      "text/plain": [
       "      Name  Age  Score\n",
       "A    Alice   25   85.5\n",
       "B      Bob   30  190.0\n",
       "C  Charlie   22   95.5"
      ]
     },
     "execution_count": 826,
     "metadata": {},
     "output_type": "execute_result"
    }
   ],
   "source": [
    "df_test.drop_duplicates(subset=['Name'],keep='first')"
   ]
  },
  {
   "cell_type": "markdown",
   "id": "9969a303",
   "metadata": {},
   "source": [
    "## Sorting"
   ]
  },
  {
   "cell_type": "code",
   "execution_count": 827,
   "id": "7b2a03fc",
   "metadata": {},
   "outputs": [
    {
     "data": {
      "text/html": [
       "<div>\n",
       "<style scoped>\n",
       "    .dataframe tbody tr th:only-of-type {\n",
       "        vertical-align: middle;\n",
       "    }\n",
       "\n",
       "    .dataframe tbody tr th {\n",
       "        vertical-align: top;\n",
       "    }\n",
       "\n",
       "    .dataframe thead th {\n",
       "        text-align: right;\n",
       "    }\n",
       "</style>\n",
       "<table border=\"1\" class=\"dataframe\">\n",
       "  <thead>\n",
       "    <tr style=\"text-align: right;\">\n",
       "      <th></th>\n",
       "      <th>Name</th>\n",
       "      <th>Age</th>\n",
       "      <th>Score</th>\n",
       "    </tr>\n",
       "  </thead>\n",
       "  <tbody>\n",
       "    <tr>\n",
       "      <th>C</th>\n",
       "      <td>Charlie</td>\n",
       "      <td>22</td>\n",
       "      <td>95.5</td>\n",
       "    </tr>\n",
       "    <tr>\n",
       "      <th>D</th>\n",
       "      <td>Charlie</td>\n",
       "      <td>22</td>\n",
       "      <td>95.5</td>\n",
       "    </tr>\n",
       "    <tr>\n",
       "      <th>A</th>\n",
       "      <td>Alice</td>\n",
       "      <td>25</td>\n",
       "      <td>85.5</td>\n",
       "    </tr>\n",
       "    <tr>\n",
       "      <th>B</th>\n",
       "      <td>Bob</td>\n",
       "      <td>30</td>\n",
       "      <td>190.0</td>\n",
       "    </tr>\n",
       "  </tbody>\n",
       "</table>\n",
       "</div>"
      ],
      "text/plain": [
       "      Name  Age  Score\n",
       "C  Charlie   22   95.5\n",
       "D  Charlie   22   95.5\n",
       "A    Alice   25   85.5\n",
       "B      Bob   30  190.0"
      ]
     },
     "execution_count": 827,
     "metadata": {},
     "output_type": "execute_result"
    }
   ],
   "source": [
    "df_test.sort_values(['Age'])"
   ]
  },
  {
   "cell_type": "code",
   "execution_count": 828,
   "id": "17811e71",
   "metadata": {},
   "outputs": [
    {
     "data": {
      "text/html": [
       "<div>\n",
       "<style scoped>\n",
       "    .dataframe tbody tr th:only-of-type {\n",
       "        vertical-align: middle;\n",
       "    }\n",
       "\n",
       "    .dataframe tbody tr th {\n",
       "        vertical-align: top;\n",
       "    }\n",
       "\n",
       "    .dataframe thead th {\n",
       "        text-align: right;\n",
       "    }\n",
       "</style>\n",
       "<table border=\"1\" class=\"dataframe\">\n",
       "  <thead>\n",
       "    <tr style=\"text-align: right;\">\n",
       "      <th></th>\n",
       "      <th>Name</th>\n",
       "      <th>Age</th>\n",
       "      <th>Score</th>\n",
       "    </tr>\n",
       "  </thead>\n",
       "  <tbody>\n",
       "    <tr>\n",
       "      <th>C</th>\n",
       "      <td>Charlie</td>\n",
       "      <td>22</td>\n",
       "      <td>95.5</td>\n",
       "    </tr>\n",
       "    <tr>\n",
       "      <th>D</th>\n",
       "      <td>Charlie</td>\n",
       "      <td>22</td>\n",
       "      <td>95.5</td>\n",
       "    </tr>\n",
       "    <tr>\n",
       "      <th>A</th>\n",
       "      <td>Alice</td>\n",
       "      <td>25</td>\n",
       "      <td>85.5</td>\n",
       "    </tr>\n",
       "    <tr>\n",
       "      <th>B</th>\n",
       "      <td>Bob</td>\n",
       "      <td>30</td>\n",
       "      <td>190.0</td>\n",
       "    </tr>\n",
       "  </tbody>\n",
       "</table>\n",
       "</div>"
      ],
      "text/plain": [
       "      Name  Age  Score\n",
       "C  Charlie   22   95.5\n",
       "D  Charlie   22   95.5\n",
       "A    Alice   25   85.5\n",
       "B      Bob   30  190.0"
      ]
     },
     "execution_count": 828,
     "metadata": {},
     "output_type": "execute_result"
    }
   ],
   "source": [
    "df_test.sort_values(['Age', 'Score'], ascending=[True, False])"
   ]
  },
  {
   "cell_type": "markdown",
   "id": "4445e8b7",
   "metadata": {},
   "source": [
    "## Merging DataFrames\n"
   ]
  },
  {
   "cell_type": "code",
   "execution_count": 829,
   "id": "8dcfd327",
   "metadata": {},
   "outputs": [
    {
     "data": {
      "text/html": [
       "<div>\n",
       "<style scoped>\n",
       "    .dataframe tbody tr th:only-of-type {\n",
       "        vertical-align: middle;\n",
       "    }\n",
       "\n",
       "    .dataframe tbody tr th {\n",
       "        vertical-align: top;\n",
       "    }\n",
       "\n",
       "    .dataframe thead th {\n",
       "        text-align: right;\n",
       "    }\n",
       "</style>\n",
       "<table border=\"1\" class=\"dataframe\">\n",
       "  <thead>\n",
       "    <tr style=\"text-align: right;\">\n",
       "      <th></th>\n",
       "      <th>userid</th>\n",
       "      <th>name</th>\n",
       "      <th>rollno</th>\n",
       "    </tr>\n",
       "  </thead>\n",
       "  <tbody>\n",
       "    <tr>\n",
       "      <th>0</th>\n",
       "      <td>1</td>\n",
       "      <td>sharadh</td>\n",
       "      <td>23</td>\n",
       "    </tr>\n",
       "    <tr>\n",
       "      <th>1</th>\n",
       "      <td>2</td>\n",
       "      <td>shahid</td>\n",
       "      <td>24</td>\n",
       "    </tr>\n",
       "    <tr>\n",
       "      <th>2</th>\n",
       "      <td>3</td>\n",
       "      <td>khusalli</td>\n",
       "      <td>25</td>\n",
       "    </tr>\n",
       "  </tbody>\n",
       "</table>\n",
       "</div>"
      ],
      "text/plain": [
       "   userid      name  rollno\n",
       "0       1   sharadh      23\n",
       "1       2    shahid      24\n",
       "2       3  khusalli      25"
      ]
     },
     "execution_count": 829,
     "metadata": {},
     "output_type": "execute_result"
    }
   ],
   "source": [
    "users = pd.DataFrame({\"userid\":[1, 2, 3], \"name\":[\"sharadh\", \"shahid\", \"khusalli\"], \"rollno\":[23, 24, 25]})\n",
    "users"
   ]
  },
  {
   "cell_type": "code",
   "execution_count": 830,
   "id": "94e8eb02",
   "metadata": {},
   "outputs": [
    {
     "data": {
      "text/html": [
       "<div>\n",
       "<style scoped>\n",
       "    .dataframe tbody tr th:only-of-type {\n",
       "        vertical-align: middle;\n",
       "    }\n",
       "\n",
       "    .dataframe tbody tr th {\n",
       "        vertical-align: top;\n",
       "    }\n",
       "\n",
       "    .dataframe thead th {\n",
       "        text-align: right;\n",
       "    }\n",
       "</style>\n",
       "<table border=\"1\" class=\"dataframe\">\n",
       "  <thead>\n",
       "    <tr style=\"text-align: right;\">\n",
       "      <th></th>\n",
       "      <th>userid</th>\n",
       "      <th>msg</th>\n",
       "      <th>rollno</th>\n",
       "    </tr>\n",
       "  </thead>\n",
       "  <tbody>\n",
       "    <tr>\n",
       "      <th>0</th>\n",
       "      <td>1</td>\n",
       "      <td>acha</td>\n",
       "      <td>23</td>\n",
       "    </tr>\n",
       "    <tr>\n",
       "      <th>1</th>\n",
       "      <td>2</td>\n",
       "      <td>theek hai</td>\n",
       "      <td>24</td>\n",
       "    </tr>\n",
       "    <tr>\n",
       "      <th>2</th>\n",
       "      <td>4</td>\n",
       "      <td>nice</td>\n",
       "      <td>125</td>\n",
       "    </tr>\n",
       "  </tbody>\n",
       "</table>\n",
       "</div>"
      ],
      "text/plain": [
       "   userid        msg  rollno\n",
       "0       1       acha      23\n",
       "1       2  theek hai      24\n",
       "2       4       nice     125"
      ]
     },
     "execution_count": 830,
     "metadata": {},
     "output_type": "execute_result"
    }
   ],
   "source": [
    "msgs = pd.DataFrame({\"userid\":[1, 2, 4], \"msg\":[\"acha\", \"theek hai\", \"nice\"],\"rollno\":[23, 24, 125]})\n",
    "msgs"
   ]
  },
  {
   "cell_type": "code",
   "execution_count": 831,
   "id": "1d133182",
   "metadata": {},
   "outputs": [
    {
     "data": {
      "text/html": [
       "<div>\n",
       "<style scoped>\n",
       "    .dataframe tbody tr th:only-of-type {\n",
       "        vertical-align: middle;\n",
       "    }\n",
       "\n",
       "    .dataframe tbody tr th {\n",
       "        vertical-align: top;\n",
       "    }\n",
       "\n",
       "    .dataframe thead th {\n",
       "        text-align: right;\n",
       "    }\n",
       "</style>\n",
       "<table border=\"1\" class=\"dataframe\">\n",
       "  <thead>\n",
       "    <tr style=\"text-align: right;\">\n",
       "      <th></th>\n",
       "      <th>userid</th>\n",
       "      <th>name</th>\n",
       "      <th>rollno_user</th>\n",
       "      <th>msg</th>\n",
       "      <th>rollno_msg</th>\n",
       "    </tr>\n",
       "  </thead>\n",
       "  <tbody>\n",
       "    <tr>\n",
       "      <th>0</th>\n",
       "      <td>1</td>\n",
       "      <td>sharadh</td>\n",
       "      <td>23</td>\n",
       "      <td>acha</td>\n",
       "      <td>23</td>\n",
       "    </tr>\n",
       "    <tr>\n",
       "      <th>1</th>\n",
       "      <td>2</td>\n",
       "      <td>shahid</td>\n",
       "      <td>24</td>\n",
       "      <td>theek hai</td>\n",
       "      <td>24</td>\n",
       "    </tr>\n",
       "  </tbody>\n",
       "</table>\n",
       "</div>"
      ],
      "text/plain": [
       "   userid     name  rollno_user        msg  rollno_msg\n",
       "0       1  sharadh           23       acha          23\n",
       "1       2   shahid           24  theek hai          24"
      ]
     },
     "execution_count": 831,
     "metadata": {},
     "output_type": "execute_result"
    }
   ],
   "source": [
    "pd.merge(users, msgs, left_on='userid',right_on='userid', how='inner',suffixes=('_user', '_msg'))"
   ]
  },
  {
   "cell_type": "code",
   "execution_count": 832,
   "id": "95f6dcfd",
   "metadata": {},
   "outputs": [
    {
     "data": {
      "text/html": [
       "<div>\n",
       "<style scoped>\n",
       "    .dataframe tbody tr th:only-of-type {\n",
       "        vertical-align: middle;\n",
       "    }\n",
       "\n",
       "    .dataframe tbody tr th {\n",
       "        vertical-align: top;\n",
       "    }\n",
       "\n",
       "    .dataframe thead th {\n",
       "        text-align: right;\n",
       "    }\n",
       "</style>\n",
       "<table border=\"1\" class=\"dataframe\">\n",
       "  <thead>\n",
       "    <tr style=\"text-align: right;\">\n",
       "      <th></th>\n",
       "      <th>userid</th>\n",
       "      <th>name</th>\n",
       "      <th>rollno_user</th>\n",
       "      <th>msg</th>\n",
       "      <th>rollno_msg</th>\n",
       "    </tr>\n",
       "  </thead>\n",
       "  <tbody>\n",
       "    <tr>\n",
       "      <th>0</th>\n",
       "      <td>1</td>\n",
       "      <td>sharadh</td>\n",
       "      <td>23</td>\n",
       "      <td>acha</td>\n",
       "      <td>23</td>\n",
       "    </tr>\n",
       "    <tr>\n",
       "      <th>1</th>\n",
       "      <td>2</td>\n",
       "      <td>shahid</td>\n",
       "      <td>24</td>\n",
       "      <td>theek hai</td>\n",
       "      <td>24</td>\n",
       "    </tr>\n",
       "  </tbody>\n",
       "</table>\n",
       "</div>"
      ],
      "text/plain": [
       "   userid     name  rollno_user        msg  rollno_msg\n",
       "0       1  sharadh           23       acha          23\n",
       "1       2   shahid           24  theek hai          24"
      ]
     },
     "execution_count": 832,
     "metadata": {},
     "output_type": "execute_result"
    }
   ],
   "source": [
    "merged_data_inner = pd.merge(users, msgs, on='userid', how='inner',suffixes=('_user', '_msg'))\n",
    "merged_data_inner"
   ]
  },
  {
   "cell_type": "code",
   "execution_count": 833,
   "id": "5966d0af",
   "metadata": {},
   "outputs": [
    {
     "data": {
      "text/html": [
       "<div>\n",
       "<style scoped>\n",
       "    .dataframe tbody tr th:only-of-type {\n",
       "        vertical-align: middle;\n",
       "    }\n",
       "\n",
       "    .dataframe tbody tr th {\n",
       "        vertical-align: top;\n",
       "    }\n",
       "\n",
       "    .dataframe thead th {\n",
       "        text-align: right;\n",
       "    }\n",
       "</style>\n",
       "<table border=\"1\" class=\"dataframe\">\n",
       "  <thead>\n",
       "    <tr style=\"text-align: right;\">\n",
       "      <th></th>\n",
       "      <th>userid</th>\n",
       "      <th>name</th>\n",
       "      <th>rollno_user</th>\n",
       "      <th>msg</th>\n",
       "      <th>rollno_msg</th>\n",
       "    </tr>\n",
       "  </thead>\n",
       "  <tbody>\n",
       "    <tr>\n",
       "      <th>0</th>\n",
       "      <td>1</td>\n",
       "      <td>sharadh</td>\n",
       "      <td>23</td>\n",
       "      <td>acha</td>\n",
       "      <td>23.0</td>\n",
       "    </tr>\n",
       "    <tr>\n",
       "      <th>1</th>\n",
       "      <td>2</td>\n",
       "      <td>shahid</td>\n",
       "      <td>24</td>\n",
       "      <td>theek hai</td>\n",
       "      <td>24.0</td>\n",
       "    </tr>\n",
       "    <tr>\n",
       "      <th>2</th>\n",
       "      <td>3</td>\n",
       "      <td>khusalli</td>\n",
       "      <td>25</td>\n",
       "      <td>NaN</td>\n",
       "      <td>NaN</td>\n",
       "    </tr>\n",
       "  </tbody>\n",
       "</table>\n",
       "</div>"
      ],
      "text/plain": [
       "   userid      name  rollno_user        msg  rollno_msg\n",
       "0       1   sharadh           23       acha        23.0\n",
       "1       2    shahid           24  theek hai        24.0\n",
       "2       3  khusalli           25        NaN         NaN"
      ]
     },
     "execution_count": 833,
     "metadata": {},
     "output_type": "execute_result"
    }
   ],
   "source": [
    "merged_data_left = pd.merge(users, msgs, on='userid', how='left',suffixes=('_user', '_msg'))\n",
    "merged_data_left"
   ]
  },
  {
   "cell_type": "code",
   "execution_count": 834,
   "id": "bbff1a78",
   "metadata": {},
   "outputs": [
    {
     "data": {
      "text/html": [
       "<div>\n",
       "<style scoped>\n",
       "    .dataframe tbody tr th:only-of-type {\n",
       "        vertical-align: middle;\n",
       "    }\n",
       "\n",
       "    .dataframe tbody tr th {\n",
       "        vertical-align: top;\n",
       "    }\n",
       "\n",
       "    .dataframe thead th {\n",
       "        text-align: right;\n",
       "    }\n",
       "</style>\n",
       "<table border=\"1\" class=\"dataframe\">\n",
       "  <thead>\n",
       "    <tr style=\"text-align: right;\">\n",
       "      <th></th>\n",
       "      <th>userid</th>\n",
       "      <th>name</th>\n",
       "      <th>rollno_user</th>\n",
       "      <th>msg</th>\n",
       "      <th>rollno_msg</th>\n",
       "    </tr>\n",
       "  </thead>\n",
       "  <tbody>\n",
       "    <tr>\n",
       "      <th>0</th>\n",
       "      <td>1</td>\n",
       "      <td>sharadh</td>\n",
       "      <td>23.0</td>\n",
       "      <td>acha</td>\n",
       "      <td>23</td>\n",
       "    </tr>\n",
       "    <tr>\n",
       "      <th>1</th>\n",
       "      <td>2</td>\n",
       "      <td>shahid</td>\n",
       "      <td>24.0</td>\n",
       "      <td>theek hai</td>\n",
       "      <td>24</td>\n",
       "    </tr>\n",
       "    <tr>\n",
       "      <th>2</th>\n",
       "      <td>4</td>\n",
       "      <td>NaN</td>\n",
       "      <td>NaN</td>\n",
       "      <td>nice</td>\n",
       "      <td>125</td>\n",
       "    </tr>\n",
       "  </tbody>\n",
       "</table>\n",
       "</div>"
      ],
      "text/plain": [
       "   userid     name  rollno_user        msg  rollno_msg\n",
       "0       1  sharadh         23.0       acha          23\n",
       "1       2   shahid         24.0  theek hai          24\n",
       "2       4      NaN          NaN       nice         125"
      ]
     },
     "execution_count": 834,
     "metadata": {},
     "output_type": "execute_result"
    }
   ],
   "source": [
    "merged_data_right = pd.merge(users, msgs, on='userid', how='right',suffixes=('_user', '_msg'))\n",
    "merged_data_right"
   ]
  },
  {
   "cell_type": "code",
   "execution_count": 835,
   "id": "8b2980e9",
   "metadata": {},
   "outputs": [
    {
     "data": {
      "text/html": [
       "<div>\n",
       "<style scoped>\n",
       "    .dataframe tbody tr th:only-of-type {\n",
       "        vertical-align: middle;\n",
       "    }\n",
       "\n",
       "    .dataframe tbody tr th {\n",
       "        vertical-align: top;\n",
       "    }\n",
       "\n",
       "    .dataframe thead th {\n",
       "        text-align: right;\n",
       "    }\n",
       "</style>\n",
       "<table border=\"1\" class=\"dataframe\">\n",
       "  <thead>\n",
       "    <tr style=\"text-align: right;\">\n",
       "      <th></th>\n",
       "      <th>userid</th>\n",
       "      <th>name</th>\n",
       "      <th>rollno_user</th>\n",
       "      <th>msg</th>\n",
       "      <th>rollno_msg</th>\n",
       "    </tr>\n",
       "  </thead>\n",
       "  <tbody>\n",
       "    <tr>\n",
       "      <th>0</th>\n",
       "      <td>1</td>\n",
       "      <td>sharadh</td>\n",
       "      <td>23.0</td>\n",
       "      <td>acha</td>\n",
       "      <td>23.0</td>\n",
       "    </tr>\n",
       "    <tr>\n",
       "      <th>1</th>\n",
       "      <td>2</td>\n",
       "      <td>shahid</td>\n",
       "      <td>24.0</td>\n",
       "      <td>theek hai</td>\n",
       "      <td>24.0</td>\n",
       "    </tr>\n",
       "    <tr>\n",
       "      <th>2</th>\n",
       "      <td>3</td>\n",
       "      <td>khusalli</td>\n",
       "      <td>25.0</td>\n",
       "      <td>NaN</td>\n",
       "      <td>NaN</td>\n",
       "    </tr>\n",
       "    <tr>\n",
       "      <th>3</th>\n",
       "      <td>4</td>\n",
       "      <td>NaN</td>\n",
       "      <td>NaN</td>\n",
       "      <td>nice</td>\n",
       "      <td>125.0</td>\n",
       "    </tr>\n",
       "  </tbody>\n",
       "</table>\n",
       "</div>"
      ],
      "text/plain": [
       "   userid      name  rollno_user        msg  rollno_msg\n",
       "0       1   sharadh         23.0       acha        23.0\n",
       "1       2    shahid         24.0  theek hai        24.0\n",
       "2       3  khusalli         25.0        NaN         NaN\n",
       "3       4       NaN          NaN       nice       125.0"
      ]
     },
     "execution_count": 835,
     "metadata": {},
     "output_type": "execute_result"
    }
   ],
   "source": [
    "merged_data_outer = pd.merge(users, msgs, on='userid', how='outer',suffixes=('_user', '_msg'))\n",
    "merged_data_outer"
   ]
  },
  {
   "cell_type": "code",
   "execution_count": 836,
   "id": "f7a8c36e",
   "metadata": {},
   "outputs": [
    {
     "data": {
      "text/html": [
       "<div>\n",
       "<style scoped>\n",
       "    .dataframe tbody tr th:only-of-type {\n",
       "        vertical-align: middle;\n",
       "    }\n",
       "\n",
       "    .dataframe tbody tr th {\n",
       "        vertical-align: top;\n",
       "    }\n",
       "\n",
       "    .dataframe thead th {\n",
       "        text-align: right;\n",
       "    }\n",
       "</style>\n",
       "<table border=\"1\" class=\"dataframe\">\n",
       "  <thead>\n",
       "    <tr style=\"text-align: right;\">\n",
       "      <th></th>\n",
       "      <th>userid</th>\n",
       "      <th>name</th>\n",
       "      <th>rollno</th>\n",
       "      <th>msg</th>\n",
       "    </tr>\n",
       "  </thead>\n",
       "  <tbody>\n",
       "    <tr>\n",
       "      <th>0</th>\n",
       "      <td>1</td>\n",
       "      <td>sharadh</td>\n",
       "      <td>23</td>\n",
       "      <td>NaN</td>\n",
       "    </tr>\n",
       "    <tr>\n",
       "      <th>1</th>\n",
       "      <td>2</td>\n",
       "      <td>shahid</td>\n",
       "      <td>24</td>\n",
       "      <td>NaN</td>\n",
       "    </tr>\n",
       "    <tr>\n",
       "      <th>2</th>\n",
       "      <td>3</td>\n",
       "      <td>khusalli</td>\n",
       "      <td>25</td>\n",
       "      <td>NaN</td>\n",
       "    </tr>\n",
       "    <tr>\n",
       "      <th>0</th>\n",
       "      <td>1</td>\n",
       "      <td>NaN</td>\n",
       "      <td>23</td>\n",
       "      <td>acha</td>\n",
       "    </tr>\n",
       "    <tr>\n",
       "      <th>1</th>\n",
       "      <td>2</td>\n",
       "      <td>NaN</td>\n",
       "      <td>24</td>\n",
       "      <td>theek hai</td>\n",
       "    </tr>\n",
       "    <tr>\n",
       "      <th>2</th>\n",
       "      <td>4</td>\n",
       "      <td>NaN</td>\n",
       "      <td>125</td>\n",
       "      <td>nice</td>\n",
       "    </tr>\n",
       "  </tbody>\n",
       "</table>\n",
       "</div>"
      ],
      "text/plain": [
       "   userid      name  rollno        msg\n",
       "0       1   sharadh      23        NaN\n",
       "1       2    shahid      24        NaN\n",
       "2       3  khusalli      25        NaN\n",
       "0       1       NaN      23       acha\n",
       "1       2       NaN      24  theek hai\n",
       "2       4       NaN     125       nice"
      ]
     },
     "execution_count": 836,
     "metadata": {},
     "output_type": "execute_result"
    }
   ],
   "source": [
    "pd.concat([users, msgs])"
   ]
  },
  {
   "cell_type": "code",
   "execution_count": 837,
   "id": "10ff6f0c",
   "metadata": {},
   "outputs": [
    {
     "data": {
      "text/html": [
       "<div>\n",
       "<style scoped>\n",
       "    .dataframe tbody tr th:only-of-type {\n",
       "        vertical-align: middle;\n",
       "    }\n",
       "\n",
       "    .dataframe tbody tr th {\n",
       "        vertical-align: top;\n",
       "    }\n",
       "\n",
       "    .dataframe thead th {\n",
       "        text-align: right;\n",
       "    }\n",
       "</style>\n",
       "<table border=\"1\" class=\"dataframe\">\n",
       "  <thead>\n",
       "    <tr style=\"text-align: right;\">\n",
       "      <th></th>\n",
       "      <th>userid</th>\n",
       "      <th>name</th>\n",
       "      <th>rollno</th>\n",
       "      <th>msg</th>\n",
       "    </tr>\n",
       "  </thead>\n",
       "  <tbody>\n",
       "    <tr>\n",
       "      <th>0</th>\n",
       "      <td>1</td>\n",
       "      <td>sharadh</td>\n",
       "      <td>23</td>\n",
       "      <td>NaN</td>\n",
       "    </tr>\n",
       "    <tr>\n",
       "      <th>1</th>\n",
       "      <td>2</td>\n",
       "      <td>shahid</td>\n",
       "      <td>24</td>\n",
       "      <td>NaN</td>\n",
       "    </tr>\n",
       "    <tr>\n",
       "      <th>2</th>\n",
       "      <td>3</td>\n",
       "      <td>khusalli</td>\n",
       "      <td>25</td>\n",
       "      <td>NaN</td>\n",
       "    </tr>\n",
       "    <tr>\n",
       "      <th>3</th>\n",
       "      <td>1</td>\n",
       "      <td>NaN</td>\n",
       "      <td>23</td>\n",
       "      <td>acha</td>\n",
       "    </tr>\n",
       "    <tr>\n",
       "      <th>4</th>\n",
       "      <td>2</td>\n",
       "      <td>NaN</td>\n",
       "      <td>24</td>\n",
       "      <td>theek hai</td>\n",
       "    </tr>\n",
       "    <tr>\n",
       "      <th>5</th>\n",
       "      <td>4</td>\n",
       "      <td>NaN</td>\n",
       "      <td>125</td>\n",
       "      <td>nice</td>\n",
       "    </tr>\n",
       "  </tbody>\n",
       "</table>\n",
       "</div>"
      ],
      "text/plain": [
       "   userid      name  rollno        msg\n",
       "0       1   sharadh      23        NaN\n",
       "1       2    shahid      24        NaN\n",
       "2       3  khusalli      25        NaN\n",
       "3       1       NaN      23       acha\n",
       "4       2       NaN      24  theek hai\n",
       "5       4       NaN     125       nice"
      ]
     },
     "execution_count": 837,
     "metadata": {},
     "output_type": "execute_result"
    }
   ],
   "source": [
    "pd.concat([users, msgs], ignore_index = True)"
   ]
  },
  {
   "cell_type": "code",
   "execution_count": 838,
   "id": "39014a6e",
   "metadata": {},
   "outputs": [
    {
     "data": {
      "text/plain": [
       "0     True\n",
       "1     True\n",
       "2    False\n",
       "Name: rollno, dtype: bool"
      ]
     },
     "execution_count": 838,
     "metadata": {},
     "output_type": "execute_result"
    }
   ],
   "source": [
    "users['rollno'].isin(msgs['rollno'])"
   ]
  },
  {
   "cell_type": "code",
   "execution_count": 839,
   "id": "b0870317",
   "metadata": {},
   "outputs": [
    {
     "data": {
      "text/plain": [
       "False"
      ]
     },
     "execution_count": 839,
     "metadata": {},
     "output_type": "execute_result"
    }
   ],
   "source": [
    "np.all(users['rollno'].isin(msgs['rollno']))"
   ]
  },
  {
   "cell_type": "code",
   "execution_count": 840,
   "id": "82ab72aa",
   "metadata": {},
   "outputs": [
    {
     "data": {
      "text/plain": [
       "True"
      ]
     },
     "execution_count": 840,
     "metadata": {},
     "output_type": "execute_result"
    }
   ],
   "source": [
    "np.any(users['rollno'].isin(msgs['rollno']))"
   ]
  },
  {
   "cell_type": "markdown",
   "id": "4302b1fb",
   "metadata": {},
   "source": [
    "\n",
    "- **Grouping**\n",
    "    - Split, Apply, Combine\n",
    "    - `groupby()`\n",
    "- **Group based Aggregates**\n",
    "\n",
    "- **Group based Filtering**\n",
    "\n"
   ]
  },
  {
   "cell_type": "markdown",
   "id": "089d1787",
   "metadata": {},
   "source": [
    "#### How can you find the average popularity of each director?\n",
    "\n",
    "We will have to some group our rows director wise.\n",
    "\n",
    "\n",
    "#### What is Grouping ?\n",
    "\n",
    "Simply it could be understood through the terms - Split, apply, combine\n",
    "\n",
    "<img src=\"https://learning.oreilly.com/api/v2/epubs/urn:orm:book:9781491912126/files/assets/pyds_03in01.png\" height = 350/>\n",
    "\n",
    "1. **Split**: **Breaking up and grouping** a DataFrame depending on the value of the specified key.\n",
    "\n",
    "2. **Apply**: Computing **some functio**n, usually an **aggregate, transformation, or filtering**, within the individual groups.\n",
    "\n",
    "3. **Combine**: **Merge the results** of these operations into an output array.\n"
   ]
  },
  {
   "cell_type": "code",
   "execution_count": 841,
   "id": "68d4412a",
   "metadata": {},
   "outputs": [
    {
     "data": {
      "text/plain": [
       "142"
      ]
     },
     "execution_count": 841,
     "metadata": {},
     "output_type": "execute_result"
    }
   ],
   "source": [
    "#country\tyear\tpopulation\tcontinent\tlife_exp\tgdp_cap\t\n",
    "df.groupby('country').ngroups"
   ]
  },
  {
   "cell_type": "code",
   "execution_count": 842,
   "id": "ed0c0d3f",
   "metadata": {},
   "outputs": [
    {
     "data": {
      "text/plain": [
       "{'Afghanistan': [0, 1, 2, 3, 4, 5, 6, 7, 8, 9, 10, 11], 'Albania': [12, 13, 14, 15, 16, 17, 18, 19, 20, 21, 22, 23], 'Algeria': [24, 25, 26, 27, 28, 29, 30, 31, 32, 33, 34, 35], 'Angola': [36, 37, 38, 39, 40, 41, 42, 43, 44, 45, 46, 47], 'Argentina': [48, 49, 50, 51, 52, 53, 54, 55, 56, 57, 58, 59], 'Australia': [60, 61, 62, 63, 64, 65, 66, 67, 68, 69, 70, 71], 'Austria': [72, 73, 74, 75, 76, 77, 78, 79, 80, 81, 82, 83], 'Bahrain': [84, 85, 86, 87, 88, 89, 90, 91, 92, 93, 94, 95], 'Bangladesh': [96, 97, 98, 99, 100, 101, 102, 103, 104, 105, 106, 107], 'Belgium': [108, 109, 110, 111, 112, 113, 114, 115, 116, 117, 118, 119], 'Benin': [120, 121, 122, 123, 124, 125, 126, 127, 128, 129, 130, 131], 'Bolivia': [132, 133, 134, 135, 136, 137, 138, 139, 140, 141, 142, 143], 'Bosnia and Herzegovina': [144, 145, 146, 147, 148, 149, 150, 151, 152, 153, 154, 155], 'Botswana': [156, 157, 158, 159, 160, 161, 162, 163, 164, 165, 166, 167], 'Brazil': [168, 169, 170, 171, 172, 173, 174, 175, 176, 177, 178, 179], 'Bulgaria': [180, 181, 182, 183, 184, 185, 186, 187, 188, 189, 190, 191], 'Burkina Faso': [192, 193, 194, 195, 196, 197, 198, 199, 200, 201, 202, 203], 'Burundi': [204, 205, 206, 207, 208, 209, 210, 211, 212, 213, 214, 215], 'Cambodia': [216, 217, 218, 219, 220, 221, 222, 223, 224, 225, 226, 227], 'Cameroon': [228, 229, 230, 231, 232, 233, 234, 235, 236, 237, 238, 239], 'Canada': [240, 241, 242, 243, 244, 245, 246, 247, 248, 249, 250, 251], 'Central African Republic': [252, 253, 254, 255, 256, 257, 258, 259, 260, 261, 262, 263], 'Chad': [264, 265, 266, 267, 268, 269, 270, 271, 272, 273, 274, 275], 'Chile': [276, 277, 278, 279, 280, 281, 282, 283, 284, 285, 286, 287], 'China': [288, 289, 290, 291, 292, 293, 294, 295, 296, 297, 298, 299], 'Colombia': [300, 301, 302, 303, 304, 305, 306, 307, 308, 309, 310, 311], 'Comoros': [312, 313, 314, 315, 316, 317, 318, 319, 320, 321, 322, 323], 'Congo, Dem. Rep.': [324, 325, 326, 327, 328, 329, 330, 331, 332, 333, 334, 335], 'Congo, Rep.': [336, 337, 338, 339, 340, 341, 342, 343, 344, 345, 346, 347], 'Costa Rica': [348, 349, 350, 351, 352, 353, 354, 355, 356, 357, 358, 359], 'Cote d'Ivoire': [360, 361, 362, 363, 364, 365, 366, 367, 368, 369, 370, 371], 'Croatia': [372, 373, 374, 375, 376, 377, 378, 379, 380, 381, 382, 383], 'Cuba': [384, 385, 386, 387, 388, 389, 390, 391, 392, 393, 394, 395], 'Czech Republic': [396, 397, 398, 399, 400, 401, 402, 403, 404, 405, 406, 407], 'Denmark': [408, 409, 410, 411, 412, 413, 414, 415, 416, 417, 418, 419], 'Djibouti': [420, 421, 422, 423, 424, 425, 426, 427, 428, 429, 430, 431], 'Dominican Republic': [432, 433, 434, 435, 436, 437, 438, 439, 440, 441, 442, 443], 'Ecuador': [444, 445, 446, 447, 448, 449, 450, 451, 452, 453, 454, 455], 'Egypt': [456, 457, 458, 459, 460, 461, 462, 463, 464, 465, 466, 467], 'El Salvador': [468, 469, 470, 471, 472, 473, 474, 475, 476, 477, 478, 479], 'Equatorial Guinea': [480, 481, 482, 483, 484, 485, 486, 487, 488, 489, 490, 491], 'Eritrea': [492, 493, 494, 495, 496, 497, 498, 499, 500, 501, 502, 503], 'Ethiopia': [504, 505, 506, 507, 508, 509, 510, 511, 512, 513, 514, 515], 'Finland': [516, 517, 518, 519, 520, 521, 522, 523, 524, 525, 526, 527], 'France': [528, 529, 530, 531, 532, 533, 534, 535, 536, 537, 538, 539], 'Gabon': [540, 541, 542, 543, 544, 545, 546, 547, 548, 549, 550, 551], 'Gambia': [552, 553, 554, 555, 556, 557, 558, 559, 560, 561, 562, 563], 'Germany': [564, 565, 566, 567, 568, 569, 570, 571, 572, 573, 574, 575], 'Ghana': [576, 577, 578, 579, 580, 581, 582, 583, 584, 585, 586, 587], 'Greece': [588, 589, 590, 591, 592, 593, 594, 595, 596, 597, 598, 599], 'Guatemala': [600, 601, 602, 603, 604, 605, 606, 607, 608, 609, 610, 611], 'Guinea': [612, 613, 614, 615, 616, 617, 618, 619, 620, 621, 622, 623], 'Guinea-Bissau': [624, 625, 626, 627, 628, 629, 630, 631, 632, 633, 634, 635], 'Haiti': [636, 637, 638, 639, 640, 641, 642, 643, 644, 645, 646, 647], 'Honduras': [648, 649, 650, 651, 652, 653, 654, 655, 656, 657, 658, 659], 'Hong Kong, China': [660, 661, 662, 663, 664, 665, 666, 667, 668, 669, 670, 671], 'Hungary': [672, 673, 674, 675, 676, 677, 678, 679, 680, 681, 682, 683], 'Iceland': [684, 685, 686, 687, 688, 689, 690, 691, 692, 693, 694, 695], 'India': [696, 697, 698, 699, 700, 701, 702, 703, 704, 705, 706, 707], 'Indonesia': [708, 709, 710, 711, 712, 713, 714, 715, 716, 717, 718, 719], 'Iran': [720, 721, 722, 723, 724, 725, 726, 727, 728, 729, 730, 731], 'Iraq': [732, 733, 734, 735, 736, 737, 738, 739, 740, 741, 742, 743], 'Ireland': [744, 745, 746, 747, 748, 749, 750, 751, 752, 753, 754, 755], 'Israel': [756, 757, 758, 759, 760, 761, 762, 763, 764, 765, 766, 767], 'Italy': [768, 769, 770, 771, 772, 773, 774, 775, 776, 777, 778, 779], 'Jamaica': [780, 781, 782, 783, 784, 785, 786, 787, 788, 789, 790, 791], 'Japan': [792, 793, 794, 795, 796, 797, 798, 799, 800, 801, 802, 803], 'Jordan': [804, 805, 806, 807, 808, 809, 810, 811, 812, 813, 814, 815], 'Kenya': [816, 817, 818, 819, 820, 821, 822, 823, 824, 825, 826, 827], 'Korea, Dem. Rep.': [828, 829, 830, 831, 832, 833, 834, 835, 836, 837, 838, 839], 'Korea, Rep.': [840, 841, 842, 843, 844, 845, 846, 847, 848, 849, 850, 851], 'Kuwait': [852, 853, 854, 855, 856, 857, 858, 859, 860, 861, 862, 863], 'Lebanon': [864, 865, 866, 867, 868, 869, 870, 871, 872, 873, 874, 875], 'Lesotho': [876, 877, 878, 879, 880, 881, 882, 883, 884, 885, 886, 887], 'Liberia': [888, 889, 890, 891, 892, 893, 894, 895, 896, 897, 898, 899], 'Libya': [900, 901, 902, 903, 904, 905, 906, 907, 908, 909, 910, 911], 'Madagascar': [912, 913, 914, 915, 916, 917, 918, 919, 920, 921, 922, 923], 'Malawi': [924, 925, 926, 927, 928, 929, 930, 931, 932, 933, 934, 935], 'Malaysia': [936, 937, 938, 939, 940, 941, 942, 943, 944, 945, 946, 947], 'Mali': [948, 949, 950, 951, 952, 953, 954, 955, 956, 957, 958, 959], 'Mauritania': [960, 961, 962, 963, 964, 965, 966, 967, 968, 969, 970, 971], 'Mauritius': [972, 973, 974, 975, 976, 977, 978, 979, 980, 981, 982, 983], 'Mexico': [984, 985, 986, 987, 988, 989, 990, 991, 992, 993, 994, 995], 'Mongolia': [996, 997, 998, 999, 1000, 1001, 1002, 1003, 1004, 1005, 1006, 1007], 'Montenegro': [1008, 1009, 1010, 1011, 1012, 1013, 1014, 1015, 1016, 1017, 1018, 1019], 'Morocco': [1020, 1021, 1022, 1023, 1024, 1025, 1026, 1027, 1028, 1029, 1030, 1031], 'Mozambique': [1032, 1033, 1034, 1035, 1036, 1037, 1038, 1039, 1040, 1041, 1042, 1043], 'Myanmar': [1044, 1045, 1046, 1047, 1048, 1049, 1050, 1051, 1052, 1053, 1054, 1055], 'Namibia': [1056, 1057, 1058, 1059, 1060, 1061, 1062, 1063, 1064, 1065, 1066, 1067], 'Nepal': [1068, 1069, 1070, 1071, 1072, 1073, 1074, 1075, 1076, 1077, 1078, 1079], 'Netherlands': [1080, 1081, 1082, 1083, 1084, 1085, 1086, 1087, 1088, 1089, 1090, 1091], 'New Zealand': [1092, 1093, 1094, 1095, 1096, 1097, 1098, 1099, 1100, 1101, 1102, 1103], 'Nicaragua': [1104, 1105, 1106, 1107, 1108, 1109, 1110, 1111, 1112, 1113, 1114, 1115], 'Niger': [1116, 1117, 1118, 1119, 1120, 1121, 1122, 1123, 1124, 1125, 1126, 1127], 'Nigeria': [1128, 1129, 1130, 1131, 1132, 1133, 1134, 1135, 1136, 1137, 1138, 1139], 'Norway': [1140, 1141, 1142, 1143, 1144, 1145, 1146, 1147, 1148, 1149, 1150, 1151], 'Oman': [1152, 1153, 1154, 1155, 1156, 1157, 1158, 1159, 1160, 1161, 1162, 1163], 'Pakistan': [1164, 1165, 1166, 1167, 1168, 1169, 1170, 1171, 1172, 1173, 1174, 1175], 'Panama': [1176, 1177, 1178, 1179, 1180, 1181, 1182, 1183, 1184, 1185, 1186, 1187], 'Paraguay': [1188, 1189, 1190, 1191, 1192, 1193, 1194, 1195, 1196, 1197, 1198, 1199], ...}"
      ]
     },
     "execution_count": 842,
     "metadata": {},
     "output_type": "execute_result"
    }
   ],
   "source": [
    "df.groupby('country').groups"
   ]
  },
  {
   "cell_type": "code",
   "execution_count": 843,
   "id": "10c8f2d2",
   "metadata": {},
   "outputs": [
    {
     "data": {
      "text/html": [
       "<div>\n",
       "<style scoped>\n",
       "    .dataframe tbody tr th:only-of-type {\n",
       "        vertical-align: middle;\n",
       "    }\n",
       "\n",
       "    .dataframe tbody tr th {\n",
       "        vertical-align: top;\n",
       "    }\n",
       "\n",
       "    .dataframe thead th {\n",
       "        text-align: right;\n",
       "    }\n",
       "</style>\n",
       "<table border=\"1\" class=\"dataframe\">\n",
       "  <thead>\n",
       "    <tr style=\"text-align: right;\">\n",
       "      <th></th>\n",
       "      <th>country</th>\n",
       "      <th>year</th>\n",
       "      <th>population</th>\n",
       "      <th>continent</th>\n",
       "      <th>life_exp</th>\n",
       "      <th>gdp_cap</th>\n",
       "      <th>gdp</th>\n",
       "    </tr>\n",
       "  </thead>\n",
       "  <tbody>\n",
       "    <tr>\n",
       "      <th>0</th>\n",
       "      <td>Afghanistan</td>\n",
       "      <td>1952</td>\n",
       "      <td>8425333</td>\n",
       "      <td>Asia</td>\n",
       "      <td>28.801</td>\n",
       "      <td>779.445314</td>\n",
       "      <td>6.567086e+09</td>\n",
       "    </tr>\n",
       "    <tr>\n",
       "      <th>1</th>\n",
       "      <td>Afghanistan</td>\n",
       "      <td>1957</td>\n",
       "      <td>9240934</td>\n",
       "      <td>Asia</td>\n",
       "      <td>30.332</td>\n",
       "      <td>820.853030</td>\n",
       "      <td>7.585449e+09</td>\n",
       "    </tr>\n",
       "    <tr>\n",
       "      <th>2</th>\n",
       "      <td>Afghanistan</td>\n",
       "      <td>1962</td>\n",
       "      <td>10267083</td>\n",
       "      <td>Asia</td>\n",
       "      <td>31.997</td>\n",
       "      <td>853.100710</td>\n",
       "      <td>8.758856e+09</td>\n",
       "    </tr>\n",
       "    <tr>\n",
       "      <th>3</th>\n",
       "      <td>Afghanistan</td>\n",
       "      <td>1967</td>\n",
       "      <td>11537966</td>\n",
       "      <td>Asia</td>\n",
       "      <td>34.020</td>\n",
       "      <td>836.197138</td>\n",
       "      <td>9.648014e+09</td>\n",
       "    </tr>\n",
       "    <tr>\n",
       "      <th>4</th>\n",
       "      <td>Afghanistan</td>\n",
       "      <td>1972</td>\n",
       "      <td>13079460</td>\n",
       "      <td>Asia</td>\n",
       "      <td>36.088</td>\n",
       "      <td>739.981106</td>\n",
       "      <td>9.678553e+09</td>\n",
       "    </tr>\n",
       "    <tr>\n",
       "      <th>5</th>\n",
       "      <td>Afghanistan</td>\n",
       "      <td>1977</td>\n",
       "      <td>14880372</td>\n",
       "      <td>Asia</td>\n",
       "      <td>38.438</td>\n",
       "      <td>786.113360</td>\n",
       "      <td>1.169766e+10</td>\n",
       "    </tr>\n",
       "    <tr>\n",
       "      <th>6</th>\n",
       "      <td>Afghanistan</td>\n",
       "      <td>1982</td>\n",
       "      <td>12881816</td>\n",
       "      <td>Asia</td>\n",
       "      <td>39.854</td>\n",
       "      <td>978.011439</td>\n",
       "      <td>1.259856e+10</td>\n",
       "    </tr>\n",
       "    <tr>\n",
       "      <th>7</th>\n",
       "      <td>Afghanistan</td>\n",
       "      <td>1987</td>\n",
       "      <td>13867957</td>\n",
       "      <td>Asia</td>\n",
       "      <td>40.822</td>\n",
       "      <td>852.395945</td>\n",
       "      <td>1.182099e+10</td>\n",
       "    </tr>\n",
       "    <tr>\n",
       "      <th>8</th>\n",
       "      <td>Afghanistan</td>\n",
       "      <td>1992</td>\n",
       "      <td>16317921</td>\n",
       "      <td>Asia</td>\n",
       "      <td>41.674</td>\n",
       "      <td>649.341395</td>\n",
       "      <td>1.059590e+10</td>\n",
       "    </tr>\n",
       "    <tr>\n",
       "      <th>9</th>\n",
       "      <td>Afghanistan</td>\n",
       "      <td>1997</td>\n",
       "      <td>22227415</td>\n",
       "      <td>Asia</td>\n",
       "      <td>41.763</td>\n",
       "      <td>635.341351</td>\n",
       "      <td>1.412200e+10</td>\n",
       "    </tr>\n",
       "    <tr>\n",
       "      <th>10</th>\n",
       "      <td>Afghanistan</td>\n",
       "      <td>2002</td>\n",
       "      <td>25268405</td>\n",
       "      <td>Asia</td>\n",
       "      <td>42.129</td>\n",
       "      <td>726.734055</td>\n",
       "      <td>1.836341e+10</td>\n",
       "    </tr>\n",
       "    <tr>\n",
       "      <th>11</th>\n",
       "      <td>Afghanistan</td>\n",
       "      <td>2007</td>\n",
       "      <td>31889923</td>\n",
       "      <td>Asia</td>\n",
       "      <td>43.828</td>\n",
       "      <td>974.580338</td>\n",
       "      <td>3.107929e+10</td>\n",
       "    </tr>\n",
       "  </tbody>\n",
       "</table>\n",
       "</div>"
      ],
      "text/plain": [
       "        country  year  population continent  life_exp     gdp_cap  \\\n",
       "0   Afghanistan  1952     8425333      Asia    28.801  779.445314   \n",
       "1   Afghanistan  1957     9240934      Asia    30.332  820.853030   \n",
       "2   Afghanistan  1962    10267083      Asia    31.997  853.100710   \n",
       "3   Afghanistan  1967    11537966      Asia    34.020  836.197138   \n",
       "4   Afghanistan  1972    13079460      Asia    36.088  739.981106   \n",
       "5   Afghanistan  1977    14880372      Asia    38.438  786.113360   \n",
       "6   Afghanistan  1982    12881816      Asia    39.854  978.011439   \n",
       "7   Afghanistan  1987    13867957      Asia    40.822  852.395945   \n",
       "8   Afghanistan  1992    16317921      Asia    41.674  649.341395   \n",
       "9   Afghanistan  1997    22227415      Asia    41.763  635.341351   \n",
       "10  Afghanistan  2002    25268405      Asia    42.129  726.734055   \n",
       "11  Afghanistan  2007    31889923      Asia    43.828  974.580338   \n",
       "\n",
       "             gdp  \n",
       "0   6.567086e+09  \n",
       "1   7.585449e+09  \n",
       "2   8.758856e+09  \n",
       "3   9.648014e+09  \n",
       "4   9.678553e+09  \n",
       "5   1.169766e+10  \n",
       "6   1.259856e+10  \n",
       "7   1.182099e+10  \n",
       "8   1.059590e+10  \n",
       "9   1.412200e+10  \n",
       "10  1.836341e+10  \n",
       "11  3.107929e+10  "
      ]
     },
     "execution_count": 843,
     "metadata": {},
     "output_type": "execute_result"
    }
   ],
   "source": [
    "df.groupby('country').get_group('Afghanistan')"
   ]
  },
  {
   "cell_type": "code",
   "execution_count": 844,
   "id": "1841ebe1",
   "metadata": {},
   "outputs": [
    {
     "data": {
      "text/html": [
       "<div>\n",
       "<style scoped>\n",
       "    .dataframe tbody tr th:only-of-type {\n",
       "        vertical-align: middle;\n",
       "    }\n",
       "\n",
       "    .dataframe tbody tr th {\n",
       "        vertical-align: top;\n",
       "    }\n",
       "\n",
       "    .dataframe thead th {\n",
       "        text-align: right;\n",
       "    }\n",
       "</style>\n",
       "<table border=\"1\" class=\"dataframe\">\n",
       "  <thead>\n",
       "    <tr style=\"text-align: right;\">\n",
       "      <th></th>\n",
       "      <th></th>\n",
       "      <th>min</th>\n",
       "      <th>max</th>\n",
       "    </tr>\n",
       "    <tr>\n",
       "      <th>country</th>\n",
       "      <th>year</th>\n",
       "      <th></th>\n",
       "      <th></th>\n",
       "    </tr>\n",
       "  </thead>\n",
       "  <tbody>\n",
       "    <tr>\n",
       "      <th rowspan=\"5\" valign=\"top\">Afghanistan</th>\n",
       "      <th>1952</th>\n",
       "      <td>28.801</td>\n",
       "      <td>28.801</td>\n",
       "    </tr>\n",
       "    <tr>\n",
       "      <th>1957</th>\n",
       "      <td>30.332</td>\n",
       "      <td>30.332</td>\n",
       "    </tr>\n",
       "    <tr>\n",
       "      <th>1962</th>\n",
       "      <td>31.997</td>\n",
       "      <td>31.997</td>\n",
       "    </tr>\n",
       "    <tr>\n",
       "      <th>1967</th>\n",
       "      <td>34.020</td>\n",
       "      <td>34.020</td>\n",
       "    </tr>\n",
       "    <tr>\n",
       "      <th>1972</th>\n",
       "      <td>36.088</td>\n",
       "      <td>36.088</td>\n",
       "    </tr>\n",
       "    <tr>\n",
       "      <th>...</th>\n",
       "      <th>...</th>\n",
       "      <td>...</td>\n",
       "      <td>...</td>\n",
       "    </tr>\n",
       "    <tr>\n",
       "      <th rowspan=\"5\" valign=\"top\">Zimbabwe</th>\n",
       "      <th>1987</th>\n",
       "      <td>62.351</td>\n",
       "      <td>62.351</td>\n",
       "    </tr>\n",
       "    <tr>\n",
       "      <th>1992</th>\n",
       "      <td>60.377</td>\n",
       "      <td>60.377</td>\n",
       "    </tr>\n",
       "    <tr>\n",
       "      <th>1997</th>\n",
       "      <td>46.809</td>\n",
       "      <td>46.809</td>\n",
       "    </tr>\n",
       "    <tr>\n",
       "      <th>2002</th>\n",
       "      <td>39.989</td>\n",
       "      <td>39.989</td>\n",
       "    </tr>\n",
       "    <tr>\n",
       "      <th>2007</th>\n",
       "      <td>43.487</td>\n",
       "      <td>43.487</td>\n",
       "    </tr>\n",
       "  </tbody>\n",
       "</table>\n",
       "<p>1704 rows × 2 columns</p>\n",
       "</div>"
      ],
      "text/plain": [
       "                     min     max\n",
       "country     year                \n",
       "Afghanistan 1952  28.801  28.801\n",
       "            1957  30.332  30.332\n",
       "            1962  31.997  31.997\n",
       "            1967  34.020  34.020\n",
       "            1972  36.088  36.088\n",
       "...                  ...     ...\n",
       "Zimbabwe    1987  62.351  62.351\n",
       "            1992  60.377  60.377\n",
       "            1997  46.809  46.809\n",
       "            2002  39.989  39.989\n",
       "            2007  43.487  43.487\n",
       "\n",
       "[1704 rows x 2 columns]"
      ]
     },
     "execution_count": 844,
     "metadata": {},
     "output_type": "execute_result"
    }
   ],
   "source": [
    "df.groupby(['country','year'])['life_exp'].aggregate(['min', 'max'])"
   ]
  },
  {
   "cell_type": "markdown",
   "id": "83ded30b",
   "metadata": {},
   "source": [
    "Notice what's happening here?\n",
    "- We first group data by director and then use `groupby().filter` function\n",
    "- **Groups are filtered if they do not satisfy the boolean criterion** specified by function\n",
    "- This is called  **Group Based Filtering**\n",
    "\n"
   ]
  },
  {
   "cell_type": "code",
   "execution_count": 845,
   "id": "d9f53496",
   "metadata": {},
   "outputs": [
    {
     "data": {
      "text/html": [
       "<div>\n",
       "<style scoped>\n",
       "    .dataframe tbody tr th:only-of-type {\n",
       "        vertical-align: middle;\n",
       "    }\n",
       "\n",
       "    .dataframe tbody tr th {\n",
       "        vertical-align: top;\n",
       "    }\n",
       "\n",
       "    .dataframe thead th {\n",
       "        text-align: right;\n",
       "    }\n",
       "</style>\n",
       "<table border=\"1\" class=\"dataframe\">\n",
       "  <thead>\n",
       "    <tr style=\"text-align: right;\">\n",
       "      <th></th>\n",
       "      <th>country</th>\n",
       "      <th>year</th>\n",
       "      <th>population</th>\n",
       "      <th>continent</th>\n",
       "      <th>life_exp</th>\n",
       "      <th>gdp_cap</th>\n",
       "      <th>gdp</th>\n",
       "    </tr>\n",
       "  </thead>\n",
       "  <tbody>\n",
       "    <tr>\n",
       "      <th>60</th>\n",
       "      <td>Australia</td>\n",
       "      <td>1952</td>\n",
       "      <td>8691212</td>\n",
       "      <td>Oceania</td>\n",
       "      <td>69.120</td>\n",
       "      <td>10039.59564</td>\n",
       "      <td>8.725625e+10</td>\n",
       "    </tr>\n",
       "    <tr>\n",
       "      <th>61</th>\n",
       "      <td>Australia</td>\n",
       "      <td>1957</td>\n",
       "      <td>9712569</td>\n",
       "      <td>Oceania</td>\n",
       "      <td>70.330</td>\n",
       "      <td>10949.64959</td>\n",
       "      <td>1.063492e+11</td>\n",
       "    </tr>\n",
       "    <tr>\n",
       "      <th>62</th>\n",
       "      <td>Australia</td>\n",
       "      <td>1962</td>\n",
       "      <td>10794968</td>\n",
       "      <td>Oceania</td>\n",
       "      <td>70.930</td>\n",
       "      <td>12217.22686</td>\n",
       "      <td>1.318846e+11</td>\n",
       "    </tr>\n",
       "    <tr>\n",
       "      <th>63</th>\n",
       "      <td>Australia</td>\n",
       "      <td>1967</td>\n",
       "      <td>11872264</td>\n",
       "      <td>Oceania</td>\n",
       "      <td>71.100</td>\n",
       "      <td>14526.12465</td>\n",
       "      <td>1.724580e+11</td>\n",
       "    </tr>\n",
       "    <tr>\n",
       "      <th>64</th>\n",
       "      <td>Australia</td>\n",
       "      <td>1972</td>\n",
       "      <td>13177000</td>\n",
       "      <td>Oceania</td>\n",
       "      <td>71.930</td>\n",
       "      <td>16788.62948</td>\n",
       "      <td>2.212238e+11</td>\n",
       "    </tr>\n",
       "    <tr>\n",
       "      <th>...</th>\n",
       "      <td>...</td>\n",
       "      <td>...</td>\n",
       "      <td>...</td>\n",
       "      <td>...</td>\n",
       "      <td>...</td>\n",
       "      <td>...</td>\n",
       "      <td>...</td>\n",
       "    </tr>\n",
       "    <tr>\n",
       "      <th>1483</th>\n",
       "      <td>Switzerland</td>\n",
       "      <td>1987</td>\n",
       "      <td>6649942</td>\n",
       "      <td>Europe</td>\n",
       "      <td>77.410</td>\n",
       "      <td>30281.70459</td>\n",
       "      <td>2.013716e+11</td>\n",
       "    </tr>\n",
       "    <tr>\n",
       "      <th>1484</th>\n",
       "      <td>Switzerland</td>\n",
       "      <td>1992</td>\n",
       "      <td>6995447</td>\n",
       "      <td>Europe</td>\n",
       "      <td>78.030</td>\n",
       "      <td>31871.53030</td>\n",
       "      <td>2.229556e+11</td>\n",
       "    </tr>\n",
       "    <tr>\n",
       "      <th>1485</th>\n",
       "      <td>Switzerland</td>\n",
       "      <td>1997</td>\n",
       "      <td>7193761</td>\n",
       "      <td>Europe</td>\n",
       "      <td>79.370</td>\n",
       "      <td>32135.32301</td>\n",
       "      <td>2.311738e+11</td>\n",
       "    </tr>\n",
       "    <tr>\n",
       "      <th>1486</th>\n",
       "      <td>Switzerland</td>\n",
       "      <td>2002</td>\n",
       "      <td>7361757</td>\n",
       "      <td>Europe</td>\n",
       "      <td>80.620</td>\n",
       "      <td>34480.95771</td>\n",
       "      <td>2.538404e+11</td>\n",
       "    </tr>\n",
       "    <tr>\n",
       "      <th>1487</th>\n",
       "      <td>Switzerland</td>\n",
       "      <td>2007</td>\n",
       "      <td>7554661</td>\n",
       "      <td>Europe</td>\n",
       "      <td>81.701</td>\n",
       "      <td>37506.41907</td>\n",
       "      <td>2.833483e+11</td>\n",
       "    </tr>\n",
       "  </tbody>\n",
       "</table>\n",
       "<p>156 rows × 7 columns</p>\n",
       "</div>"
      ],
      "text/plain": [
       "          country  year  population continent  life_exp      gdp_cap  \\\n",
       "60      Australia  1952     8691212   Oceania    69.120  10039.59564   \n",
       "61      Australia  1957     9712569   Oceania    70.330  10949.64959   \n",
       "62      Australia  1962    10794968   Oceania    70.930  12217.22686   \n",
       "63      Australia  1967    11872264   Oceania    71.100  14526.12465   \n",
       "64      Australia  1972    13177000   Oceania    71.930  16788.62948   \n",
       "...           ...   ...         ...       ...       ...          ...   \n",
       "1483  Switzerland  1987     6649942    Europe    77.410  30281.70459   \n",
       "1484  Switzerland  1992     6995447    Europe    78.030  31871.53030   \n",
       "1485  Switzerland  1997     7193761    Europe    79.370  32135.32301   \n",
       "1486  Switzerland  2002     7361757    Europe    80.620  34480.95771   \n",
       "1487  Switzerland  2007     7554661    Europe    81.701  37506.41907   \n",
       "\n",
       "               gdp  \n",
       "60    8.725625e+10  \n",
       "61    1.063492e+11  \n",
       "62    1.318846e+11  \n",
       "63    1.724580e+11  \n",
       "64    2.212238e+11  \n",
       "...            ...  \n",
       "1483  2.013716e+11  \n",
       "1484  2.229556e+11  \n",
       "1485  2.311738e+11  \n",
       "1486  2.538404e+11  \n",
       "1487  2.833483e+11  \n",
       "\n",
       "[156 rows x 7 columns]"
      ]
     },
     "execution_count": 845,
     "metadata": {},
     "output_type": "execute_result"
    }
   ],
   "source": [
    "df.groupby('country').filter(lambda x: x[\"life_exp\"].max() >= 80)"
   ]
  },
  {
   "cell_type": "markdown",
   "id": "b7b02169",
   "metadata": {},
   "source": [
    "\n",
    "  - **Restructuring data** \n",
    "    - pd.melt()\n",
    "    - pd.pivot()\n",
    "\n",
    "    - pd.pivot_table()\n",
    "  - Dealing with Missing Values\n",
    "    - None and nan values\n",
    "    - isna() and isnull()"
   ]
  },
  {
   "cell_type": "markdown",
   "id": "b6d9776f",
   "metadata": {},
   "source": [
    "## 🔄 Melting in Pandas (pd.melt)\n",
    "🔍 What is it?\n",
    "- pd.melt() transforms a wide-format DataFrame into a long-format (or \"tidy\") one.\n",
    "-  It's useful for: Unpivoting columns into rows Making data analysis and visualization easier"
   ]
  },
  {
   "cell_type": "code",
   "execution_count": 872,
   "id": "3be178b0",
   "metadata": {},
   "outputs": [
    {
     "name": "stdout",
     "output_type": "stream",
     "text": [
      "      Name  Math  Science\n",
      "0    Alice    90       88\n",
      "1      Bob    80       82\n",
      "2  Charlie    85       91\n"
     ]
    }
   ],
   "source": [
    "import pandas as pd\n",
    "\n",
    "# Sample data\n",
    "df = pd.DataFrame({\n",
    "    'Name': ['Alice', 'Bob', 'Charlie'],\n",
    "    'Math': [90, 80, 85],\n",
    "    'Science': [88, 82, 91]\n",
    "})\n",
    "\n",
    "print(df)\n"
   ]
  },
  {
   "cell_type": "code",
   "execution_count": 873,
   "id": "34d21e29",
   "metadata": {},
   "outputs": [
    {
     "name": "stdout",
     "output_type": "stream",
     "text": [
      "      Name  Subject  Score\n",
      "0    Alice     Math     90\n",
      "1      Bob     Math     80\n",
      "2  Charlie     Math     85\n",
      "3    Alice  Science     88\n",
      "4      Bob  Science     82\n",
      "5  Charlie  Science     91\n"
     ]
    }
   ],
   "source": [
    "# Melt the dataframe\n",
    "melted_df = pd.melt(df, id_vars=['Name'], var_name='Subject', value_name='Score')\n",
    "\n",
    "print(melted_df)\n"
   ]
  },
  {
   "cell_type": "code",
   "execution_count": 874,
   "id": "2c8d3b02",
   "metadata": {},
   "outputs": [
    {
     "name": "stdout",
     "output_type": "stream",
     "text": [
      "Subject  Math  Science\n",
      "Name                  \n",
      "Alice      90       88\n",
      "Bob        80       82\n"
     ]
    }
   ],
   "source": [
    "import pandas as pd\n",
    "\n",
    "# Sample long-format data\n",
    "df = pd.DataFrame({\n",
    "    'Name': ['Alice', 'Alice', 'Bob', 'Bob'],\n",
    "    'Subject': ['Math', 'Science', 'Math', 'Science'],\n",
    "    'Score': [90, 88, 80, 82]\n",
    "})\n",
    "\n",
    "# Pivot\n",
    "pivot_df = df.pivot(index='Name', columns='Subject', values='Score')\n",
    "print(pivot_df)\n"
   ]
  },
  {
   "cell_type": "code",
   "execution_count": 875,
   "id": "1a496fc9",
   "metadata": {},
   "outputs": [
    {
     "name": "stdout",
     "output_type": "stream",
     "text": [
      "Subject  Math  Science\n",
      "Name                  \n",
      "Alice    91.0     88.0\n",
      "Bob      80.0     82.0\n"
     ]
    }
   ],
   "source": [
    "# Add a duplicate row\n",
    "df = pd.DataFrame({\n",
    "    'Name': ['Alice', 'Alice', 'Alice', 'Bob', 'Bob'],\n",
    "    'Subject': ['Math', 'Math', 'Science', 'Math', 'Science'],\n",
    "    'Score': [90, 92, 88, 80, 82]\n",
    "})\n",
    "\n",
    "# Pivot table with mean as default aggregation\n",
    "pivot_tbl = pd.pivot_table(df, index='Name', columns='Subject', values='Score', aggfunc='mean')\n",
    "print(pivot_tbl)\n"
   ]
  },
  {
   "cell_type": "code",
   "execution_count": 876,
   "id": "b7fbd791",
   "metadata": {},
   "outputs": [
    {
     "name": "stdout",
     "output_type": "stream",
     "text": [
      "  Region Quarter  Sales\n",
      "0   East      Q1    200\n",
      "1   West      Q1    150\n",
      "2   East      Q2    210\n",
      "3   West      Q2    180\n"
     ]
    }
   ],
   "source": [
    "df = pd.DataFrame({\n",
    "    'Region': ['East', 'West'],\n",
    "    'Q1': [200, 150],\n",
    "    'Q2': [210, 180],\n",
    "    'Q3': [190, 170],\n",
    "    'Q4': [220, 160]\n",
    "})\n",
    "\n",
    "melted = pd.melt(df, id_vars=['Region'], value_vars=['Q1','Q2'],var_name='Quarter', value_name='Sales')\n",
    "print(melted)\n"
   ]
  },
  {
   "cell_type": "code",
   "execution_count": 877,
   "id": "d2e35040",
   "metadata": {},
   "outputs": [
    {
     "name": "stdout",
     "output_type": "stream",
     "text": [
      "  Country  Year   Indicator  Value\n",
      "0     USA  2020         GDP   21.4\n",
      "1     USA  2021         GDP   22.7\n",
      "2  Canada  2020         GDP    1.8\n",
      "3  Canada  2021         GDP    2.0\n",
      "4     USA  2020  Population  331.0\n",
      "5     USA  2021  Population  332.0\n",
      "6  Canada  2020  Population   38.0\n",
      "7  Canada  2021  Population   38.2\n"
     ]
    }
   ],
   "source": [
    "df = pd.DataFrame({\n",
    "    'Country': ['USA', 'USA', 'Canada', 'Canada'],\n",
    "    'Year': [2020, 2021, 2020, 2021],\n",
    "    'GDP': [21.4, 22.7, 1.8, 2.0],\n",
    "    'Population': [331, 332, 38, 38.2]\n",
    "})\n",
    "\n",
    "melted = pd.melt(df, id_vars=['Country', 'Year'], var_name='Indicator', value_name='Value')\n",
    "print(melted)\n"
   ]
  }
 ],
 "metadata": {
  "kernelspec": {
   "display_name": "Python 3",
   "language": "python",
   "name": "python3"
  },
  "language_info": {
   "codemirror_mode": {
    "name": "ipython",
    "version": 3
   },
   "file_extension": ".py",
   "mimetype": "text/x-python",
   "name": "python",
   "nbconvert_exporter": "python",
   "pygments_lexer": "ipython3",
   "version": "3.11.4"
  }
 },
 "nbformat": 4,
 "nbformat_minor": 5
}
