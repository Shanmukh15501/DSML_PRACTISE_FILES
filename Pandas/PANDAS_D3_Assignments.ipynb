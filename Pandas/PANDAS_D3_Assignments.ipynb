{
  "cells": [
    {
      "cell_type": "code",
      "execution_count": 1,
      "metadata": {
        "id": "PlcdriLvtyhC"
      },
      "outputs": [],
      "source": [
        "import numpy as np\n",
        "import pandas as pd\n",
        "\n",
        "# to visualize all the column, run the below code\n",
        "pd.options.display.max_columns = None\n",
        "# to show all the records, use the below code\n",
        "# pd.options.display.max_rows = None"
      ]
    },
    {
      "cell_type": "markdown",
      "metadata": {
        "id": "YZvQ-2fzt318"
      },
      "source": [
        "## Fifa Worldcup - 2022 dataset.\n",
        "\n",
        "You can find the dataset from [here](https://www.kaggle.com/datasets/sayanroy729/fifa-worldcup-2022-results).\n",
        "\n",
        "Also you can directly use an url to read the dataset by using `pd.read_csv()` method. Check the below code cell."
      ]
    },
    {
      "cell_type": "code",
      "execution_count": 2,
      "metadata": {
        "id": "tGy1_cUruB4I"
      },
      "outputs": [
        {
          "ename": "NameError",
          "evalue": "name 'unique_te' is not defined",
          "output_type": "error",
          "traceback": [
            "\u001b[1;31m---------------------------------------------------------------------------\u001b[0m",
            "\u001b[1;31mNameError\u001b[0m                                 Traceback (most recent call last)",
            "Cell \u001b[1;32mIn[2], line 7\u001b[0m\n\u001b[0;32m      5\u001b[0m df \u001b[38;5;241m=\u001b[39m pd\u001b[38;5;241m.\u001b[39mread_csv(url)\n\u001b[0;32m      6\u001b[0m df\u001b[38;5;241m.\u001b[39mhead()\n\u001b[1;32m----> 7\u001b[0m \u001b[43munique_te\u001b[49m\n",
            "\u001b[1;31mNameError\u001b[0m: name 'unique_te' is not defined"
          ]
        }
      ],
      "source": [
        "# To get the details about the dataset, please visit\n",
        "# https://www.kaggle.com/datasets/sayanroy729/fifa-worldcup-2022-results\n",
        "\n",
        "url = \"https://docs.google.com/spreadsheets/d/e/2PACX-1vT3D_x_4DS6d51LKJ7ze1sxT5WpV5uiSVOFYHLwBiGru6vFyVv5h5-83AwFjxWYiWfCDjDAaarHAV-k/pub?gid=0&single=true&output=csv\"\n",
        "df = pd.read_csv(url)\n",
        "df.head()\n",
        "unique_te"
      ]
    },
    {
      "cell_type": "markdown",
      "metadata": {
        "id": "gTisVyJHuLB9"
      },
      "source": [
        "### `Q-1:` Use the football dataset. Find out the total percentages that each team made on target. Display the result as a python dictionary where the keys are the team list and the values are the percentage values. Round off the percentage values up to 2 decimal places.\n",
        "\n",
        "*Help:*\n",
        "- First, find out how many total teams are participated in this worldcup. For that, you can use `unique()` method on the column \"Team\" or \"Against\".\n",
        "- Loop through the teams list that you have found in previous section, and then filter the dataset according to that. After filtering the dataset, find out total attempts sum and total on target sum.\n",
        "- After getting these values, find out the percentage by total on target divided by total attempts and multiply by 100. And store to a python dictionary where the key will be the team name and the values will be the percentages.\n",
        "- At the end,sort the dictionary by the values (not by the keys) and print the result.\n"
      ]
    },
    {
      "cell_type": "markdown",
      "metadata": {
        "id": "8myJwFm_uOy6"
      },
      "source": [
        "\n",
        "**Sample Output:**\n",
        "```bash\n",
        "{'Costa Rica': 54.55,\n",
        " 'Cameroon': 51.85,\n",
        " 'Ecuador': 48.15,\n",
        " 'Argentina': 46.99,\n",
        " 'Brazil': 45.56,\n",
        " 'England': 45.0,\n",
        " 'Portugal': 40.32,\n",
        " 'Ghana': 40.0,\n",
        " 'Netherlands': 39.02,\n",
        " 'Korea Republic': 36.73,\n",
        " 'Australia': 36.0,\n",
        " 'Mexico': 34.88,\n",
        " 'Croatia': 34.78,\n",
        " 'Germany': 34.33,\n",
        " 'France': 32.97,\n",
        " 'Spain': 32.69,\n",
        " 'Belgium': 32.35,\n",
        " 'Serbia': 32.26,\n",
        " 'Iran': 31.43,\n",
        " 'Uruguay': 31.25,\n",
        " 'United States': 31.11,\n",
        " 'Saudi Arabia': 31.03,\n",
        " 'Senegal': 30.77,\n",
        " 'Denmark': 30.56,\n",
        " 'Switzerland': 30.56,\n",
        " 'Japan': 30.23,\n",
        " 'Wales': 29.17,\n",
        " 'Qatar': 28.57,\n",
        " 'Morocco': 28.3,\n",
        " 'Tunisia': 26.67,\n",
        " 'Poland': 25.0,\n",
        " 'Canada': 17.65}\n",
        "```"
      ]
    },
    {
      "cell_type": "code",
      "execution_count": null,
      "metadata": {
        "id": "qwN5G6s-uH16"
      },
      "outputs": [
        {
          "data": {
            "text/plain": [
              "sorted_dict_by_value\n",
              " {'Costa Rica': 54.55, 'Cameroon': 51.85, 'Ecuador': 48.15, 'Argentina': 46.15, 'Brazil': 45.56, 'England': 45.0, 'Portugal': 40.32, 'Ghana': 40.0, 'Netherlands': 39.02, 'Korea Republic': 36.73, 'Australia': 36.0, 'Mexico': 34.88, 'France': 34.65, 'Germany': 34.33, 'Croatia': 33.73, 'Spain': 32.69, 'Belgium': 32.35, 'Serbia': 32.26, 'Iran': 31.43, 'Uruguay': 31.25, 'United States': 31.11, 'Saudi Arabia': 31.03, 'Senegal': 30.77, 'Denmark': 30.56, 'Switzerland': 30.56, 'Japan': 30.23, 'Wales': 29.17, 'Qatar': 28.57, 'Morocco': 28.33, 'Tunisia': 26.67, 'Poland': 25.0, 'Canada': 17.65}\n"
            ]
          },
          "metadata": {},
          "output_type": "display_data"
        }
      ],
      "source": [
        "# code here\n",
        "#df[df['Team']=='Qatar']['On Target'].sum()/df[df['Team']=='Qatar']['Total Attempts'].sum()\n",
        "import numpy as np\n",
        "unique_teams = df['Team'].unique()\n",
        "result={}\n",
        "for team in unique_teams:\n",
        "    result[team]=np.round((df[df['Team']==team]['On Target'].sum()/df[df['Team']==team]['Total Attempts'].sum())*100,2)\n",
        "\n",
        "sorted_dict_by_value = dict(sorted(result.items(), key=lambda item: item[1],reverse=True))\n",
        "print(\"sorted_dict_by_value\\n\",sorted_dict_by_value)"
      ]
    },
    {
      "cell_type": "markdown",
      "metadata": {
        "id": "AzbkiZMduTok"
      },
      "source": [
        "### `Q-2:` Find out how many times the teams are played in this Fifa Worldcup-2022. On top of this, find out the ranks of the teams.\n",
        "\n",
        "Note: The `DataFrame.rank()` method takes an optiinal parameter named `method`. This parameter takes different values, but one of them is `average` which is by-default. So, when you do the rank, you will get some 2.5 like floating values. But if you change the value as `first`, then you will get in integers but the datatype will be float. So, try with `method=\"first\"` parameter."
      ]
    },
    {
      "cell_type": "code",
      "execution_count": null,
      "metadata": {
        "id": "YJRkSElguWlL"
      },
      "outputs": [
        {
          "data": {
            "text/plain": [
              "Team\n",
              "Morocco            1.0\n",
              "Croatia            2.0\n",
              "Argentina          3.0\n",
              "France             4.0\n",
              "England            5.0\n",
              "Brazil             6.0\n",
              "Netherlands        7.0\n",
              "Portugal           8.0\n",
              "Poland             9.0\n",
              "Japan             10.0\n",
              "Switzerland       11.0\n",
              "Australia         12.0\n",
              "Korea Republic    13.0\n",
              "United States     14.0\n",
              "Senegal           15.0\n",
              "Spain             16.0\n",
              "Cameroon          17.0\n",
              "Uruguay           18.0\n",
              "Belgium           19.0\n",
              "Ghana             20.0\n",
              "Canada            21.0\n",
              "Qatar             22.0\n",
              "Costa Rica        23.0\n",
              "Germany           24.0\n",
              "Ecuador           25.0\n",
              "Mexico            26.0\n",
              "Tunisia           27.0\n",
              "Denmark           28.0\n",
              "Saudi Arabia      29.0\n",
              "Wales             30.0\n",
              "Iran              31.0\n",
              "Serbia            32.0\n",
              "Name: count, dtype: float64\n"
            ]
          },
          "metadata": {},
          "output_type": "display_data"
        }
      ],
      "source": [
        "df['Team'].value_counts().rank(method='first',ascending=False)"
      ]
    },
    {
      "cell_type": "markdown",
      "metadata": {
        "id": "056FDiXOuYQB"
      },
      "source": [
        "### `Q-3:` Find out these below topics:\n",
        "- The information about the Fifa worldcup dataset.\n",
        "- The description about the Fifa worldcup dataset\n",
        "- Check is there any missing values, if there is any missing values, fill that value with the average value for that particular column.\n",
        "- Drop all the duplicate rows permanently.\n",
        "- Drop the columns: \"Sl No\", \"Match No.\", \"Red Cards\" and \"Pts\" permanently."
      ]
    },
    {
      "cell_type": "code",
      "execution_count": null,
      "metadata": {
        "id": "0_TE4B26uaVS"
      },
      "outputs": [
        {
          "data": {
            "text/plain": [
              "[]\n"
            ]
          },
          "metadata": {},
          "output_type": "display_data"
        }
      ],
      "source": [
        "# code here\n",
        "#print(df.info())\n",
        "#print(df.describe())\n",
        "nan_cols=[]\n",
        "for cols in df.columns:\n",
        "    if df[cols].hasnans:\n",
        "        nan_cols.append(cols)\n",
        "print(nan_cols)\n",
        "df.drop_duplicates(inplace=True)\n",
        "df.head(1)\n",
        "df.drop(columns=[\"Sl. No\",\"Match No.\",\"Red Cards\",\"Pts\"],inplace=True)\n",
        "        "
      ]
    },
    {
      "cell_type": "markdown",
      "metadata": {
        "id": "8R3X--kyubf4"
      },
      "source": [
        "###`Q-4:` Do these below operations:\n",
        "- Find out the rank based on the \"Team\" column and save the result by adding a new column named \"Rank\".\n",
        "- Change the datatype of this column to integer by using `np.int16`\n",
        "- Set the index of the DataFrame by using this \"Rank\" column permanently.\n",
        "- After that, sort the dataframe based on the \"Rank\" index."
      ]
    },
    {
      "cell_type": "code",
      "execution_count": null,
      "metadata": {
        "id": "l2-4scffuebD"
      },
      "outputs": [
        {
          "data": {
            "text/plain": [
              "<class 'pandas.core.series.Series'>\n",
              "RangeIndex: 128 entries, 0 to 127\n",
              "Series name: Rank\n",
              "Non-Null Count  Dtype  \n",
              "--------------  -----  \n",
              "128 non-null    float64\n",
              "dtypes: float64(1)\n",
              "memory usage: 1.1 KB\n",
              "None\n",
              "<class 'pandas.core.series.Series'>\n",
              "RangeIndex: 128 entries, 0 to 127\n",
              "Series name: Rank\n",
              "Non-Null Count  Dtype\n",
              "--------------  -----\n",
              "128 non-null    int16\n",
              "dtypes: int16(1)\n",
              "memory usage: 388.0 bytes\n",
              "None\n"
            ]
          },
          "metadata": {},
          "output_type": "display_data"
        }
      ],
      "source": [
        "# code here\n",
        "df['Rank'] = df['Team'].rank(method='first',ascending=False)\n",
        "print(df['Rank'].info())\n",
        "df['Rank']=df['Rank'].astype('int16')\n",
        "print(df['Rank'].info())\n",
        "df.set_index('Rank',inplace=True)\n",
        "df.sort_index()"
      ]
    },
    {
      "cell_type": "markdown",
      "metadata": {
        "id": "J7827-Onufne"
      },
      "source": [
        "## Questions on Titanic dataset.\n",
        "\n",
        "You can get the dataset from [here](https://www.kaggle.com/competitions/titanic). This is the competition page on Kaggle. To download the dataset from here, I guess you have to register for the compition. So, do so and then download the dataset.\n",
        "\n",
        "Also, for now you can use this url to read the dataset like before:\n",
        "- dataset 1: https://docs.google.com/spreadsheets/d/e/2PACX-1vQjh5HzZ1N0SU7ME9ZQRzeVTaXaGsV97rU8R7eAcg53k27GTstJp9cRUOfr55go1GRRvTz1NwvyOnuh/pub?gid=1562145139&single=true&output=csv\n",
        "- dataset 2: https://docs.google.com/spreadsheets/d/e/2PACX-1vQcPvQsSC9aNFogvbUG08nu0bGHlOclGYaOlhND_LE5Ff7ZnHQ5VYzAgpyT5XNklgiT54SsNgHePsUa/pub?gid=1656109608&single=true&output=csv"
      ]
    },
    {
      "cell_type": "markdown",
      "metadata": {
        "id": "bK8hhjGtuoPg"
      },
      "source": [
        "### `Q-5:` Do the below tasks:\n",
        "1. With dataset 1, drop those records which only have missing values of the \"Age\" column permanently.\n",
        "\n",
        "2. With the dataset 2, fill the missing values with 20 to the only \"Age\" column permanently."
      ]
    },
    {
      "cell_type": "code",
      "execution_count": null,
      "metadata": {
        "id": "OzU2N1WaujEV"
      },
      "outputs": [
        {
          "data": {
            "text/plain": [
              "(891,)\n",
              "(714,)\n",
              "(418,)\n",
              "True\n",
              "False\n"
            ]
          },
          "metadata": {},
          "output_type": "display_data"
        }
      ],
      "source": [
        "# code here\n",
        "df1 = pd.read_csv(\"D:\\\\PROJECT_PRACTISE_DIRS\\\\DSML_PRACTISE_FILES\\\\DATASETS\\\\train.csv\")\n",
        "df2 = pd.read_csv(\"D:\\\\PROJECT_PRACTISE_DIRS\\\\DSML_PRACTISE_FILES\\\\DATASETS\\\\test.csv\")\n",
        "print(df1['Age'].shape)\n",
        "df1.dropna(subset=[\"Age\"],inplace=True)\n",
        "print(df1['Age'].shape)\n",
        "print(df2['Age'].shape)\n",
        "print(df2['Age'].hasnans)\n",
        "df2['Age'].fillna(20,inplace=True)\n",
        "print(df2['Age'].hasnans)\n"
      ]
    },
    {
      "cell_type": "markdown",
      "metadata": {
        "id": "u_za5X6Xuy9O"
      },
      "source": [
        "## Questions on IPL wala dataset\n",
        "\n",
        "matches dataset = https://drive.google.com/file/d/1yKVUuexl6lIKuFQy7uIPgDgXhJ0L4SIg/view?usp=share_link\n",
        "\n",
        "Code to directly use in colab\n",
        "```\n",
        "ipl_matches = \"https://docs.google.com/spreadsheets/d/e/2PACX-1vRy2DUdUbaKx_Co9F0FSnIlyS-8kp4aKv_I0-qzNeghiZHAI_hw94gKG22XTxNJHMFnFVKsO4xWOdIs/pub?gid=1655759976&single=true&output=csv\"\n",
        "\n",
        "```\n",
        "\n",
        "\n"
      ]
    },
    {
      "cell_type": "markdown",
      "metadata": {
        "id": "dUT2nct2u2ET"
      },
      "source": [
        "###`Q-6:` Make a dataframe of each team in IPL with details like - Team Name, Matches Played, Win%, Home Win%, Away Win%.\n",
        "Show sorted dataframe on Win%\n",
        "\n",
        "Replace old team name as new name before performing any tasks.\n",
        "```\n",
        "Delhi Daredevils ->Delhi Capitals\n",
        "Kings XI Punjab -> Punjab Kings\n",
        "Rising Pune Supergiants -> Rising Pune Supergiant\n",
        "```\n",
        "\n",
        "Note: Team1 represents Home team. Exclude not result matches.\n"
      ]
    },
    {
      "cell_type": "code",
      "execution_count": 3,
      "metadata": {},
      "outputs": [
        {
          "data": {
            "text/html": [
              "<div>\n",
              "<style scoped>\n",
              "    .dataframe tbody tr th:only-of-type {\n",
              "        vertical-align: middle;\n",
              "    }\n",
              "\n",
              "    .dataframe tbody tr th {\n",
              "        vertical-align: top;\n",
              "    }\n",
              "\n",
              "    .dataframe thead th {\n",
              "        text-align: right;\n",
              "    }\n",
              "</style>\n",
              "<table border=\"1\" class=\"dataframe\">\n",
              "  <thead>\n",
              "    <tr style=\"text-align: right;\">\n",
              "      <th></th>\n",
              "      <th>ID</th>\n",
              "      <th>City</th>\n",
              "      <th>Date</th>\n",
              "      <th>Season</th>\n",
              "      <th>MatchNumber</th>\n",
              "      <th>Team1</th>\n",
              "      <th>Team2</th>\n",
              "      <th>Venue</th>\n",
              "      <th>TossWinner</th>\n",
              "      <th>TossDecision</th>\n",
              "      <th>SuperOver</th>\n",
              "      <th>WinningTeam</th>\n",
              "      <th>WonBy</th>\n",
              "      <th>Margin</th>\n",
              "      <th>method</th>\n",
              "      <th>Player_of_Match</th>\n",
              "      <th>Team1Players</th>\n",
              "      <th>Team2Players</th>\n",
              "      <th>Umpire1</th>\n",
              "      <th>Umpire2</th>\n",
              "    </tr>\n",
              "  </thead>\n",
              "  <tbody>\n",
              "    <tr>\n",
              "      <th>0</th>\n",
              "      <td>1312200</td>\n",
              "      <td>Ahmedabad</td>\n",
              "      <td>2022-05-29</td>\n",
              "      <td>2022</td>\n",
              "      <td>Final</td>\n",
              "      <td>Rajasthan Royals</td>\n",
              "      <td>Gujarat Titans</td>\n",
              "      <td>Narendra Modi Stadium, Ahmedabad</td>\n",
              "      <td>Rajasthan Royals</td>\n",
              "      <td>bat</td>\n",
              "      <td>N</td>\n",
              "      <td>Gujarat Titans</td>\n",
              "      <td>Wickets</td>\n",
              "      <td>7.0</td>\n",
              "      <td>NaN</td>\n",
              "      <td>HH Pandya</td>\n",
              "      <td>['YBK Jaiswal', 'JC Buttler', 'SV Samson', 'D ...</td>\n",
              "      <td>['WP Saha', 'Shubman Gill', 'MS Wade', 'HH Pan...</td>\n",
              "      <td>CB Gaffaney</td>\n",
              "      <td>Nitin Menon</td>\n",
              "    </tr>\n",
              "  </tbody>\n",
              "</table>\n",
              "</div>"
            ],
            "text/plain": [
              "        ID       City        Date Season MatchNumber             Team1  \\\n",
              "0  1312200  Ahmedabad  2022-05-29   2022       Final  Rajasthan Royals   \n",
              "\n",
              "            Team2                             Venue        TossWinner  \\\n",
              "0  Gujarat Titans  Narendra Modi Stadium, Ahmedabad  Rajasthan Royals   \n",
              "\n",
              "  TossDecision SuperOver     WinningTeam    WonBy  Margin method  \\\n",
              "0          bat         N  Gujarat Titans  Wickets     7.0    NaN   \n",
              "\n",
              "  Player_of_Match                                       Team1Players  \\\n",
              "0       HH Pandya  ['YBK Jaiswal', 'JC Buttler', 'SV Samson', 'D ...   \n",
              "\n",
              "                                        Team2Players      Umpire1      Umpire2  \n",
              "0  ['WP Saha', 'Shubman Gill', 'MS Wade', 'HH Pan...  CB Gaffaney  Nitin Menon  "
            ]
          },
          "execution_count": 3,
          "metadata": {},
          "output_type": "execute_result"
        }
      ],
      "source": [
        "# code here\n",
        "import pandas as pd\n",
        "\n",
        "df = pd.read_csv(\"https://docs.google.com/spreadsheets/d/e/2PACX-1vRy2DUdUbaKx_Co9F0FSnIlyS-8kp4aKv_I0-qzNeghiZHAI_hw94gKG22XTxNJHMFnFVKsO4xWOdIs/pub?gid=1655759976&single=true&output=csv\")\n",
        "\n",
        "df.replace(\"Kings XI Punjab\",\"Punjab Kings\",inplace=True)\n",
        "df.replace(\"Delhi Daredevils\",\"Delhi Capitals\",inplace=True)\n",
        "df.replace(\"Rising Pune Supergiants\",\"Rising Pune Supergiant\",inplace=True)\n",
        "\n",
        "df.head(1)"
      ]
    },
    {
      "cell_type": "code",
      "execution_count": null,
      "metadata": {},
      "outputs": [
        {
          "data": {
            "text/html": [
              "<div>\n",
              "<style scoped>\n",
              "    .dataframe tbody tr th:only-of-type {\n",
              "        vertical-align: middle;\n",
              "    }\n",
              "\n",
              "    .dataframe tbody tr th {\n",
              "        vertical-align: top;\n",
              "    }\n",
              "\n",
              "    .dataframe thead th {\n",
              "        text-align: right;\n",
              "    }\n",
              "</style>\n",
              "<table border=\"1\" class=\"dataframe\">\n",
              "  <thead>\n",
              "    <tr style=\"text-align: right;\">\n",
              "      <th></th>\n",
              "      <th>Total_Matches</th>\n",
              "      <th>Won</th>\n",
              "      <th>Lost</th>\n",
              "      <th>Win_Percent</th>\n",
              "      <th>Home_Win_Percent</th>\n",
              "      <th>Away_Win_Percent</th>\n",
              "    </tr>\n",
              "  </thead>\n",
              "  <tbody>\n",
              "    <tr>\n",
              "      <th>Lucknow Super Giants</th>\n",
              "      <td>15</td>\n",
              "      <td>7</td>\n",
              "      <td>8</td>\n",
              "      <td>0.466667</td>\n",
              "      <td>0.466667</td>\n",
              "      <td>0.133333</td>\n",
              "    </tr>\n",
              "    <tr>\n",
              "      <th>Chennai Super Kings</th>\n",
              "      <td>208</td>\n",
              "      <td>65</td>\n",
              "      <td>143</td>\n",
              "      <td>0.312500</td>\n",
              "      <td>0.312500</td>\n",
              "      <td>0.269231</td>\n",
              "    </tr>\n",
              "    <tr>\n",
              "      <th>Mumbai Indians</th>\n",
              "      <td>231</td>\n",
              "      <td>65</td>\n",
              "      <td>166</td>\n",
              "      <td>0.281385</td>\n",
              "      <td>0.281385</td>\n",
              "      <td>0.285714</td>\n",
              "    </tr>\n",
              "    <tr>\n",
              "      <th>Royal Challengers Bangalore</th>\n",
              "      <td>226</td>\n",
              "      <td>61</td>\n",
              "      <td>165</td>\n",
              "      <td>0.269912</td>\n",
              "      <td>0.269912</td>\n",
              "      <td>0.212389</td>\n",
              "    </tr>\n",
              "    <tr>\n",
              "      <th>Rajasthan Royals</th>\n",
              "      <td>192</td>\n",
              "      <td>49</td>\n",
              "      <td>143</td>\n",
              "      <td>0.255208</td>\n",
              "      <td>0.255208</td>\n",
              "      <td>0.244792</td>\n",
              "    </tr>\n",
              "    <tr>\n",
              "      <th>Kolkata Knight Riders</th>\n",
              "      <td>223</td>\n",
              "      <td>56</td>\n",
              "      <td>167</td>\n",
              "      <td>0.251121</td>\n",
              "      <td>0.251121</td>\n",
              "      <td>0.260090</td>\n",
              "    </tr>\n",
              "    <tr>\n",
              "      <th>Gujarat Titans</th>\n",
              "      <td>16</td>\n",
              "      <td>4</td>\n",
              "      <td>12</td>\n",
              "      <td>0.250000</td>\n",
              "      <td>0.250000</td>\n",
              "      <td>0.500000</td>\n",
              "    </tr>\n",
              "    <tr>\n",
              "      <th>Sunrisers Hyderabad</th>\n",
              "      <td>152</td>\n",
              "      <td>36</td>\n",
              "      <td>116</td>\n",
              "      <td>0.236842</td>\n",
              "      <td>0.236842</td>\n",
              "      <td>0.256579</td>\n",
              "    </tr>\n",
              "    <tr>\n",
              "      <th>Delhi Capitals</th>\n",
              "      <td>224</td>\n",
              "      <td>53</td>\n",
              "      <td>171</td>\n",
              "      <td>0.236607</td>\n",
              "      <td>0.236607</td>\n",
              "      <td>0.223214</td>\n",
              "    </tr>\n",
              "    <tr>\n",
              "      <th>Rising Pune Supergiant</th>\n",
              "      <td>30</td>\n",
              "      <td>7</td>\n",
              "      <td>23</td>\n",
              "      <td>0.233333</td>\n",
              "      <td>0.233333</td>\n",
              "      <td>0.266667</td>\n",
              "    </tr>\n",
              "    <tr>\n",
              "      <th>Punjab Kings</th>\n",
              "      <td>218</td>\n",
              "      <td>50</td>\n",
              "      <td>168</td>\n",
              "      <td>0.229358</td>\n",
              "      <td>0.229358</td>\n",
              "      <td>0.233945</td>\n",
              "    </tr>\n",
              "    <tr>\n",
              "      <th>Kochi Tuskers Kerala</th>\n",
              "      <td>14</td>\n",
              "      <td>3</td>\n",
              "      <td>11</td>\n",
              "      <td>0.214286</td>\n",
              "      <td>0.214286</td>\n",
              "      <td>0.214286</td>\n",
              "    </tr>\n",
              "    <tr>\n",
              "      <th>Deccan Chargers</th>\n",
              "      <td>75</td>\n",
              "      <td>13</td>\n",
              "      <td>62</td>\n",
              "      <td>0.173333</td>\n",
              "      <td>0.173333</td>\n",
              "      <td>0.213333</td>\n",
              "    </tr>\n",
              "    <tr>\n",
              "      <th>Gujarat Lions</th>\n",
              "      <td>30</td>\n",
              "      <td>5</td>\n",
              "      <td>25</td>\n",
              "      <td>0.166667</td>\n",
              "      <td>0.166667</td>\n",
              "      <td>0.266667</td>\n",
              "    </tr>\n",
              "    <tr>\n",
              "      <th>Pune Warriors</th>\n",
              "      <td>46</td>\n",
              "      <td>6</td>\n",
              "      <td>40</td>\n",
              "      <td>0.130435</td>\n",
              "      <td>0.130435</td>\n",
              "      <td>0.130435</td>\n",
              "    </tr>\n",
              "  </tbody>\n",
              "</table>\n",
              "</div>"
            ],
            "text/plain": [
              "                             Total_Matches  Won  Lost  Win_Percent  \\\n",
              "Lucknow Super Giants                    15    7     8     0.466667   \n",
              "Chennai Super Kings                    208   65   143     0.312500   \n",
              "Mumbai Indians                         231   65   166     0.281385   \n",
              "Royal Challengers Bangalore            226   61   165     0.269912   \n",
              "Rajasthan Royals                       192   49   143     0.255208   \n",
              "Kolkata Knight Riders                  223   56   167     0.251121   \n",
              "Gujarat Titans                          16    4    12     0.250000   \n",
              "Sunrisers Hyderabad                    152   36   116     0.236842   \n",
              "Delhi Capitals                         224   53   171     0.236607   \n",
              "Rising Pune Supergiant                  30    7    23     0.233333   \n",
              "Punjab Kings                           218   50   168     0.229358   \n",
              "Kochi Tuskers Kerala                    14    3    11     0.214286   \n",
              "Deccan Chargers                         75   13    62     0.173333   \n",
              "Gujarat Lions                           30    5    25     0.166667   \n",
              "Pune Warriors                           46    6    40     0.130435   \n",
              "\n",
              "                             Home_Win_Percent  Away_Win_Percent  \n",
              "Lucknow Super Giants                 0.466667          0.133333  \n",
              "Chennai Super Kings                  0.312500          0.269231  \n",
              "Mumbai Indians                       0.281385          0.285714  \n",
              "Royal Challengers Bangalore          0.269912          0.212389  \n",
              "Rajasthan Royals                     0.255208          0.244792  \n",
              "Kolkata Knight Riders                0.251121          0.260090  \n",
              "Gujarat Titans                       0.250000          0.500000  \n",
              "Sunrisers Hyderabad                  0.236842          0.256579  \n",
              "Delhi Capitals                       0.236607          0.223214  \n",
              "Rising Pune Supergiant               0.233333          0.266667  \n",
              "Punjab Kings                         0.229358          0.233945  \n",
              "Kochi Tuskers Kerala                 0.214286          0.214286  \n",
              "Deccan Chargers                      0.173333          0.213333  \n",
              "Gujarat Lions                        0.166667          0.266667  \n",
              "Pune Warriors                        0.130435          0.130435  "
            ]
          },
          "execution_count": 70,
          "metadata": {},
          "output_type": "execute_result"
        }
      ],
      "source": [
        "team1 = df['Team1']\n",
        "team2 = df['Team2']\n",
        "teams={}\n",
        "total_teams  =  pd.concat([team1,team2],axis=0).unique()\n",
        "for team in total_teams:\n",
        "    teams[team]={}\n",
        "    teams[team].update({'Total_Matches':df[df['Team1']==team].shape[0] +   df[df['Team2']==team].shape[0]})\n",
        "    teams[team].update({'Won':df[(df['Team1']==team) & (df['WinningTeam']==team)].shape[0]})\n",
        "    teams[team].update({'Lost': teams[team]['Total_Matches']-teams[team]['Won']})\n",
        "    teams[team].update({'Win_Percent':teams[team]['Won']/teams[team]['Total_Matches']})\n",
        "    teams[team].update({'Home_Win_Percent': df[(df['Team1']==team) & (df['WinningTeam']==team)].shape[0]/teams[team]['Total_Matches']})\n",
        "    teams[team].update({'Away_Win_Percent':df[(df['Team2']==team) & (df['WinningTeam']==team)].shape[0]/teams[team]['Total_Matches']})\n",
        "        \n",
        "\n",
        "df_teams = pd.DataFrame(teams)\n",
        "#print(df_teams.index)\n",
        "#print(df_teams.columns)\n",
        "\n",
        "#df_teams.sort_index()\n",
        "\n",
        "df_teams = pd.DataFrame(teams.values(),index=teams.keys())\n",
        "\n",
        "df_teams.sort_values(by='Win_Percent',ascending=False)"
      ]
    },
    {
      "cell_type": "markdown",
      "metadata": {
        "id": "kfZPOzk5u4Ty"
      },
      "source": [
        "###`Q-7:` Venues with most \"no result\" matches."
      ]
    },
    {
      "cell_type": "code",
      "execution_count": null,
      "metadata": {
        "id": "XYLJXgVwu7MC"
      },
      "outputs": [
        {
          "data": {
            "text/plain": [
              "Venue\n",
              "M Chinnaswamy Stadium    2\n",
              "M.Chinnaswamy Stadium    1\n",
              "Feroz Shah Kotla         1\n",
              "Name: count, dtype: int64"
            ]
          },
          "execution_count": 17,
          "metadata": {},
          "output_type": "execute_result"
        }
      ],
      "source": [
        "# code here\n",
        "df[df['WinningTeam'].isnull()]['Venue'].value_counts()"
      ]
    },
    {
      "cell_type": "code",
      "execution_count": null,
      "metadata": {},
      "outputs": [],
      "source": []
    },
    {
      "cell_type": "markdown",
      "metadata": {
        "id": "XWeIf7I6u8T-"
      },
      "source": [
        "###`Q-8:` Player with most appearance in final match.\n",
        "\n",
        "`Team1Players` and `Team2Players` have all players name. It is not a list of players name instead it is str. So handle it as string.\n",
        "\n",
        "Hint: split and strip will help; Make a series of all players in final and do value counts\n"
      ]
    },
    {
      "cell_type": "code",
      "execution_count": null,
      "metadata": {
        "id": "z_OKKz-Eu-dd"
      },
      "outputs": [
        {
          "name": "stdout",
          "output_type": "stream",
          "text": [
            "MS Dhoni        10\n",
            "SK Raina         8\n",
            "AT Rayudu        7\n",
            "R Ashwin         7\n",
            "DJ Bravo         7\n",
            "                ..\n",
            "AM Nayar         1\n",
            "SA Asnodkar      1\n",
            "SR Tendulkar     1\n",
            "DL Vettori       1\n",
            "MM Patel         1\n",
            "Name: count, Length: 179, dtype: int64\n"
          ]
        }
      ],
      "source": [
        "# code here\n",
        "df1 = df[df['MatchNumber']=='Final']\n",
        "Team1Players = []\n",
        "Team2Players = []\n",
        "def change_format(value):\n",
        "    res=[]\n",
        "    value = value[1:-1]\n",
        "    value=value.strip()\n",
        "    value=value.split(\",\")\n",
        "    for i in value:\n",
        "        i=i.replace(\"'\",\"\")\n",
        "        res.append(i.strip())\n",
        "    return res\n",
        "Team1Players.extend(df1['Team1Players'].apply(change_format))\n",
        "Team1Players = np.ravel(Team1Players)\n",
        "Team2Players.extend(df1['Team2Players'].apply(change_format))\n",
        "Team2Players = np.ravel(Team2Players)\n",
        "final_list = np.concatenate((Team1Players,Team2Players))\n",
        "final_list_series = pd.Series(final_list)\n",
        "print(final_list_series.value_counts().sort_values(ascending=False))"
      ]
    },
    {
      "cell_type": "markdown",
      "metadata": {
        "id": "NUolo2wRu_ex"
      },
      "source": [
        "###`Q-9:` IPL Point Table\n",
        "\n",
        "Make a function `point_table` which take `season` as parameter and show points table in non-ascendng order of points and in ascending order of team name.\n",
        "\n",
        "For winning - 2 Ponits;\n",
        "For loosing - 0 Point\n",
        "For not result both team gets 1 points.\n",
        "\n",
        "Make dataframe which will have\n",
        "`TeamName` `MatchesPlayed` `MatchesWon` `NoResult` `Points`\n",
        "make `TeamName` as index.\n",
        "\n",
        "```\n",
        "season parametr should be one of these->\n",
        "['2022', '2021', '2020/21', '2019', '2018', '2017', '2016', '2015', '2014', '2013', '2012', '2011', '2009/10', '2009', '2007/08']\n",
        "```\n"
      ]
    },
    {
      "cell_type": "markdown",
      "metadata": {
        "id": "j4TSQq6fvFxO"
      },
      "source": [
        "Output of two Top 2 in season 2022\n",
        "```\n",
        "TeamName    MatchesPlayed\tMatchesWon\tNoResult\tPoints\n",
        "\n",
        "Gujarat Titans\t    16\t   12\t       0\t     24\n",
        "Rajasthan Royals\t  17\t   10\t       0\t     20\n",
        "\n",
        "```"
      ]
    },
    {
      "cell_type": "code",
      "execution_count": 41,
      "metadata": {
        "id": "WdVcgEekvBv6"
      },
      "outputs": [
        {
          "data": {
            "text/html": [
              "<div>\n",
              "<style scoped>\n",
              "    .dataframe tbody tr th:only-of-type {\n",
              "        vertical-align: middle;\n",
              "    }\n",
              "\n",
              "    .dataframe tbody tr th {\n",
              "        vertical-align: top;\n",
              "    }\n",
              "\n",
              "    .dataframe thead th {\n",
              "        text-align: right;\n",
              "    }\n",
              "</style>\n",
              "<table border=\"1\" class=\"dataframe\">\n",
              "  <thead>\n",
              "    <tr style=\"text-align: right;\">\n",
              "      <th></th>\n",
              "      <th>MatchesPlayed</th>\n",
              "      <th>MatchesWon</th>\n",
              "      <th>MatchesLost</th>\n",
              "      <th>NoResult</th>\n",
              "      <th>Points</th>\n",
              "    </tr>\n",
              "    <tr>\n",
              "      <th>TeamName</th>\n",
              "      <th></th>\n",
              "      <th></th>\n",
              "      <th></th>\n",
              "      <th></th>\n",
              "      <th></th>\n",
              "    </tr>\n",
              "  </thead>\n",
              "  <tbody>\n",
              "    <tr>\n",
              "      <th>Mumbai Indians</th>\n",
              "      <td>16</td>\n",
              "      <td>11</td>\n",
              "      <td>5</td>\n",
              "      <td>0</td>\n",
              "      <td>22</td>\n",
              "    </tr>\n",
              "    <tr>\n",
              "      <th>Delhi Capitals</th>\n",
              "      <td>16</td>\n",
              "      <td>10</td>\n",
              "      <td>6</td>\n",
              "      <td>0</td>\n",
              "      <td>20</td>\n",
              "    </tr>\n",
              "  </tbody>\n",
              "</table>\n",
              "</div>"
            ],
            "text/plain": [
              "                MatchesPlayed  MatchesWon  MatchesLost  NoResult  Points\n",
              "TeamName                                                                \n",
              "Mumbai Indians             16          11            5         0      22\n",
              "Delhi Capitals             16          10            6         0      20"
            ]
          },
          "execution_count": 41,
          "metadata": {},
          "output_type": "execute_result"
        }
      ],
      "source": [
        "# code hdere\n",
        "df.head(1)\n",
        "def top_two(season):\n",
        "    \n",
        "    \n",
        "    df = pd.read_csv(\"https://docs.google.com/spreadsheets/d/e/2PACX-1vRy2DUdUbaKx_Co9F0FSnIlyS-8kp4aKv_I0-qzNeghiZHAI_hw94gKG22XTxNJHMFnFVKsO4xWOdIs/pub?gid=1655759976&single=true&output=csv\")\n",
        "\n",
        "    df.replace(\"Kings XI Punjab\",\"Punjab Kings\",inplace=True)\n",
        "    df.replace(\"Delhi Daredevils\",\"Delhi Capitals\",inplace=True)\n",
        "    df.replace(\"Rising Pune Supergiants\",\"Rising Pune Supergiant\",inplace=True)\n",
        "    \n",
        "    data={}\n",
        "    df1=df[df['Season']==season]\n",
        "    totalteams = list(df1['Team1'].value_counts().index)\n",
        "    teams2 = list(df1['Team2'].value_counts().index)    \n",
        "    totalteams.extend(teams2)    \n",
        "    totalteams = list(set(totalteams))\n",
        "    data['TeamName'] = totalteams\n",
        "    MatchesPlayed=[]\n",
        "    MatchesWon=[]\n",
        "    MatchesLost=[]\n",
        "    NoResult=[]\n",
        "    Points=[]\n",
        "    for team in totalteams:\n",
        "        team_data = df1[(df1['Team1']==team) | (df1['Team2']==team)]\n",
        "        MatchesPlayed.append(team_data.shape[0])\n",
        "        won=team_data[team_data['WinningTeam']==team].shape[0]\n",
        "        MatchesWon.append(won)\n",
        "        MatchesLost.append(team_data.shape[0]-won)\n",
        "        no_result = team_data[team_data['WinningTeam'].isnull()].shape[0]\n",
        "        NoResult.append(no_result)        \n",
        "        Points.append(won*2+no_result)    \n",
        "    data['MatchesPlayed']=MatchesPlayed\n",
        "    data['MatchesWon']=MatchesWon\n",
        "    data['MatchesLost']=MatchesLost\n",
        "    data['NoResult']=NoResult\n",
        "    data['Points']=Points\n",
        "    \n",
        "    \n",
        "    return data\n",
        "\n",
        "data = top_two('2019')\n",
        "res = pd.DataFrame(data).sort_values('Points',ascending=False)\n",
        "res.set_index(\"TeamName\").head(2)\n"
      ]
    },
    {
      "cell_type": "markdown",
      "metadata": {
        "id": "b7bf7YwqvIXj"
      },
      "source": [
        "###`Q-10:` IPL Point Table cont.\n",
        "Extend the above IPL Point Table with an extra column as `SeasonPosition`\n",
        "\n",
        "Team below top 4 after sorting on `Points` and then on `TeamName` Will have same `SeasonPosition` as there rank. use rank function.\n",
        "\n",
        "Teams in Top four will have `SeasonPosition` as:\n",
        "```\n",
        "    'Winner' - Team won final\n",
        "    'Runner' - Team lost Final\n",
        "    3 - Losing Team in Qualifier2\n",
        "    4 - Losing Team in Eliminator\n",
        "```\n",
        "\n",
        "For changing value of pariticular cell use `df.at[row_index, col_label] = value`\n",
        "\n",
        "Output of two Top 2 in season 2022. Your result should have all teams.\n",
        "```\n",
        "TeamName    MatchesPlayed\tMatchesWon\tNoResult\tPoints   SeasonPosition\n",
        "\n",
        "Gujarat Titans\t    16\t   12\t       0\t     24         Winner\n",
        "Rajasthan Royals\t  17\t   10\t       0\t     20         Runner\n",
        "\n",
        "```\n",
        "\n",
        "Note: If you try to chnage value of view of any dataframe a warnig will be shown. To avoid it, make a copy of the dataframe you want to change in by `df.copy()`"
      ]
    },
    {
      "cell_type": "code",
      "execution_count": 77,
      "metadata": {
        "id": "ugZsBQiAvI5V"
      },
      "outputs": [
        {
          "data": {
            "text/html": [
              "<div>\n",
              "<style scoped>\n",
              "    .dataframe tbody tr th:only-of-type {\n",
              "        vertical-align: middle;\n",
              "    }\n",
              "\n",
              "    .dataframe tbody tr th {\n",
              "        vertical-align: top;\n",
              "    }\n",
              "\n",
              "    .dataframe thead th {\n",
              "        text-align: right;\n",
              "    }\n",
              "</style>\n",
              "<table border=\"1\" class=\"dataframe\">\n",
              "  <thead>\n",
              "    <tr style=\"text-align: right;\">\n",
              "      <th></th>\n",
              "      <th>MatchesPlayed</th>\n",
              "      <th>MatchesWon</th>\n",
              "      <th>MatchesLost</th>\n",
              "      <th>NoResult</th>\n",
              "      <th>Points</th>\n",
              "      <th>Rank</th>\n",
              "      <th>SeasonPostion</th>\n",
              "    </tr>\n",
              "    <tr>\n",
              "      <th>TeamName</th>\n",
              "      <th></th>\n",
              "      <th></th>\n",
              "      <th></th>\n",
              "      <th></th>\n",
              "      <th></th>\n",
              "      <th></th>\n",
              "      <th></th>\n",
              "    </tr>\n",
              "  </thead>\n",
              "  <tbody>\n",
              "    <tr>\n",
              "      <th>Mumbai Indians</th>\n",
              "      <td>16</td>\n",
              "      <td>11</td>\n",
              "      <td>5</td>\n",
              "      <td>0</td>\n",
              "      <td>22</td>\n",
              "      <td>1</td>\n",
              "      <td>Winner</td>\n",
              "    </tr>\n",
              "    <tr>\n",
              "      <th>Chennai Super Kings</th>\n",
              "      <td>17</td>\n",
              "      <td>10</td>\n",
              "      <td>7</td>\n",
              "      <td>0</td>\n",
              "      <td>20</td>\n",
              "      <td>2</td>\n",
              "      <td>Runner</td>\n",
              "    </tr>\n",
              "    <tr>\n",
              "      <th>Delhi Capitals</th>\n",
              "      <td>16</td>\n",
              "      <td>10</td>\n",
              "      <td>6</td>\n",
              "      <td>0</td>\n",
              "      <td>20</td>\n",
              "      <td>3</td>\n",
              "      <td>3</td>\n",
              "    </tr>\n",
              "    <tr>\n",
              "      <th>Sunrisers Hyderabad</th>\n",
              "      <td>15</td>\n",
              "      <td>6</td>\n",
              "      <td>9</td>\n",
              "      <td>0</td>\n",
              "      <td>12</td>\n",
              "      <td>4</td>\n",
              "      <td>4</td>\n",
              "    </tr>\n",
              "    <tr>\n",
              "      <th>Kolkata Knight Riders</th>\n",
              "      <td>14</td>\n",
              "      <td>6</td>\n",
              "      <td>8</td>\n",
              "      <td>0</td>\n",
              "      <td>12</td>\n",
              "      <td>5</td>\n",
              "      <td>5</td>\n",
              "    </tr>\n",
              "  </tbody>\n",
              "</table>\n",
              "</div>"
            ],
            "text/plain": [
              "                       MatchesPlayed  MatchesWon  MatchesLost  NoResult  \\\n",
              "TeamName                                                                  \n",
              "Mumbai Indians                    16          11            5         0   \n",
              "Chennai Super Kings               17          10            7         0   \n",
              "Delhi Capitals                    16          10            6         0   \n",
              "Sunrisers Hyderabad               15           6            9         0   \n",
              "Kolkata Knight Riders             14           6            8         0   \n",
              "\n",
              "                       Points  Rank SeasonPostion  \n",
              "TeamName                                           \n",
              "Mumbai Indians             22     1        Winner  \n",
              "Chennai Super Kings        20     2        Runner  \n",
              "Delhi Capitals             20     3             3  \n",
              "Sunrisers Hyderabad        12     4             4  \n",
              "Kolkata Knight Riders      12     5             5  "
            ]
          },
          "execution_count": 77,
          "metadata": {},
          "output_type": "execute_result"
        }
      ],
      "source": [
        "# code here\n",
        "\n",
        "data = res.copy()\n",
        "data.reset_index(inplace=True)\n",
        "data.sort_values(by=['Points','MatchesPlayed', ], ascending=[False, False],inplace=True)\n",
        "data['Rank'] = data['Points'].rank(method='first',ascending=False).astype(int)\n",
        "data = data.drop(columns=['index'])\n",
        "data['SeasonPostion']=data['Rank'].apply(lambda x: \"Winner\" if x==1 else (\"Runner\" if x==2 else x))\n",
        "data.set_index('TeamName',inplace=True)\n",
        "data.head()"
      ]
    },
    {
      "cell_type": "code",
      "execution_count": null,
      "metadata": {},
      "outputs": [],
      "source": []
    }
  ],
  "metadata": {
    "colab": {
      "provenance": []
    },
    "kernelspec": {
      "display_name": "Python 3",
      "name": "python3"
    },
    "language_info": {
      "codemirror_mode": {
        "name": "ipython",
        "version": 3
      },
      "file_extension": ".py",
      "mimetype": "text/x-python",
      "name": "python",
      "nbconvert_exporter": "python",
      "pygments_lexer": "ipython3",
      "version": "3.11.4"
    }
  },
  "nbformat": 4,
  "nbformat_minor": 0
}
