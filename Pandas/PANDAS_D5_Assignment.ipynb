{
  "cells": [
    {
      "cell_type": "code",
      "execution_count": 1,
      "metadata": {
        "id": "tWO36cIgWlev"
      },
      "outputs": [],
      "source": [
        "import pandas as pd\n",
        "import numpy as np"
      ]
    },
    {
      "cell_type": "markdown",
      "metadata": {
        "id": "zMEk5SAYWqbG"
      },
      "source": [
        "DATA DESCRIPTION\n",
        "```\n",
        "file name -> Columns\n",
        "quater-i.csv -> ['order_id', 'quantity', 'item_id', 'choice_description_id' 'item_price']\n",
        "items.csv -> ['item_id', 'item_name']\n",
        "```\n",
        "Dataset Link - https://drive.google.com/drive/folders/1Z0kaFybvgFeczeUj4dldUnhTdloLqLsL?usp=share_link"
      ]
    },
    {
      "cell_type": "code",
      "execution_count": 160,
      "metadata": {
        "id": "5qxjEvSwfDkI"
      },
      "outputs": [
        {
          "data": {
            "text/html": [
              "<div>\n",
              "<style scoped>\n",
              "    .dataframe tbody tr th:only-of-type {\n",
              "        vertical-align: middle;\n",
              "    }\n",
              "\n",
              "    .dataframe tbody tr th {\n",
              "        vertical-align: top;\n",
              "    }\n",
              "\n",
              "    .dataframe thead th {\n",
              "        text-align: right;\n",
              "    }\n",
              "</style>\n",
              "<table border=\"1\" class=\"dataframe\">\n",
              "  <thead>\n",
              "    <tr style=\"text-align: right;\">\n",
              "      <th></th>\n",
              "      <th>item_id</th>\n",
              "      <th>item_name</th>\n",
              "    </tr>\n",
              "  </thead>\n",
              "  <tbody>\n",
              "    <tr>\n",
              "      <th>0</th>\n",
              "      <td>0</td>\n",
              "      <td>Chips and Fresh Tomato Salsa</td>\n",
              "    </tr>\n",
              "    <tr>\n",
              "      <th>1</th>\n",
              "      <td>1</td>\n",
              "      <td>Izze</td>\n",
              "    </tr>\n",
              "    <tr>\n",
              "      <th>2</th>\n",
              "      <td>2</td>\n",
              "      <td>Nantucket Nectar</td>\n",
              "    </tr>\n",
              "    <tr>\n",
              "      <th>3</th>\n",
              "      <td>3</td>\n",
              "      <td>Chips and Tomatillo-Green Chili Salsa</td>\n",
              "    </tr>\n",
              "    <tr>\n",
              "      <th>4</th>\n",
              "      <td>4</td>\n",
              "      <td>Chicken Bowl</td>\n",
              "    </tr>\n",
              "  </tbody>\n",
              "</table>\n",
              "</div>"
            ],
            "text/plain": [
              "   item_id                              item_name\n",
              "0        0           Chips and Fresh Tomato Salsa\n",
              "1        1                                   Izze\n",
              "2        2                       Nantucket Nectar\n",
              "3        3  Chips and Tomatillo-Green Chili Salsa\n",
              "4        4                           Chicken Bowl"
            ]
          },
          "execution_count": 160,
          "metadata": {},
          "output_type": "execute_result"
        }
      ],
      "source": [
        "# import like this\n",
        "items_path = \"D:\\\\PROJECT_PRACTISE_DIRS\\\\DSML_PRACTISE_FILES\\\\DATASETS\\\\items.csv\"\n",
        "q1_path = \"D:\\\\PROJECT_PRACTISE_DIRS\\\\DSML_PRACTISE_FILES\\\\DATASETS\\\\quarter-1.csv\"\n",
        "q2_path = \"D:\\\\PROJECT_PRACTISE_DIRS\\\\DSML_PRACTISE_FILES\\\\DATASETS\\\\quarter-2.csv\"\n",
        "q3_path = \"D:\\\\PROJECT_PRACTISE_DIRS\\\\DSML_PRACTISE_FILES\\\\DATASETS\\\\quarter-3.csv\"\n",
        "\n",
        "\n",
        "q1= pd.read_csv(q1_path)\n",
        "q2 = pd.read_csv(q2_path)\n",
        "q3 = pd.read_csv(q3_path)\n",
        "\n",
        "items = pd.read_csv(items_path)\n",
        "items.head()"
      ]
    },
    {
      "cell_type": "markdown",
      "metadata": {
        "id": "zEhub0BcW1Ma"
      },
      "source": [
        "###`Q:1-5`\n",
        "1. You are given three quater files, your job is to append these three files and make a single dataframe.\n",
        "2. Have a index as Q-1 Q-2 Q-3 for respective quater files in the dataframe\n",
        "3. Your are given a file items.csv which has item_id and item_name. Find out most sold items in each quarter.\n",
        "4. Find out items which has made most revenue in each quarter.\n",
        "5. Find out avg order price of each quarter.\n",
        "\n",
        "***Note: item_price is given as str with $ sign, in earlier task you have converted this to rupees, here too first convert item_price field in rupees.***"
      ]
    },
    {
      "cell_type": "code",
      "execution_count": 162,
      "metadata": {
        "id": "nwICqy-RWyEf"
      },
      "outputs": [
        {
          "data": {
            "text/html": [
              "<div>\n",
              "<style scoped>\n",
              "    .dataframe tbody tr th:only-of-type {\n",
              "        vertical-align: middle;\n",
              "    }\n",
              "\n",
              "    .dataframe tbody tr th {\n",
              "        vertical-align: top;\n",
              "    }\n",
              "\n",
              "    .dataframe thead th {\n",
              "        text-align: right;\n",
              "    }\n",
              "</style>\n",
              "<table border=\"1\" class=\"dataframe\">\n",
              "  <thead>\n",
              "    <tr style=\"text-align: right;\">\n",
              "      <th></th>\n",
              "      <th>Quarter</th>\n",
              "      <th>order_id</th>\n",
              "      <th>quantity</th>\n",
              "      <th>item_id</th>\n",
              "      <th>choice_description_id</th>\n",
              "      <th>item_price</th>\n",
              "    </tr>\n",
              "  </thead>\n",
              "  <tbody>\n",
              "    <tr>\n",
              "      <th>0</th>\n",
              "      <td>Q-1</td>\n",
              "      <td>1</td>\n",
              "      <td>1</td>\n",
              "      <td>1</td>\n",
              "      <td>1</td>\n",
              "      <td>$3.39</td>\n",
              "    </tr>\n",
              "    <tr>\n",
              "      <th>1</th>\n",
              "      <td>Q-1</td>\n",
              "      <td>1</td>\n",
              "      <td>1</td>\n",
              "      <td>2</td>\n",
              "      <td>2</td>\n",
              "      <td>$3.39</td>\n",
              "    </tr>\n",
              "  </tbody>\n",
              "</table>\n",
              "</div>"
            ],
            "text/plain": [
              "  Quarter order_id quantity item_id choice_description_id item_price\n",
              "0     Q-1        1        1       1                     1     $3.39 \n",
              "1     Q-1        1        1       2                     2     $3.39 "
            ]
          },
          "execution_count": 162,
          "metadata": {},
          "output_type": "execute_result"
        }
      ],
      "source": [
        "\n",
        "# code her\n",
        "#1 and #2\n",
        "df = pd.concat([q1,q2,q3],axis=0,keys=['Q-1', 'Q-2', 'Q-3']).reset_index().drop('level_1', axis=1).rename(columns={'level_0':'Quarter'})\n",
        "\n",
        "df.head(2)\n"
      ]
    },
    {
      "cell_type": "code",
      "execution_count": null,
      "metadata": {},
      "outputs": [],
      "source": [
        "#3\n",
        "df.merge(items, left_on='item_id', right_on='item_id', how='inner').groupby(['Quarter','item_name']).aggregate(ITEM_COUNT=('item_name','count'))"
      ]
    },
    {
      "cell_type": "code",
      "execution_count": 152,
      "metadata": {},
      "outputs": [
        {
          "data": {
            "text/html": [
              "<div>\n",
              "<style scoped>\n",
              "    .dataframe tbody tr th:only-of-type {\n",
              "        vertical-align: middle;\n",
              "    }\n",
              "\n",
              "    .dataframe tbody tr th {\n",
              "        vertical-align: top;\n",
              "    }\n",
              "\n",
              "    .dataframe thead th {\n",
              "        text-align: right;\n",
              "    }\n",
              "</style>\n",
              "<table border=\"1\" class=\"dataframe\">\n",
              "  <thead>\n",
              "    <tr style=\"text-align: right;\">\n",
              "      <th></th>\n",
              "      <th>index</th>\n",
              "      <th>Quarter</th>\n",
              "      <th>item_name</th>\n",
              "      <th>ITEM_COUNT</th>\n",
              "    </tr>\n",
              "  </thead>\n",
              "  <tbody>\n",
              "    <tr>\n",
              "      <th>0</th>\n",
              "      <td>17</td>\n",
              "      <td>Q-1</td>\n",
              "      <td>Chicken Bowl</td>\n",
              "      <td>351</td>\n",
              "    </tr>\n",
              "    <tr>\n",
              "      <th>1</th>\n",
              "      <td>18</td>\n",
              "      <td>Q-1</td>\n",
              "      <td>Chicken Burrito</td>\n",
              "      <td>269</td>\n",
              "    </tr>\n",
              "    <tr>\n",
              "      <th>2</th>\n",
              "      <td>25</td>\n",
              "      <td>Q-1</td>\n",
              "      <td>Chips and Guacamole</td>\n",
              "      <td>245</td>\n",
              "    </tr>\n",
              "    <tr>\n",
              "      <th>3</th>\n",
              "      <td>39</td>\n",
              "      <td>Q-1</td>\n",
              "      <td>Steak Burrito</td>\n",
              "      <td>184</td>\n",
              "    </tr>\n",
              "    <tr>\n",
              "      <th>4</th>\n",
              "      <td>10</td>\n",
              "      <td>Q-1</td>\n",
              "      <td>Canned Soft Drink</td>\n",
              "      <td>126</td>\n",
              "    </tr>\n",
              "  </tbody>\n",
              "</table>\n",
              "</div>"
            ],
            "text/plain": [
              "   index Quarter            item_name  ITEM_COUNT\n",
              "0     17     Q-1         Chicken Bowl         351\n",
              "1     18     Q-1      Chicken Burrito         269\n",
              "2     25     Q-1  Chips and Guacamole         245\n",
              "3     39     Q-1        Steak Burrito         184\n",
              "4     10     Q-1    Canned Soft Drink         126"
            ]
          },
          "execution_count": 152,
          "metadata": {},
          "output_type": "execute_result"
        }
      ],
      "source": [
        "df.head()"
      ]
    },
    {
      "cell_type": "code",
      "execution_count": 183,
      "metadata": {},
      "outputs": [
        {
          "data": {
            "text/html": [
              "<div>\n",
              "<style scoped>\n",
              "    .dataframe tbody tr th:only-of-type {\n",
              "        vertical-align: middle;\n",
              "    }\n",
              "\n",
              "    .dataframe tbody tr th {\n",
              "        vertical-align: top;\n",
              "    }\n",
              "\n",
              "    .dataframe thead th {\n",
              "        text-align: right;\n",
              "    }\n",
              "</style>\n",
              "<table border=\"1\" class=\"dataframe\">\n",
              "  <thead>\n",
              "    <tr style=\"text-align: right;\">\n",
              "      <th></th>\n",
              "      <th>Quarter</th>\n",
              "      <th>item_id</th>\n",
              "      <th>item_price</th>\n",
              "      <th>item_name</th>\n",
              "    </tr>\n",
              "  </thead>\n",
              "  <tbody>\n",
              "    <tr>\n",
              "      <th>4</th>\n",
              "      <td>Q-1</td>\n",
              "      <td>4</td>\n",
              "      <td>3525.72</td>\n",
              "      <td>Chicken Bowl</td>\n",
              "    </tr>\n",
              "    <tr>\n",
              "      <th>53</th>\n",
              "      <td>Q-2</td>\n",
              "      <td>4</td>\n",
              "      <td>3817.01</td>\n",
              "      <td>Chicken Bowl</td>\n",
              "    </tr>\n",
              "  </tbody>\n",
              "</table>\n",
              "</div>"
            ],
            "text/plain": [
              "   Quarter  item_id  item_price     item_name\n",
              "4      Q-1        4     3525.72  Chicken Bowl\n",
              "53     Q-2        4     3817.01  Chicken Bowl"
            ]
          },
          "execution_count": 183,
          "metadata": {},
          "output_type": "execute_result"
        }
      ],
      "source": [
        "#4\n",
        "df = pd.concat([q1,q2,q3],axis=0,keys=['Q-1', 'Q-2', 'Q-3']).reset_index().drop('level_1', axis=1).rename(columns={'level_0':'Quarter'})\n",
        "df['item_price']=df['item_price'].apply(lambda x:x.split('$')[1]).astype(float)\n",
        "df.merge(items, left_on='item_id', right_on='item_id', how='inner').groupby(['Quarter','item_id']).agg({\n",
        "    'item_price':'sum',\n",
        "}).reset_index().merge(items, left_on='item_id', right_on='item_id', how='inner').sort_values(by=['Quarter','item_price'],ascending=[True,False]).groupby('Quarter').head(1)"
      ]
    },
    {
      "cell_type": "code",
      "execution_count": 185,
      "metadata": {},
      "outputs": [
        {
          "data": {
            "text/html": [
              "<div>\n",
              "<style scoped>\n",
              "    .dataframe tbody tr th:only-of-type {\n",
              "        vertical-align: middle;\n",
              "    }\n",
              "\n",
              "    .dataframe tbody tr th {\n",
              "        vertical-align: top;\n",
              "    }\n",
              "\n",
              "    .dataframe thead th {\n",
              "        text-align: right;\n",
              "    }\n",
              "</style>\n",
              "<table border=\"1\" class=\"dataframe\">\n",
              "  <thead>\n",
              "    <tr style=\"text-align: right;\">\n",
              "      <th></th>\n",
              "      <th>item_price</th>\n",
              "    </tr>\n",
              "    <tr>\n",
              "      <th>Quarter</th>\n",
              "      <th></th>\n",
              "    </tr>\n",
              "  </thead>\n",
              "  <tbody>\n",
              "    <tr>\n",
              "      <th>Q-1</th>\n",
              "      <td>7.577138</td>\n",
              "    </tr>\n",
              "    <tr>\n",
              "      <th>Q-2</th>\n",
              "      <td>7.354994</td>\n",
              "    </tr>\n",
              "  </tbody>\n",
              "</table>\n",
              "</div>"
            ],
            "text/plain": [
              "         item_price\n",
              "Quarter            \n",
              "Q-1        7.577138\n",
              "Q-2        7.354994"
            ]
          },
          "execution_count": 185,
          "metadata": {},
          "output_type": "execute_result"
        }
      ],
      "source": [
        "#5. Find out avg order price of each quarter.\n",
        "\n",
        "df = pd.concat([q1,q2,q3],axis=0,keys=['Q-1', 'Q-2', 'Q-3']).reset_index().drop('level_1', axis=1).rename(columns={'level_0':'Quarter'})\n",
        "df['item_price']=df['item_price'].apply(lambda x:x.split('$')[1]).astype(float)\n",
        "df.groupby('Quarter').agg({'item_price':'mean'})\n",
        "\n"
      ]
    },
    {
      "cell_type": "markdown",
      "metadata": {
        "id": "IRg-rNsDW-Ca"
      },
      "source": [
        "###`Q-6` From the IPL wala dataset you have to find the Purple cap holder each season.\n",
        "\n",
        "*Note: Bowler with most no wickets in a season gets purple cap. If more than one bowler have same no of wickets in the season, one with least ecomnomy among them is purple cap holder.*\n",
        "\n",
        "Bowler's Economy = runs-conceded per six balls"
      ]
    },
    {
      "cell_type": "code",
      "execution_count": null,
      "metadata": {},
      "outputs": [],
      "source": []
    },
    {
      "cell_type": "code",
      "execution_count": null,
      "metadata": {
        "id": "yQeUfliHXKJm"
      },
      "outputs": [],
      "source": [
        "# code here"
      ]
    },
    {
      "cell_type": "markdown",
      "metadata": {
        "id": "pmJJB0Q6XMWy"
      },
      "source": [
        "###`Q-7:` Best bowler in death overs.\n",
        "*Note: Have taken most no of wickets in case of tie with least economy*\n",
        "\n",
        "Death Overs - [16-20]"
      ]
    },
    {
      "cell_type": "code",
      "execution_count": null,
      "metadata": {
        "id": "s2t1IXf-XLak"
      },
      "outputs": [],
      "source": [
        "# code here"
      ]
    },
    {
      "cell_type": "markdown",
      "metadata": {
        "id": "BHU3PYRTXbPc"
      },
      "source": [
        "###`Q-8` Batsman record season wise\n",
        "\n",
        "Make a function which takes a input `batsman_name` and it returns a dataframe.\n",
        "Columns of the data frame are - `['Season','Innings', 'TotalRuns', 'Avg', 'HighestScore','StrikeRate']`.\n",
        "* In result make `Season` column as index.\n",
        "\n",
        "* Avg - total_runs/ no of time got out. - player_out column will help.\n",
        "* StrikeRate -(total_runs/ balls faced) * 100- wides are not included in batsman ball faced counts. No balls are included. -> Extra_type column will help\n",
        "* Batsman Can score runs on No Balls.\n",
        "* Batsman can get out on No Ball or Wides. And even while being on non-striker. Keep these things in mind before masking."
      ]
    },
    {
      "cell_type": "code",
      "execution_count": null,
      "metadata": {
        "id": "3RQTt5ELXdbH"
      },
      "outputs": [],
      "source": [
        "# code here"
      ]
    },
    {
      "cell_type": "markdown",
      "metadata": {
        "id": "jMyy5LcUXjUA"
      },
      "source": [
        "###`Q-9` Using both dataset, make a dataframe as described below\n",
        "\n",
        "Data Frame columns-> `['PlayerOfThematch', 'BattingFigure', 'BowlingFigure']`\n",
        "\n",
        "* BattingFigure->`<runs>/<balls>`\n",
        "* BowlingFigure->`<wicket>/<runs-conceded>`\n",
        "\n",
        "DataFrame should have one record for each match.\n",
        "\n",
        "Say 'V Kohli' got POM award then in dataset include his batting figure of that match. Say he scored 112runs in 76 balls. And he hasn't bowled so Bowling Figure will be NaN\n",
        "```\n",
        "PlayerOfThematch BattingFigure BowlingFigure\n",
        "V Kohli          112/76         nan  \n",
        "\n",
        "```\n"
      ]
    },
    {
      "cell_type": "code",
      "execution_count": null,
      "metadata": {
        "id": "uh36R6AZXn82"
      },
      "outputs": [],
      "source": [
        "# code here"
      ]
    },
    {
      "cell_type": "markdown",
      "metadata": {
        "id": "iljGaXfzXq1t"
      },
      "source": [
        "## **Questions Based on Iris Dataset**\n",
        "\n",
        "- **Sepal All:** https://docs.google.com/spreadsheets/d/e/2PACX-1vT58ekmHTwptX7Bs4QOy6YByA1HMvYTACeeIjrKhHE0Pg1K_3egewHMKMh02zN9D5-yHVXfvuaa3s5u/pub?gid=2028782809&single=true&output=csv\n",
        "    - **Unnamed: 0:** Unused column. This column is created when creating this sub-dataset.\n",
        "    - **Id:** Id of the records.\n",
        "    - **SepalLengthCm:** Sepal length of flowers in cm\n",
        "    - **SepalWidthCm:** Sepal width of flowers in cm\n",
        "\n",
        "- **Petal All:** https://docs.google.com/spreadsheets/d/e/2PACX-1vQinLXShrOz4ExNaW1bSQVuvbbhIzJW7G0kkkD2SvqSD6STjLrQQiftgI7BGe10sBZi0CNr2_sJpQAz/pub?gid=1580010789&single=true&output=csv\n",
        "    - **Unnamed: 0:** Unused column. This column is created when creating this sub-dataset.\n",
        "    - **Id:** Id of the records.\n",
        "    - **PetalLengthCm:** Petal length of flowers in cm\n",
        "    - **PetalWidthCm:** Petal width of flowers in cm\n",
        "\n",
        "- **Iris Virginica:** https://docs.google.com/spreadsheets/d/e/2PACX-1vSK39MwduGPHYNgw5yViezoLYCVDKMCWIHzjnt3GZNaxHPFOQLr2q6no_tyqTsOk-VfXleslfGVe9eJ/pub?gid=314231613&single=true&output=csv\n",
        "    - **Unnamed: 0:** Unused column. This column is created when creating the sub-dataset.\n",
        "    - **Id:** Id of the records.\n",
        "    - **Species:** Name of this species.\n",
        "\n",
        "- **Iris Versicolor:** https://docs.google.com/spreadsheets/d/e/2PACX-1vTcSFgLnabqIrgIc5WlwvnbbvyyJsgZjR-0E0-4TR-5aHgv_0EP6yNWglkkls3AXM2qHCR5VYzWCoTM/pub?gid=715607857&single=true&output=csv\n",
        "    - **Unnamed: 0:** Unused column. This column is created when creating the sub-dataset.\n",
        "    - **Id:** Id of the records.\n",
        "    - **Species:** Name of this species.\n",
        "\n",
        "- **Iris Setosa:** https://docs.google.com/spreadsheets/d/e/2PACX-1vSjqJpdgy2X_oDUUqQ0sSaFKqnnf8MYU4KgJSYgHaHmq0Wb1weMOsJXh-rICHmkLcaTkOwzMYLeh959/pub?gid=2003684803&single=true&output=csv\n",
        "    - **Unnamed 0:** Unused column. This column is created when creating the sub-dataset.\n",
        "    - **Id:** Id of the records.\n",
        "    - **Species:** Name of this species."
      ]
    },
    {
      "cell_type": "code",
      "execution_count": null,
      "metadata": {
        "id": "nY1khG0XXp1X"
      },
      "outputs": [],
      "source": [
        "import pandas as pd\n",
        "sepal_all = pd.read_csv(\"https://docs.google.com/spreadsheets/d/e/2PACX-1vT58ekmHTwptX7Bs4QOy6YByA1HMvYTACeeIjrKhHE0Pg1K_3egewHMKMh02zN9D5-yHVXfvuaa3s5u/pub?gid=2028782809&single=true&output=csv\")\n",
        "petal_all = pd.read_csv(\"https://docs.google.com/spreadsheets/d/e/2PACX-1vQinLXShrOz4ExNaW1bSQVuvbbhIzJW7G0kkkD2SvqSD6STjLrQQiftgI7BGe10sBZi0CNr2_sJpQAz/pub?gid=1580010789&single=true&output=csv\")\n",
        "\n",
        "virginica = pd.read_csv(\"https://docs.google.com/spreadsheets/d/e/2PACX-1vSK39MwduGPHYNgw5yViezoLYCVDKMCWIHzjnt3GZNaxHPFOQLr2q6no_tyqTsOk-VfXleslfGVe9eJ/pub?gid=314231613&single=true&output=csv\")\n",
        "versicolor = pd.read_csv(\"https://docs.google.com/spreadsheets/d/e/2PACX-1vTcSFgLnabqIrgIc5WlwvnbbvyyJsgZjR-0E0-4TR-5aHgv_0EP6yNWglkkls3AXM2qHCR5VYzWCoTM/pub?gid=715607857&single=true&output=csv\")\n",
        "setosa = pd.read_csv(\"https://docs.google.com/spreadsheets/d/e/2PACX-1vSjqJpdgy2X_oDUUqQ0sSaFKqnnf8MYU4KgJSYgHaHmq0Wb1weMOsJXh-rICHmkLcaTkOwzMYLeh959/pub?gid=2003684803&single=true&output=csv\")\n"
      ]
    },
    {
      "cell_type": "markdown",
      "metadata": {
        "id": "R6jqy4GQX4RI"
      },
      "source": [
        "### `Q-9:` Plot a bar chart of the average Sepal Length  of Virginica and average Petal length of Setosa flower."
      ]
    },
    {
      "cell_type": "code",
      "execution_count": null,
      "metadata": {
        "id": "zTx5S3yiX15D"
      },
      "outputs": [],
      "source": [
        "# code here"
      ]
    },
    {
      "cell_type": "markdown",
      "metadata": {
        "id": "ecWHo_gsYAT2"
      },
      "source": [
        "### `Q-10:` Create the complete dataset by uisng the below datasets:\n",
        "- virginica\n",
        "- versicolor\n",
        "- setosa\n",
        "- sepal all\n",
        "- petal all\n",
        "\n",
        "This dataset should have these below column names in order:\n",
        "1. Id\n",
        "2. Species\n",
        "3. SepalLengthCm\n",
        "4. SepalWidthCm\n",
        "5. PetalLengthCm\n",
        "6. PetalWidthCm\n",
        "\n",
        "Also, the dataset should be shuffled means the `Id` column should not be in increasing or decreasing order. So, make a dataset which has the shuffled Id column. You can use `DataFrame.sample()` method to shuffle."
      ]
    },
    {
      "cell_type": "code",
      "execution_count": null,
      "metadata": {
        "id": "PsWBn7g3YDRZ"
      },
      "outputs": [],
      "source": [
        "# code here"
      ]
    },
    {
      "cell_type": "markdown",
      "metadata": {
        "id": "FLlBdChyYHtw"
      },
      "source": [
        "### `Q-11:` Find out the maximum and minimum sepal width and petal width of Setosa and Versicolor. To do this:\n",
        "- First create a dataset with merging the required datasets\n",
        "- After that, use `groupby` to create groups based on the \"Species\" column.\n",
        "- Then find out which are asked in this question.\n",
        "\n",
        "\n",
        "The output should be like this:\n",
        "```bash\n",
        "Minimum Sepal width of Setosa is 2.3\n",
        "Maximum Sepal width of Setosa is 4.4\n",
        "\n",
        "**************************************************\n",
        "\n",
        "Minimum Sepal width of Versicolor is 2.0\n",
        "Maximum Sepal width of Versicolor is 3.4\n",
        "\n",
        "**************************************************\n",
        "```"
      ]
    },
    {
      "cell_type": "code",
      "execution_count": null,
      "metadata": {
        "id": "T7toJgSkYIIF"
      },
      "outputs": [],
      "source": [
        "# code here"
      ]
    }
  ],
  "metadata": {
    "colab": {
      "provenance": []
    },
    "kernelspec": {
      "display_name": "Python 3",
      "name": "python3"
    },
    "language_info": {
      "codemirror_mode": {
        "name": "ipython",
        "version": 3
      },
      "file_extension": ".py",
      "mimetype": "text/x-python",
      "name": "python",
      "nbconvert_exporter": "python",
      "pygments_lexer": "ipython3",
      "version": "3.11.4"
    }
  },
  "nbformat": 4,
  "nbformat_minor": 0
}
