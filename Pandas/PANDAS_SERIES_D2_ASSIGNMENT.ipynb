{
  "cells": [
    {
      "cell_type": "code",
      "execution_count": 1,
      "metadata": {
        "id": "u7ShJC6QbJOo"
      },
      "outputs": [
        {
          "data": {
            "text/plain": [
              "'https://raw.githubusercontent.com/justmarkham/DAT8/master/data/chipotle.tsv'"
            ]
          },
          "execution_count": 1,
          "metadata": {},
          "output_type": "execute_result"
        }
      ],
      "source": [
        "\"https://raw.githubusercontent.com/justmarkham/DAT8/master/data/chipotle.tsv\""
      ]
    },
    {
      "cell_type": "markdown",
      "metadata": {
        "id": "sM-WXcZmbTCW"
      },
      "source": [
        "## Basic DataFrame\n",
        "\n",
        "Consider the following Python dictionary data and Python list labels:\n",
        "\n",
        "```\n",
        "data = {'birds': ['Cranes', 'Cranes', 'plovers', 'spoonbills', 'spoonbills', 'Cranes', 'plovers', 'Cranes', 'spoonbills', 'spoonbills', 'Cranes'],\n",
        "        'age': [3.5, 4, 1.5, np.nan, 6, 3, 5.5, np.nan, 8, 4, 3.5], 'visits': [2, 4, 3, 4, 3, 4, 2, 2, 3, 2, 2],\n",
        "        'priority': ['yes', 'yes', 'no', np.nan, 'no', 'no', 'no', 'yes', 'no', 'no','yes']}\n",
        "```\n",
        "```\n",
        "labels = ['a', 'b', 'c', 'd', 'e', 'f', 'g', 'h', 'i', 'j', 'k']\n",
        "```"
      ]
    },
    {
      "cell_type": "markdown",
      "metadata": {
        "id": "fbl_dILPbZ9e"
      },
      "source": [
        "###`Q-1:`\n",
        "i. Create a DataFrame birds from the above dictionary data which has the index labels.\n",
        "\n",
        "ii. Display basic information about the dataFrame.\n",
        "\n",
        "iii. Show Alternate rows of the dataframe."
      ]
    },
    {
      "cell_type": "code",
      "execution_count": 2,
      "metadata": {
        "id": "FsGlueHWbZCr"
      },
      "outputs": [
        {
          "name": "stdout",
          "output_type": "stream",
          "text": [
            "    birds  age  visits priority\n",
            "a  Cranes  3.5       2      yes\n",
            "b  Cranes  4.0       4      yes\n",
            "        birds  age  visits priority\n",
            "a      Cranes  3.5       2      yes\n",
            "c     plovers  1.5       3       no\n",
            "e  spoonbills  6.0       3       no\n",
            "g     plovers  5.5       2       no\n",
            "i  spoonbills  8.0       3       no\n",
            "k      Cranes  3.5       2      yes\n"
          ]
        }
      ],
      "source": [
        "# code here\n",
        "import pandas as pd\n",
        "import numpy as np\n",
        "data = {'birds': ['Cranes', 'Cranes', 'plovers', 'spoonbills', 'spoonbills', 'Cranes', 'plovers', 'Cranes', 'spoonbills', 'spoonbills', 'Cranes'],\n",
        "        'age': [3.5, 4, 1.5, np.nan, 6, 3, 5.5, np.nan, 8, 4, 3.5], 'visits': [2, 4, 3, 4, 3, 4, 2, 2, 3, 2, 2],\n",
        "        'priority': ['yes', 'yes', 'no', np.nan, 'no', 'no', 'no', 'yes', 'no', 'no','yes']}\n",
        "labels = ['a', 'b', 'c', 'd', 'e', 'f', 'g', 'h', 'i', 'j', 'k']\n",
        "\n",
        "\n",
        "df = pd.DataFrame(data,index=labels)\n",
        "\n",
        "#i. Create a DataFrame birds from the above dictionary data which has the index labels.\n",
        "#ii. Display basic information about the dataFrame.\n",
        "print(df.head(2))\n",
        "#iii. Show Alternate rows of the dataframe.\n",
        "print(df[::2])\n"
      ]
    },
    {
      "cell_type": "markdown",
      "metadata": {
        "id": "06X1G_sbbe2K"
      },
      "source": [
        "###`Q-2:`\n",
        "i. Show only rows [1st, 3rd, 7th] from columns ['bird', 'age']\n",
        "\n",
        "ii. Select rows where the number of visits is less than 4."
      ]
    },
    {
      "cell_type": "code",
      "execution_count": 3,
      "metadata": {
        "id": "5ceryOqrbhB6"
      },
      "outputs": [
        {
          "name": "stdout",
          "output_type": "stream",
          "text": [
            "        birds  age\n",
            "b      Cranes  4.0\n",
            "d  spoonbills  NaN\n",
            "h      Cranes  NaN\n",
            "\n",
            "\n",
            "        birds  age  visits priority\n",
            "a      Cranes  3.5       2      yes\n",
            "c     plovers  1.5       3       no\n",
            "e  spoonbills  6.0       3       no\n",
            "g     plovers  5.5       2       no\n",
            "h      Cranes  NaN       2      yes\n",
            "i  spoonbills  8.0       3       no\n",
            "j  spoonbills  4.0       2       no\n",
            "k      Cranes  3.5       2      yes\n",
            "\n",
            "\n"
          ]
        }
      ],
      "source": [
        "# code here\n",
        "#i. Show only rows [1st, 3rd, 7th] from columns ['bird', 'age']\n",
        "rows = [1, 3, 7]\n",
        "columns = ['birds', 'age']\n",
        "print(df.iloc[rows][columns])\n",
        "print(\"\\n\")\n",
        "\n",
        "#ii. Select rows where the number of visits is less than 4.\n",
        "print(df[df['visits']<4])\n",
        "print(\"\\n\")\n"
      ]
    },
    {
      "cell_type": "markdown",
      "metadata": {
        "id": "biVrhUo2biZm"
      },
      "source": [
        "###`Q-3:`\n",
        "i. Select all rows with nan values in age and visits column.\n",
        "\n",
        "ii. Fill nan with respective series mode value."
      ]
    },
    {
      "cell_type": "code",
      "execution_count": 4,
      "metadata": {
        "id": "Qe8KrN_UbkPW"
      },
      "outputs": [
        {
          "data": {
            "text/html": [
              "<div>\n",
              "<style scoped>\n",
              "    .dataframe tbody tr th:only-of-type {\n",
              "        vertical-align: middle;\n",
              "    }\n",
              "\n",
              "    .dataframe tbody tr th {\n",
              "        vertical-align: top;\n",
              "    }\n",
              "\n",
              "    .dataframe thead th {\n",
              "        text-align: right;\n",
              "    }\n",
              "</style>\n",
              "<table border=\"1\" class=\"dataframe\">\n",
              "  <thead>\n",
              "    <tr style=\"text-align: right;\">\n",
              "      <th></th>\n",
              "      <th>birds</th>\n",
              "      <th>age</th>\n",
              "      <th>visits</th>\n",
              "      <th>priority</th>\n",
              "      <th>age_handler</th>\n",
              "    </tr>\n",
              "  </thead>\n",
              "  <tbody>\n",
              "    <tr>\n",
              "      <th>a</th>\n",
              "      <td>Cranes</td>\n",
              "      <td>3.5</td>\n",
              "      <td>2</td>\n",
              "      <td>yes</td>\n",
              "      <td>NaN</td>\n",
              "    </tr>\n",
              "    <tr>\n",
              "      <th>b</th>\n",
              "      <td>Cranes</td>\n",
              "      <td>4.0</td>\n",
              "      <td>4</td>\n",
              "      <td>yes</td>\n",
              "      <td>NaN</td>\n",
              "    </tr>\n",
              "    <tr>\n",
              "      <th>c</th>\n",
              "      <td>plovers</td>\n",
              "      <td>1.5</td>\n",
              "      <td>3</td>\n",
              "      <td>no</td>\n",
              "      <td>NaN</td>\n",
              "    </tr>\n",
              "    <tr>\n",
              "      <th>d</th>\n",
              "      <td>spoonbills</td>\n",
              "      <td>NaN</td>\n",
              "      <td>4</td>\n",
              "      <td>NaN</td>\n",
              "      <td>NaN</td>\n",
              "    </tr>\n",
              "    <tr>\n",
              "      <th>e</th>\n",
              "      <td>spoonbills</td>\n",
              "      <td>6.0</td>\n",
              "      <td>3</td>\n",
              "      <td>no</td>\n",
              "      <td>NaN</td>\n",
              "    </tr>\n",
              "    <tr>\n",
              "      <th>f</th>\n",
              "      <td>Cranes</td>\n",
              "      <td>3.0</td>\n",
              "      <td>4</td>\n",
              "      <td>no</td>\n",
              "      <td>NaN</td>\n",
              "    </tr>\n",
              "    <tr>\n",
              "      <th>g</th>\n",
              "      <td>plovers</td>\n",
              "      <td>5.5</td>\n",
              "      <td>2</td>\n",
              "      <td>no</td>\n",
              "      <td>NaN</td>\n",
              "    </tr>\n",
              "    <tr>\n",
              "      <th>h</th>\n",
              "      <td>Cranes</td>\n",
              "      <td>NaN</td>\n",
              "      <td>2</td>\n",
              "      <td>yes</td>\n",
              "      <td>NaN</td>\n",
              "    </tr>\n",
              "    <tr>\n",
              "      <th>i</th>\n",
              "      <td>spoonbills</td>\n",
              "      <td>8.0</td>\n",
              "      <td>3</td>\n",
              "      <td>no</td>\n",
              "      <td>NaN</td>\n",
              "    </tr>\n",
              "    <tr>\n",
              "      <th>j</th>\n",
              "      <td>spoonbills</td>\n",
              "      <td>4.0</td>\n",
              "      <td>2</td>\n",
              "      <td>no</td>\n",
              "      <td>NaN</td>\n",
              "    </tr>\n",
              "    <tr>\n",
              "      <th>k</th>\n",
              "      <td>Cranes</td>\n",
              "      <td>3.5</td>\n",
              "      <td>2</td>\n",
              "      <td>yes</td>\n",
              "      <td>NaN</td>\n",
              "    </tr>\n",
              "  </tbody>\n",
              "</table>\n",
              "</div>"
            ],
            "text/plain": [
              "        birds  age  visits priority  age_handler\n",
              "a      Cranes  3.5       2      yes          NaN\n",
              "b      Cranes  4.0       4      yes          NaN\n",
              "c     plovers  1.5       3       no          NaN\n",
              "d  spoonbills  NaN       4      NaN          NaN\n",
              "e  spoonbills  6.0       3       no          NaN\n",
              "f      Cranes  3.0       4       no          NaN\n",
              "g     plovers  5.5       2       no          NaN\n",
              "h      Cranes  NaN       2      yes          NaN\n",
              "i  spoonbills  8.0       3       no          NaN\n",
              "j  spoonbills  4.0       2       no          NaN\n",
              "k      Cranes  3.5       2      yes          NaN"
            ]
          },
          "execution_count": 4,
          "metadata": {},
          "output_type": "execute_result"
        }
      ],
      "source": [
        "# code here\n",
        "#i. Select all rows with nan values in age and visits column.\n",
        "df[df['age'].isna()]\n",
        "#ii. Fill nan with respective series mode value.\n",
        "df['age_handler']=df['age'].mode()\n",
        "df"
      ]
    },
    {
      "cell_type": "markdown",
      "metadata": {
        "id": "PcYTOjqUblrF"
      },
      "source": [
        "###`Q-4`\n",
        "i. Find the total number of visits of the bird Cranes\n",
        "\n",
        "ii. Find the number of each type of birds in dataframe.\n",
        "\n",
        "iii. Print no of duplicate rows\n",
        "\n",
        "iv. Drop Duplicates rows and make this changes permanent. Show dataframe after changes."
      ]
    },
    {
      "cell_type": "code",
      "execution_count": 5,
      "metadata": {
        "id": "O92x1vp0bngT"
      },
      "outputs": [
        {
          "name": "stdout",
          "output_type": "stream",
          "text": [
            "i. Find the total number of visits of the bird Cranes\n",
            "    birds  visits\n",
            "a  Cranes       2\n",
            "b  Cranes       4\n",
            "f  Cranes       4\n",
            "h  Cranes       2\n",
            "k  Cranes       2\n",
            "total number of visists\n",
            " 14\n",
            "\n",
            " ii. Find the number of each type of birds in dataframe.\n",
            "\n",
            " birds\n",
            "Cranes        5\n",
            "spoonbills    4\n",
            "plovers       2\n",
            "Name: count, dtype: int64\n",
            "\n",
            " iii. Print no of duplicate rows\n",
            "\n",
            "     birds  age  visits priority  age_handler\n",
            "k  Cranes  3.5       2      yes          NaN\n",
            "\n",
            "Total Duplicates birds          1\n",
            "age            1\n",
            "visits         1\n",
            "priority       1\n",
            "age_handler    0\n",
            "dtype: int64\n",
            "\n",
            " iv. Drop Duplicates rows and make this changes permanent. Show dataframe after changes.\n",
            "\n",
            "Total Duplicates birds          0\n",
            "age            0\n",
            "visits         0\n",
            "priority       0\n",
            "age_handler    0\n",
            "dtype: int64\n"
          ]
        },
        {
          "data": {
            "text/html": [
              "<div>\n",
              "<style scoped>\n",
              "    .dataframe tbody tr th:only-of-type {\n",
              "        vertical-align: middle;\n",
              "    }\n",
              "\n",
              "    .dataframe tbody tr th {\n",
              "        vertical-align: top;\n",
              "    }\n",
              "\n",
              "    .dataframe thead th {\n",
              "        text-align: right;\n",
              "    }\n",
              "</style>\n",
              "<table border=\"1\" class=\"dataframe\">\n",
              "  <thead>\n",
              "    <tr style=\"text-align: right;\">\n",
              "      <th></th>\n",
              "      <th>birds</th>\n",
              "      <th>age</th>\n",
              "      <th>visits</th>\n",
              "      <th>priority</th>\n",
              "      <th>age_handler</th>\n",
              "    </tr>\n",
              "  </thead>\n",
              "  <tbody>\n",
              "    <tr>\n",
              "      <th>a</th>\n",
              "      <td>Cranes</td>\n",
              "      <td>3.5</td>\n",
              "      <td>2</td>\n",
              "      <td>yes</td>\n",
              "      <td>NaN</td>\n",
              "    </tr>\n",
              "    <tr>\n",
              "      <th>b</th>\n",
              "      <td>Cranes</td>\n",
              "      <td>4.0</td>\n",
              "      <td>4</td>\n",
              "      <td>yes</td>\n",
              "      <td>NaN</td>\n",
              "    </tr>\n",
              "    <tr>\n",
              "      <th>c</th>\n",
              "      <td>plovers</td>\n",
              "      <td>1.5</td>\n",
              "      <td>3</td>\n",
              "      <td>no</td>\n",
              "      <td>NaN</td>\n",
              "    </tr>\n",
              "    <tr>\n",
              "      <th>d</th>\n",
              "      <td>spoonbills</td>\n",
              "      <td>NaN</td>\n",
              "      <td>4</td>\n",
              "      <td>NaN</td>\n",
              "      <td>NaN</td>\n",
              "    </tr>\n",
              "    <tr>\n",
              "      <th>e</th>\n",
              "      <td>spoonbills</td>\n",
              "      <td>6.0</td>\n",
              "      <td>3</td>\n",
              "      <td>no</td>\n",
              "      <td>NaN</td>\n",
              "    </tr>\n",
              "    <tr>\n",
              "      <th>f</th>\n",
              "      <td>Cranes</td>\n",
              "      <td>3.0</td>\n",
              "      <td>4</td>\n",
              "      <td>no</td>\n",
              "      <td>NaN</td>\n",
              "    </tr>\n",
              "    <tr>\n",
              "      <th>g</th>\n",
              "      <td>plovers</td>\n",
              "      <td>5.5</td>\n",
              "      <td>2</td>\n",
              "      <td>no</td>\n",
              "      <td>NaN</td>\n",
              "    </tr>\n",
              "    <tr>\n",
              "      <th>h</th>\n",
              "      <td>Cranes</td>\n",
              "      <td>NaN</td>\n",
              "      <td>2</td>\n",
              "      <td>yes</td>\n",
              "      <td>NaN</td>\n",
              "    </tr>\n",
              "    <tr>\n",
              "      <th>i</th>\n",
              "      <td>spoonbills</td>\n",
              "      <td>8.0</td>\n",
              "      <td>3</td>\n",
              "      <td>no</td>\n",
              "      <td>NaN</td>\n",
              "    </tr>\n",
              "    <tr>\n",
              "      <th>j</th>\n",
              "      <td>spoonbills</td>\n",
              "      <td>4.0</td>\n",
              "      <td>2</td>\n",
              "      <td>no</td>\n",
              "      <td>NaN</td>\n",
              "    </tr>\n",
              "  </tbody>\n",
              "</table>\n",
              "</div>"
            ],
            "text/plain": [
              "        birds  age  visits priority  age_handler\n",
              "a      Cranes  3.5       2      yes          NaN\n",
              "b      Cranes  4.0       4      yes          NaN\n",
              "c     plovers  1.5       3       no          NaN\n",
              "d  spoonbills  NaN       4      NaN          NaN\n",
              "e  spoonbills  6.0       3       no          NaN\n",
              "f      Cranes  3.0       4       no          NaN\n",
              "g     plovers  5.5       2       no          NaN\n",
              "h      Cranes  NaN       2      yes          NaN\n",
              "i  spoonbills  8.0       3       no          NaN\n",
              "j  spoonbills  4.0       2       no          NaN"
            ]
          },
          "execution_count": 5,
          "metadata": {},
          "output_type": "execute_result"
        }
      ],
      "source": [
        "# code here\n",
        "print(\"i. Find the total number of visits of the bird Cranes\")\n",
        "print(df[df['birds']=='Cranes'][['birds','visits']])\n",
        "\n",
        "print(\"total number of visists\\n\",df[df['birds']=='Cranes']['visits'].sum())\n",
        "\n",
        "print(\"\\n ii. Find the number of each type of birds in dataframe.\")\n",
        "print(\"\\n\",df['birds'].value_counts())\n",
        "\n",
        "print(\"\\n iii. Print no of duplicate rows\")\n",
        "print(\"\\n\",df[df.duplicated()])\n",
        "print(\"\\nTotal Duplicates\",df[df.duplicated()].count())\n",
        "\n",
        "print(\"\\n iv. Drop Duplicates rows and make this changes permanent. Show dataframe after changes.\")\n",
        "df.drop_duplicates(inplace=True)\n",
        "print(\"\\nTotal Duplicates\",df[df.duplicated()].count())\n",
        "df\n",
        "\n"
      ]
    },
    {
      "cell_type": "markdown",
      "metadata": {
        "id": "sqOZLR5YbpD3"
      },
      "source": [
        "##Question on IPL Data\n",
        "\n",
        "IPL Data Link :  https://drive.google.com/file/d/1yKVUuexl6lIKuFQy7uIPgDgXhJ0L4SIg/view?usp=share_link\n",
        "\n",
        "https://www.kaggle.com/datasets/vora1011/ipl-2008-to-2021-all-match-dataset?select=IPL_Matches_2008_2022.csv\n",
        "\n",
        "Download ipl matches 2008-2022 file."
      ]
    },
    {
      "cell_type": "markdown",
      "metadata": {
        "id": "MCNrLdLxbvuq"
      },
      "source": [
        "###`Q-5:` In IPL matches dataset some teams name has changed.\n",
        "You will have to consider them as same.\n",
        "```\n",
        "'Delhi Capitals' formerly as 'Delhi Daredevils'\n",
        "'Punjab Kings' formerly as 'Kings XI Punjab'\n",
        "'Rising Pune Supergiant' formerly as 'Rising Pune Supergiants'\n",
        "```\n",
        "You need to make changes accordingly. Consider current name for each teams.\n",
        "\n",
        "Be careful Gujrat Titans and Gujrat Lions are different teams."
      ]
    },
    {
      "cell_type": "code",
      "execution_count": 6,
      "metadata": {
        "id": "gf1uEhRlbunm"
      },
      "outputs": [
        {
          "name": "stdout",
          "output_type": "stream",
          "text": [
            "0\n",
            "92\n",
            "0\n"
          ]
        }
      ],
      "source": [
        "# code here\n",
        "def change_team(value):\n",
        "    if value == 'Delhi Daredevils':\n",
        "        return 'Delhi Capitals'\n",
        "    elif value == 'Kings XI Punjab':\n",
        "        return 'Punjab Kings'\n",
        "    elif value == 'Rising Pune Supergiants':\n",
        "        return 'Rising Pune Supergiant'\n",
        "    else:\n",
        "        return value\n",
        "        \n",
        "df1 =  pd.read_csv(\"D:\\\\PROJECT_PRACTISE_DIRS\\\\DSML_PRACTISE_FILES\\\\DATASETS\\\\IPL_Matches_2008_2022.csv\")\n",
        "df2 =  pd.read_csv(\"D:\\\\PROJECT_PRACTISE_DIRS\\\\DSML_PRACTISE_FILES\\\\DATASETS\\\\IPL_Matches_2008_2022.csv\")\n",
        "\n",
        "\n",
        "df1['Team1'] = df1['Team1'].apply((change_team))\n",
        "df1['Team2'] = df1['Team2'].apply((change_team))\n",
        "df1['TossWinner'] = df1['TossWinner'].apply((change_team))\n",
        "df1['WinningTeam'] = df1['WinningTeam'].apply((change_team))\n",
        "\n",
        "df1.head()\n",
        "\n",
        "total_count1 = df1[df1['Team1'] == 'Kings XI Punjab'].count()['Team1']\n",
        "print(total_count1)\n",
        "\n",
        "total_count2 = df2[df2['Team1'] == 'Kings XI Punjab'].count()['Team1']\n",
        "print(total_count2)\n",
        "\n",
        "#Method 2 using replace\n",
        "\n",
        "df2.replace(\"Kings XI Punjab\",\"Punjab Kings\",inplace=True)\n",
        "df2.replace(\"Delhi Daredevils\",\"Delhi Capitals\",inplace=True)\n",
        "df2.replace(\"Rising Pune Supergiants\",\"Rising Pune Supergiant\",inplace=True)\n",
        "\n",
        "\n",
        "total_count3 = df2[df2['Team1'] == 'Kings XI Punjab'].count()['Team1']\n",
        "print(total_count3)"
      ]
    },
    {
      "cell_type": "markdown",
      "metadata": {
        "id": "vL5TaqJxbzUd"
      },
      "source": [
        "###`Q-6` Write a code which can display the bar chart of top 5 teams who have played maximum number of matches in the IPL.\n",
        ">  Hint: Be careful the data is divided in 2 different cols(Team 1 and Team 2)\n"
      ]
    },
    {
      "cell_type": "code",
      "execution_count": 7,
      "metadata": {
        "id": "wqUs7AFbb1x_"
      },
      "outputs": [
        {
          "data": {
            "text/plain": [
              "Mumbai Indians                 231\n",
              "Royal Challengers Bangalore    226\n",
              "Delhi Capitals                 224\n",
              "Kolkata Knight Riders          223\n",
              "Punjab Kings                   218\n",
              "Chennai Super Kings            208\n",
              "Rajasthan Royals               192\n",
              "Sunrisers Hyderabad            152\n",
              "Deccan Chargers                 75\n",
              "Pune Warriors                   46\n",
              "Gujarat Lions                   30\n",
              "Rising Pune Supergiant          30\n",
              "Gujarat Titans                  16\n",
              "Lucknow Super Giants            15\n",
              "Kochi Tuskers Kerala            14\n",
              "Name: count, dtype: int64"
            ]
          },
          "execution_count": 7,
          "metadata": {},
          "output_type": "execute_result"
        }
      ],
      "source": [
        "# code here\n",
        "total_matches = df1['Team1'].value_counts() + df1['Team2'].value_counts()\n",
        "total_matches.sort_values(ascending=False)"
      ]
    },
    {
      "cell_type": "markdown",
      "metadata": {
        "id": "VORfLMaVb3E2"
      },
      "source": [
        "###`Q-7:` Player who got Most no. of player of the match award playing against Mumbai Indians.\n",
        "> Just for this question assume player of the match award is given to players from winning team. Although this is true in most of the cases.\n"
      ]
    },
    {
      "cell_type": "code",
      "execution_count": 8,
      "metadata": {
        "id": "9e5ZROJgb5ie"
      },
      "outputs": [
        {
          "name": "stdout",
          "output_type": "stream",
          "text": [
            "RG Sharma 15\n"
          ]
        },
        {
          "name": "stderr",
          "output_type": "stream",
          "text": [
            "C:\\Users\\Adari Shanmukh\\AppData\\Local\\Temp\\ipykernel_20036\\3128018944.py:3: FutureWarning: Series.__getitem__ treating keys as positions is deprecated. In a future version, integer keys will always be treated as labels (consistent with DataFrame behavior). To access a value by position, use `ser.iloc[pos]`\n",
            "  print(mom.index[0],mom[0])\n"
          ]
        }
      ],
      "source": [
        "# code here\n",
        "mom = df1[((df1['Team1']=='Mumbai Indians') | (df1['Team2']=='Mumbai Indians')) & (df1['WinningTeam']=='Mumbai Indians')]['Player_of_Match'].value_counts().sort_values(ascending=False)\n",
        "print(mom.index[0],mom[0])\n"
      ]
    },
    {
      "cell_type": "markdown",
      "metadata": {
        "id": "cFLzm0egb7AT"
      },
      "source": [
        "###`Q-8:` Team1 vs Team2 Dashbord\n",
        "Create a function which will take two string(name of two teams) as input. Show win Loss record between them and player getting most player of the match award in matches between these two teams.\n",
        "```\n",
        "team1_vs_team2('Kolkata Knight Riders','Chennai Super Kings')\n",
        "```"
      ]
    },
    {
      "cell_type": "code",
      "execution_count": 80,
      "metadata": {
        "id": "2szkRN5Ab9Py"
      },
      "outputs": [
        {
          "name": "stdout",
          "output_type": "stream",
          "text": [
            "({'Royal Challengers Bangalore': 34.48275862068966}, {'Chennai Super Kings': 65.51724137931035}, {'MOM': 'SK Raina', 'mom_count': 3})\n"
          ]
        },
        {
          "name": "stderr",
          "output_type": "stream",
          "text": [
            "C:\\Users\\Adari Shanmukh\\AppData\\Local\\Temp\\ipykernel_20036\\190876174.py:10: FutureWarning: Series.__getitem__ treating keys as positions is deprecated. In a future version, integer keys will always be treated as labels (consistent with DataFrame behavior). To access a value by position, use `ser.iloc[pos]`\n",
            "  mom_count =  df3['Player_of_Match'].value_counts().sort_values(ascending=False)[0]\n"
          ]
        }
      ],
      "source": [
        "# code here\n",
        "df1.head()\n",
        "team1='Royal Challengers Bangalore'\n",
        "team2= 'Chennai Super Kings'\n",
        "def team1_vs_team2(team1,team2):\n",
        "    df3 = df1[(df1['Team1'].isin([team1,team2]) & df1['Team2'].isin([team1,team2]))]\n",
        "    winpercentage=(df3[df3['WinningTeam'] == team1].shape[0] / df3.shape[0] )* 100\n",
        "    losspercentage = 100 - winpercentage\n",
        "    mom =  df3['Player_of_Match'].value_counts().sort_values(ascending=False).index[0]\n",
        "    mom_count =  df3['Player_of_Match'].value_counts().sort_values(ascending=False)[0]\n",
        "    \n",
        "    winpercentage = {team1:winpercentage}\n",
        "    losspercentage = {team2:losspercentage}\n",
        "    mom = {\"MOM\":mom,'mom_count':mom_count}\n",
        "    return winpercentage,losspercentage,mom\n",
        "     \n",
        "result = team1_vs_team2(team1,team2)\n",
        "print(result)"
      ]
    },
    {
      "cell_type": "markdown",
      "metadata": {
        "id": "sb0c3Gc1b-bd"
      },
      "source": [
        "### `Q-9:` Find out the top 7 cities where the matches of Kolkata Knight Riders are played frequently and plot the result as bar chart.\n",
        "\n",
        "*`.plot(kind = \"bar\")` can help you to plot the bar chart. Also you can learn more about this method from [here](https://pandas.pydata.org/docs/reference/api/pandas.DataFrame.plot.html)*\n",
        "\n"
      ]
    },
    {
      "cell_type": "code",
      "execution_count": 95,
      "metadata": {
        "id": "FH-Pq14ncAZy"
      },
      "outputs": [
        {
          "name": "stdout",
          "output_type": "stream",
          "text": [
            "Kolkata\n"
          ]
        },
        {
          "data": {
            "text/html": [
              "<div>\n",
              "<style scoped>\n",
              "    .dataframe tbody tr th:only-of-type {\n",
              "        vertical-align: middle;\n",
              "    }\n",
              "\n",
              "    .dataframe tbody tr th {\n",
              "        vertical-align: top;\n",
              "    }\n",
              "\n",
              "    .dataframe thead th {\n",
              "        text-align: right;\n",
              "    }\n",
              "</style>\n",
              "<table border=\"1\" class=\"dataframe\">\n",
              "  <thead>\n",
              "    <tr style=\"text-align: right;\">\n",
              "      <th></th>\n",
              "      <th>ID</th>\n",
              "      <th>City</th>\n",
              "      <th>Date</th>\n",
              "      <th>Season</th>\n",
              "      <th>MatchNumber</th>\n",
              "      <th>Team1</th>\n",
              "      <th>Team2</th>\n",
              "      <th>Venue</th>\n",
              "      <th>TossWinner</th>\n",
              "      <th>TossDecision</th>\n",
              "      <th>SuperOver</th>\n",
              "      <th>WinningTeam</th>\n",
              "      <th>WonBy</th>\n",
              "      <th>Margin</th>\n",
              "      <th>method</th>\n",
              "      <th>Player_of_Match</th>\n",
              "      <th>Team1Players</th>\n",
              "      <th>Team2Players</th>\n",
              "      <th>Umpire1</th>\n",
              "      <th>Umpire2</th>\n",
              "    </tr>\n",
              "  </thead>\n",
              "  <tbody>\n",
              "    <tr>\n",
              "      <th>0</th>\n",
              "      <td>1312200</td>\n",
              "      <td>Ahmedabad</td>\n",
              "      <td>2022-05-29</td>\n",
              "      <td>2022</td>\n",
              "      <td>Final</td>\n",
              "      <td>Rajasthan Royals</td>\n",
              "      <td>Gujarat Titans</td>\n",
              "      <td>Narendra Modi Stadium, Ahmedabad</td>\n",
              "      <td>Rajasthan Royals</td>\n",
              "      <td>bat</td>\n",
              "      <td>N</td>\n",
              "      <td>Gujarat Titans</td>\n",
              "      <td>Wickets</td>\n",
              "      <td>7.0</td>\n",
              "      <td>NaN</td>\n",
              "      <td>HH Pandya</td>\n",
              "      <td>['YBK Jaiswal', 'JC Buttler', 'SV Samson', 'D ...</td>\n",
              "      <td>['WP Saha', 'Shubman Gill', 'MS Wade', 'HH Pan...</td>\n",
              "      <td>CB Gaffaney</td>\n",
              "      <td>Nitin Menon</td>\n",
              "    </tr>\n",
              "    <tr>\n",
              "      <th>1</th>\n",
              "      <td>1312199</td>\n",
              "      <td>Ahmedabad</td>\n",
              "      <td>2022-05-27</td>\n",
              "      <td>2022</td>\n",
              "      <td>Qualifier 2</td>\n",
              "      <td>Royal Challengers Bangalore</td>\n",
              "      <td>Rajasthan Royals</td>\n",
              "      <td>Narendra Modi Stadium, Ahmedabad</td>\n",
              "      <td>Rajasthan Royals</td>\n",
              "      <td>field</td>\n",
              "      <td>N</td>\n",
              "      <td>Rajasthan Royals</td>\n",
              "      <td>Wickets</td>\n",
              "      <td>7.0</td>\n",
              "      <td>NaN</td>\n",
              "      <td>JC Buttler</td>\n",
              "      <td>['V Kohli', 'F du Plessis', 'RM Patidar', 'GJ ...</td>\n",
              "      <td>['YBK Jaiswal', 'JC Buttler', 'SV Samson', 'D ...</td>\n",
              "      <td>CB Gaffaney</td>\n",
              "      <td>Nitin Menon</td>\n",
              "    </tr>\n",
              "    <tr>\n",
              "      <th>2</th>\n",
              "      <td>1312198</td>\n",
              "      <td>Kolkata</td>\n",
              "      <td>2022-05-25</td>\n",
              "      <td>2022</td>\n",
              "      <td>Eliminator</td>\n",
              "      <td>Royal Challengers Bangalore</td>\n",
              "      <td>Lucknow Super Giants</td>\n",
              "      <td>Eden Gardens, Kolkata</td>\n",
              "      <td>Lucknow Super Giants</td>\n",
              "      <td>field</td>\n",
              "      <td>N</td>\n",
              "      <td>Royal Challengers Bangalore</td>\n",
              "      <td>Runs</td>\n",
              "      <td>14.0</td>\n",
              "      <td>NaN</td>\n",
              "      <td>RM Patidar</td>\n",
              "      <td>['V Kohli', 'F du Plessis', 'RM Patidar', 'GJ ...</td>\n",
              "      <td>['Q de Kock', 'KL Rahul', 'M Vohra', 'DJ Hooda...</td>\n",
              "      <td>J Madanagopal</td>\n",
              "      <td>MA Gough</td>\n",
              "    </tr>\n",
              "    <tr>\n",
              "      <th>3</th>\n",
              "      <td>1312197</td>\n",
              "      <td>Kolkata</td>\n",
              "      <td>2022-05-24</td>\n",
              "      <td>2022</td>\n",
              "      <td>Qualifier 1</td>\n",
              "      <td>Rajasthan Royals</td>\n",
              "      <td>Gujarat Titans</td>\n",
              "      <td>Eden Gardens, Kolkata</td>\n",
              "      <td>Gujarat Titans</td>\n",
              "      <td>field</td>\n",
              "      <td>N</td>\n",
              "      <td>Gujarat Titans</td>\n",
              "      <td>Wickets</td>\n",
              "      <td>7.0</td>\n",
              "      <td>NaN</td>\n",
              "      <td>DA Miller</td>\n",
              "      <td>['YBK Jaiswal', 'JC Buttler', 'SV Samson', 'D ...</td>\n",
              "      <td>['WP Saha', 'Shubman Gill', 'MS Wade', 'HH Pan...</td>\n",
              "      <td>BNJ Oxenford</td>\n",
              "      <td>VK Sharma</td>\n",
              "    </tr>\n",
              "    <tr>\n",
              "      <th>4</th>\n",
              "      <td>1304116</td>\n",
              "      <td>Mumbai</td>\n",
              "      <td>2022-05-22</td>\n",
              "      <td>2022</td>\n",
              "      <td>70</td>\n",
              "      <td>Sunrisers Hyderabad</td>\n",
              "      <td>Punjab Kings</td>\n",
              "      <td>Wankhede Stadium, Mumbai</td>\n",
              "      <td>Sunrisers Hyderabad</td>\n",
              "      <td>bat</td>\n",
              "      <td>N</td>\n",
              "      <td>Punjab Kings</td>\n",
              "      <td>Wickets</td>\n",
              "      <td>5.0</td>\n",
              "      <td>NaN</td>\n",
              "      <td>Harpreet Brar</td>\n",
              "      <td>['PK Garg', 'Abhishek Sharma', 'RA Tripathi', ...</td>\n",
              "      <td>['JM Bairstow', 'S Dhawan', 'M Shahrukh Khan',...</td>\n",
              "      <td>AK Chaudhary</td>\n",
              "      <td>NA Patwardhan</td>\n",
              "    </tr>\n",
              "  </tbody>\n",
              "</table>\n",
              "</div>"
            ],
            "text/plain": [
              "        ID       City        Date Season  MatchNumber  \\\n",
              "0  1312200  Ahmedabad  2022-05-29   2022        Final   \n",
              "1  1312199  Ahmedabad  2022-05-27   2022  Qualifier 2   \n",
              "2  1312198    Kolkata  2022-05-25   2022   Eliminator   \n",
              "3  1312197    Kolkata  2022-05-24   2022  Qualifier 1   \n",
              "4  1304116     Mumbai  2022-05-22   2022           70   \n",
              "\n",
              "                         Team1                 Team2  \\\n",
              "0             Rajasthan Royals        Gujarat Titans   \n",
              "1  Royal Challengers Bangalore      Rajasthan Royals   \n",
              "2  Royal Challengers Bangalore  Lucknow Super Giants   \n",
              "3             Rajasthan Royals        Gujarat Titans   \n",
              "4          Sunrisers Hyderabad          Punjab Kings   \n",
              "\n",
              "                              Venue            TossWinner TossDecision  \\\n",
              "0  Narendra Modi Stadium, Ahmedabad      Rajasthan Royals          bat   \n",
              "1  Narendra Modi Stadium, Ahmedabad      Rajasthan Royals        field   \n",
              "2             Eden Gardens, Kolkata  Lucknow Super Giants        field   \n",
              "3             Eden Gardens, Kolkata        Gujarat Titans        field   \n",
              "4          Wankhede Stadium, Mumbai   Sunrisers Hyderabad          bat   \n",
              "\n",
              "  SuperOver                  WinningTeam    WonBy  Margin method  \\\n",
              "0         N               Gujarat Titans  Wickets     7.0    NaN   \n",
              "1         N             Rajasthan Royals  Wickets     7.0    NaN   \n",
              "2         N  Royal Challengers Bangalore     Runs    14.0    NaN   \n",
              "3         N               Gujarat Titans  Wickets     7.0    NaN   \n",
              "4         N                 Punjab Kings  Wickets     5.0    NaN   \n",
              "\n",
              "  Player_of_Match                                       Team1Players  \\\n",
              "0       HH Pandya  ['YBK Jaiswal', 'JC Buttler', 'SV Samson', 'D ...   \n",
              "1      JC Buttler  ['V Kohli', 'F du Plessis', 'RM Patidar', 'GJ ...   \n",
              "2      RM Patidar  ['V Kohli', 'F du Plessis', 'RM Patidar', 'GJ ...   \n",
              "3       DA Miller  ['YBK Jaiswal', 'JC Buttler', 'SV Samson', 'D ...   \n",
              "4   Harpreet Brar  ['PK Garg', 'Abhishek Sharma', 'RA Tripathi', ...   \n",
              "\n",
              "                                        Team2Players        Umpire1  \\\n",
              "0  ['WP Saha', 'Shubman Gill', 'MS Wade', 'HH Pan...    CB Gaffaney   \n",
              "1  ['YBK Jaiswal', 'JC Buttler', 'SV Samson', 'D ...    CB Gaffaney   \n",
              "2  ['Q de Kock', 'KL Rahul', 'M Vohra', 'DJ Hooda...  J Madanagopal   \n",
              "3  ['WP Saha', 'Shubman Gill', 'MS Wade', 'HH Pan...   BNJ Oxenford   \n",
              "4  ['JM Bairstow', 'S Dhawan', 'M Shahrukh Khan',...   AK Chaudhary   \n",
              "\n",
              "         Umpire2  \n",
              "0    Nitin Menon  \n",
              "1    Nitin Menon  \n",
              "2       MA Gough  \n",
              "3      VK Sharma  \n",
              "4  NA Patwardhan  "
            ]
          },
          "execution_count": 95,
          "metadata": {},
          "output_type": "execute_result"
        }
      ],
      "source": [
        "# code here\n",
        "\n",
        "df4 = df1[(df1['Team1'] == 'Kolkata Knight Riders') | (df1['Team2'] == 'Kolkata Knight Riders')]\n",
        "frequent_venue = df4['City'].value_counts().sort_values(ascending=False).index[0]\n",
        "print(frequent_venue)\n",
        "df1.head()"
      ]
    },
    {
      "cell_type": "markdown",
      "metadata": {
        "id": "NPiPNoJUcBmk"
      },
      "source": [
        "### `Q-10:` Find out the average margin for the team Mumbai Indians for only the session 2011."
      ]
    },
    {
      "cell_type": "code",
      "execution_count": 106,
      "metadata": {
        "id": "WPbS12ThcEAj"
      },
      "outputs": [
        {
          "data": {
            "text/html": [
              "<div>\n",
              "<style scoped>\n",
              "    .dataframe tbody tr th:only-of-type {\n",
              "        vertical-align: middle;\n",
              "    }\n",
              "\n",
              "    .dataframe tbody tr th {\n",
              "        vertical-align: top;\n",
              "    }\n",
              "\n",
              "    .dataframe thead th {\n",
              "        text-align: right;\n",
              "    }\n",
              "</style>\n",
              "<table border=\"1\" class=\"dataframe\">\n",
              "  <thead>\n",
              "    <tr style=\"text-align: right;\">\n",
              "      <th></th>\n",
              "      <th>ID</th>\n",
              "      <th>Margin</th>\n",
              "    </tr>\n",
              "  </thead>\n",
              "  <tbody>\n",
              "    <tr>\n",
              "      <th>count</th>\n",
              "      <td>16.000000</td>\n",
              "      <td>16.000000</td>\n",
              "    </tr>\n",
              "    <tr>\n",
              "      <th>mean</th>\n",
              "      <td>501238.125000</td>\n",
              "      <td>19.250000</td>\n",
              "    </tr>\n",
              "    <tr>\n",
              "      <th>std</th>\n",
              "      <td>23.371992</td>\n",
              "      <td>19.443937</td>\n",
              "    </tr>\n",
              "    <tr>\n",
              "      <th>min</th>\n",
              "      <td>501201.000000</td>\n",
              "      <td>4.000000</td>\n",
              "    </tr>\n",
              "    <tr>\n",
              "      <th>25%</th>\n",
              "      <td>501220.250000</td>\n",
              "      <td>7.750000</td>\n",
              "    </tr>\n",
              "    <tr>\n",
              "      <th>50%</th>\n",
              "      <td>501239.000000</td>\n",
              "      <td>9.500000</td>\n",
              "    </tr>\n",
              "    <tr>\n",
              "      <th>75%</th>\n",
              "      <td>501257.750000</td>\n",
              "      <td>25.250000</td>\n",
              "    </tr>\n",
              "    <tr>\n",
              "      <th>max</th>\n",
              "      <td>501270.000000</td>\n",
              "      <td>76.000000</td>\n",
              "    </tr>\n",
              "  </tbody>\n",
              "</table>\n",
              "</div>"
            ],
            "text/plain": [
              "                  ID     Margin\n",
              "count      16.000000  16.000000\n",
              "mean   501238.125000  19.250000\n",
              "std        23.371992  19.443937\n",
              "min    501201.000000   4.000000\n",
              "25%    501220.250000   7.750000\n",
              "50%    501239.000000   9.500000\n",
              "75%    501257.750000  25.250000\n",
              "max    501270.000000  76.000000"
            ]
          },
          "execution_count": 106,
          "metadata": {},
          "output_type": "execute_result"
        }
      ],
      "source": [
        "# code here\n",
        "df5=df1[((df1['Team1']==\"Mumbai Indians\") | (df1['Team2']=='Mumbai Indians')) & (df1['Season']=='2011')]\n",
        "df5.describe()"
      ]
    },
    {
      "cell_type": "code",
      "execution_count": null,
      "metadata": {},
      "outputs": [],
      "source": []
    }
  ],
  "metadata": {
    "colab": {
      "provenance": []
    },
    "kernelspec": {
      "display_name": "Python 3",
      "language": "python",
      "name": "python3"
    },
    "language_info": {
      "codemirror_mode": {
        "name": "ipython",
        "version": 3
      },
      "file_extension": ".py",
      "mimetype": "text/x-python",
      "name": "python",
      "nbconvert_exporter": "python",
      "pygments_lexer": "ipython3",
      "version": "3.11.4"
    }
  },
  "nbformat": 4,
  "nbformat_minor": 0
}
