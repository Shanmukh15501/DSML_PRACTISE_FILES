{
 "cells": [
  {
   "cell_type": "markdown",
   "metadata": {},
   "source": [
    "# Probability and Statistics"
   ]
  },
  {
   "cell_type": "markdown",
   "metadata": {},
   "source": [
    "## Key Terms in Probability\n",
    "\n",
    "#### **Experiment**\n",
    "An experiment is a procedure or action that leads to one or more outcomes. For example, rolling a die, flipping a coin, or drawing a card are all experiments.\n",
    "\n",
    "#### **Sample Space (S)**\n",
    "The sample space is the set of all possible outcomes of an experiment. For example, for a coin flip, the sample space is:\n",
    "\n",
    "\\[\n",
    "S = \\{ \\text{Heads}, \\text{Tails} \\}\n",
    "\\]\n",
    "\n",
    "The sample space can be finite or infinite depending on the experiment.\n",
    "\n",
    "#### **Event**\n",
    "An event is any subset of the sample space. For example, if you roll a die, an event could be getting an even number, which is:\n",
    "\n",
    "\\[\n",
    "\\{ 2, 4, 6 \\}\n",
    "\\]\n",
    "\n",
    "#### **Trial**\n",
    "A trial is a single occurrence of an experiment. For example, flipping a coin is one trial, rolling a die is another trial. A trial can produce different outcomes depending on the experiment.\n",
    "\n",
    "#### **Outcome**\n",
    "An outcome is the result of a single trial. For example, if you roll a die and it shows \"3\", then \"3\" is the outcome of that trial.\n",
    "\n",
    "#### **Probability**\n",
    "Probability is the measure of the likelihood of an event occurring. It is a value between 0 (impossible event) and 1 (certain event).\n",
    "\n",
    "Formula for probability of an event:\n",
    "\n",
    "\\[\n",
    "P(\\text{Event}) = \\frac{\\text{Number of favorable outcomes}}{\\text{Total number of possible outcomes}}\n",
    "\\]\n",
    "\n",
    "For a fair coin, the probability of getting heads is:\n",
    "\n",
    "\\[\n",
    "P(\\text{Heads}) = \\frac{1}{2}\n",
    "\\]\n",
    "\n",
    "#### **Complementary Events**\n",
    "The complement of an event \\(A\\), denoted \\(A'\\), is the event that \\(A\\) does not happen. The sum of the probabilities of an event and its complement is always 1:\n",
    "\n",
    "\\[\n",
    "P(A) + P(A') = 1\n",
    "\\]\n",
    "\n",
    "#### **Independent vs. Dependent Events**\n",
    "\n",
    "- **Independent Events**: Two events are independent if the occurrence of one does not affect the occurrence of the other. For example, flipping a coin twice.\n",
    "\n",
    "- **Dependent Events**: Two events are dependent if the occurrence of one affects the probability of the other. For example, drawing two cards from a deck without replacement.\n"
   ]
  },
  {
   "cell_type": "markdown",
   "metadata": {},
   "source": [
    "### Summary of Set Operations in this Example\n",
    "\n",
    "| **Operation**            | **Symbol**   | **Meaning**                                              | **Result**                                                           |\n",
    "|--------------------------|--------------|----------------------------------------------------------|---------------------------------------------------------------------|\n",
    "| **Union**                | \\( A U B \\) | Activities that Ramesh or Suresh prefer (or both)         | \\{Reading, Watching TV, Cycling, Traveling, Football\\}               |\n",
    "| **Intersection**         | \\( A  ∩  B \\) | Activities that both Ramesh and Suresh prefer             | \\{Cycling, Watching TV, Traveling\\}                                  |\n",
    "| **Complement (Ramesh)**  | \\( A - B \\)   | Activities Ramesh prefers but Suresh does not             | \\{Reading\\}                                                          |\n",
    "| **Complement (Suresh)**  | \\( B - A \\)   | Activities Suresh prefers but Ramesh does not             | \\{Football\\}                                                         |\n"
   ]
  },
  {
   "cell_type": "markdown",
   "metadata": {},
   "source": [
    "************Refer to the problem statements in 1proability_notes1.pdf and then go to next cell************"
   ]
  },
  {
   "cell_type": "markdown",
   "metadata": {},
   "source": [
    "# What Is Joint Probability?\n",
    "- The term joint probability refers to a statistical measure that calculates the likelihood of two events occurring together and at the same point in time. \n",
    "- Both events must be independent of each other.\n",
    "- Joint probability is also called the intersection of two or more events.\n",
    "\n",
    "### Suppose we are interested in the following joint events in the Titanic dataset:\n",
    "\n",
    "- An individual is a survivor.\n",
    "- An individual is a female.\n",
    "- We want to calculate the joint probability of both events occurring together, i.e., the probability that a passenger is both a female and a survivor.\n",
    "\n",
    "- P(A∩B)= Number of passengers that are female and survived/Total number of passengers\n",
    "​\n",
    " \n"
   ]
  },
  {
   "cell_type": "code",
   "execution_count": 1,
   "metadata": {},
   "outputs": [
    {
     "name": "stdout",
     "output_type": "stream",
     "text": [
      "Joint Probability of Female and Survived: 0.2615\n"
     ]
    },
    {
     "data": {
      "text/html": [
       "<div>\n",
       "<style scoped>\n",
       "    .dataframe tbody tr th:only-of-type {\n",
       "        vertical-align: middle;\n",
       "    }\n",
       "\n",
       "    .dataframe tbody tr th {\n",
       "        vertical-align: top;\n",
       "    }\n",
       "\n",
       "    .dataframe thead th {\n",
       "        text-align: right;\n",
       "    }\n",
       "</style>\n",
       "<table border=\"1\" class=\"dataframe\">\n",
       "  <thead>\n",
       "    <tr style=\"text-align: right;\">\n",
       "      <th>Pclass</th>\n",
       "      <th>1</th>\n",
       "      <th>2</th>\n",
       "      <th>3</th>\n",
       "    </tr>\n",
       "    <tr>\n",
       "      <th>Survived</th>\n",
       "      <th></th>\n",
       "      <th></th>\n",
       "      <th></th>\n",
       "    </tr>\n",
       "  </thead>\n",
       "  <tbody>\n",
       "    <tr>\n",
       "      <th>0</th>\n",
       "      <td>0.089787</td>\n",
       "      <td>0.108866</td>\n",
       "      <td>0.417508</td>\n",
       "    </tr>\n",
       "    <tr>\n",
       "      <th>1</th>\n",
       "      <td>0.152637</td>\n",
       "      <td>0.097643</td>\n",
       "      <td>0.133558</td>\n",
       "    </tr>\n",
       "  </tbody>\n",
       "</table>\n",
       "</div>"
      ],
      "text/plain": [
       "Pclass           1         2         3\n",
       "Survived                              \n",
       "0         0.089787  0.108866  0.417508\n",
       "1         0.152637  0.097643  0.133558"
      ]
     },
     "execution_count": 1,
     "metadata": {},
     "output_type": "execute_result"
    }
   ],
   "source": [
    "import pandas as pd\n",
    "\n",
    "# Load the Titanic dataset\n",
    "url = \"https://raw.githubusercontent.com/datasciencedojo/datasets/master/titanic.csv\"\n",
    "df = pd.read_csv(url)\n",
    "\n",
    "# Calculate the joint probability (Female and Survived)\n",
    "female_survivors = df[(df['Sex'] == 'female') & (df['Survived'] == 1)].shape[0]\n",
    "total_passengers = df.shape[0]\n",
    "\n",
    "# Joint Probability: Female and Survived\n",
    "joint_probability = female_survivors / total_passengers\n",
    "\n",
    "print(f\"Joint Probability of Female and Survived: {joint_probability:.4f}\")\n",
    "pd.crosstab(df['Survived'],df['Pclass'],normalize='all')"
   ]
  },
  {
   "cell_type": "markdown",
   "metadata": {},
   "source": [
    "# What is Marginal Probability?\n",
    "- Marginal probability refers to the probability of an event occurring without considering any other events or conditions. It's the unconditional probability of an event, meaning it is calculated by summing the joint probabilities over all possible outcomes of the other variable(s).\n",
    "\n",
    "## In simple terms:\n",
    "\n",
    "- Marginal probability tells you the likelihood of a single event happening, regardless of the other events.\n",
    "- It is found by summing or integrating the joint probabilities across all possible values of the other random variables.\n",
    "\n",
    "## Problem Statement -2\n",
    " - Using the Titanic dataset, calculate the marginal probability of a passenger surviving (P(Survived = 1)) and the marginal probability of a passenger not surviving (P(Survived = 0)).\n",
    "\n"
   ]
  },
  {
   "cell_type": "code",
   "execution_count": 2,
   "metadata": {},
   "outputs": [
    {
     "name": "stdout",
     "output_type": "stream",
     "text": [
      "Marginal_probability Survived: 0.3838\n",
      "Marginal_probability not Survived: 0.6162\n"
     ]
    }
   ],
   "source": [
    "import pandas as pd\n",
    "\n",
    "# Load the Titanic dataset\n",
    "url = \"https://raw.githubusercontent.com/datasciencedojo/datasets/master/titanic.csv\"\n",
    "df = pd.read_csv(url)\n",
    "\n",
    "# Calculate the joint probability (Female and Survived)\n",
    "survivors = df[(df['Survived'] == 1)].shape[0]\n",
    "total_passengers = df.shape[0]\n",
    "\n",
    "# marginal_probability Survived\n",
    "marginal_probability = survivors / total_passengers\n",
    "\n",
    "print(f\"Marginal_probability Survived: {marginal_probability:.4f}\")\n",
    "print(f\"Marginal_probability not Survived: {1-marginal_probability:.4f}\")"
   ]
  },
  {
   "cell_type": "markdown",
   "metadata": {},
   "source": [
    "# Conditional Probability\n",
    "\n",
    "Conditional probability refers to the probability of an event occurring, given that another event has already occurred. In other words, it is the probability of an event \\( A \\) happening given that event \\( B \\) has already happened.\n",
    "\n",
    "It is denoted as:\n",
    "\n",
    "P(A / B) = P(A ∩ B)/P(B)\n",
    "\n",
    "Where:\n",
    "\n",
    "- P(A / B) is the conditional probability of event \\( A \\) given \\( B \\).\n",
    "- P(A ∩ B)is the probability of both events \\( A \\) and \\( B \\) occurring (the intersection).\n",
    "- \\( P(B) \\) is the probability of event \\( B \\) occurring.\n",
    "\n",
    "Problem Statement:-\n",
    "- \"What is the probability that a  passenger survived, given that they are male passengers?\" \n",
    "- \"What is the probability that a  passenger not survived, given that they are male passengers?\" \n",
    "- \"What is the probability that a  passenger survived, given that they are female passengers?\" \n",
    "- \"What is the probability that a  passenger not survived, given that they are female passengers?\" \n",
    "- \"What is the probability that a passenger survived, given that they were in first class?\" \n",
    "- \"What is the probability that a passenger survived, given that they were in Second class?\" \n",
    "- \"What is the probability that a passenger survived, given that they were in Third class?\" \n",
    "\n",
    "\n"
   ]
  },
  {
   "cell_type": "code",
   "execution_count": 3,
   "metadata": {},
   "outputs": [
    {
     "name": "stdout",
     "output_type": "stream",
     "text": [
      "Proportion of male survivors: 0.1889\n",
      "Proportion of male non-survivors: 0.8111\n",
      "Proportion of Female survivors: 0.7420\n",
      "Proportion of Female non-survivors: 0.2580\n",
      "Proportion of survivors in First Class: 0.6296\n",
      "Proportion of survivors in Second Class: 0.4728\n",
      "Proportion of survivors in Third Class: 0.2424\n"
     ]
    }
   ],
   "source": [
    "import pandas as pd\n",
    "\n",
    "# Load the Titanic dataset\n",
    "url = \"https://raw.githubusercontent.com/datasciencedojo/datasets/master/titanic.csv\"\n",
    "df = pd.read_csv(url)\n",
    "\n",
    "# Calculate the proportion of male survivors\n",
    "male_survivors = df[(df['Sex'] == 'male') & (df['Survived'] == 1)].shape[0] / df[df['Sex'] == 'male'].shape[0]\n",
    "male_non_survivors = df[(df['Sex'] == 'male') & (df['Survived'] == 0)].shape[0] / df[df['Sex'] == 'male'].shape[0]\n",
    "\n",
    "female_survivors = df[(df['Sex'] == 'female') & (df['Survived'] == 1)].shape[0] / df[df['Sex'] == 'female'].shape[0]\n",
    "female_non_survivors = df[(df['Sex'] == 'female') & (df['Survived'] == 0)].shape[0] / df[df['Sex'] == 'female'].shape[0]\n",
    "\n",
    "first_class_survivors = df[(df['Survived']==1)&(df['Pclass']==1)].shape[0]/df[df['Pclass']==1].shape[0]\n",
    "second_class_survivors = df[(df['Survived']==1)&(df['Pclass']==2)].shape[0]/df[df['Pclass']==2].shape[0]\n",
    "third_class_survivors = df[(df['Survived']==1)&(df['Pclass']==3)].shape[0]/df[df['Pclass']==3].shape[0]\n",
    "\n",
    "\n",
    "print(f\"Proportion of male survivors: {male_survivors:.4f}\")\n",
    "print(f\"Proportion of male non-survivors: {male_non_survivors:.4f}\")\n",
    "print(f\"Proportion of Female survivors: {female_survivors:.4f}\")\n",
    "print(f\"Proportion of Female non-survivors: {female_non_survivors:.4f}\")\n",
    "print(f\"Proportion of survivors in First Class: {first_class_survivors:.4f}\")\n",
    "print(f\"Proportion of survivors in Second Class: {second_class_survivors:.4f}\")\n",
    "print(f\"Proportion of survivors in Third Class: {third_class_survivors:.4f}\")\n"
   ]
  },
  {
   "cell_type": "markdown",
   "metadata": {},
   "source": [
    "### Law of Total Probability\n",
    "\n",
    "The **Law of Total Probability** allows us to calculate the probability of an event by considering all possible ways the event can happen, based on different conditions (partitions of the sample space). It’s particularly useful when we have conditional probabilities and want to compute the total probability for an event.\n",
    "\n",
    "The general form of the Law of Total Probability is:\n",
    "\n",
    "<img src=\"https://d138zd1ktt9iqe.cloudfront.net/media/seo_landing_files/theorem-of-total-probability-1635919340.png\" style=\"background-color: white;\"/>\n",
    "\n",
    "\n"
   ]
  },
  {
   "cell_type": "markdown",
   "metadata": {},
   "source": [
    "************Refer to the problem statements in 2conditional_and_total_probaility_problems.pdf and then go to next cell************"
   ]
  },
  {
   "cell_type": "markdown",
   "metadata": {},
   "source": [
    "# Independent Events:\n",
    "- Two events,  A and  B, are independent if the occurrence of one does not affect the occurrence of the other.\n",
    "- P(A∩B)=P(A)×P(B)\n",
    "\n",
    "\n",
    "- A and B happening is simply the product of their individual probabilities. Key Points about Independent Events:\n",
    "\n",
    "- If two events are independent, knowing that one event has occurred does not change the probability of the other event.\n",
    "For independent events, the conditional probability is equal to the marginal probability\n",
    "- Independent Events: One event doesn't affect the other. P(A|B) = P(A) and P(B|A) = P(B)\n",
    "- Conditional Probability: Probability of an event given another. P(A|B).\n",
    "- Relationship: If P(A|B) = P(A), events are independent; "
   ]
  },
  {
   "cell_type": "markdown",
   "metadata": {},
   "source": [
    "Problem:\n",
    "It is known that:\n",
    "\n",
    "- 30% of emails are spam 𝑃(𝑆)=0.30\n",
    "- 70% of emails are not spam. 𝑃(𝑆c)=0.70\n",
    "- The word \"purchase\" occurs in 80% of spam emails P(P∣S)=0.80\n",
    "- The word \"purchase\" occurs in 10% of non-spam emails P(P∣Sc)=0.10\n",
    "\n",
    "- Probability of an email being spam given it contains \"purchase\": P(S|P)\n",
    "- Probability of an email not being spam given it contains \"purchase\": P(Sc|P)\n",
    "- The question is: What is the probability that an email contains the word \"purchase\"?(total probability)\n"
   ]
  },
  {
   "cell_type": "markdown",
   "metadata": {},
   "source": [
    "# 1->Probability of an email being spam given it contains \"purchase\": P(S|P)\n",
    "\n",
    "- This is a common and useful calculation. We can use Bayes' Theorem:\n",
    "- P(S|P) = [P(P|S) * P(S)] / P(P)\n",
    "- To find P(P) we need to use the law of total probability.\n",
    "- P(P) = P(P|S)P(S) + P(P|Sc)P(Sc)\n",
    "- P(P) = (0.80 * 0.30) + (0.10 * 0.70) = 0.24 + 0.07 = 0.31\n",
    "- Now we can finish calculating P(S|P)\n",
    "- P(S|P) = (0.80 * 0.30) / 0.31 = 0.24 / 0.31 ≈ 0.7742\n",
    "- Therefore, if an email contains the word \"purchase\", there's approximately a 77.42% chance it's spam.\n",
    "\n",
    "# 2->Probability of an email not being spam given it contains \"purchase\": P(Sc|P)\n",
    "\n",
    "- We can also use Bayes' Theorem:\n",
    "- P(Sc|P) = [P(P|Sc) * P(Sc)] / P(P)\n",
    "- We already know P(P) = 0.31\n",
    "- P(Sc|P) = (0.10 * 0.70) / 0.31 = 0.07 / 0.31 ≈ 0.2258\n",
    "- Therefore, if an email contains the word \"purchase\", there's approximately a 22.58% chance it's not spam.\n",
    "- Notice that P(S|P) + P(Sc|P) = 1.0\n",
    "\n",
    "# 3->The question is: What is the probability that an email contains the word \"purchase\"?(total probability)\n",
    "\n",
    "- P(P) = (0.80 * 0.30) + (0.10 * 0.70)\n",
    "- P(P) = 0.24 + 0.07\n",
    "- P(P) = 0.31\n",
    "\n",
    "- Did you notice P(P/S)=0.80 if this is an independent evnet P(P/S)=P(P) clearly 0.80 ne 0.31 so these are not independent events\n"
   ]
  },
  {
   "cell_type": "markdown",
   "metadata": {},
   "source": [
    "# Example: Two Independent Coin Flips\n",
    "\n",
    "- Event A: The first coin flip is heads.\n",
    "- Event B: The second coin flip is heads.\n",
    "\n",
    "# We know that coin flips are independent events.\n",
    "# Calculations:\n",
    "\n",
    "- Probability of Event A:\n",
    "\n",
    "- P(A) = 1/2 (50%)\n",
    "\n",
    "- Probability of Event B:\n",
    "\n",
    "- P(B) = 1/2 (50%)\n",
    "- Probability of A and B (Joint Probability):\n",
    "\n",
    "# Since they are independent, P(A ∩ B) = P(A) * P(B)   \n",
    "- P(A ∩ B) = (1/2) * (1/2) = 1/4 (25%)\n",
    "- Conditional Probability of A Given B:\n",
    "\n",
    "- P(A | B) = P(A ∩ B) / P(B)   \n",
    "- P(A | B) = (1/4) / (1/2) = 1/2 (50%)\n",
    "\n",
    "# Observation:\n",
    "\n",
    "- Notice that P(A | B) = 1/2, which is the same as P(A) = 1/2.\n",
    "- This confirms that when events are independent, knowing that event B has occurred does not change the probability of event A.\n",
    "- Also, P(B|A) = (1/4)/(1/2) = 1/2, which is equal to P(B)."
   ]
  },
  {
   "cell_type": "markdown",
   "metadata": {},
   "source": [
    "# Dependent Events\n",
    "\n",
    "- In probability, dependent events are those where the outcome of one event influences the outcome of another. In simpler terms, if one thing happens, it changes the likelihood of the other thing happening. \n",
    "\n",
    "# Examples\n",
    "\n",
    "- Cards: Drawing a card, then another without replacing it.\n",
    "- Marbles: Pulling a marble from a bag, then another.\n",
    "- Weather: Rain affects picnic chances.\n",
    "- Traffic: Traffic affects arrival time."
   ]
  },
  {
   "cell_type": "markdown",
   "metadata": {},
   "source": [
    "# Mutually exclusive events\n",
    "\n",
    "- In probability theory, \"mutually exclusive events\" are a fundamental concept. Here's a breakdown:\n",
    "\n",
    "# Definition:\n",
    "- Mutually exclusive events are events that cannot happen at the same time. If one event occurs, the others cannot.\n",
    "- They are also sometimes referred to as \"disjoint events.\"\n",
    "\n",
    "# Key Points:\n",
    "\n",
    "- If two events A and B are mutually exclusive, then the probability of both A and B occurring at the same time is zero. \n",
    "- This is expressed as: P(A and B) = 0.\n",
    "- When calculating the probability of either one of two mutually exclusive events occurring, you can simply add their individual probabilities\n",
    "- This is expressed as: P(A or B) = P(A) + P(B)."
   ]
  },
  {
   "cell_type": "markdown",
   "metadata": {},
   "source": [
    "## Bayes' Theorem:\n",
    "- Bayes' Theorem provides a way to update the probability of a hypothesis based on new evidence. It is particularly useful when we have conditional probabilities and want to reverse the condition (i.e., calculate the probability of an event given some evidence).\n",
    "\n",
    "<img src=\"data:image/png;base64,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\" style=\"background-color: white;\"/>\n"
   ]
  },
  {
   "cell_type": "markdown",
   "metadata": {},
   "source": [
    " ##### Please go through the notes **proability_notes1.pdf before entering into next cell**\n",
    " ##### Please go through the notes **3bayes_1.pdf & 4bayes_2.pdf before entering into next cell**"
   ]
  },
  {
   "cell_type": "markdown",
   "metadata": {},
   "source": [
    "#### Example 1\n",
    "- A company has two types of machines, Machine A and Machine B, that produce products. Machine A produces 60% of the total products, and Machine B produces 40%. Machine A has a defect rate of 5%, while Machine B has a defect rate of 10%. You are asked to determine the probability that a product, which is defective, was produced by Machine A.\n",
    "\n"
   ]
  },
  {
   "cell_type": "markdown",
   "metadata": {},
   "source": [
    "- P(A)=0.60\n",
    "- P(B)=0.40\n",
    "- P(D/A)=0.05\n",
    "- P(D/B)=0.10\n",
    "- P(A/D)=(P(D/A)*P(A))/P(D)\n",
    "- P(A/D)=(0.05*0.60)/(0.05*0.60)+(0.40*0.10)=42%"
   ]
  },
  {
   "cell_type": "code",
   "execution_count": 1,
   "metadata": {},
   "outputs": [
    {
     "name": "stdout",
     "output_type": "stream",
     "text": [
      "Probability that the defective product came from Machine A: 0.4286\n"
     ]
    }
   ],
   "source": [
    "# Given probabilities\n",
    "P_A = 0.60  # Probability that the product is produced by Machine A\n",
    "P_B = 0.40  # Probability that the product is produced by Machine B\n",
    "P_D_given_A = 0.05  # Probability that the product is defective given it was produced by Machine A\n",
    "P_D_given_B = 0.10  # Probability that the product is defective given it was produced by Machine B\n",
    "\n",
    "# Total probability of a defective product (P(D))\n",
    "P_D = (P_D_given_A * P_A) + (P_D_given_B * P_B)\n",
    "\n",
    "# Bayes' Theorem to find P(A|D)\n",
    "P_A_given_D = (P_D_given_A * P_A) / P_D\n",
    "\n",
    "# Print the result\n",
    "print(f\"Probability that the defective product came from Machine A: {P_A_given_D:.4f}\")\n"
   ]
  },
  {
   "cell_type": "markdown",
   "metadata": {},
   "source": [
    "# Example 2 \n",
    "Problem:\n",
    "\n",
    "A rare disease affects 1 in 1,000 people. A test has been developed to detect this disease. The test has the following properties:\n",
    "\n",
    "If a person has the disease, the test correctly identifies it 99% of the time (true positive rate).\n",
    "If a person does not have the disease, the test incorrectly identifies it as positive 2% of the time (false positive rate).\n",
    "If a person tests positive, what is the probability that they actually have the disease?"
   ]
  },
  {
   "cell_type": "markdown",
   "metadata": {},
   "source": [
    "- P(P/D)=99%\n",
    "- P(P/ND)=2%\n",
    "- P(D)=0.01\n",
    "- P(ND)=0.99\n",
    "- P(D/P)=P(P/D)*P(P)/P(P)\n",
    "- P(D/P)=P(P/D)*P(D)/(P(P/D)*P(D))+(P(P/ND)*P(ND))\n",
    "- P(D/P)=0.99*0.01/(0.99*0.01)+(0.02*0.99)=0.0472\n",
    "\n"
   ]
  },
  {
   "cell_type": "code",
   "execution_count": 2,
   "metadata": {},
   "outputs": [
    {
     "name": "stdout",
     "output_type": "stream",
     "text": [
      "The probability of having the disease given a positive test result is: 0.0472\n"
     ]
    }
   ],
   "source": [
    "def bayes_disease_test(disease_prevalence, true_positive_rate, false_positive_rate):\n",
    "    \"\"\"\n",
    "    Calculates the probability of having a disease given a positive test result using Bayes' Theorem.\n",
    "\n",
    "    Args:\n",
    "        disease_prevalence: The probability of having the disease (P(D)).\n",
    "        true_positive_rate: The probability of a positive test given the disease (P(+|D)).\n",
    "        false_positive_rate: The probability of a positive test given no disease (P(+|¬D)).\n",
    "\n",
    "    Returns:\n",
    "        The probability of having the disease given a positive test result (P(D|+)).\n",
    "    \"\"\"\n",
    "\n",
    "    # Calculate P(¬D)\n",
    "    no_disease_prevalence = 1 - disease_prevalence\n",
    "\n",
    "    # Calculate P(+)\n",
    "    probability_positive = (true_positive_rate * disease_prevalence) + (false_positive_rate * no_disease_prevalence)\n",
    "\n",
    "    # Calculate P(D|+)\n",
    "    probability_disease_given_positive = (true_positive_rate * disease_prevalence) / probability_positive\n",
    "\n",
    "    return probability_disease_given_positive\n",
    "\n",
    "# Example usage (using the problem from the previous response):\n",
    "disease_prevalence = 0.001  # 1 in 1000\n",
    "true_positive_rate = 0.99\n",
    "false_positive_rate = 0.02\n",
    "\n",
    "result = bayes_disease_test(disease_prevalence, true_positive_rate, false_positive_rate)\n",
    "print(f\"The probability of having the disease given a positive test result is: {result:.4f}\")"
   ]
  },
  {
   "cell_type": "markdown",
   "metadata": {},
   "source": [
    "#### Addition and Multiplication Rule\n",
    "\n",
    "**Addition Rule**\n",
    "\n",
    "The Addition Rule in probability helps us calculate the probability of the union of two or more events. It has two main forms, depending on whether the events are mutually exclusive or not.\n",
    "\n",
    "**For Mutually Exclusive Events:**\n",
    "\n",
    "If two events, A and B, cannot happen at the same time (i.e., they are mutually exclusive), then the probability of either event A or event B occurring is the sum of their individual probabilities:\n",
    "\n",
    "$P(A \\cup B) = P(A) + P(B)$\n",
    "\n",
    "**Example:**\n",
    "\n",
    "If you roll a fair die, the probability of rolling a 3 or a 5 is the sum of the probability of rolling a 3 (1/6) and the probability of rolling a 5 (1/6), which equals 1/6 + 1/6 = 2/6.\n",
    "\n",
    "**For Non-Mutually Exclusive Events:**\n",
    "\n",
    "If two events, A and B, can both happen at the same time (i.e., they are not mutually exclusive), then we need to subtract the probability of both events happening simultaneously to avoid double-counting:\n",
    "\n",
    "$P(A \\cup B) = P(A) + P(B) - P(A \\cap B)$\n",
    "\n",
    "**Example:**\n",
    "\n",
    "If you draw one card from a deck, the probability of drawing either a heart or a king is given by the sum of the probabilities of drawing a heart and drawing a king, but we need to subtract the probability of drawing the king of hearts because it has been counted twice."
   ]
  },
  {
   "cell_type": "markdown",
   "metadata": {},
   "source": [
    "#### Multiplication Rule\n",
    "\n",
    "The Multiplication Rule in probability is used to calculate the probability of the intersection of two events, i.e., the probability that both events occur. There are two main forms of the multiplication rule, depending on whether the events are independent or dependent.\n",
    "\n",
    "**1. For Independent Events:**\n",
    "\n",
    "If two events, A and B, are independent (meaning the occurrence of one event does not affect the occurrence of the other), then the probability of both events happening is the product of their individual probabilities:\n",
    "\n",
    "$P(A \\cap B) = P(A) \\times P(B)$\n",
    "\n",
    "**Example:**\n",
    "\n",
    "You roll a fair die and flip a fair coin. The probability of rolling a 4 on the die ($P(A) = 1/6$) and getting heads on the coin ($P(B) = 1/2$) are independent events.\n",
    "The probability of both events occurring is:\n",
    "\n",
    "$P(\\text{Rolling a 4 and getting heads}) = \\frac{1}{6} \\times \\frac{1}{2} = \\frac{1}{12}$\n",
    "\n",
    "**2. For Dependent Events:**\n",
    "\n",
    "If two events, A and B, are dependent (meaning the occurrence of one event affects the occurrence of the other), the probability of both events happening is given by:\n",
    "\n",
    "$P(A \\cap B) = P(A) \\times P(B \\mid A)$\n",
    "\n",
    "Here, $P(B \\mid A)$ is the conditional probability of event B occurring given that event A has already occurred.\n",
    "\n",
    "**Example:**\n",
    "\n",
    "Suppose you have a deck of 52 cards, and you draw two cards without replacement. The probability of drawing a red card (A) on the first draw is $P(A) = 26/52$.\n",
    "After drawing a red card, there are now only 25 red cards left out of the remaining 51 cards, so the probability of drawing a red card (B) on the second draw, given that the first card was red, is $P(B \\mid A) = 25/51$.\n",
    "The probability of drawing two red cards in a row is:\n",
    "\n",
    "$P(A \\cap B) = \\frac{26}{52} \\times \\frac{25}{51}$\n",
    "\n",
    "**Summary:**\n",
    "\n",
    "* **Independent events:** $P(A \\cap B) = P(A) \\times P(B)$\n",
    "* **Dependent events:** $P(A \\cap B) = P(A) \\times P(B \\mid A)$\n",
    "\n",
    "The multiplication rule allows us to calculate the joint probability of events occurring together, either when they are independent or dependent."
   ]
  },
  {
   "cell_type": "code",
   "execution_count": null,
   "metadata": {},
   "outputs": [],
   "source": []
  }
 ],
 "metadata": {
  "kernelspec": {
   "display_name": "Python 3",
   "language": "python",
   "name": "python3"
  },
  "language_info": {
   "codemirror_mode": {
    "name": "ipython",
    "version": 3
   },
   "file_extension": ".py",
   "mimetype": "text/x-python",
   "name": "python",
   "nbconvert_exporter": "python",
   "pygments_lexer": "ipython3",
   "version": "3.11.4"
  }
 },
 "nbformat": 4,
 "nbformat_minor": 2
}
