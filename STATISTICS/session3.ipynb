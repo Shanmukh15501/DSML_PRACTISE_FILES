{
 "cells": [
  {
   "cell_type": "markdown",
   "metadata": {},
   "source": [
    "### Random Variable \n",
    "- A set of possible values from a random experiment\n",
    "#### Types of Random Variables\n",
    "- Discrete Random Variable\n",
    "- Continous Random Variable\n",
    "\n",
    "# Learning probability distributions is essential \n",
    "- Understanding data flow: Distributions reveal how data is spread and organized.\n",
    "- Likelihood of inputs: They quantify the probability of specific values for a random variable.\n",
    "- Risk Assessment: They allow you to assess the risk associated with different decisions.\n",
    "- Making Predictions: They enable you to make predictions about future events based on past data.\n",
    "- Distributions are fundamental to statistical analysis. They allow you to understand the underlying structure of data and draw meaningful conclusions for instance, knowing if data is normally distributed allows you to use specific statistical tests.\n",
    "\n",
    "\n",
    "#### What is Probability Distribution\n",
    "- It is a function or a mathematical model that describes the likelihood of different outcomes in a random experiment. It provides a way to calculate the probability of each possible outcome in a sample space.\n",
    "\n",
    "- In simple terms, a probability distribution tells us how likely each possible result is when we perform a random experiment.\n",
    "\n",
    "There are two main types of probability distributions:\n",
    "\n",
    "-  Probability Mass Function\n",
    "-  Probability Density Function"
   ]
  },
  {
   "cell_type": "markdown",
   "metadata": {},
   "source": [
    "# Probability Mass Function\n",
    "- A Probability Mass Function (PMF) is a function that gives the probability that a discrete random variable is exactly equal to a certain value.   \n",
    "- In simpler terms, it tells you how likely it is that a discrete random variable will take on each of its possible values.\n",
    "## Rules for PMF\n",
    "- Values must be non-negative\n",
    "- Sum of probabilities should eb equal to 1\n",
    "- Y-axis represents the probability\n",
    "\n",
    "#### Examples:-\n",
    "\n",
    "#### Coin Toss: Consider a fair coin toss. The random variable X can take on two values: 0 (tails) or 1 (heads). The PMF would be:\n",
    "- P(X = 0) = 0.5\n",
    "- P(X = 1) = 0.5\n",
    "\n",
    "#### Rolling a Die: When rolling a fair six-sided die, the random variable X can take on values 1, 2, 3, 4, 5, or 6. The PMF would be:\n",
    "- P(X = 1) = 1/6\n",
    "- P(X = 2) = 1/6\n",
    "- P(X = 3) = 1/6\n",
    "- P(X = 4) = 1/6\n",
    "- P(X = 5) = 1/6\n",
    "- P(X = 6) = 1/6\n",
    "\n",
    "# Famous discrete probability distributions defined by PMFs:\n",
    "\n",
    "- Binomial: Counts successes in trials.   \n",
    "- Poisson: Counts events in a period.   \n",
    "- Geometric: Counts trials until first success.   \n",
    "- Bernoulli: Single trial, success or failure."
   ]
  },
  {
   "cell_type": "code",
   "execution_count": 13,
   "metadata": {},
   "outputs": [
    {
     "data": {
      "text/plain": [
       "(array([213., 199.,   0., 201., 200., 187.]),\n",
       " array([1.        , 1.66666667, 2.33333333, 3.        , 3.66666667,\n",
       "        4.33333333, 5.        ]),\n",
       " <BarContainer object of 6 artists>)"
      ]
     },
     "execution_count": 13,
     "metadata": {},
     "output_type": "execute_result"
    },
    {
     "data": {
      "image/png": "[encoded data removed]",
      "text/plain": [
       "<Figure size 640x480 with 1 Axes>"
      ]
     },
     "metadata": {},
     "output_type": "display_data"
    }
   ],
   "source": [
    "import numpy as np\n",
    "import pandas as pd\n",
    "from matplotlib import pyplot as plt\n",
    "result = []\n",
    "for i in range(1000):\n",
    "    result.append(np.random.randint(1,6))\n",
    "result = pd.Series(result)\n",
    "\n",
    "plt.hist(result,bins=6)\n"
   ]
  },
  {
   "cell_type": "markdown",
   "metadata": {},
   "source": [
    "# Cumulative Distribution Function (CDF)\n",
    "- Cumulative Distribution Function (CDF), is a fundamental concept in probability theory and statistics that provides a way to describe the distribution of the random variable. It represents the probability that a random variable takes a value less than or equal to a certain value. The CDF is a non-decreasing function that ranges from 0 to 1 capturing the entire probability distribution of the random variable.\n",
    "- The Cumulative Distribution Function F(x) of the random variable X is defined as:\n",
    "- F(x)=P(X≤x)\n",
    "- Shows the probability that a random variable is less than or equal to a certain value.\t\n",
    "\n",
    "\n"
   ]
  },
  {
   "cell_type": "markdown",
   "metadata": {},
   "source": [
    "# Probability Density Function\n",
    "\n",
    "- The Probability Density Function (PDF) is a crucial tool for understanding continuous random variables. or The Probability density function provides a way to understand the relative likelihood of a continuous random variable taking on different values within its range.\n",
    "- Continous variables are infinite (0 to infinity)\n",
    "- The continuous nature of these variables (e.g., time, height, temperature) means there are infinitely many possible values.\n",
    "Therefore, the probability of a continuous random variable being exactly equal to a single, specific value is indeed zero."
   ]
  },
  {
   "cell_type": "markdown",
   "metadata": {},
   "source": []
  }
 ],
 "metadata": {
  "kernelspec": {
   "display_name": "Python 3",
   "language": "python",
   "name": "python3"
  },
  "language_info": {
   "codemirror_mode": {
    "name": "ipython",
    "version": 3
   },
   "file_extension": ".py",
   "mimetype": "text/x-python",
   "name": "python",
   "nbconvert_exporter": "python",
   "pygments_lexer": "ipython3",
   "version": "3.11.3"
  }
 },
 "nbformat": 4,
 "nbformat_minor": 2
}
