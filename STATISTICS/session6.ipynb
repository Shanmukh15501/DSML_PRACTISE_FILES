{
 "cells": [
  {
   "cell_type": "markdown",
   "metadata": {},
   "source": [
    "# Confidence intervals \n",
    "- Confidence intervals (CIs) are a way to express the uncertainty around a statistical estimate. They provide a range of values within which we are reasonably confident the true population parameter lies.\n",
    "\n",
    "- They give you a range of plausible values for a population parameter (like the mean).\n",
    "- They tell you how confident you can be that the true value is within that range.\n",
    "### Key components:\n",
    "- Estimate: The sample statistic (e.g., sample mean).\n",
    "- Margin of error: The range added and subtracted from the estimate.\n",
    "- Confidence level: The probability that the interval contains the true population parameter (e.g., 95%)."
   ]
  },
  {
   "cell_type": "markdown",
   "metadata": {},
   "source": []
  }
 ],
 "metadata": {
  "language_info": {
   "name": "python"
  }
 },
 "nbformat": 4,
 "nbformat_minor": 2
}
