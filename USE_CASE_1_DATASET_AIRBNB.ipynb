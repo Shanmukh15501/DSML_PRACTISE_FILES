{
 "cells": [
  {
   "cell_type": "code",
   "execution_count": 147,
   "metadata": {},
   "outputs": [],
   "source": [
    "import numpy as np\n",
    "import seaborn as sns\n",
    "import pandas as pd"
   ]
  },
  {
   "cell_type": "markdown",
   "metadata": {
    "id": "VSVU-5ScMbDp"
   },
   "source": [
    "## Use Case: NPS (Net Promoter Score)\n"
   ]
  },
  {
   "cell_type": "markdown",
   "metadata": {
    "id": "RaDSdx24tVEQ"
   },
   "source": [
    "\n",
    "#### Imagine you are a Data Analyst @ Airbnb\n",
    "\n",
    "You've been asked to analyze user survey data and report NPS to the management\n",
    "\n",
    "#### But, what exactly is NPS? \n",
    "\n",
    "#### Have you seen something like this ? \n",
    "\n",
    "Link: https://drive.google.com/file/d/1-u8e-v_90JdikorKsKzBM-JJqoRtzsN8/view?usp=sharing\n",
    "\n",
    "<img src=\"https://drive.google.com/uc?id=1-u8e-v_90JdikorKsKzBM-JJqoRtzsN8\">\n",
    "\n",
    "This is called **Likelyhood to Recommend Survey**\n",
    "\n",
    "- Responses are given a scale ranging from 0–10, \n",
    "    - with 0 labeled with “Not at all likely,” and \n",
    "    - 10 labeled with “Extremely likely.”\n",
    "\n",
    "Based on this, we calculate the Net Promoter score\n"
   ]
  },
  {
   "cell_type": "markdown",
   "metadata": {
    "id": "B-75b1TJtbmI"
   },
   "source": [
    "\n",
    "#### How to calculate NPS score? \n",
    "\n",
    "<img src=\"https://drive.google.com/uc?id=1KPIYlaN68vlL99iApaF5QbeBoyT24-Eu\">\n",
    "\n",
    "We label our responses into 3 categories:\n",
    "- Detractors: Respondents with a score of 0-6\n",
    "- Passive: Respondents with a score of 7-8\n",
    "- Promoters: score of 9-10.\n",
    "\n",
    "And\n",
    "```\n",
    "Net Promoter score = % Promoters - % Detractors.\n",
    "```\n"
   ]
  },
  {
   "cell_type": "markdown",
   "metadata": {
    "id": "CjVwLZoJtmHt"
   },
   "source": [
    "\n",
    "#### How is NPS helpful?\n",
    "\n",
    "\n",
    "\n",
    "####  Why would we want to analyse the survey data for NPS?\n",
    "\n",
    "\n",
    "NPS helps a brand in gauging its brand value and sentiment in the market. \n",
    "- Promoters are highly likely to recommend your product or sevice. Hence, bringing in more business\n",
    "- whereas, Detractors are likely to recommend against your product or service’s usage. Hence, bringing the business down.\n",
    "\n",
    "These insights can help business make customer oriented decision along with product improvisation.\n",
    "\n",
    "**Two third of Fortune 500 companies use NPS**\n",
    "\n",
    "\n",
    "#### Lets first look at the data we have gathered\n",
    "\n",
    "\n",
    "Dataset: https://drive.google.com/file/d/1c0ClC8SrPwJq5rrkyMKyPn80nyHcFikK/view?usp=sharing\n",
    "\n",
    "<img width = 500 src=\"https://drive.google.com/uc?id=1arJhLlzbr_Rf7ONxpkzo726mLbTyLb_p\">\n",
    "\n",
    "\n"
   ]
  },
  {
   "cell_type": "markdown",
   "metadata": {
    "id": "d4ad3b77"
   },
   "source": [
    "#### Notice that the file contains the score for likelyhood to recommend survey\n",
    "\n",
    "\n",
    "**Using NumPy** \n",
    "- we will bin our data into promoters/detractors\n",
    "- calulate the percentage of promoters/detractors \n",
    "- calculate NPS\n",
    "\n"
   ]
  },
  {
   "cell_type": "markdown",
   "metadata": {
    "id": "zaaUrqvHS0n_"
   },
   "source": [
    "#### Let's first download the dataset"
   ]
  },
  {
   "cell_type": "code",
   "execution_count": 148,
   "metadata": {
    "id": "ahWFVbZG5VBG"
   },
   "outputs": [],
   "source": [
    "import numpy as np"
   ]
  },
  {
   "cell_type": "markdown",
   "metadata": {
    "id": "7vHhek-8Yu2_"
   },
   "source": [
    "#### Let's load the data we saw earlier. For this we will use `.loadtxt() function`\n",
    "\n",
    "Documentation: https://numpy.org/doc/stable/reference/generated/numpy.loadtxt.html"
   ]
  },
  {
   "cell_type": "code",
   "execution_count": 149,
   "metadata": {
    "id": "-Zmkqe0lbWUH"
   },
   "outputs": [],
   "source": [
    "score = np.loadtxt('survey.txt', dtype ='int')"
   ]
  },
  {
   "cell_type": "markdown",
   "metadata": {
    "id": "MZart05rbwqm"
   },
   "source": [
    "We provide file name along with the dtype of data we want to load in "
   ]
  },
  {
   "cell_type": "markdown",
   "metadata": {
    "id": "pCzWYtkYb4Eg"
   },
   "source": [
    "Let's see what the data looks like"
   ]
  },
  {
   "cell_type": "code",
   "execution_count": 150,
   "metadata": {
    "id": "bXJjL5_gb7yB"
   },
   "outputs": [
    {
     "data": {
      "text/plain": [
       "array([ 7, 10,  5,  9,  9])"
      ]
     },
     "execution_count": 150,
     "metadata": {},
     "output_type": "execute_result"
    }
   ],
   "source": [
    "score[:5]"
   ]
  },
  {
   "cell_type": "markdown",
   "metadata": {
    "id": "RqpNn_Tm0yh0"
   },
   "source": [
    "#### Let's check the number of responses"
   ]
  },
  {
   "cell_type": "code",
   "execution_count": 151,
   "metadata": {
    "id": "vL442Nce00yL"
   },
   "outputs": [
    {
     "data": {
      "text/plain": [
       "(1167,)"
      ]
     },
     "execution_count": 151,
     "metadata": {},
     "output_type": "execute_result"
    }
   ],
   "source": [
    "score.shape"
   ]
  },
  {
   "cell_type": "markdown",
   "metadata": {
    "id": "WmciNX2UcCX6"
   },
   "source": [
    "There are a total of 1167 responses for the LTR survey \n",
    "\n"
   ]
  },
  {
   "cell_type": "markdown",
   "metadata": {
    "id": "NcbHmTHzxIST"
   },
   "source": [
    "#### Let's perform some sanity check on data\n",
    "\n",
    "Let's check the minimum and max value in array"
   ]
  },
  {
   "cell_type": "code",
   "execution_count": 152,
   "metadata": {
    "id": "501XqIZCxMpN"
   },
   "outputs": [
    {
     "data": {
      "text/plain": [
       "1"
      ]
     },
     "execution_count": 152,
     "metadata": {},
     "output_type": "execute_result"
    }
   ],
   "source": [
    "score.min()"
   ]
  },
  {
   "cell_type": "code",
   "execution_count": 153,
   "metadata": {
    "id": "ZYuGHuVRxSoi"
   },
   "outputs": [
    {
     "data": {
      "text/plain": [
       "10"
      ]
     },
     "execution_count": 153,
     "metadata": {},
     "output_type": "execute_result"
    }
   ],
   "source": [
    "score.max()"
   ]
  },
  {
   "cell_type": "markdown",
   "metadata": {
    "id": "zNMYiW5BejDv"
   },
   "source": [
    "Now, let's calculate NPS using these response.\n",
    "\n",
    "**NPS = % Promoters - % Detractors**\n",
    "\n",
    "Now, in order to calculate NPS, we need to calculate two things:\n",
    "- % Promoters\n",
    "- % Detractors"
   ]
  },
  {
   "cell_type": "markdown",
   "metadata": {
    "id": "UEureI54-QcU"
   },
   "source": [
    "In order to calculate % Promoters and % Detractors, we need to get the count of promoter as well as detractor.\n",
    "\n",
    "#### Question: How can we get the count of Promoter/ Detractor ? \n",
    "\n",
    "We can do so by using fancy indexing (masking )"
   ]
  },
  {
   "cell_type": "markdown",
   "metadata": {
    "id": "ieWZUkYZ-nNr"
   },
   "source": [
    "#### Let's get the count of promoter and detractors"
   ]
  },
  {
   "cell_type": "markdown",
   "metadata": {
    "id": "4jMEpvTN-qUd"
   },
   "source": [
    "Detractors have a score <=6"
   ]
  },
  {
   "cell_type": "code",
   "execution_count": 154,
   "metadata": {
    "id": "JWHyJLwK-_7T"
   },
   "outputs": [],
   "source": [
    "detractors = score[score <= 6].shape[0]"
   ]
  },
  {
   "cell_type": "code",
   "execution_count": 155,
   "metadata": {
    "id": "6HFHJ0pe_lfb"
   },
   "outputs": [],
   "source": [
    "total = score.shape[0]"
   ]
  },
  {
   "cell_type": "code",
   "execution_count": 156,
   "metadata": {
    "id": "bwjZ7t90_iKQ"
   },
   "outputs": [],
   "source": [
    "percent_detractors = detractors/total*100"
   ]
  },
  {
   "cell_type": "code",
   "execution_count": 157,
   "metadata": {
    "id": "UTjbdyf3_slK"
   },
   "outputs": [
    {
     "data": {
      "text/plain": [
       "28.449014567266495"
      ]
     },
     "execution_count": 157,
     "metadata": {},
     "output_type": "execute_result"
    }
   ],
   "source": [
    "percent_detractors"
   ]
  },
  {
   "cell_type": "markdown",
   "metadata": {
    "id": "tl23JWHZ_ttt"
   },
   "source": [
    "Similarly, Promoters have a score 9-10"
   ]
  },
  {
   "cell_type": "code",
   "execution_count": 158,
   "metadata": {
    "id": "_QtDzHAG_1xZ"
   },
   "outputs": [],
   "source": [
    "promoters = score[score >= 9].shape[0]"
   ]
  },
  {
   "cell_type": "code",
   "execution_count": 159,
   "metadata": {
    "id": "mLMTaRDX_1xa"
   },
   "outputs": [],
   "source": [
    "percent_promoters = promoters/total*100"
   ]
  },
  {
   "cell_type": "code",
   "execution_count": 160,
   "metadata": {
    "id": "pFn5zbEw_1xa"
   },
   "outputs": [
    {
     "data": {
      "text/plain": [
       "52.185089974293064"
      ]
     },
     "execution_count": 160,
     "metadata": {},
     "output_type": "execute_result"
    }
   ],
   "source": [
    "percent_promoters"
   ]
  },
  {
   "cell_type": "markdown",
   "metadata": {
    "id": "2iexIO5FlodM"
   },
   "source": [
    " We will map our scores into 3 categories s.t:\n",
    "\n",
    "- 0 - 6:  Detractors\n",
    "\n",
    "- 7 - 8: Passive\n",
    "\n",
    "- 9 - 10: Prometers\n",
    "\n",
    "This process is called **binning**\n"
   ]
  },
  {
   "cell_type": "markdown",
   "metadata": {
    "id": "zsHGQuvZHbhJ"
   },
   "source": [
    "#### But, why binning? \n",
    "\n",
    "Binning helps us reduce the number of unique values.\n",
    "- simplifying the data without any significant loss of info.\n",
    "- helps in quick absorption of information\n",
    "- also helps in visualization (will be discussed later)\n",
    "- also helps in simplyfying inputs ML models (hence, reducing computational complexity)"
   ]
  },
  {
   "cell_type": "code",
   "execution_count": 123,
   "metadata": {
    "id": "J476-1tet1fT"
   },
   "outputs": [],
   "source": [
    "arr = np.empty(shape = score.shape, dtype = 'U10')"
   ]
  },
  {
   "cell_type": "code",
   "execution_count": 124,
   "metadata": {
    "id": "9AKj3BaPt6Qy"
   },
   "outputs": [
    {
     "data": {
      "text/plain": [
       "array(['', '', '', ..., '', '', ''], dtype='<U10')"
      ]
     },
     "execution_count": 124,
     "metadata": {},
     "output_type": "execute_result"
    }
   ],
   "source": [
    "arr"
   ]
  },
  {
   "cell_type": "code",
   "execution_count": 125,
   "metadata": {
    "id": "uKVTfYxRv6e5"
   },
   "outputs": [
    {
     "data": {
      "text/plain": [
       "(1167,)"
      ]
     },
     "execution_count": 125,
     "metadata": {},
     "output_type": "execute_result"
    }
   ],
   "source": [
    "arr.shape"
   ]
  },
  {
   "cell_type": "markdown",
   "metadata": {
    "id": "_8WRrZ47t6o8"
   },
   "source": [
    "Instead of specifying the dtype as `str`, we initialize it as `Un` where n is the number of characters\n",
    "\n"
   ]
  },
  {
   "cell_type": "markdown",
   "metadata": {
    "id": "uQeddYWHvH2Y"
   },
   "source": [
    "Now, we have got a string array. Let's bin our score values"
   ]
  },
  {
   "cell_type": "code",
   "execution_count": 126,
   "metadata": {
    "id": "iRusp6DBvkSq"
   },
   "outputs": [],
   "source": [
    "arr[score <= 6] = 'detractors'"
   ]
  },
  {
   "cell_type": "code",
   "execution_count": 127,
   "metadata": {
    "id": "5gHtNoeqv4DZ"
   },
   "outputs": [
    {
     "data": {
      "text/plain": [
       "array(['', '', 'detractors', ..., 'detractors', '', ''], dtype='<U10')"
      ]
     },
     "execution_count": 127,
     "metadata": {},
     "output_type": "execute_result"
    }
   ],
   "source": [
    "arr"
   ]
  },
  {
   "cell_type": "markdown",
   "metadata": {
    "id": "hru0pOr6v4Wq"
   },
   "source": [
    "Similarly, we can do it for passive and promoters"
   ]
  },
  {
   "cell_type": "code",
   "execution_count": 128,
   "metadata": {
    "id": "B00obSyxwA5z"
   },
   "outputs": [],
   "source": [
    "arr[(score >= 7) & (score <= 8)] = 'passive'"
   ]
  },
  {
   "cell_type": "code",
   "execution_count": 129,
   "metadata": {
    "id": "c5Rag94ZwEuW"
   },
   "outputs": [],
   "source": [
    "arr[score >= 9] = 'promoters'"
   ]
  },
  {
   "cell_type": "code",
   "execution_count": 130,
   "metadata": {
    "id": "bTVgLkbNwG4H"
   },
   "outputs": [
    {
     "data": {
      "text/plain": [
       "array(['passive', 'promoters', 'detractors', ..., 'detractors',\n",
       "       'promoters', 'promoters'], dtype='<U10')"
      ]
     },
     "execution_count": 130,
     "metadata": {},
     "output_type": "execute_result"
    }
   ],
   "source": [
    "arr"
   ]
  },
  {
   "cell_type": "code",
   "execution_count": 131,
   "metadata": {
    "id": "dG5CaWQdwHZo"
   },
   "outputs": [
    {
     "data": {
      "text/plain": [
       "array(['passive', 'promoters', 'detractors', 'promoters', 'promoters',\n",
       "       'detractors', 'passive', 'promoters', 'promoters', 'promoters',\n",
       "       'promoters', 'detractors', 'promoters', 'promoters', 'passive'],\n",
       "      dtype='<U10')"
      ]
     },
     "execution_count": 131,
     "metadata": {},
     "output_type": "execute_result"
    }
   ],
   "source": [
    "arr[:15]"
   ]
  },
  {
   "cell_type": "markdown",
   "metadata": {
    "id": "wRM1Fi-TwP8m"
   },
   "source": [
    "Now, we have array with desired values.\n",
    "\n",
    "#### How do we count the number of instance for each value ?"
   ]
  },
  {
   "cell_type": "markdown",
   "metadata": {
    "id": "6TLiXIzqx0LO"
   },
   "source": [
    "There are two ways of doing it.\n",
    "\n",
    "Let's look at long way first. \n",
    "\n",
    "We do fancy indexing for each unique value and get the shape "
   ]
  },
  {
   "cell_type": "code",
   "execution_count": 132,
   "metadata": {
    "id": "WSQ0BIEaya8E"
   },
   "outputs": [],
   "source": [
    "detractors_count = arr[arr == 'detractors'].shape[0]"
   ]
  },
  {
   "cell_type": "code",
   "execution_count": 133,
   "metadata": {
    "id": "gemMfJ1dy_Zp"
   },
   "outputs": [
    {
     "data": {
      "text/plain": [
       "332"
      ]
     },
     "execution_count": 133,
     "metadata": {},
     "output_type": "execute_result"
    }
   ],
   "source": [
    "detractors_count"
   ]
  },
  {
   "cell_type": "code",
   "execution_count": 134,
   "metadata": {
    "id": "34LZ-63LzAIK"
   },
   "outputs": [
    {
     "data": {
      "text/plain": [
       "226"
      ]
     },
     "execution_count": 134,
     "metadata": {},
     "output_type": "execute_result"
    }
   ],
   "source": [
    "passive_count = arr[arr == 'passive'].shape[0]\n",
    "passive_count"
   ]
  },
  {
   "cell_type": "code",
   "execution_count": 135,
   "metadata": {
    "id": "-Bu3C1x8zBsb"
   },
   "outputs": [
    {
     "data": {
      "text/plain": [
       "609"
      ]
     },
     "execution_count": 135,
     "metadata": {},
     "output_type": "execute_result"
    }
   ],
   "source": [
    "promoters_count = arr[arr == 'promoters'].shape[0]\n",
    "promoters_count"
   ]
  },
  {
   "cell_type": "markdown",
   "metadata": {
    "id": "N4mM_7-uzeJb"
   },
   "source": [
    "Now, there's a short way as well.\n",
    "\n",
    "Numpy provides us a function `.unique()` to get unique element "
   ]
  },
  {
   "cell_type": "code",
   "execution_count": 136,
   "metadata": {
    "id": "SE0Vq2u5zqWS"
   },
   "outputs": [
    {
     "data": {
      "text/plain": [
       "array(['detractors', 'passive', 'promoters'], dtype='<U10')"
      ]
     },
     "execution_count": 136,
     "metadata": {},
     "output_type": "execute_result"
    }
   ],
   "source": [
    "np.unique(arr)"
   ]
  },
  {
   "cell_type": "markdown",
   "metadata": {
    "id": "Oes9jm7EzrbO"
   },
   "source": [
    "But we want the count of each unique element.\n",
    "\n",
    "For this, we can pass argument `return_counts = True`"
   ]
  },
  {
   "cell_type": "code",
   "execution_count": 137,
   "metadata": {
    "id": "mv93RvY0z5tF"
   },
   "outputs": [
    {
     "data": {
      "text/plain": [
       "(array(['detractors', 'passive', 'promoters'], dtype='<U10'),\n",
       " array([332, 226, 609], dtype=int64))"
      ]
     },
     "execution_count": 137,
     "metadata": {},
     "output_type": "execute_result"
    }
   ],
   "source": [
    "np.unique(arr, return_counts = True)"
   ]
  },
  {
   "cell_type": "code",
   "execution_count": 138,
   "metadata": {
    "id": "MK1BmvKi0Kg0"
   },
   "outputs": [],
   "source": [
    "unique, counts = np.unique(arr, return_counts = True)"
   ]
  },
  {
   "cell_type": "code",
   "execution_count": 139,
   "metadata": {
    "id": "g6Dnp6y30Nyt"
   },
   "outputs": [
    {
     "data": {
      "text/plain": [
       "array(['detractors', 'passive', 'promoters'], dtype='<U10')"
      ]
     },
     "execution_count": 139,
     "metadata": {},
     "output_type": "execute_result"
    }
   ],
   "source": [
    "unique"
   ]
  },
  {
   "cell_type": "code",
   "execution_count": 140,
   "metadata": {
    "id": "0KJ4IDAu0OPN"
   },
   "outputs": [
    {
     "data": {
      "text/plain": [
       "array([332, 226, 609], dtype=int64)"
      ]
     },
     "execution_count": 140,
     "metadata": {},
     "output_type": "execute_result"
    }
   ],
   "source": [
    "counts"
   ]
  },
  {
   "cell_type": "code",
   "execution_count": 163,
   "metadata": {},
   "outputs": [
    {
     "data": {
      "text/plain": [
       "<AxesSubplot:xlabel='OVERALL DATA', ylabel='count'>"
      ]
     },
     "execution_count": 163,
     "metadata": {},
     "output_type": "execute_result"
    },
    {
     "data": {
      "image/png": "[encoded data removed]",
      "text/plain": [
       "<Figure size 432x288 with 1 Axes>"
      ]
     },
     "metadata": {
      "needs_background": "light"
     },
     "output_type": "display_data"
    }
   ],
   "source": [
    "unique, counts = np.unique(arr, return_counts = True)\n",
    "\n",
    "data = {'OVERALL DATA': arr}\n",
    "df = pd.DataFrame(data)\n",
    "sns.countplot(x=df['OVERALL DATA'],data=df)\n",
    "\n"
   ]
  },
  {
   "cell_type": "markdown",
   "metadata": {
    "id": "XuCGvUSDz8Lk"
   },
   "source": [
    "Now, let's calculate the percent of promoters and detractors"
   ]
  },
  {
   "cell_type": "markdown",
   "metadata": {
    "id": "Awa4xqcq0DC7"
   },
   "source": [
    "#### % Promoters"
   ]
  },
  {
   "cell_type": "code",
   "execution_count": 164,
   "metadata": {
    "id": "Afol_SVC0FpJ"
   },
   "outputs": [],
   "source": [
    "percent_promoters = counts[2]/counts.sum()*100"
   ]
  },
  {
   "cell_type": "markdown",
   "metadata": {
    "id": "h5iCuQJ91XWs"
   },
   "source": [
    "#### % Detractors"
   ]
  },
  {
   "cell_type": "code",
   "execution_count": 165,
   "metadata": {
    "id": "ESINPC801ZJl"
   },
   "outputs": [],
   "source": [
    "percent_detractors = counts[0]/counts.sum()*100"
   ]
  },
  {
   "cell_type": "markdown",
   "metadata": {
    "id": "g7W-Z8uK1a8q"
   },
   "source": [
    "#### Calculating NPS"
   ]
  },
  {
   "cell_type": "markdown",
   "metadata": {
    "id": "SMVrSI5t1dy2"
   },
   "source": [
    "For calculating NPS, we need to \n",
    "\n",
    "`% promoters - % detractors `"
   ]
  },
  {
   "cell_type": "code",
   "execution_count": 166,
   "metadata": {
    "id": "Cug2wdyp1jqC"
   },
   "outputs": [
    {
     "data": {
      "text/plain": [
       "23.73607540702657"
      ]
     },
     "execution_count": 166,
     "metadata": {},
     "output_type": "execute_result"
    }
   ],
   "source": [
    "nps = percent_promoters - percent_detractors\n",
    "nps"
   ]
  },
  {
   "cell_type": "code",
   "execution_count": 167,
   "metadata": {
    "id": "drbKdSDa1pyv"
   },
   "outputs": [
    {
     "data": {
      "text/plain": [
       "24.0"
      ]
     },
     "execution_count": 167,
     "metadata": {},
     "output_type": "execute_result"
    }
   ],
   "source": [
    "np.round(nps)"
   ]
  }
 ],
 "metadata": {
  "colab": {
   "provenance": []
  },
  "kernelspec": {
   "display_name": "Python 3",
   "language": "python",
   "name": "python3"
  },
  "language_info": {
   "codemirror_mode": {
    "name": "ipython",
    "version": 3
   },
   "file_extension": ".py",
   "mimetype": "text/x-python",
   "name": "python",
   "nbconvert_exporter": "python",
   "pygments_lexer": "ipython3",
   "version": "3.9.7 (tags/v3.9.7:1016ef3, Aug 30 2021, 20:19:38) [MSC v.1929 64 bit (AMD64)]"
  },
  "vscode": {
   "interpreter": {
    "hash": "f338e6f633ebc1198df60f9307100d74b25b4c01f4f8f3f2b58c7a7bbc6577d8"
   }
  }
 },
 "nbformat": 4,
 "nbformat_minor": 1
}
