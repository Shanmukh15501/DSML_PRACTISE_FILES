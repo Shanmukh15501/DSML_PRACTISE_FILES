{
 "cells": [
  {
   "cell_type": "code",
   "execution_count": 4,
   "id": "feb600fc",
   "metadata": {},
   "outputs": [
    {
     "name": "stdout",
     "output_type": "stream",
     "text": [
      "[1 2 3 4 5] <class 'numpy.ndarray'>\n"
     ]
    }
   ],
   "source": [
    "import numpy as np\n",
    "a=np.array([1,2,3,4,5])\n",
    "print(a,type(a))"
   ]
  },
  {
   "cell_type": "code",
   "execution_count": 5,
   "id": "27cedfe1",
   "metadata": {},
   "outputs": [
    {
     "name": "stdout",
     "output_type": "stream",
     "text": [
      "#----------------------\n",
      "1 <class 'numpy.ndarray'> 0 ()\n",
      "#----------------------\n",
      "[1 2] <class 'numpy.ndarray'> 1 (2,)\n",
      "#----------------------\n",
      "[[1 2]] <class 'numpy.ndarray'> 2 (1, 2)\n",
      "#----------------------\n",
      "[[[1 2 3]\n",
      "  [4 5 6]]\n",
      "\n",
      " [[1 2 3]\n",
      "  [4 5 6]]] <class 'numpy.ndarray'> 3 (2, 2, 3)\n",
      "#----------------------\n",
      "[[[1 2]\n",
      "  [4 5]\n",
      "  [7 8]]\n",
      "\n",
      " [[1 2]\n",
      "  [4 5]\n",
      "  [7 8]]] <class 'numpy.ndarray'> 3 (2, 3, 2)\n",
      "#----------------------\n"
     ]
    }
   ],
   "source": [
    "#0-D numpy array\n",
    "print('#----------------------')\n",
    "a=np.array(1)\n",
    "print(a,type(a),a.ndim,a.shape)\n",
    "print('#----------------------')\n",
    "#1-D numpy array\n",
    "a=np.array([1,2])\n",
    "print(a,type(a),a.ndim,a.shape)\n",
    "print('#----------------------')\n",
    "#2-D numpy array\n",
    "a=np.array([[1,2]])\n",
    "print(a,type(a),a.ndim,a.shape)\n",
    "print('#----------------------')\n",
    "a = np.array([[[1, 2, 3], [4, 5, 6]], [[1, 2, 3], [4, 5, 6]]])\n",
    "print(a,type(a),a.ndim,a.shape)\n",
    "print('#----------------------')\n",
    "a = np.array([[[1, 2], [4, 5],[7,8]], [[1, 2], [4, 5],[7,8]]])\n",
    "print(a,type(a),a.ndim,a.shape)\n",
    "print('#----------------------')"
   ]
  },
  {
   "cell_type": "code",
   "execution_count": 6,
   "id": "e9206125",
   "metadata": {},
   "outputs": [
    {
     "name": "stdout",
     "output_type": "stream",
     "text": [
      "2\n",
      "10\n"
     ]
    }
   ],
   "source": [
    "import numpy as np\n",
    "# 2nd element on 1st row:\n",
    "\n",
    "arr = np.array([[1,2,3,4,5], [6,7,8,9,10]])\n",
    "\n",
    "print(arr[0, 1])\n",
    "\n",
    "#5th element on 2nd row\n",
    "\n",
    "print(arr[1,4])"
   ]
  },
  {
   "cell_type": "markdown",
   "id": "eec20d80",
   "metadata": {},
   "source": [
    "# The Difference Between Copy and View\n",
    "# The main difference between a copy and a view of an array is that the copy is a new array, and the view is just a view of the original array.\n",
    "\n",
    "# The copy owns the data and any changes made to the copy will not affect original array, and any changes made to the original array will not affect the copy.\n",
    "\n",
    "# The view does not own the data and any changes made to the view will affect the original array, and any changes made to the original array will affect the view."
   ]
  },
  {
   "cell_type": "code",
   "execution_count": 7,
   "id": "8aac0ee8",
   "metadata": {},
   "outputs": [
    {
     "name": "stdout",
     "output_type": "stream",
     "text": [
      "[42  2  3  4  5]\n",
      "[1 2 3 4 5]\n"
     ]
    }
   ],
   "source": [
    "arr = np.array([1, 2, 3, 4, 5])\n",
    "x = arr.copy()\n",
    "arr[0] = 42\n",
    "\n",
    "print(arr)\n",
    "print(x)\n"
   ]
  },
  {
   "cell_type": "code",
   "execution_count": 8,
   "id": "7f6740e0",
   "metadata": {},
   "outputs": [
    {
     "name": "stdout",
     "output_type": "stream",
     "text": [
      "[42  2  3  4  5]\n",
      "[42  2  3  4  5]\n"
     ]
    }
   ],
   "source": [
    "import numpy as np\n",
    "\n",
    "arr = np.array([1, 2, 3, 4, 5])\n",
    "x = arr.view()\n",
    "arr[0] = 42\n",
    "\n",
    "print(arr)\n",
    "print(x)"
   ]
  },
  {
   "cell_type": "code",
   "execution_count": 9,
   "id": "b83630e8",
   "metadata": {},
   "outputs": [
    {
     "name": "stdout",
     "output_type": "stream",
     "text": [
      "[[0 1 2]\n",
      " [3 4 5]\n",
      " [6 7 8]] (3, 3) 2\n",
      "COL WISE SUM [ 3 12 21]\n",
      "ROW WISE SUM [ 9 12 15]\n",
      "--------------------\n",
      "[[[0]\n",
      "  [1]]\n",
      "\n",
      " [[2]\n",
      "  [3]]\n",
      "\n",
      " [[4]\n",
      "  [5]]\n",
      "\n",
      " [[6]\n",
      "  [7]]]\n",
      "--------------------\n",
      "[0 1 2 3 4 5 6 7]\n",
      "--------------------\n",
      "[0 1 2 3 4 5 6 7]\n"
     ]
    }
   ],
   "source": [
    "a=np.arange(9)\n",
    "a=a.reshape(3,3)\n",
    "print(a,a.shape,a.ndim)\n",
    "print(\"COL WISE SUM\",np.sum(a,axis=1))\n",
    "print(\"ROW WISE SUM\",np.sum(a,axis=0))\n",
    "print(\"--------------------\")\n",
    "a=np.arange(8)\n",
    "a=a.reshape(4,2,-1)\n",
    "print(a)\n",
    "print(\"--------------------\")\n",
    "print(a.flatten())\n",
    "print(\"--------------------\")\n",
    "a=a.reshape(-1)\n",
    "print(a.reshape(-1))"
   ]
  },
  {
   "cell_type": "code",
   "execution_count": 10,
   "id": "3d522e86",
   "metadata": {},
   "outputs": [
    {
     "name": "stdout",
     "output_type": "stream",
     "text": [
      "[0 1 2 3]\n",
      "[0 2]\n",
      "[[0 1]\n",
      " [2 3]\n",
      " [4 5]\n",
      " [6 7]] (4, 2) 2\n"
     ]
    }
   ],
   "source": [
    "#------------slicing\n",
    "print(a[0:4])\n",
    "print(a[0:4:2])\n",
    "a=np.arange(8)\n",
    "a=a.reshape(4,2)\n",
    "print(a,a.shape,a.ndim)"
   ]
  },
  {
   "cell_type": "code",
   "execution_count": 11,
   "id": "cfe634ac",
   "metadata": {},
   "outputs": [
    {
     "name": "stdout",
     "output_type": "stream",
     "text": [
      "[1 2 3 4 5 6] (6,)\n"
     ]
    }
   ],
   "source": [
    "#CONCATENATE\n",
    "arr1 = np.array([1, 2, 3])\n",
    "\n",
    "arr2 = np.array([4, 5, 6])\n",
    "\n",
    "arr = np.concatenate((arr1, arr2))\n",
    "\n",
    "print(arr,arr.shape)"
   ]
  },
  {
   "cell_type": "code",
   "execution_count": 12,
   "id": "fb093e17",
   "metadata": {},
   "outputs": [
    {
     "name": "stdout",
     "output_type": "stream",
     "text": [
      "[[1 2]\n",
      " [3 4]\n",
      " [5 6]\n",
      " [7 8]] (4, 2)\n",
      "[[1 2 5 6]\n",
      " [3 4 7 8]] (2, 4)\n"
     ]
    }
   ],
   "source": [
    "import numpy as np\n",
    "\n",
    "arr1 = np.array([[1, 2], [3, 4]])\n",
    "\n",
    "arr2 = np.array([[5, 6], [7, 8]])\n",
    "\n",
    "arr = np.concatenate((arr1, arr2), axis=0)\n",
    "\n",
    "print(arr,arr.shape)\n",
    "\n",
    "arr = np.concatenate((arr1, arr2), axis=1)\n",
    "\n",
    "print(arr,arr.shape)"
   ]
  },
  {
   "cell_type": "markdown",
   "id": "e8d64717",
   "metadata": {},
   "source": [
    "# SPLIT , Merge & BroadCasting\n",
    "\n",
    "Splitting arrays - split(), hsplit(), vsplit()\n",
    "Merging Arrays - hstack(), vstack(), concatenate()\n",
    " **Broadcasting**\n",
    "    - `np.tile()` \n"
   ]
  },
  {
   "cell_type": "code",
   "execution_count": 13,
   "id": "adf3cd5f",
   "metadata": {},
   "outputs": [
    {
     "name": "stdout",
     "output_type": "stream",
     "text": [
      "[0 1 2 3 4 5 6 7]\n",
      "[array([0, 1, 2, 3]), array([4, 5, 6, 7])]\n",
      "[array([0, 1]), array([2, 3]), array([4, 5]), array([6, 7])]\n",
      "[array([0, 1]), array([2, 3, 4, 5]), array([6, 7])]\n",
      "BEFORE VSPLIT [[0 1]\n",
      " [2 3]\n",
      " [4 5]\n",
      " [6 7]]\n",
      "AFTER VSPLIT [array([[0, 1],\n",
      "       [2, 3]]), array([[4, 5],\n",
      "       [6, 7]])]\n"
     ]
    }
   ],
   "source": [
    "#--------- split\n",
    "\n",
    "a=np.arange(8)\n",
    "print(a)\n",
    "a = np.split(a, 2)\n",
    "print(a)\n",
    "a=np.arange(8)\n",
    "a = np.split(a, 4)\n",
    "print(a)\n",
    "#from index 2 upto the index 6 but not 6\n",
    "a=np.arange(8)\n",
    "a = np.hsplit(a, [2,6])\n",
    "print(a)\n",
    "#-----------------------------------------\n",
    "#a=np.arange(8)\n",
    "#a = np.vsplit(a,2)\n",
    "#print(a)\n",
    "#This will throw error bcoz vsplit does not work for 1D array\n",
    "#------------------------------------------\n",
    "a=np.arange(8).reshape(4,2)\n",
    "print(\"BEFORE VSPLIT\",a)\n",
    "a = np.vsplit(a,2)\n",
    "print(\"AFTER VSPLIT\",a)"
   ]
  },
  {
   "cell_type": "code",
   "execution_count": 14,
   "id": "63383dda",
   "metadata": {},
   "outputs": [
    {
     "name": "stdout",
     "output_type": "stream",
     "text": [
      "[[0 1]\n",
      " [2 3]\n",
      " [4 5]\n",
      " [6 7]]\n",
      "------------------ARRAYS-----------------------------\n",
      "[[ 8  9]\n",
      " [10 11]\n",
      " [12 13]\n",
      " [14 15]]\n",
      "-------------------HSTACK----------------------------\n",
      "[[ 0  1  8  9]\n",
      " [ 2  3 10 11]\n",
      " [ 4  5 12 13]\n",
      " [ 6  7 14 15]]\n",
      "-------------------VSTACK----------------------------\n",
      "[[ 0  1]\n",
      " [ 2  3]\n",
      " [ 4  5]\n",
      " [ 6  7]\n",
      " [ 8  9]\n",
      " [10 11]\n",
      " [12 13]\n",
      " [14 15]]\n",
      "-----------------CONCATENATION--on AXIS=0----------------------------\n",
      "[[ 0  1]\n",
      " [ 2  3]\n",
      " [ 4  5]\n",
      " [ 6  7]\n",
      " [ 8  9]\n",
      " [10 11]\n",
      " [12 13]\n",
      " [14 15]]\n",
      "-----------------CONCATENATION--on AXIS=1----------------------------\n",
      "[[ 0  1  8  9]\n",
      " [ 2  3 10 11]\n",
      " [ 4  5 12 13]\n",
      " [ 6  7 14 15]]\n"
     ]
    }
   ],
   "source": [
    "a=np.arange(8).reshape(4,2)\n",
    "print(a)\n",
    "print(\"------------------ARRAYS-----------------------------\")\n",
    "b=np.arange(8,16).reshape(4,2)\n",
    "print(b)\n",
    "print(\"-------------------HSTACK----------------------------\")\n",
    "c = np.hstack((a, b))\n",
    "print(c)\n",
    "print(\"-------------------VSTACK----------------------------\")\n",
    "d = np.vstack((a, b))\n",
    "print(d)\n",
    "print(\"-----------------CONCATENATION--on AXIS=0----------------------------\")\n",
    "e = np.concatenate((a,b),axis=0)\n",
    "print(e)\n",
    "print(\"-----------------CONCATENATION--on AXIS=1----------------------------\")\n",
    "f = np.concatenate((a,b),axis=1)\n",
    "print(f)"
   ]
  },
  {
   "cell_type": "markdown",
   "id": "a004b2d7",
   "metadata": {},
   "source": [
    "#SEARCH IN NUMPY\n",
    "\n",
    "#You can search an array for a certain value, and return the indexes that get a match.\n"
   ]
  },
  {
   "cell_type": "code",
   "execution_count": 15,
   "id": "8baf0860",
   "metadata": {},
   "outputs": [
    {
     "name": "stdout",
     "output_type": "stream",
     "text": [
      "(array([3, 5, 6], dtype=int64),)\n"
     ]
    }
   ],
   "source": [
    "import numpy as np\n",
    "\n",
    "arr = np.array([1, 2, 3, 4, 5, 4, 4])\n",
    "\n",
    "x = np.where(arr == 4)\n",
    "\n",
    "print(x)"
   ]
  },
  {
   "cell_type": "code",
   "execution_count": 16,
   "id": "33c46352",
   "metadata": {},
   "outputs": [
    {
     "name": "stdout",
     "output_type": "stream",
     "text": [
      "[ True  True  True False False False False False False False False False]\n",
      "[0 1 2]\n",
      "[0 3 6 9]\n"
     ]
    }
   ],
   "source": [
    "a=np.arange(12)\n",
    "print(a<3)\n",
    "print(a[a<3])\n",
    "print(a[a%3==0])"
   ]
  },
  {
   "cell_type": "raw",
   "id": "f0c9d619",
   "metadata": {},
   "source": [
    "#Fancy Indexing or Masking"
   ]
  },
  {
   "cell_type": "code",
   "execution_count": 17,
   "id": "6d926c48",
   "metadata": {},
   "outputs": [],
   "source": [
    "import numpy as np\n",
    "a=np.array([1,2,4])\n",
    "mask = (a%2==0)\n"
   ]
  },
  {
   "cell_type": "code",
   "execution_count": 18,
   "id": "5f4d4363",
   "metadata": {},
   "outputs": [
    {
     "data": {
      "text/plain": [
       "array([False,  True,  True])"
      ]
     },
     "execution_count": 18,
     "metadata": {},
     "output_type": "execute_result"
    }
   ],
   "source": [
    "mask"
   ]
  },
  {
   "cell_type": "code",
   "execution_count": 19,
   "id": "a9f63383",
   "metadata": {},
   "outputs": [
    {
     "data": {
      "text/plain": [
       "array([2, 4])"
      ]
     },
     "execution_count": 19,
     "metadata": {},
     "output_type": "execute_result"
    }
   ],
   "source": [
    "a[mask]"
   ]
  },
  {
   "cell_type": "code",
   "execution_count": 20,
   "id": "ac2bf738",
   "metadata": {},
   "outputs": [
    {
     "data": {
      "text/plain": [
       "array([-1, -1])"
      ]
     },
     "execution_count": 20,
     "metadata": {},
     "output_type": "execute_result"
    }
   ],
   "source": [
    "a[mask]=-1\n",
    "a[mask]"
   ]
  },
  {
   "cell_type": "code",
   "execution_count": 21,
   "id": "cdba4858",
   "metadata": {},
   "outputs": [
    {
     "name": "stdout",
     "output_type": "stream",
     "text": [
      "Original Array\n",
      "[[ 1  2  3  4  5  6]\n",
      " [ 7  8  9 10 11 12]] \n",
      "\n",
      "Array to be appended column wise\n",
      "[[ 5  6  7  8  9 10]]\n",
      "Array after appending the values column wise\n",
      "[[ 1  2  3  4  5  6]\n",
      " [ 7  8  9 10 11 12]\n",
      " [ 5  6  7  8  9 10]] \n",
      "\n",
      "Array to be appended row wise\n",
      "[[1]\n",
      " [2]]\n",
      "Array after appending the values row wise\n",
      "[[ 1  2  3  4  5  6  1]\n",
      " [ 7  8  9 10 11 12  2]]\n"
     ]
    }
   ],
   "source": [
    "\n",
    "# importing the module\n",
    "import numpy as np\n",
    " \n",
    "# create an array\n",
    "arr = np.arange(1, 13).reshape(2, 6)\n",
    "print('Original Array')\n",
    "print(arr, '\\n')\n",
    " \n",
    "# create another array which is\n",
    "# to be appended column-wise\n",
    "col = np.arange(5, 11).reshape(1, 6)\n",
    "print('Array to be appended column wise')\n",
    "print(col)\n",
    "arr_col = np.append(arr, col, axis=0)\n",
    "print('Array after appending the values column wise')\n",
    "print(arr_col, '\\n')\n",
    " \n",
    "# create an array which is\n",
    "# to be appended row wise\n",
    "row = np.array([1, 2]).reshape(2, 1)\n",
    "print('Array to be appended row wise')\n",
    "print(row)\n",
    "arr_row = np.append(arr, row, axis=1)\n",
    "print('Array after appending the values row wise')\n",
    "print(arr_row)"
   ]
  },
  {
   "cell_type": "markdown",
   "id": "376581f9",
   "metadata": {},
   "source": [
    "#SLICING AND INDEXING"
   ]
  },
  {
   "cell_type": "code",
   "execution_count": 44,
   "id": "02fa3f22",
   "metadata": {},
   "outputs": [
    {
     "name": "stdout",
     "output_type": "stream",
     "text": [
      "[[1 2 3]\n",
      " [4 5 6]\n",
      " [7 8 9]]\n",
      "-------------\n",
      "[1 2 3]\n",
      "-------------\n",
      "[7 8 9]\n",
      "-------------\n",
      "[1 4 7]\n",
      "-------------\n",
      "[3 6 9]\n",
      "-------------\n",
      "3\n",
      "-------------\n",
      "9\n",
      "-------------\n",
      "[[1 3]\n",
      " [4 6]\n",
      " [7 9]]\n"
     ]
    }
   ],
   "source": [
    "a=np.arange(1,10).reshape(3,3)\n",
    "print(a)\n",
    "print(\"-------------\")\n",
    "#GET 1st row\n",
    "print(a[0])\n",
    "print(\"-------------\")\n",
    "#GET 3 row\n",
    "print(a[2])\n",
    "print(\"-------------\")\n",
    "#GET 1st COLUMN\n",
    "print(a[:,0])\n",
    "print(\"-------------\")\n",
    "#GET 3 COLUMN\n",
    "print(a[:,2])\n",
    "print(\"-------------\")\n",
    "#GET 1st row and 3 COLUMN\n",
    "print(a[0,2])\n",
    "print(\"-------------\")\n",
    "#GET 3rd row and 3 COLUMN\n",
    "print(a[2,2])\n",
    "print(\"-------------\")\n",
    "#GET 3rd row and 3 COLUMN\n",
    "print(a[:,0::2])"
   ]
  },
  {
   "cell_type": "code",
   "execution_count": 45,
   "id": "5e3f9a0b",
   "metadata": {},
   "outputs": [
    {
     "data": {
      "text/plain": [
       "(array([1, 2, 3, 4]), array([4, 3, 2, 1]))"
      ]
     },
     "execution_count": 45,
     "metadata": {},
     "output_type": "execute_result"
    }
   ],
   "source": [
    "a = np.array([1,2,3,4])\n",
    "b = np.array([4,3,2,1])\n",
    "a, b"
   ]
  },
  {
   "cell_type": "code",
   "execution_count": 46,
   "id": "59b67b05",
   "metadata": {},
   "outputs": [
    {
     "data": {
      "text/plain": [
       "False"
      ]
     },
     "execution_count": 46,
     "metadata": {},
     "output_type": "execute_result"
    }
   ],
   "source": [
    "np.all(a<b)"
   ]
  },
  {
   "cell_type": "code",
   "execution_count": 47,
   "id": "871ce5cb",
   "metadata": {},
   "outputs": [
    {
     "data": {
      "text/plain": [
       "True"
      ]
     },
     "execution_count": 47,
     "metadata": {},
     "output_type": "execute_result"
    }
   ],
   "source": [
    "np.any(a<b)"
   ]
  },
  {
   "cell_type": "code",
   "execution_count": 49,
   "id": "bd15387e",
   "metadata": {},
   "outputs": [
    {
     "data": {
      "text/plain": [
       "array([1, 2, 3, 4])"
      ]
     },
     "execution_count": 49,
     "metadata": {},
     "output_type": "execute_result"
    }
   ],
   "source": [
    "np.sort(b)"
   ]
  },
  {
   "cell_type": "code",
   "execution_count": null,
   "id": "3e77e7a1",
   "metadata": {},
   "outputs": [],
   "source": []
  },
  {
   "cell_type": "code",
   "execution_count": null,
   "id": "c4a249d8",
   "metadata": {},
   "outputs": [],
   "source": []
  }
 ],
 "metadata": {
  "kernelspec": {
   "display_name": "Python 3 (ipykernel)",
   "language": "python",
   "name": "python3"
  },
  "language_info": {
   "codemirror_mode": {
    "name": "ipython",
    "version": 3
   },
   "file_extension": ".py",
   "mimetype": "text/x-python",
   "name": "python",
   "nbconvert_exporter": "python",
   "pygments_lexer": "ipython3",
   "version": "3.9.7"
  }
 },
 "nbformat": 4,
 "nbformat_minor": 5
}
