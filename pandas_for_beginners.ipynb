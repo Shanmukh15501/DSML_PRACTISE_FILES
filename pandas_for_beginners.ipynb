{
 "cells": [
  {
   "cell_type": "markdown",
   "id": "671b4cc9",
   "metadata": {},
   "source": [
    "# What are the basic data structures in pandas?"
   ]
  },
  {
   "cell_type": "code",
   "execution_count": 4,
   "id": "60dc2a77",
   "metadata": {},
   "outputs": [
    {
     "data": {
      "text/plain": [
       "a    1\n",
       "b    2\n",
       "c    3\n",
       "d    4\n",
       "dtype: int64"
      ]
     },
     "execution_count": 4,
     "metadata": {},
     "output_type": "execute_result"
    }
   ],
   "source": [
    "import pandas as pd\n",
    "\n",
    "df = pd.Series(data=[1,2,3,4], index=['a','b', 'c', 'd'])\n",
    "df"
   ]
  },
  {
   "cell_type": "code",
   "execution_count": 11,
   "id": "8c2d8d85",
   "metadata": {},
   "outputs": [
    {
     "data": {
      "text/plain": [
       "0     True\n",
       "1    False\n",
       "2    False\n",
       "Name: Temperature, dtype: bool"
      ]
     },
     "execution_count": 11,
     "metadata": {},
     "output_type": "execute_result"
    }
   ],
   "source": [
    "df = pd.DataFrame({\n",
    "    \n",
    "    'City':['vizag','Delhi','Ankapalle'],\n",
    "    'Temperature':[33,22,11],\n",
    "    'Humidity':[80,60,55],\n",
    "})\n",
    "df.head()\n",
    "df['Temperature']>22"
   ]
  },
  {
   "cell_type": "markdown",
   "id": "6d3f2cfc",
   "metadata": {},
   "source": [
    "# How do you read a CSV,JSON,EXCEL file in pandas?\n"
   ]
  },
  {
   "cell_type": "code",
   "execution_count": null,
   "id": "628c0976",
   "metadata": {},
   "outputs": [],
   "source": [
    "df1 = pd.read_csv('filename.csv')\n",
    "df2 = pd.read_json('filename.json')\n",
    "df3 = pd.read_excel('filename.xlsx')  "
   ]
  },
  {
   "cell_type": "markdown",
   "id": "8107bd11",
   "metadata": {},
   "source": [
    "# How can you select specific columns from a DataFrame in pandas?"
   ]
  },
  {
   "cell_type": "code",
   "execution_count": null,
   "id": "1fffb17a",
   "metadata": {},
   "outputs": [],
   "source": [
    "df = pd.read_csv('D:\\DataSets\\Pfizer_1.csv')\n",
    "df.head()"
   ]
  },
  {
   "cell_type": "code",
   "execution_count": null,
   "id": "3f832198",
   "metadata": {},
   "outputs": [],
   "source": [
    "df.index = [chr(i) for i in range(65,83)]\n",
    "df['Date'].head()"
   ]
  },
  {
   "cell_type": "code",
   "execution_count": null,
   "id": "c629dad6",
   "metadata": {},
   "outputs": [],
   "source": [
    "df.iloc[0]"
   ]
  },
  {
   "cell_type": "code",
   "execution_count": null,
   "id": "75199b9e",
   "metadata": {},
   "outputs": [],
   "source": [
    "df.loc['A']"
   ]
  },
  {
   "cell_type": "markdown",
   "id": "84375da9",
   "metadata": {},
   "source": [
    "# How do you filter rows in a DataFrame based on a condition in pandas?\n"
   ]
  },
  {
   "cell_type": "code",
   "execution_count": null,
   "id": "c848ca4e",
   "metadata": {},
   "outputs": [],
   "source": [
    "df['Date']=pd.to_datetime(df['Date'])\n",
    "df.info()"
   ]
  },
  {
   "cell_type": "code",
   "execution_count": null,
   "id": "7cbede76",
   "metadata": {},
   "outputs": [],
   "source": [
    "df[df['Date']>='2020-10-17']"
   ]
  },
  {
   "cell_type": "markdown",
   "id": "aaeaaa67",
   "metadata": {},
   "source": [
    "# How do you handle missing values in a DataFrame using pandas?\n"
   ]
  },
  {
   "cell_type": "code",
   "execution_count": null,
   "id": "7f26a01c",
   "metadata": {},
   "outputs": [],
   "source": [
    "import numpy as np\n",
    "df = pd.DataFrame({\"name\": [np.nan,'Alfred', 'Batman', 'Catwoman'],\n",
    "                   \"toy\": [np.nan,2, 'Batmobile', 'Bullwhip'],\n",
    "                   \"born\": [np.nan,3, pd.Timestamp(\"1940-04-25\"),pd.NaT],\n",
    "                    \"check\":[np.nan,pd.NaT, pd.NaT,pd.NaT],\n",
    "                    \"check1\":[1,2,3,4]\n",
    "                  })\n",
    "\n",
    "df1=df.copy()\n",
    "df"
   ]
  },
  {
   "cell_type": "code",
   "execution_count": null,
   "id": "a56ce538",
   "metadata": {},
   "outputs": [],
   "source": [
    "for i in df.columns:\n",
    "    null_rate = df[i].isna().sum() / len(df) * 100\n",
    "    if null_rate >= 0 :\n",
    "        print(\"{} null rate: {}%\".format(i,round(null_rate,2)))"
   ]
  },
  {
   "cell_type": "code",
   "execution_count": null,
   "id": "229aa625",
   "metadata": {},
   "outputs": [],
   "source": [
    "df.dropna()"
   ]
  },
  {
   "cell_type": "code",
   "execution_count": null,
   "id": "8e3f0063",
   "metadata": {},
   "outputs": [],
   "source": [
    "df.dropna(subset=['toy'])"
   ]
  },
  {
   "cell_type": "code",
   "execution_count": null,
   "id": "e43584fe",
   "metadata": {},
   "outputs": [],
   "source": [
    "# if a row contains 2 or more null values\n",
    "df.dropna(thresh=2)"
   ]
  },
  {
   "cell_type": "code",
   "execution_count": null,
   "id": "0a545c4d",
   "metadata": {},
   "outputs": [],
   "source": [
    "# if a row contains 2 or more null values\n",
    "df.dropna(how='all')"
   ]
  },
  {
   "cell_type": "code",
   "execution_count": null,
   "id": "334fa0eb",
   "metadata": {},
   "outputs": [],
   "source": [
    "df.fillna(0)"
   ]
  },
  {
   "cell_type": "code",
   "execution_count": null,
   "id": "7845254f",
   "metadata": {},
   "outputs": [],
   "source": [
    "df.fillna(method='ffill')"
   ]
  },
  {
   "cell_type": "code",
   "execution_count": null,
   "id": "d5080299",
   "metadata": {},
   "outputs": [],
   "source": [
    "df.fillna(method='bfill')"
   ]
  },
  {
   "cell_type": "code",
   "execution_count": null,
   "id": "560fa7fe",
   "metadata": {},
   "outputs": [],
   "source": [
    "df1['check']=df1['check'].fillna(101)\n",
    "df1"
   ]
  },
  {
   "cell_type": "markdown",
   "id": "74a07eab",
   "metadata": {},
   "source": [
    "# How do you merge two DataFrames in pandas?\n"
   ]
  },
  {
   "cell_type": "code",
   "execution_count": null,
   "id": "32fc748c",
   "metadata": {},
   "outputs": [],
   "source": [
    "customer_table = pd.DataFrame({'Customerid': [1,2,3,4],'name':['shanmukh','sashank','sachin','Nikhil']})\n",
    "order_table = pd.DataFrame({'Customerid': [1,2,5,8]})\n",
    "output = pd.merge(customer_table,order_table,on='Customerid')\n",
    "output"
   ]
  },
  {
   "cell_type": "code",
   "execution_count": null,
   "id": "1012171d",
   "metadata": {},
   "outputs": [],
   "source": [
    "customer_table.merge(order_table, how='inner', on='Customerid')"
   ]
  },
  {
   "cell_type": "code",
   "execution_count": null,
   "id": "6ae0a4fd",
   "metadata": {},
   "outputs": [],
   "source": [
    "customer_table = pd.DataFrame({'Customerid': [1,2,3,4],'name':['shanmukh','sashank','sachin','Nikhil']})\n",
    "order_table = pd.DataFrame({'id': [1,2,5,8]})\n",
    "output = pd.merge(customer_table,order_table,left_on='Customerid',right_on='id')\n",
    "output"
   ]
  },
  {
   "cell_type": "code",
   "execution_count": null,
   "id": "3fbee504",
   "metadata": {},
   "outputs": [],
   "source": [
    "customer_table.merge(order_table, how='right', left_on='Customerid',right_on='id')"
   ]
  },
  {
   "cell_type": "code",
   "execution_count": null,
   "id": "c18d5108",
   "metadata": {},
   "outputs": [],
   "source": [
    "customer_table.merge(order_table, how='left', left_on='Customerid',right_on='id')"
   ]
  },
  {
   "cell_type": "code",
   "execution_count": null,
   "id": "1b8eaef0",
   "metadata": {},
   "outputs": [],
   "source": [
    "customer_table.merge(order_table, how='cross')"
   ]
  },
  {
   "cell_type": "markdown",
   "id": "8be12873",
   "metadata": {},
   "source": [
    "# How do you perform groupby operation in pandas?\n"
   ]
  },
  {
   "cell_type": "code",
   "execution_count": null,
   "id": "f9ece2a4",
   "metadata": {},
   "outputs": [],
   "source": [
    "df = pd.DataFrame({'Student': ['Sashank', 'Sashank',\n",
    "                              'Manideep','Manideep', 'Sachin','Sampath','Nikhi','Shanmukh','Shanmukh'],\n",
    "                   'Points': [9,10,10,10,10,8,9,3,2]})"
   ]
  },
  {
   "cell_type": "code",
   "execution_count": null,
   "id": "5a226a97",
   "metadata": {},
   "outputs": [],
   "source": [
    "# df.groupby(['Student']).mean()\n",
    "# df.groupby(['Student']).median()\n",
    "# df.groupby(['Student']).count()\n",
    "df1 = df.groupby(['Student'])\n",
    "df.groupby(['Student']).sum()"
   ]
  },
  {
   "cell_type": "code",
   "execution_count": null,
   "id": "5af013d2",
   "metadata": {},
   "outputs": [],
   "source": [
    "df1.get_group('Manideep')"
   ]
  },
  {
   "cell_type": "code",
   "execution_count": null,
   "id": "eed5e9f4",
   "metadata": {},
   "outputs": [],
   "source": [
    "df1['Student'].count()"
   ]
  },
  {
   "cell_type": "code",
   "execution_count": null,
   "id": "d70c7cf3",
   "metadata": {},
   "outputs": [],
   "source": [
    "df1.agg({'Points': ['max', 'min']})"
   ]
  },
  {
   "cell_type": "markdown",
   "id": "8f5bf8d0",
   "metadata": {},
   "source": [
    "# How do you rename columns in a DataFrame using pandas?\n"
   ]
  },
  {
   "cell_type": "code",
   "execution_count": 1,
   "id": "95415967",
   "metadata": {},
   "outputs": [
    {
     "ename": "NameError",
     "evalue": "name 'pd' is not defined",
     "output_type": "error",
     "traceback": [
      "\u001b[1;31m---------------------------------------------------------------------------\u001b[0m",
      "\u001b[1;31mNameError\u001b[0m                                 Traceback (most recent call last)",
      "\u001b[1;32mC:\\Users\\ADARIS~1\\AppData\\Local\\Temp/ipykernel_10100/1212116796.py\u001b[0m in \u001b[0;36m<module>\u001b[1;34m\u001b[0m\n\u001b[1;32m----> 1\u001b[1;33m df = pd.DataFrame({'Student': ['Sashank', 'Sashank',\n\u001b[0m\u001b[0;32m      2\u001b[0m                               'Manideep','Manideep', 'Sachin','Sampath','Nikhi','Shanmukh','Shanmukh'],\n\u001b[0;32m      3\u001b[0m                    'Points': [9,10,10,10,10,8,9,3,2]})\n\u001b[0;32m      4\u001b[0m \u001b[0mdf\u001b[0m\u001b[1;33m.\u001b[0m\u001b[0mhead\u001b[0m\u001b[1;33m(\u001b[0m\u001b[1;33m)\u001b[0m\u001b[1;33m\u001b[0m\u001b[1;33m\u001b[0m\u001b[0m\n",
      "\u001b[1;31mNameError\u001b[0m: name 'pd' is not defined"
     ]
    }
   ],
   "source": [
    "df = pd.DataFrame({'Student': ['Sashank', 'Sashank',\n",
    "                              'Manideep','Manideep', 'Sachin','Sampath','Nikhi','Shanmukh','Shanmukh'],\n",
    "                   'Points': [9,10,10,10,10,8,9,3,2]})\n",
    "df.head()"
   ]
  },
  {
   "cell_type": "code",
   "execution_count": 608,
   "id": "edce5537",
   "metadata": {},
   "outputs": [
    {
     "data": {
      "text/html": [
       "<div>\n",
       "<style scoped>\n",
       "    .dataframe tbody tr th:only-of-type {\n",
       "        vertical-align: middle;\n",
       "    }\n",
       "\n",
       "    .dataframe tbody tr th {\n",
       "        vertical-align: top;\n",
       "    }\n",
       "\n",
       "    .dataframe thead th {\n",
       "        text-align: right;\n",
       "    }\n",
       "</style>\n",
       "<table border=\"1\" class=\"dataframe\">\n",
       "  <thead>\n",
       "    <tr style=\"text-align: right;\">\n",
       "      <th></th>\n",
       "      <th>Scaler_Candidate</th>\n",
       "      <th>Points</th>\n",
       "    </tr>\n",
       "  </thead>\n",
       "  <tbody>\n",
       "    <tr>\n",
       "      <th>0</th>\n",
       "      <td>Sashank</td>\n",
       "      <td>9</td>\n",
       "    </tr>\n",
       "    <tr>\n",
       "      <th>1</th>\n",
       "      <td>Sashank</td>\n",
       "      <td>10</td>\n",
       "    </tr>\n",
       "    <tr>\n",
       "      <th>2</th>\n",
       "      <td>Manideep</td>\n",
       "      <td>10</td>\n",
       "    </tr>\n",
       "    <tr>\n",
       "      <th>3</th>\n",
       "      <td>Manideep</td>\n",
       "      <td>10</td>\n",
       "    </tr>\n",
       "    <tr>\n",
       "      <th>4</th>\n",
       "      <td>Sachin</td>\n",
       "      <td>10</td>\n",
       "    </tr>\n",
       "  </tbody>\n",
       "</table>\n",
       "</div>"
      ],
      "text/plain": [
       "  Scaler_Candidate  Points\n",
       "0          Sashank       9\n",
       "1          Sashank      10\n",
       "2         Manideep      10\n",
       "3         Manideep      10\n",
       "4           Sachin      10"
      ]
     },
     "execution_count": 608,
     "metadata": {},
     "output_type": "execute_result"
    }
   ],
   "source": [
    "df = df.rename(columns={'Student': 'Scaler_Candidate'})\n",
    "df.head()"
   ]
  },
  {
   "cell_type": "markdown",
   "id": "b7a54682",
   "metadata": {},
   "source": [
    "# How do you sort a DataFrame by a specific column in pandas?\n"
   ]
  },
  {
   "cell_type": "code",
   "execution_count": 609,
   "id": "549fccb0",
   "metadata": {},
   "outputs": [
    {
     "data": {
      "text/html": [
       "<div>\n",
       "<style scoped>\n",
       "    .dataframe tbody tr th:only-of-type {\n",
       "        vertical-align: middle;\n",
       "    }\n",
       "\n",
       "    .dataframe tbody tr th {\n",
       "        vertical-align: top;\n",
       "    }\n",
       "\n",
       "    .dataframe thead th {\n",
       "        text-align: right;\n",
       "    }\n",
       "</style>\n",
       "<table border=\"1\" class=\"dataframe\">\n",
       "  <thead>\n",
       "    <tr style=\"text-align: right;\">\n",
       "      <th></th>\n",
       "      <th>Scaler_Candidate</th>\n",
       "      <th>Points</th>\n",
       "    </tr>\n",
       "  </thead>\n",
       "  <tbody>\n",
       "    <tr>\n",
       "      <th>1</th>\n",
       "      <td>Sashank</td>\n",
       "      <td>10</td>\n",
       "    </tr>\n",
       "    <tr>\n",
       "      <th>4</th>\n",
       "      <td>Sachin</td>\n",
       "      <td>10</td>\n",
       "    </tr>\n",
       "    <tr>\n",
       "      <th>2</th>\n",
       "      <td>Manideep</td>\n",
       "      <td>10</td>\n",
       "    </tr>\n",
       "    <tr>\n",
       "      <th>3</th>\n",
       "      <td>Manideep</td>\n",
       "      <td>10</td>\n",
       "    </tr>\n",
       "    <tr>\n",
       "      <th>0</th>\n",
       "      <td>Sashank</td>\n",
       "      <td>9</td>\n",
       "    </tr>\n",
       "    <tr>\n",
       "      <th>6</th>\n",
       "      <td>Nikhi</td>\n",
       "      <td>9</td>\n",
       "    </tr>\n",
       "    <tr>\n",
       "      <th>5</th>\n",
       "      <td>Sampath</td>\n",
       "      <td>8</td>\n",
       "    </tr>\n",
       "    <tr>\n",
       "      <th>7</th>\n",
       "      <td>Shanmukh</td>\n",
       "      <td>3</td>\n",
       "    </tr>\n",
       "    <tr>\n",
       "      <th>8</th>\n",
       "      <td>Shanmukh</td>\n",
       "      <td>2</td>\n",
       "    </tr>\n",
       "  </tbody>\n",
       "</table>\n",
       "</div>"
      ],
      "text/plain": [
       "  Scaler_Candidate  Points\n",
       "1          Sashank      10\n",
       "4           Sachin      10\n",
       "2         Manideep      10\n",
       "3         Manideep      10\n",
       "0          Sashank       9\n",
       "6            Nikhi       9\n",
       "5          Sampath       8\n",
       "7         Shanmukh       3\n",
       "8         Shanmukh       2"
      ]
     },
     "execution_count": 609,
     "metadata": {},
     "output_type": "execute_result"
    }
   ],
   "source": [
    "df_sorted = df.sort_values(by=['Points', 'Scaler_Candidate'], ascending=[False,False])\n",
    "df_sorted"
   ]
  },
  {
   "cell_type": "markdown",
   "id": "182983fc",
   "metadata": {},
   "source": [
    "# How do you aggregate data using pandas?\n"
   ]
  },
  {
   "cell_type": "code",
   "execution_count": 610,
   "id": "2540f0ff",
   "metadata": {},
   "outputs": [
    {
     "data": {
      "text/plain": [
       "10"
      ]
     },
     "execution_count": 610,
     "metadata": {},
     "output_type": "execute_result"
    }
   ],
   "source": [
    "df['Points'].max()"
   ]
  },
  {
   "cell_type": "code",
   "execution_count": 611,
   "id": "29de03df",
   "metadata": {},
   "outputs": [
    {
     "data": {
      "text/plain": [
       "2"
      ]
     },
     "execution_count": 611,
     "metadata": {},
     "output_type": "execute_result"
    }
   ],
   "source": [
    "df['Points'].min()"
   ]
  },
  {
   "cell_type": "code",
   "execution_count": 612,
   "id": "bd1cea0e",
   "metadata": {},
   "outputs": [
    {
     "data": {
      "text/plain": [
       "7.888888888888889"
      ]
     },
     "execution_count": 612,
     "metadata": {},
     "output_type": "execute_result"
    }
   ],
   "source": [
    "df['Points'].mean()"
   ]
  },
  {
   "cell_type": "code",
   "execution_count": 613,
   "id": "22d1ada7",
   "metadata": {},
   "outputs": [
    {
     "data": {
      "text/plain": [
       "9.0"
      ]
     },
     "execution_count": 613,
     "metadata": {},
     "output_type": "execute_result"
    }
   ],
   "source": [
    "df['Points'].median()"
   ]
  },
  {
   "cell_type": "code",
   "execution_count": 614,
   "id": "64225e54",
   "metadata": {},
   "outputs": [
    {
     "data": {
      "text/plain": [
       "0    10\n",
       "dtype: int64"
      ]
     },
     "execution_count": 614,
     "metadata": {},
     "output_type": "execute_result"
    }
   ],
   "source": [
    "df['Points'].mode()"
   ]
  },
  {
   "cell_type": "markdown",
   "id": "7fe7ac21",
   "metadata": {},
   "source": [
    "# How do you apply a function to each element in a DataFrame in pandas?\n"
   ]
  },
  {
   "cell_type": "code",
   "execution_count": 615,
   "id": "f95f1826",
   "metadata": {},
   "outputs": [
    {
     "data": {
      "text/html": [
       "<div>\n",
       "<style scoped>\n",
       "    .dataframe tbody tr th:only-of-type {\n",
       "        vertical-align: middle;\n",
       "    }\n",
       "\n",
       "    .dataframe tbody tr th {\n",
       "        vertical-align: top;\n",
       "    }\n",
       "\n",
       "    .dataframe thead th {\n",
       "        text-align: right;\n",
       "    }\n",
       "</style>\n",
       "<table border=\"1\" class=\"dataframe\">\n",
       "  <thead>\n",
       "    <tr style=\"text-align: right;\">\n",
       "      <th></th>\n",
       "      <th>Scaler_Candidate</th>\n",
       "      <th>Points</th>\n",
       "    </tr>\n",
       "  </thead>\n",
       "  <tbody>\n",
       "    <tr>\n",
       "      <th>0</th>\n",
       "      <td>Sashank</td>\n",
       "      <td>9</td>\n",
       "    </tr>\n",
       "    <tr>\n",
       "      <th>1</th>\n",
       "      <td>Sashank</td>\n",
       "      <td>10</td>\n",
       "    </tr>\n",
       "    <tr>\n",
       "      <th>2</th>\n",
       "      <td>Manideep</td>\n",
       "      <td>10</td>\n",
       "    </tr>\n",
       "    <tr>\n",
       "      <th>3</th>\n",
       "      <td>Manideep</td>\n",
       "      <td>10</td>\n",
       "    </tr>\n",
       "    <tr>\n",
       "      <th>4</th>\n",
       "      <td>Sachin</td>\n",
       "      <td>10</td>\n",
       "    </tr>\n",
       "  </tbody>\n",
       "</table>\n",
       "</div>"
      ],
      "text/plain": [
       "  Scaler_Candidate  Points\n",
       "0          Sashank       9\n",
       "1          Sashank      10\n",
       "2         Manideep      10\n",
       "3         Manideep      10\n",
       "4           Sachin      10"
      ]
     },
     "execution_count": 615,
     "metadata": {},
     "output_type": "execute_result"
    }
   ],
   "source": [
    "df.head()"
   ]
  },
  {
   "cell_type": "code",
   "execution_count": 616,
   "id": "00c047b5",
   "metadata": {},
   "outputs": [],
   "source": [
    "df['Points']=df['Points'].apply(lambda x:x-1)"
   ]
  },
  {
   "cell_type": "code",
   "execution_count": 617,
   "id": "2c898063",
   "metadata": {},
   "outputs": [
    {
     "data": {
      "text/html": [
       "<div>\n",
       "<style scoped>\n",
       "    .dataframe tbody tr th:only-of-type {\n",
       "        vertical-align: middle;\n",
       "    }\n",
       "\n",
       "    .dataframe tbody tr th {\n",
       "        vertical-align: top;\n",
       "    }\n",
       "\n",
       "    .dataframe thead th {\n",
       "        text-align: right;\n",
       "    }\n",
       "</style>\n",
       "<table border=\"1\" class=\"dataframe\">\n",
       "  <thead>\n",
       "    <tr style=\"text-align: right;\">\n",
       "      <th></th>\n",
       "      <th>Scaler_Candidate</th>\n",
       "      <th>Points</th>\n",
       "    </tr>\n",
       "  </thead>\n",
       "  <tbody>\n",
       "    <tr>\n",
       "      <th>0</th>\n",
       "      <td>Sashank</td>\n",
       "      <td>8</td>\n",
       "    </tr>\n",
       "    <tr>\n",
       "      <th>1</th>\n",
       "      <td>Sashank</td>\n",
       "      <td>9</td>\n",
       "    </tr>\n",
       "    <tr>\n",
       "      <th>2</th>\n",
       "      <td>Manideep</td>\n",
       "      <td>9</td>\n",
       "    </tr>\n",
       "    <tr>\n",
       "      <th>3</th>\n",
       "      <td>Manideep</td>\n",
       "      <td>9</td>\n",
       "    </tr>\n",
       "    <tr>\n",
       "      <th>4</th>\n",
       "      <td>Sachin</td>\n",
       "      <td>9</td>\n",
       "    </tr>\n",
       "  </tbody>\n",
       "</table>\n",
       "</div>"
      ],
      "text/plain": [
       "  Scaler_Candidate  Points\n",
       "0          Sashank       8\n",
       "1          Sashank       9\n",
       "2         Manideep       9\n",
       "3         Manideep       9\n",
       "4           Sachin       9"
      ]
     },
     "execution_count": 617,
     "metadata": {},
     "output_type": "execute_result"
    }
   ],
   "source": [
    "df.head()"
   ]
  },
  {
   "cell_type": "markdown",
   "id": "9cc1142a",
   "metadata": {},
   "source": [
    "# How do you handle duplicate data in a DataFrame using pandas?\n"
   ]
  },
  {
   "cell_type": "code",
   "execution_count": 618,
   "id": "a802a7ba",
   "metadata": {},
   "outputs": [
    {
     "data": {
      "text/html": [
       "<div>\n",
       "<style scoped>\n",
       "    .dataframe tbody tr th:only-of-type {\n",
       "        vertical-align: middle;\n",
       "    }\n",
       "\n",
       "    .dataframe tbody tr th {\n",
       "        vertical-align: top;\n",
       "    }\n",
       "\n",
       "    .dataframe thead th {\n",
       "        text-align: right;\n",
       "    }\n",
       "</style>\n",
       "<table border=\"1\" class=\"dataframe\">\n",
       "  <thead>\n",
       "    <tr style=\"text-align: right;\">\n",
       "      <th></th>\n",
       "      <th>Scaler_Candidate</th>\n",
       "      <th>Points</th>\n",
       "    </tr>\n",
       "  </thead>\n",
       "  <tbody>\n",
       "    <tr>\n",
       "      <th>3</th>\n",
       "      <td>Manideep</td>\n",
       "      <td>9</td>\n",
       "    </tr>\n",
       "  </tbody>\n",
       "</table>\n",
       "</div>"
      ],
      "text/plain": [
       "  Scaler_Candidate  Points\n",
       "3         Manideep       9"
      ]
     },
     "execution_count": 618,
     "metadata": {},
     "output_type": "execute_result"
    }
   ],
   "source": [
    "df[df.duplicated()]"
   ]
  },
  {
   "cell_type": "code",
   "execution_count": 619,
   "id": "ffea8951",
   "metadata": {},
   "outputs": [
    {
     "data": {
      "text/html": [
       "<div>\n",
       "<style scoped>\n",
       "    .dataframe tbody tr th:only-of-type {\n",
       "        vertical-align: middle;\n",
       "    }\n",
       "\n",
       "    .dataframe tbody tr th {\n",
       "        vertical-align: top;\n",
       "    }\n",
       "\n",
       "    .dataframe thead th {\n",
       "        text-align: right;\n",
       "    }\n",
       "</style>\n",
       "<table border=\"1\" class=\"dataframe\">\n",
       "  <thead>\n",
       "    <tr style=\"text-align: right;\">\n",
       "      <th></th>\n",
       "      <th>Scaler_Candidate</th>\n",
       "      <th>Points</th>\n",
       "    </tr>\n",
       "  </thead>\n",
       "  <tbody>\n",
       "    <tr>\n",
       "      <th>0</th>\n",
       "      <td>Sashank</td>\n",
       "      <td>8</td>\n",
       "    </tr>\n",
       "    <tr>\n",
       "      <th>1</th>\n",
       "      <td>Sashank</td>\n",
       "      <td>9</td>\n",
       "    </tr>\n",
       "    <tr>\n",
       "      <th>3</th>\n",
       "      <td>Manideep</td>\n",
       "      <td>9</td>\n",
       "    </tr>\n",
       "    <tr>\n",
       "      <th>4</th>\n",
       "      <td>Sachin</td>\n",
       "      <td>9</td>\n",
       "    </tr>\n",
       "    <tr>\n",
       "      <th>5</th>\n",
       "      <td>Sampath</td>\n",
       "      <td>7</td>\n",
       "    </tr>\n",
       "    <tr>\n",
       "      <th>6</th>\n",
       "      <td>Nikhi</td>\n",
       "      <td>8</td>\n",
       "    </tr>\n",
       "    <tr>\n",
       "      <th>7</th>\n",
       "      <td>Shanmukh</td>\n",
       "      <td>2</td>\n",
       "    </tr>\n",
       "    <tr>\n",
       "      <th>8</th>\n",
       "      <td>Shanmukh</td>\n",
       "      <td>1</td>\n",
       "    </tr>\n",
       "  </tbody>\n",
       "</table>\n",
       "</div>"
      ],
      "text/plain": [
       "  Scaler_Candidate  Points\n",
       "0          Sashank       8\n",
       "1          Sashank       9\n",
       "3         Manideep       9\n",
       "4           Sachin       9\n",
       "5          Sampath       7\n",
       "6            Nikhi       8\n",
       "7         Shanmukh       2\n",
       "8         Shanmukh       1"
      ]
     },
     "execution_count": 619,
     "metadata": {},
     "output_type": "execute_result"
    }
   ],
   "source": [
    "df.drop_duplicates(keep=\"last\")"
   ]
  },
  {
   "cell_type": "code",
   "execution_count": 620,
   "id": "3064c524",
   "metadata": {},
   "outputs": [
    {
     "data": {
      "text/html": [
       "<div>\n",
       "<style scoped>\n",
       "    .dataframe tbody tr th:only-of-type {\n",
       "        vertical-align: middle;\n",
       "    }\n",
       "\n",
       "    .dataframe tbody tr th {\n",
       "        vertical-align: top;\n",
       "    }\n",
       "\n",
       "    .dataframe thead th {\n",
       "        text-align: right;\n",
       "    }\n",
       "</style>\n",
       "<table border=\"1\" class=\"dataframe\">\n",
       "  <thead>\n",
       "    <tr style=\"text-align: right;\">\n",
       "      <th></th>\n",
       "      <th>Scaler_Candidate</th>\n",
       "      <th>Points</th>\n",
       "    </tr>\n",
       "  </thead>\n",
       "  <tbody>\n",
       "    <tr>\n",
       "      <th>0</th>\n",
       "      <td>Sashank</td>\n",
       "      <td>8</td>\n",
       "    </tr>\n",
       "    <tr>\n",
       "      <th>1</th>\n",
       "      <td>Sashank</td>\n",
       "      <td>9</td>\n",
       "    </tr>\n",
       "    <tr>\n",
       "      <th>2</th>\n",
       "      <td>Manideep</td>\n",
       "      <td>9</td>\n",
       "    </tr>\n",
       "    <tr>\n",
       "      <th>4</th>\n",
       "      <td>Sachin</td>\n",
       "      <td>9</td>\n",
       "    </tr>\n",
       "    <tr>\n",
       "      <th>5</th>\n",
       "      <td>Sampath</td>\n",
       "      <td>7</td>\n",
       "    </tr>\n",
       "    <tr>\n",
       "      <th>6</th>\n",
       "      <td>Nikhi</td>\n",
       "      <td>8</td>\n",
       "    </tr>\n",
       "    <tr>\n",
       "      <th>7</th>\n",
       "      <td>Shanmukh</td>\n",
       "      <td>2</td>\n",
       "    </tr>\n",
       "    <tr>\n",
       "      <th>8</th>\n",
       "      <td>Shanmukh</td>\n",
       "      <td>1</td>\n",
       "    </tr>\n",
       "  </tbody>\n",
       "</table>\n",
       "</div>"
      ],
      "text/plain": [
       "  Scaler_Candidate  Points\n",
       "0          Sashank       8\n",
       "1          Sashank       9\n",
       "2         Manideep       9\n",
       "4           Sachin       9\n",
       "5          Sampath       7\n",
       "6            Nikhi       8\n",
       "7         Shanmukh       2\n",
       "8         Shanmukh       1"
      ]
     },
     "execution_count": 620,
     "metadata": {},
     "output_type": "execute_result"
    }
   ],
   "source": [
    "df.drop_duplicates(keep=\"first\")"
   ]
  },
  {
   "cell_type": "markdown",
   "id": "8090b25d",
   "metadata": {},
   "source": [
    "# How do you calculate descriptive statistics for a DataFrame using pandas?\n"
   ]
  },
  {
   "cell_type": "code",
   "execution_count": 621,
   "id": "055ed154",
   "metadata": {},
   "outputs": [
    {
     "data": {
      "text/html": [
       "<div>\n",
       "<style scoped>\n",
       "    .dataframe tbody tr th:only-of-type {\n",
       "        vertical-align: middle;\n",
       "    }\n",
       "\n",
       "    .dataframe tbody tr th {\n",
       "        vertical-align: top;\n",
       "    }\n",
       "\n",
       "    .dataframe thead th {\n",
       "        text-align: right;\n",
       "    }\n",
       "</style>\n",
       "<table border=\"1\" class=\"dataframe\">\n",
       "  <thead>\n",
       "    <tr style=\"text-align: right;\">\n",
       "      <th></th>\n",
       "      <th>Points</th>\n",
       "    </tr>\n",
       "  </thead>\n",
       "  <tbody>\n",
       "    <tr>\n",
       "      <th>count</th>\n",
       "      <td>9.000000</td>\n",
       "    </tr>\n",
       "    <tr>\n",
       "      <th>mean</th>\n",
       "      <td>6.888889</td>\n",
       "    </tr>\n",
       "    <tr>\n",
       "      <th>std</th>\n",
       "      <td>3.140241</td>\n",
       "    </tr>\n",
       "    <tr>\n",
       "      <th>min</th>\n",
       "      <td>1.000000</td>\n",
       "    </tr>\n",
       "    <tr>\n",
       "      <th>25%</th>\n",
       "      <td>7.000000</td>\n",
       "    </tr>\n",
       "    <tr>\n",
       "      <th>50%</th>\n",
       "      <td>8.000000</td>\n",
       "    </tr>\n",
       "    <tr>\n",
       "      <th>75%</th>\n",
       "      <td>9.000000</td>\n",
       "    </tr>\n",
       "    <tr>\n",
       "      <th>max</th>\n",
       "      <td>9.000000</td>\n",
       "    </tr>\n",
       "  </tbody>\n",
       "</table>\n",
       "</div>"
      ],
      "text/plain": [
       "         Points\n",
       "count  9.000000\n",
       "mean   6.888889\n",
       "std    3.140241\n",
       "min    1.000000\n",
       "25%    7.000000\n",
       "50%    8.000000\n",
       "75%    9.000000\n",
       "max    9.000000"
      ]
     },
     "execution_count": 621,
     "metadata": {},
     "output_type": "execute_result"
    }
   ],
   "source": [
    "df.describe()"
   ]
  },
  {
   "cell_type": "code",
   "execution_count": 622,
   "id": "74eaf460",
   "metadata": {},
   "outputs": [
    {
     "data": {
      "text/html": [
       "<div>\n",
       "<style scoped>\n",
       "    .dataframe tbody tr th:only-of-type {\n",
       "        vertical-align: middle;\n",
       "    }\n",
       "\n",
       "    .dataframe tbody tr th {\n",
       "        vertical-align: top;\n",
       "    }\n",
       "\n",
       "    .dataframe thead th {\n",
       "        text-align: right;\n",
       "    }\n",
       "</style>\n",
       "<table border=\"1\" class=\"dataframe\">\n",
       "  <thead>\n",
       "    <tr style=\"text-align: right;\">\n",
       "      <th></th>\n",
       "      <th>Scaler_Candidate</th>\n",
       "      <th>Points</th>\n",
       "    </tr>\n",
       "  </thead>\n",
       "  <tbody>\n",
       "    <tr>\n",
       "      <th>count</th>\n",
       "      <td>9</td>\n",
       "      <td>9.000000</td>\n",
       "    </tr>\n",
       "    <tr>\n",
       "      <th>unique</th>\n",
       "      <td>6</td>\n",
       "      <td>NaN</td>\n",
       "    </tr>\n",
       "    <tr>\n",
       "      <th>top</th>\n",
       "      <td>Sashank</td>\n",
       "      <td>NaN</td>\n",
       "    </tr>\n",
       "    <tr>\n",
       "      <th>freq</th>\n",
       "      <td>2</td>\n",
       "      <td>NaN</td>\n",
       "    </tr>\n",
       "    <tr>\n",
       "      <th>mean</th>\n",
       "      <td>NaN</td>\n",
       "      <td>6.888889</td>\n",
       "    </tr>\n",
       "    <tr>\n",
       "      <th>std</th>\n",
       "      <td>NaN</td>\n",
       "      <td>3.140241</td>\n",
       "    </tr>\n",
       "    <tr>\n",
       "      <th>min</th>\n",
       "      <td>NaN</td>\n",
       "      <td>1.000000</td>\n",
       "    </tr>\n",
       "    <tr>\n",
       "      <th>25%</th>\n",
       "      <td>NaN</td>\n",
       "      <td>7.000000</td>\n",
       "    </tr>\n",
       "    <tr>\n",
       "      <th>50%</th>\n",
       "      <td>NaN</td>\n",
       "      <td>8.000000</td>\n",
       "    </tr>\n",
       "    <tr>\n",
       "      <th>75%</th>\n",
       "      <td>NaN</td>\n",
       "      <td>9.000000</td>\n",
       "    </tr>\n",
       "    <tr>\n",
       "      <th>max</th>\n",
       "      <td>NaN</td>\n",
       "      <td>9.000000</td>\n",
       "    </tr>\n",
       "  </tbody>\n",
       "</table>\n",
       "</div>"
      ],
      "text/plain": [
       "       Scaler_Candidate    Points\n",
       "count                 9  9.000000\n",
       "unique                6       NaN\n",
       "top             Sashank       NaN\n",
       "freq                  2       NaN\n",
       "mean                NaN  6.888889\n",
       "std                 NaN  3.140241\n",
       "min                 NaN  1.000000\n",
       "25%                 NaN  7.000000\n",
       "50%                 NaN  8.000000\n",
       "75%                 NaN  9.000000\n",
       "max                 NaN  9.000000"
      ]
     },
     "execution_count": 622,
     "metadata": {},
     "output_type": "execute_result"
    }
   ],
   "source": [
    "df.describe(include=\"all\")"
   ]
  },
  {
   "cell_type": "code",
   "execution_count": 623,
   "id": "7fbd8017",
   "metadata": {},
   "outputs": [
    {
     "data": {
      "text/html": [
       "<div>\n",
       "<style scoped>\n",
       "    .dataframe tbody tr th:only-of-type {\n",
       "        vertical-align: middle;\n",
       "    }\n",
       "\n",
       "    .dataframe tbody tr th {\n",
       "        vertical-align: top;\n",
       "    }\n",
       "\n",
       "    .dataframe thead th {\n",
       "        text-align: right;\n",
       "    }\n",
       "</style>\n",
       "<table border=\"1\" class=\"dataframe\">\n",
       "  <thead>\n",
       "    <tr style=\"text-align: right;\">\n",
       "      <th></th>\n",
       "      <th>Scaler_Candidate</th>\n",
       "    </tr>\n",
       "  </thead>\n",
       "  <tbody>\n",
       "    <tr>\n",
       "      <th>count</th>\n",
       "      <td>9</td>\n",
       "    </tr>\n",
       "    <tr>\n",
       "      <th>unique</th>\n",
       "      <td>6</td>\n",
       "    </tr>\n",
       "    <tr>\n",
       "      <th>top</th>\n",
       "      <td>Sashank</td>\n",
       "    </tr>\n",
       "    <tr>\n",
       "      <th>freq</th>\n",
       "      <td>2</td>\n",
       "    </tr>\n",
       "  </tbody>\n",
       "</table>\n",
       "</div>"
      ],
      "text/plain": [
       "       Scaler_Candidate\n",
       "count                 9\n",
       "unique                6\n",
       "top             Sashank\n",
       "freq                  2"
      ]
     },
     "execution_count": 623,
     "metadata": {},
     "output_type": "execute_result"
    }
   ],
   "source": [
    "df.describe(include=object)"
   ]
  },
  {
   "cell_type": "markdown",
   "id": "43b6cec2",
   "metadata": {},
   "source": [
    "# How do you set and reset the index of a DataFrame using pandas?\n"
   ]
  },
  {
   "cell_type": "code",
   "execution_count": 624,
   "id": "3d54f7cf",
   "metadata": {},
   "outputs": [
    {
     "data": {
      "text/html": [
       "<div>\n",
       "<style scoped>\n",
       "    .dataframe tbody tr th:only-of-type {\n",
       "        vertical-align: middle;\n",
       "    }\n",
       "\n",
       "    .dataframe tbody tr th {\n",
       "        vertical-align: top;\n",
       "    }\n",
       "\n",
       "    .dataframe thead th {\n",
       "        text-align: right;\n",
       "    }\n",
       "</style>\n",
       "<table border=\"1\" class=\"dataframe\">\n",
       "  <thead>\n",
       "    <tr style=\"text-align: right;\">\n",
       "      <th></th>\n",
       "      <th>Scaler_Candidate</th>\n",
       "      <th>Points</th>\n",
       "    </tr>\n",
       "  </thead>\n",
       "  <tbody>\n",
       "    <tr>\n",
       "      <th>0</th>\n",
       "      <td>Sashank</td>\n",
       "      <td>8</td>\n",
       "    </tr>\n",
       "    <tr>\n",
       "      <th>1</th>\n",
       "      <td>Sashank</td>\n",
       "      <td>9</td>\n",
       "    </tr>\n",
       "    <tr>\n",
       "      <th>2</th>\n",
       "      <td>Manideep</td>\n",
       "      <td>9</td>\n",
       "    </tr>\n",
       "    <tr>\n",
       "      <th>3</th>\n",
       "      <td>Manideep</td>\n",
       "      <td>9</td>\n",
       "    </tr>\n",
       "    <tr>\n",
       "      <th>4</th>\n",
       "      <td>Sachin</td>\n",
       "      <td>9</td>\n",
       "    </tr>\n",
       "  </tbody>\n",
       "</table>\n",
       "</div>"
      ],
      "text/plain": [
       "  Scaler_Candidate  Points\n",
       "0          Sashank       8\n",
       "1          Sashank       9\n",
       "2         Manideep       9\n",
       "3         Manideep       9\n",
       "4           Sachin       9"
      ]
     },
     "execution_count": 624,
     "metadata": {},
     "output_type": "execute_result"
    }
   ],
   "source": [
    "df.head()"
   ]
  },
  {
   "cell_type": "code",
   "execution_count": 625,
   "id": "d273bfd4",
   "metadata": {},
   "outputs": [
    {
     "data": {
      "text/html": [
       "<div>\n",
       "<style scoped>\n",
       "    .dataframe tbody tr th:only-of-type {\n",
       "        vertical-align: middle;\n",
       "    }\n",
       "\n",
       "    .dataframe tbody tr th {\n",
       "        vertical-align: top;\n",
       "    }\n",
       "\n",
       "    .dataframe thead th {\n",
       "        text-align: right;\n",
       "    }\n",
       "</style>\n",
       "<table border=\"1\" class=\"dataframe\">\n",
       "  <thead>\n",
       "    <tr style=\"text-align: right;\">\n",
       "      <th></th>\n",
       "      <th>Points</th>\n",
       "    </tr>\n",
       "    <tr>\n",
       "      <th>Scaler_Candidate</th>\n",
       "      <th></th>\n",
       "    </tr>\n",
       "  </thead>\n",
       "  <tbody>\n",
       "    <tr>\n",
       "      <th>Sashank</th>\n",
       "      <td>8</td>\n",
       "    </tr>\n",
       "    <tr>\n",
       "      <th>Sashank</th>\n",
       "      <td>9</td>\n",
       "    </tr>\n",
       "    <tr>\n",
       "      <th>Manideep</th>\n",
       "      <td>9</td>\n",
       "    </tr>\n",
       "    <tr>\n",
       "      <th>Manideep</th>\n",
       "      <td>9</td>\n",
       "    </tr>\n",
       "    <tr>\n",
       "      <th>Sachin</th>\n",
       "      <td>9</td>\n",
       "    </tr>\n",
       "    <tr>\n",
       "      <th>Sampath</th>\n",
       "      <td>7</td>\n",
       "    </tr>\n",
       "    <tr>\n",
       "      <th>Nikhi</th>\n",
       "      <td>8</td>\n",
       "    </tr>\n",
       "    <tr>\n",
       "      <th>Shanmukh</th>\n",
       "      <td>2</td>\n",
       "    </tr>\n",
       "    <tr>\n",
       "      <th>Shanmukh</th>\n",
       "      <td>1</td>\n",
       "    </tr>\n",
       "  </tbody>\n",
       "</table>\n",
       "</div>"
      ],
      "text/plain": [
       "                  Points\n",
       "Scaler_Candidate        \n",
       "Sashank                8\n",
       "Sashank                9\n",
       "Manideep               9\n",
       "Manideep               9\n",
       "Sachin                 9\n",
       "Sampath                7\n",
       "Nikhi                  8\n",
       "Shanmukh               2\n",
       "Shanmukh               1"
      ]
     },
     "execution_count": 625,
     "metadata": {},
     "output_type": "execute_result"
    }
   ],
   "source": [
    "df.set_index('Scaler_Candidate')"
   ]
  },
  {
   "cell_type": "code",
   "execution_count": 626,
   "id": "0c8867f5",
   "metadata": {},
   "outputs": [
    {
     "data": {
      "text/html": [
       "<div>\n",
       "<style scoped>\n",
       "    .dataframe tbody tr th:only-of-type {\n",
       "        vertical-align: middle;\n",
       "    }\n",
       "\n",
       "    .dataframe tbody tr th {\n",
       "        vertical-align: top;\n",
       "    }\n",
       "\n",
       "    .dataframe thead th {\n",
       "        text-align: right;\n",
       "    }\n",
       "</style>\n",
       "<table border=\"1\" class=\"dataframe\">\n",
       "  <thead>\n",
       "    <tr style=\"text-align: right;\">\n",
       "      <th></th>\n",
       "      <th>Points</th>\n",
       "    </tr>\n",
       "    <tr>\n",
       "      <th>Scaler_Candidate</th>\n",
       "      <th></th>\n",
       "    </tr>\n",
       "  </thead>\n",
       "  <tbody>\n",
       "    <tr>\n",
       "      <th>Sashank</th>\n",
       "      <td>8</td>\n",
       "    </tr>\n",
       "    <tr>\n",
       "      <th>Sashank</th>\n",
       "      <td>9</td>\n",
       "    </tr>\n",
       "    <tr>\n",
       "      <th>Manideep</th>\n",
       "      <td>9</td>\n",
       "    </tr>\n",
       "    <tr>\n",
       "      <th>Manideep</th>\n",
       "      <td>9</td>\n",
       "    </tr>\n",
       "    <tr>\n",
       "      <th>Sachin</th>\n",
       "      <td>9</td>\n",
       "    </tr>\n",
       "    <tr>\n",
       "      <th>Sampath</th>\n",
       "      <td>7</td>\n",
       "    </tr>\n",
       "    <tr>\n",
       "      <th>Nikhi</th>\n",
       "      <td>8</td>\n",
       "    </tr>\n",
       "    <tr>\n",
       "      <th>Shanmukh</th>\n",
       "      <td>2</td>\n",
       "    </tr>\n",
       "    <tr>\n",
       "      <th>Shanmukh</th>\n",
       "      <td>1</td>\n",
       "    </tr>\n",
       "  </tbody>\n",
       "</table>\n",
       "</div>"
      ],
      "text/plain": [
       "                  Points\n",
       "Scaler_Candidate        \n",
       "Sashank                8\n",
       "Sashank                9\n",
       "Manideep               9\n",
       "Manideep               9\n",
       "Sachin                 9\n",
       "Sampath                7\n",
       "Nikhi                  8\n",
       "Shanmukh               2\n",
       "Shanmukh               1"
      ]
     },
     "execution_count": 626,
     "metadata": {},
     "output_type": "execute_result"
    }
   ],
   "source": [
    "df1=df.set_index('Scaler_Candidate')\n",
    "df1"
   ]
  },
  {
   "cell_type": "code",
   "execution_count": 627,
   "id": "60a9b81f",
   "metadata": {},
   "outputs": [
    {
     "data": {
      "text/html": [
       "<div>\n",
       "<style scoped>\n",
       "    .dataframe tbody tr th:only-of-type {\n",
       "        vertical-align: middle;\n",
       "    }\n",
       "\n",
       "    .dataframe tbody tr th {\n",
       "        vertical-align: top;\n",
       "    }\n",
       "\n",
       "    .dataframe thead th {\n",
       "        text-align: right;\n",
       "    }\n",
       "</style>\n",
       "<table border=\"1\" class=\"dataframe\">\n",
       "  <thead>\n",
       "    <tr style=\"text-align: right;\">\n",
       "      <th></th>\n",
       "      <th>Points</th>\n",
       "    </tr>\n",
       "    <tr>\n",
       "      <th>Scaler_Candidate</th>\n",
       "      <th></th>\n",
       "    </tr>\n",
       "  </thead>\n",
       "  <tbody>\n",
       "    <tr>\n",
       "      <th>Sashank</th>\n",
       "      <td>8</td>\n",
       "    </tr>\n",
       "    <tr>\n",
       "      <th>Sashank</th>\n",
       "      <td>9</td>\n",
       "    </tr>\n",
       "  </tbody>\n",
       "</table>\n",
       "</div>"
      ],
      "text/plain": [
       "                  Points\n",
       "Scaler_Candidate        \n",
       "Sashank                8\n",
       "Sashank                9"
      ]
     },
     "execution_count": 627,
     "metadata": {},
     "output_type": "execute_result"
    }
   ],
   "source": [
    "df1.loc['Sashank']"
   ]
  },
  {
   "cell_type": "code",
   "execution_count": 628,
   "id": "cbcc948a",
   "metadata": {},
   "outputs": [
    {
     "data": {
      "text/html": [
       "<div>\n",
       "<style scoped>\n",
       "    .dataframe tbody tr th:only-of-type {\n",
       "        vertical-align: middle;\n",
       "    }\n",
       "\n",
       "    .dataframe tbody tr th {\n",
       "        vertical-align: top;\n",
       "    }\n",
       "\n",
       "    .dataframe thead th {\n",
       "        text-align: right;\n",
       "    }\n",
       "</style>\n",
       "<table border=\"1\" class=\"dataframe\">\n",
       "  <thead>\n",
       "    <tr style=\"text-align: right;\">\n",
       "      <th></th>\n",
       "      <th>Scaler_Candidate</th>\n",
       "      <th>Points</th>\n",
       "    </tr>\n",
       "  </thead>\n",
       "  <tbody>\n",
       "    <tr>\n",
       "      <th>0</th>\n",
       "      <td>Sashank</td>\n",
       "      <td>8</td>\n",
       "    </tr>\n",
       "    <tr>\n",
       "      <th>1</th>\n",
       "      <td>Sashank</td>\n",
       "      <td>9</td>\n",
       "    </tr>\n",
       "    <tr>\n",
       "      <th>2</th>\n",
       "      <td>Manideep</td>\n",
       "      <td>9</td>\n",
       "    </tr>\n",
       "    <tr>\n",
       "      <th>3</th>\n",
       "      <td>Manideep</td>\n",
       "      <td>9</td>\n",
       "    </tr>\n",
       "    <tr>\n",
       "      <th>4</th>\n",
       "      <td>Sachin</td>\n",
       "      <td>9</td>\n",
       "    </tr>\n",
       "    <tr>\n",
       "      <th>5</th>\n",
       "      <td>Sampath</td>\n",
       "      <td>7</td>\n",
       "    </tr>\n",
       "    <tr>\n",
       "      <th>6</th>\n",
       "      <td>Nikhi</td>\n",
       "      <td>8</td>\n",
       "    </tr>\n",
       "    <tr>\n",
       "      <th>7</th>\n",
       "      <td>Shanmukh</td>\n",
       "      <td>2</td>\n",
       "    </tr>\n",
       "    <tr>\n",
       "      <th>8</th>\n",
       "      <td>Shanmukh</td>\n",
       "      <td>1</td>\n",
       "    </tr>\n",
       "  </tbody>\n",
       "</table>\n",
       "</div>"
      ],
      "text/plain": [
       "  Scaler_Candidate  Points\n",
       "0          Sashank       8\n",
       "1          Sashank       9\n",
       "2         Manideep       9\n",
       "3         Manideep       9\n",
       "4           Sachin       9\n",
       "5          Sampath       7\n",
       "6            Nikhi       8\n",
       "7         Shanmukh       2\n",
       "8         Shanmukh       1"
      ]
     },
     "execution_count": 628,
     "metadata": {},
     "output_type": "execute_result"
    }
   ],
   "source": [
    "df1=df1.reset_index('Scaler_Candidate')\n",
    "df1"
   ]
  },
  {
   "cell_type": "markdown",
   "id": "f19b8105",
   "metadata": {},
   "source": [
    "# How do you concatenate multiple DataFrames in pandas?\n"
   ]
  },
  {
   "cell_type": "code",
   "execution_count": 629,
   "id": "bf6a2bf2",
   "metadata": {},
   "outputs": [
    {
     "name": "stdout",
     "output_type": "stream",
     "text": [
      "    Student  Points  Location\n",
      "0   Sashank       9       Hyd\n",
      "1   Sashank      10       Hyd\n",
      "2  Manideep      10     Vizag\n",
      "3  Manideep      10     Vizag\n",
      "4    Sachin      10  Banglore\n",
      "5   Sampath       8  Banglore\n",
      "6     Nikhi       9  Banglore\n",
      "7  Shanmukh       3       BZA\n",
      "8  Shanmukh       2       BZA\n"
     ]
    }
   ],
   "source": [
    "df = pd.DataFrame({'Student': ['Sashank', 'Sashank',\n",
    "                              'Manideep','Manideep', 'Sachin','Sampath','Nikhi','Shanmukh','Shanmukh'],\n",
    "                   'Points': [9,10,10,10,10,8,9,3,2]})\n",
    "df2 = pd.DataFrame({'Location': ['Hyd', 'Hyd',\"\"\n",
    "                              'Vizag','Vizag', 'Banglore','Banglore','Banglore','BZA','BZA']})\n",
    "\n",
    "result = pd.concat([df, df2], axis=1)\n",
    "print(result)"
   ]
  },
  {
   "cell_type": "code",
   "execution_count": 630,
   "id": "61bfc9f1",
   "metadata": {},
   "outputs": [
    {
     "name": "stdout",
     "output_type": "stream",
     "text": [
      "    Student  Points  Location\n",
      "0   Sashank     9.0       NaN\n",
      "1   Sashank    10.0       NaN\n",
      "2  Manideep    10.0       NaN\n",
      "3  Manideep    10.0       NaN\n",
      "4    Sachin    10.0       NaN\n",
      "5   Sampath     8.0       NaN\n",
      "6     Nikhi     9.0       NaN\n",
      "7  Shanmukh     3.0       NaN\n",
      "8  Shanmukh     2.0       NaN\n",
      "0       NaN     NaN       Hyd\n",
      "1       NaN     NaN       Hyd\n",
      "2       NaN     NaN     Vizag\n",
      "3       NaN     NaN     Vizag\n",
      "4       NaN     NaN  Banglore\n",
      "5       NaN     NaN  Banglore\n",
      "6       NaN     NaN  Banglore\n",
      "7       NaN     NaN       BZA\n",
      "8       NaN     NaN       BZA\n"
     ]
    }
   ],
   "source": [
    "\n",
    "df = pd.DataFrame({'Student': ['Sashank', 'Sashank',\n",
    "                              'Manideep','Manideep', 'Sachin','Sampath','Nikhi','Shanmukh','Shanmukh'],\n",
    "                   'Points': [9,10,10,10,10,8,9,3,2]})\n",
    "df2 = pd.DataFrame({'Location': ['Hyd', 'Hyd',\n",
    "                              'Vizag','Vizag', 'Banglore','Banglore','Banglore','BZA','BZA']})\n",
    "\n",
    "result = pd.concat([df, df2], axis=0)\n",
    "print(result)"
   ]
  },
  {
   "cell_type": "markdown",
   "id": "9ccbadc6",
   "metadata": {},
   "source": [
    "# How do you pivot a DataFrame in pandas?\n"
   ]
  },
  {
   "cell_type": "code",
   "execution_count": 631,
   "id": "6021f7c7",
   "metadata": {},
   "outputs": [
    {
     "data": {
      "text/html": [
       "<div>\n",
       "<style scoped>\n",
       "    .dataframe tbody tr th:only-of-type {\n",
       "        vertical-align: middle;\n",
       "    }\n",
       "\n",
       "    .dataframe tbody tr th {\n",
       "        vertical-align: top;\n",
       "    }\n",
       "\n",
       "    .dataframe thead th {\n",
       "        text-align: right;\n",
       "    }\n",
       "</style>\n",
       "<table border=\"1\" class=\"dataframe\">\n",
       "  <thead>\n",
       "    <tr style=\"text-align: right;\">\n",
       "      <th></th>\n",
       "      <th>Maths</th>\n",
       "      <th>Physics</th>\n",
       "      <th>Chemistry</th>\n",
       "      <th>Biology</th>\n",
       "    </tr>\n",
       "  </thead>\n",
       "  <tbody>\n",
       "    <tr>\n",
       "      <th>Sachin</th>\n",
       "      <td>9</td>\n",
       "      <td>0</td>\n",
       "      <td>10</td>\n",
       "      <td>10</td>\n",
       "    </tr>\n",
       "    <tr>\n",
       "      <th>Shanmukh</th>\n",
       "      <td>3</td>\n",
       "      <td>0</td>\n",
       "      <td>2</td>\n",
       "      <td>1</td>\n",
       "    </tr>\n",
       "    <tr>\n",
       "      <th>Sashank</th>\n",
       "      <td>2</td>\n",
       "      <td>0</td>\n",
       "      <td>3</td>\n",
       "      <td>10</td>\n",
       "    </tr>\n",
       "    <tr>\n",
       "      <th>Manideep</th>\n",
       "      <td>3</td>\n",
       "      <td>1</td>\n",
       "      <td>6</td>\n",
       "      <td>10</td>\n",
       "    </tr>\n",
       "  </tbody>\n",
       "</table>\n",
       "</div>"
      ],
      "text/plain": [
       "          Maths  Physics  Chemistry  Biology\n",
       "Sachin        9        0         10       10\n",
       "Shanmukh      3        0          2        1\n",
       "Sashank       2        0          3       10\n",
       "Manideep      3        1          6       10"
      ]
     },
     "execution_count": 631,
     "metadata": {},
     "output_type": "execute_result"
    }
   ],
   "source": [
    "df = pd.DataFrame({'Maths': [9,3,2,3],\n",
    "                   'Physics': [0,0,0,1],\n",
    "                   'Chemistry': [10, 2, 3, 6],\n",
    "                   'Biology': [10,1,10,10]},index=['Sachin','Shanmukh','Sashank','Manideep'])\n",
    "\n",
    "df\n"
   ]
  },
  {
   "cell_type": "code",
   "execution_count": 632,
   "id": "ac97cad5",
   "metadata": {},
   "outputs": [
    {
     "data": {
      "text/html": [
       "<div>\n",
       "<style scoped>\n",
       "    .dataframe tbody tr th:only-of-type {\n",
       "        vertical-align: middle;\n",
       "    }\n",
       "\n",
       "    .dataframe tbody tr th {\n",
       "        vertical-align: top;\n",
       "    }\n",
       "\n",
       "    .dataframe thead th {\n",
       "        text-align: right;\n",
       "    }\n",
       "</style>\n",
       "<table border=\"1\" class=\"dataframe\">\n",
       "  <thead>\n",
       "    <tr style=\"text-align: right;\">\n",
       "      <th></th>\n",
       "      <th>Sachin</th>\n",
       "      <th>Shanmukh</th>\n",
       "      <th>Sashank</th>\n",
       "      <th>Manideep</th>\n",
       "    </tr>\n",
       "    <tr>\n",
       "      <th>subjects</th>\n",
       "      <th></th>\n",
       "      <th></th>\n",
       "      <th></th>\n",
       "      <th></th>\n",
       "    </tr>\n",
       "  </thead>\n",
       "  <tbody>\n",
       "    <tr>\n",
       "      <th>Maths</th>\n",
       "      <td>9</td>\n",
       "      <td>3</td>\n",
       "      <td>2</td>\n",
       "      <td>3</td>\n",
       "    </tr>\n",
       "    <tr>\n",
       "      <th>Physics</th>\n",
       "      <td>0</td>\n",
       "      <td>0</td>\n",
       "      <td>0</td>\n",
       "      <td>1</td>\n",
       "    </tr>\n",
       "    <tr>\n",
       "      <th>Chemistry</th>\n",
       "      <td>10</td>\n",
       "      <td>2</td>\n",
       "      <td>3</td>\n",
       "      <td>6</td>\n",
       "    </tr>\n",
       "    <tr>\n",
       "      <th>Biology</th>\n",
       "      <td>10</td>\n",
       "      <td>1</td>\n",
       "      <td>10</td>\n",
       "      <td>10</td>\n",
       "    </tr>\n",
       "  </tbody>\n",
       "</table>\n",
       "</div>"
      ],
      "text/plain": [
       "           Sachin  Shanmukh  Sashank  Manideep\n",
       "subjects                                      \n",
       "Maths           9         3        2         3\n",
       "Physics         0         0        0         1\n",
       "Chemistry      10         2        3         6\n",
       "Biology        10         1       10        10"
      ]
     },
     "execution_count": 632,
     "metadata": {},
     "output_type": "execute_result"
    }
   ],
   "source": [
    "df_transposed = df.T\n",
    "df_transposed.index.name = 'subjects'\n",
    "df_transposed"
   ]
  },
  {
   "cell_type": "code",
   "execution_count": 633,
   "id": "e4061bef",
   "metadata": {},
   "outputs": [
    {
     "data": {
      "text/html": [
       "<div>\n",
       "<style scoped>\n",
       "    .dataframe tbody tr th:only-of-type {\n",
       "        vertical-align: middle;\n",
       "    }\n",
       "\n",
       "    .dataframe tbody tr th {\n",
       "        vertical-align: top;\n",
       "    }\n",
       "\n",
       "    .dataframe thead th {\n",
       "        text-align: right;\n",
       "    }\n",
       "</style>\n",
       "<table border=\"1\" class=\"dataframe\">\n",
       "  <thead>\n",
       "    <tr style=\"text-align: right;\">\n",
       "      <th>subjects</th>\n",
       "      <th>Biology</th>\n",
       "      <th>Chemistry</th>\n",
       "      <th>Maths</th>\n",
       "      <th>Physics</th>\n",
       "    </tr>\n",
       "  </thead>\n",
       "  <tbody>\n",
       "    <tr>\n",
       "      <th>Manideep</th>\n",
       "      <td>10</td>\n",
       "      <td>6</td>\n",
       "      <td>3</td>\n",
       "      <td>1</td>\n",
       "    </tr>\n",
       "  </tbody>\n",
       "</table>\n",
       "</div>"
      ],
      "text/plain": [
       "subjects  Biology  Chemistry  Maths  Physics\n",
       "Manideep       10          6      3        1"
      ]
     },
     "execution_count": 633,
     "metadata": {},
     "output_type": "execute_result"
    }
   ],
   "source": [
    "table = pd.pivot_table(df_transposed, columns='subjects',values=['Manideep'])\n",
    "table"
   ]
  },
  {
   "cell_type": "markdown",
   "id": "068c1082",
   "metadata": {},
   "source": [
    "# How do you melt a DataFrame in pandas?\n"
   ]
  },
  {
   "cell_type": "code",
   "execution_count": 634,
   "id": "3b16126e",
   "metadata": {},
   "outputs": [
    {
     "data": {
      "text/html": [
       "<div>\n",
       "<style scoped>\n",
       "    .dataframe tbody tr th:only-of-type {\n",
       "        vertical-align: middle;\n",
       "    }\n",
       "\n",
       "    .dataframe tbody tr th {\n",
       "        vertical-align: top;\n",
       "    }\n",
       "\n",
       "    .dataframe thead th {\n",
       "        text-align: right;\n",
       "    }\n",
       "</style>\n",
       "<table border=\"1\" class=\"dataframe\">\n",
       "  <thead>\n",
       "    <tr style=\"text-align: right;\">\n",
       "      <th></th>\n",
       "      <th>subjects</th>\n",
       "      <th>Sachin</th>\n",
       "      <th>Shanmukh</th>\n",
       "      <th>Sashank</th>\n",
       "      <th>Manideep</th>\n",
       "    </tr>\n",
       "  </thead>\n",
       "  <tbody>\n",
       "    <tr>\n",
       "      <th>0</th>\n",
       "      <td>Maths</td>\n",
       "      <td>9</td>\n",
       "      <td>3</td>\n",
       "      <td>2</td>\n",
       "      <td>3</td>\n",
       "    </tr>\n",
       "    <tr>\n",
       "      <th>1</th>\n",
       "      <td>Physics</td>\n",
       "      <td>0</td>\n",
       "      <td>0</td>\n",
       "      <td>0</td>\n",
       "      <td>1</td>\n",
       "    </tr>\n",
       "    <tr>\n",
       "      <th>2</th>\n",
       "      <td>Chemistry</td>\n",
       "      <td>10</td>\n",
       "      <td>2</td>\n",
       "      <td>3</td>\n",
       "      <td>6</td>\n",
       "    </tr>\n",
       "    <tr>\n",
       "      <th>3</th>\n",
       "      <td>Biology</td>\n",
       "      <td>10</td>\n",
       "      <td>1</td>\n",
       "      <td>10</td>\n",
       "      <td>10</td>\n",
       "    </tr>\n",
       "  </tbody>\n",
       "</table>\n",
       "</div>"
      ],
      "text/plain": [
       "    subjects  Sachin  Shanmukh  Sashank  Manideep\n",
       "0      Maths       9         3        2         3\n",
       "1    Physics       0         0        0         1\n",
       "2  Chemistry      10         2        3         6\n",
       "3    Biology      10         1       10        10"
      ]
     },
     "execution_count": 634,
     "metadata": {},
     "output_type": "execute_result"
    }
   ],
   "source": [
    "df_transposed = df_transposed.reset_index().rename(columns={'index': 'subjects'})\n",
    "df_transposed"
   ]
  },
  {
   "cell_type": "code",
   "execution_count": 635,
   "id": "f19e6de5",
   "metadata": {},
   "outputs": [
    {
     "data": {
      "text/html": [
       "<div>\n",
       "<style scoped>\n",
       "    .dataframe tbody tr th:only-of-type {\n",
       "        vertical-align: middle;\n",
       "    }\n",
       "\n",
       "    .dataframe tbody tr th {\n",
       "        vertical-align: top;\n",
       "    }\n",
       "\n",
       "    .dataframe thead th {\n",
       "        text-align: right;\n",
       "    }\n",
       "</style>\n",
       "<table border=\"1\" class=\"dataframe\">\n",
       "  <thead>\n",
       "    <tr style=\"text-align: right;\">\n",
       "      <th></th>\n",
       "      <th>subjects</th>\n",
       "      <th>Name</th>\n",
       "      <th>Score</th>\n",
       "    </tr>\n",
       "  </thead>\n",
       "  <tbody>\n",
       "    <tr>\n",
       "      <th>0</th>\n",
       "      <td>Maths</td>\n",
       "      <td>Sachin</td>\n",
       "      <td>9</td>\n",
       "    </tr>\n",
       "    <tr>\n",
       "      <th>1</th>\n",
       "      <td>Physics</td>\n",
       "      <td>Sachin</td>\n",
       "      <td>0</td>\n",
       "    </tr>\n",
       "    <tr>\n",
       "      <th>2</th>\n",
       "      <td>Chemistry</td>\n",
       "      <td>Sachin</td>\n",
       "      <td>10</td>\n",
       "    </tr>\n",
       "    <tr>\n",
       "      <th>3</th>\n",
       "      <td>Biology</td>\n",
       "      <td>Sachin</td>\n",
       "      <td>10</td>\n",
       "    </tr>\n",
       "    <tr>\n",
       "      <th>4</th>\n",
       "      <td>Maths</td>\n",
       "      <td>Shanmukh</td>\n",
       "      <td>3</td>\n",
       "    </tr>\n",
       "    <tr>\n",
       "      <th>5</th>\n",
       "      <td>Physics</td>\n",
       "      <td>Shanmukh</td>\n",
       "      <td>0</td>\n",
       "    </tr>\n",
       "    <tr>\n",
       "      <th>6</th>\n",
       "      <td>Chemistry</td>\n",
       "      <td>Shanmukh</td>\n",
       "      <td>2</td>\n",
       "    </tr>\n",
       "    <tr>\n",
       "      <th>7</th>\n",
       "      <td>Biology</td>\n",
       "      <td>Shanmukh</td>\n",
       "      <td>1</td>\n",
       "    </tr>\n",
       "    <tr>\n",
       "      <th>8</th>\n",
       "      <td>Maths</td>\n",
       "      <td>Sashank</td>\n",
       "      <td>2</td>\n",
       "    </tr>\n",
       "    <tr>\n",
       "      <th>9</th>\n",
       "      <td>Physics</td>\n",
       "      <td>Sashank</td>\n",
       "      <td>0</td>\n",
       "    </tr>\n",
       "    <tr>\n",
       "      <th>10</th>\n",
       "      <td>Chemistry</td>\n",
       "      <td>Sashank</td>\n",
       "      <td>3</td>\n",
       "    </tr>\n",
       "    <tr>\n",
       "      <th>11</th>\n",
       "      <td>Biology</td>\n",
       "      <td>Sashank</td>\n",
       "      <td>10</td>\n",
       "    </tr>\n",
       "    <tr>\n",
       "      <th>12</th>\n",
       "      <td>Maths</td>\n",
       "      <td>Manideep</td>\n",
       "      <td>3</td>\n",
       "    </tr>\n",
       "    <tr>\n",
       "      <th>13</th>\n",
       "      <td>Physics</td>\n",
       "      <td>Manideep</td>\n",
       "      <td>1</td>\n",
       "    </tr>\n",
       "    <tr>\n",
       "      <th>14</th>\n",
       "      <td>Chemistry</td>\n",
       "      <td>Manideep</td>\n",
       "      <td>6</td>\n",
       "    </tr>\n",
       "    <tr>\n",
       "      <th>15</th>\n",
       "      <td>Biology</td>\n",
       "      <td>Manideep</td>\n",
       "      <td>10</td>\n",
       "    </tr>\n",
       "  </tbody>\n",
       "</table>\n",
       "</div>"
      ],
      "text/plain": [
       "     subjects      Name  Score\n",
       "0       Maths    Sachin      9\n",
       "1     Physics    Sachin      0\n",
       "2   Chemistry    Sachin     10\n",
       "3     Biology    Sachin     10\n",
       "4       Maths  Shanmukh      3\n",
       "5     Physics  Shanmukh      0\n",
       "6   Chemistry  Shanmukh      2\n",
       "7     Biology  Shanmukh      1\n",
       "8       Maths   Sashank      2\n",
       "9     Physics   Sashank      0\n",
       "10  Chemistry   Sashank      3\n",
       "11    Biology   Sashank     10\n",
       "12      Maths  Manideep      3\n",
       "13    Physics  Manideep      1\n",
       "14  Chemistry  Manideep      6\n",
       "15    Biology  Manideep     10"
      ]
     },
     "execution_count": 635,
     "metadata": {},
     "output_type": "execute_result"
    }
   ],
   "source": [
    "pd.melt(df_transposed, id_vars=['subjects'], var_name='Name', value_name='Score')"
   ]
  },
  {
   "cell_type": "code",
   "execution_count": 636,
   "id": "fa8b6fc7",
   "metadata": {},
   "outputs": [
    {
     "data": {
      "text/html": [
       "<div>\n",
       "<style scoped>\n",
       "    .dataframe tbody tr th:only-of-type {\n",
       "        vertical-align: middle;\n",
       "    }\n",
       "\n",
       "    .dataframe tbody tr th {\n",
       "        vertical-align: top;\n",
       "    }\n",
       "\n",
       "    .dataframe thead th {\n",
       "        text-align: right;\n",
       "    }\n",
       "</style>\n",
       "<table border=\"1\" class=\"dataframe\">\n",
       "  <thead>\n",
       "    <tr style=\"text-align: right;\">\n",
       "      <th>subjects</th>\n",
       "      <th>Maths</th>\n",
       "      <th>Physics</th>\n",
       "      <th>Chemistry</th>\n",
       "      <th>Biology</th>\n",
       "    </tr>\n",
       "  </thead>\n",
       "  <tbody>\n",
       "    <tr>\n",
       "      <th>Sachin</th>\n",
       "      <td>9</td>\n",
       "      <td>0</td>\n",
       "      <td>10</td>\n",
       "      <td>10</td>\n",
       "    </tr>\n",
       "    <tr>\n",
       "      <th>Shanmukh</th>\n",
       "      <td>3</td>\n",
       "      <td>0</td>\n",
       "      <td>2</td>\n",
       "      <td>1</td>\n",
       "    </tr>\n",
       "    <tr>\n",
       "      <th>Sashank</th>\n",
       "      <td>2</td>\n",
       "      <td>0</td>\n",
       "      <td>3</td>\n",
       "      <td>10</td>\n",
       "    </tr>\n",
       "    <tr>\n",
       "      <th>Manideep</th>\n",
       "      <td>3</td>\n",
       "      <td>1</td>\n",
       "      <td>6</td>\n",
       "      <td>10</td>\n",
       "    </tr>\n",
       "  </tbody>\n",
       "</table>\n",
       "</div>"
      ],
      "text/plain": [
       "subjects  Maths  Physics  Chemistry  Biology\n",
       "Sachin        9        0         10       10\n",
       "Shanmukh      3        0          2        1\n",
       "Sashank       2        0          3       10\n",
       "Manideep      3        1          6       10"
      ]
     },
     "execution_count": 636,
     "metadata": {},
     "output_type": "execute_result"
    }
   ],
   "source": [
    "#example 2\n",
    "df"
   ]
  },
  {
   "cell_type": "code",
   "execution_count": 637,
   "id": "e93a2b94",
   "metadata": {},
   "outputs": [],
   "source": [
    "df.index\n",
    "df = df.reset_index().rename(columns={'index': 'candidate'})\n"
   ]
  },
  {
   "cell_type": "code",
   "execution_count": 638,
   "id": "a08b3777",
   "metadata": {},
   "outputs": [
    {
     "data": {
      "text/html": [
       "<div>\n",
       "<style scoped>\n",
       "    .dataframe tbody tr th:only-of-type {\n",
       "        vertical-align: middle;\n",
       "    }\n",
       "\n",
       "    .dataframe tbody tr th {\n",
       "        vertical-align: top;\n",
       "    }\n",
       "\n",
       "    .dataframe thead th {\n",
       "        text-align: right;\n",
       "    }\n",
       "</style>\n",
       "<table border=\"1\" class=\"dataframe\">\n",
       "  <thead>\n",
       "    <tr style=\"text-align: right;\">\n",
       "      <th></th>\n",
       "      <th>candidate</th>\n",
       "      <th>Name</th>\n",
       "      <th>Score</th>\n",
       "    </tr>\n",
       "  </thead>\n",
       "  <tbody>\n",
       "    <tr>\n",
       "      <th>0</th>\n",
       "      <td>Sachin</td>\n",
       "      <td>Maths</td>\n",
       "      <td>9</td>\n",
       "    </tr>\n",
       "    <tr>\n",
       "      <th>1</th>\n",
       "      <td>Shanmukh</td>\n",
       "      <td>Maths</td>\n",
       "      <td>3</td>\n",
       "    </tr>\n",
       "    <tr>\n",
       "      <th>2</th>\n",
       "      <td>Sashank</td>\n",
       "      <td>Maths</td>\n",
       "      <td>2</td>\n",
       "    </tr>\n",
       "    <tr>\n",
       "      <th>3</th>\n",
       "      <td>Manideep</td>\n",
       "      <td>Maths</td>\n",
       "      <td>3</td>\n",
       "    </tr>\n",
       "    <tr>\n",
       "      <th>4</th>\n",
       "      <td>Sachin</td>\n",
       "      <td>Physics</td>\n",
       "      <td>0</td>\n",
       "    </tr>\n",
       "    <tr>\n",
       "      <th>5</th>\n",
       "      <td>Shanmukh</td>\n",
       "      <td>Physics</td>\n",
       "      <td>0</td>\n",
       "    </tr>\n",
       "    <tr>\n",
       "      <th>6</th>\n",
       "      <td>Sashank</td>\n",
       "      <td>Physics</td>\n",
       "      <td>0</td>\n",
       "    </tr>\n",
       "    <tr>\n",
       "      <th>7</th>\n",
       "      <td>Manideep</td>\n",
       "      <td>Physics</td>\n",
       "      <td>1</td>\n",
       "    </tr>\n",
       "    <tr>\n",
       "      <th>8</th>\n",
       "      <td>Sachin</td>\n",
       "      <td>Chemistry</td>\n",
       "      <td>10</td>\n",
       "    </tr>\n",
       "    <tr>\n",
       "      <th>9</th>\n",
       "      <td>Shanmukh</td>\n",
       "      <td>Chemistry</td>\n",
       "      <td>2</td>\n",
       "    </tr>\n",
       "    <tr>\n",
       "      <th>10</th>\n",
       "      <td>Sashank</td>\n",
       "      <td>Chemistry</td>\n",
       "      <td>3</td>\n",
       "    </tr>\n",
       "    <tr>\n",
       "      <th>11</th>\n",
       "      <td>Manideep</td>\n",
       "      <td>Chemistry</td>\n",
       "      <td>6</td>\n",
       "    </tr>\n",
       "    <tr>\n",
       "      <th>12</th>\n",
       "      <td>Sachin</td>\n",
       "      <td>Biology</td>\n",
       "      <td>10</td>\n",
       "    </tr>\n",
       "    <tr>\n",
       "      <th>13</th>\n",
       "      <td>Shanmukh</td>\n",
       "      <td>Biology</td>\n",
       "      <td>1</td>\n",
       "    </tr>\n",
       "    <tr>\n",
       "      <th>14</th>\n",
       "      <td>Sashank</td>\n",
       "      <td>Biology</td>\n",
       "      <td>10</td>\n",
       "    </tr>\n",
       "    <tr>\n",
       "      <th>15</th>\n",
       "      <td>Manideep</td>\n",
       "      <td>Biology</td>\n",
       "      <td>10</td>\n",
       "    </tr>\n",
       "  </tbody>\n",
       "</table>\n",
       "</div>"
      ],
      "text/plain": [
       "   candidate       Name  Score\n",
       "0     Sachin      Maths      9\n",
       "1   Shanmukh      Maths      3\n",
       "2    Sashank      Maths      2\n",
       "3   Manideep      Maths      3\n",
       "4     Sachin    Physics      0\n",
       "5   Shanmukh    Physics      0\n",
       "6    Sashank    Physics      0\n",
       "7   Manideep    Physics      1\n",
       "8     Sachin  Chemistry     10\n",
       "9   Shanmukh  Chemistry      2\n",
       "10   Sashank  Chemistry      3\n",
       "11  Manideep  Chemistry      6\n",
       "12    Sachin    Biology     10\n",
       "13  Shanmukh    Biology      1\n",
       "14   Sashank    Biology     10\n",
       "15  Manideep    Biology     10"
      ]
     },
     "execution_count": 638,
     "metadata": {},
     "output_type": "execute_result"
    }
   ],
   "source": [
    "pd.melt(df, id_vars=['candidate'], var_name='Name', value_name='Score')"
   ]
  },
  {
   "cell_type": "code",
   "execution_count": 639,
   "id": "7983a9f3",
   "metadata": {},
   "outputs": [
    {
     "name": "stdout",
     "output_type": "stream",
     "text": [
      "(18, 15)\n"
     ]
    },
    {
     "data": {
      "text/html": [
       "<div>\n",
       "<style scoped>\n",
       "    .dataframe tbody tr th:only-of-type {\n",
       "        vertical-align: middle;\n",
       "    }\n",
       "\n",
       "    .dataframe tbody tr th {\n",
       "        vertical-align: top;\n",
       "    }\n",
       "\n",
       "    .dataframe thead th {\n",
       "        text-align: right;\n",
       "    }\n",
       "</style>\n",
       "<table border=\"1\" class=\"dataframe\">\n",
       "  <thead>\n",
       "    <tr style=\"text-align: right;\">\n",
       "      <th></th>\n",
       "      <th>Date</th>\n",
       "      <th>Drug_Name</th>\n",
       "      <th>Parameter</th>\n",
       "      <th>1:30:00</th>\n",
       "      <th>2:30:00</th>\n",
       "      <th>3:30:00</th>\n",
       "      <th>4:30:00</th>\n",
       "      <th>5:30:00</th>\n",
       "      <th>6:30:00</th>\n",
       "      <th>7:30:00</th>\n",
       "      <th>8:30:00</th>\n",
       "      <th>9:30:00</th>\n",
       "      <th>10:30:00</th>\n",
       "      <th>11:30:00</th>\n",
       "      <th>12:30:00</th>\n",
       "    </tr>\n",
       "  </thead>\n",
       "  <tbody>\n",
       "    <tr>\n",
       "      <th>0</th>\n",
       "      <td>15-10-2020</td>\n",
       "      <td>diltiazem hydrochloride</td>\n",
       "      <td>Temperature</td>\n",
       "      <td>23.0</td>\n",
       "      <td>22.0</td>\n",
       "      <td>NaN</td>\n",
       "      <td>21.0</td>\n",
       "      <td>21.0</td>\n",
       "      <td>22</td>\n",
       "      <td>23.0</td>\n",
       "      <td>21.0</td>\n",
       "      <td>22.0</td>\n",
       "      <td>20</td>\n",
       "      <td>20.0</td>\n",
       "      <td>21</td>\n",
       "    </tr>\n",
       "    <tr>\n",
       "      <th>1</th>\n",
       "      <td>15-10-2020</td>\n",
       "      <td>diltiazem hydrochloride</td>\n",
       "      <td>Pressure</td>\n",
       "      <td>12.0</td>\n",
       "      <td>13.0</td>\n",
       "      <td>NaN</td>\n",
       "      <td>11.0</td>\n",
       "      <td>13.0</td>\n",
       "      <td>14</td>\n",
       "      <td>16.0</td>\n",
       "      <td>16.0</td>\n",
       "      <td>24.0</td>\n",
       "      <td>18</td>\n",
       "      <td>19.0</td>\n",
       "      <td>20</td>\n",
       "    </tr>\n",
       "    <tr>\n",
       "      <th>2</th>\n",
       "      <td>15-10-2020</td>\n",
       "      <td>docetaxel injection</td>\n",
       "      <td>Temperature</td>\n",
       "      <td>NaN</td>\n",
       "      <td>17.0</td>\n",
       "      <td>18.0</td>\n",
       "      <td>NaN</td>\n",
       "      <td>17.0</td>\n",
       "      <td>18</td>\n",
       "      <td>NaN</td>\n",
       "      <td>NaN</td>\n",
       "      <td>23.0</td>\n",
       "      <td>23</td>\n",
       "      <td>25.0</td>\n",
       "      <td>25</td>\n",
       "    </tr>\n",
       "    <tr>\n",
       "      <th>3</th>\n",
       "      <td>15-10-2020</td>\n",
       "      <td>docetaxel injection</td>\n",
       "      <td>Pressure</td>\n",
       "      <td>NaN</td>\n",
       "      <td>22.0</td>\n",
       "      <td>22.0</td>\n",
       "      <td>NaN</td>\n",
       "      <td>22.0</td>\n",
       "      <td>23</td>\n",
       "      <td>NaN</td>\n",
       "      <td>NaN</td>\n",
       "      <td>27.0</td>\n",
       "      <td>26</td>\n",
       "      <td>29.0</td>\n",
       "      <td>28</td>\n",
       "    </tr>\n",
       "    <tr>\n",
       "      <th>4</th>\n",
       "      <td>15-10-2020</td>\n",
       "      <td>ketamine hydrochloride</td>\n",
       "      <td>Temperature</td>\n",
       "      <td>24.0</td>\n",
       "      <td>NaN</td>\n",
       "      <td>NaN</td>\n",
       "      <td>27.0</td>\n",
       "      <td>NaN</td>\n",
       "      <td>26</td>\n",
       "      <td>25.0</td>\n",
       "      <td>24.0</td>\n",
       "      <td>23.0</td>\n",
       "      <td>22</td>\n",
       "      <td>21.0</td>\n",
       "      <td>20</td>\n",
       "    </tr>\n",
       "  </tbody>\n",
       "</table>\n",
       "</div>"
      ],
      "text/plain": [
       "         Date                Drug_Name    Parameter  1:30:00  2:30:00  \\\n",
       "0  15-10-2020  diltiazem hydrochloride  Temperature     23.0     22.0   \n",
       "1  15-10-2020  diltiazem hydrochloride     Pressure     12.0     13.0   \n",
       "2  15-10-2020      docetaxel injection  Temperature      NaN     17.0   \n",
       "3  15-10-2020      docetaxel injection     Pressure      NaN     22.0   \n",
       "4  15-10-2020   ketamine hydrochloride  Temperature     24.0      NaN   \n",
       "\n",
       "   3:30:00  4:30:00  5:30:00  6:30:00  7:30:00  8:30:00  9:30:00  10:30:00  \\\n",
       "0      NaN     21.0     21.0       22     23.0     21.0     22.0        20   \n",
       "1      NaN     11.0     13.0       14     16.0     16.0     24.0        18   \n",
       "2     18.0      NaN     17.0       18      NaN      NaN     23.0        23   \n",
       "3     22.0      NaN     22.0       23      NaN      NaN     27.0        26   \n",
       "4      NaN     27.0      NaN       26     25.0     24.0     23.0        22   \n",
       "\n",
       "   11:30:00  12:30:00  \n",
       "0      20.0        21  \n",
       "1      19.0        20  \n",
       "2      25.0        25  \n",
       "3      29.0        28  \n",
       "4      21.0        20  "
      ]
     },
     "execution_count": 639,
     "metadata": {},
     "output_type": "execute_result"
    }
   ],
   "source": [
    "df2 = pd.read_csv('D:\\DataSets\\Pfizer_1.csv')\n",
    "print(df2.shape)\n",
    "df2.head()\n"
   ]
  },
  {
   "cell_type": "code",
   "execution_count": 640,
   "id": "ba96d952",
   "metadata": {},
   "outputs": [
    {
     "data": {
      "text/html": [
       "<div>\n",
       "<style scoped>\n",
       "    .dataframe tbody tr th:only-of-type {\n",
       "        vertical-align: middle;\n",
       "    }\n",
       "\n",
       "    .dataframe tbody tr th {\n",
       "        vertical-align: top;\n",
       "    }\n",
       "\n",
       "    .dataframe thead th {\n",
       "        text-align: right;\n",
       "    }\n",
       "</style>\n",
       "<table border=\"1\" class=\"dataframe\">\n",
       "  <thead>\n",
       "    <tr style=\"text-align: right;\">\n",
       "      <th></th>\n",
       "      <th>Date</th>\n",
       "      <th>Parameter</th>\n",
       "      <th>Drug_Name</th>\n",
       "      <th>variable</th>\n",
       "      <th>value</th>\n",
       "    </tr>\n",
       "  </thead>\n",
       "  <tbody>\n",
       "    <tr>\n",
       "      <th>0</th>\n",
       "      <td>15-10-2020</td>\n",
       "      <td>Temperature</td>\n",
       "      <td>diltiazem hydrochloride</td>\n",
       "      <td>1:30:00</td>\n",
       "      <td>23.0</td>\n",
       "    </tr>\n",
       "    <tr>\n",
       "      <th>1</th>\n",
       "      <td>15-10-2020</td>\n",
       "      <td>Pressure</td>\n",
       "      <td>diltiazem hydrochloride</td>\n",
       "      <td>1:30:00</td>\n",
       "      <td>12.0</td>\n",
       "    </tr>\n",
       "    <tr>\n",
       "      <th>2</th>\n",
       "      <td>15-10-2020</td>\n",
       "      <td>Temperature</td>\n",
       "      <td>docetaxel injection</td>\n",
       "      <td>1:30:00</td>\n",
       "      <td>NaN</td>\n",
       "    </tr>\n",
       "    <tr>\n",
       "      <th>3</th>\n",
       "      <td>15-10-2020</td>\n",
       "      <td>Pressure</td>\n",
       "      <td>docetaxel injection</td>\n",
       "      <td>1:30:00</td>\n",
       "      <td>NaN</td>\n",
       "    </tr>\n",
       "    <tr>\n",
       "      <th>4</th>\n",
       "      <td>15-10-2020</td>\n",
       "      <td>Temperature</td>\n",
       "      <td>ketamine hydrochloride</td>\n",
       "      <td>1:30:00</td>\n",
       "      <td>24.0</td>\n",
       "    </tr>\n",
       "    <tr>\n",
       "      <th>...</th>\n",
       "      <td>...</td>\n",
       "      <td>...</td>\n",
       "      <td>...</td>\n",
       "      <td>...</td>\n",
       "      <td>...</td>\n",
       "    </tr>\n",
       "    <tr>\n",
       "      <th>211</th>\n",
       "      <td>17-10-2020</td>\n",
       "      <td>Pressure</td>\n",
       "      <td>diltiazem hydrochloride</td>\n",
       "      <td>12:30:00</td>\n",
       "      <td>14.0</td>\n",
       "    </tr>\n",
       "    <tr>\n",
       "      <th>212</th>\n",
       "      <td>17-10-2020</td>\n",
       "      <td>Temperature</td>\n",
       "      <td>docetaxel injection</td>\n",
       "      <td>12:30:00</td>\n",
       "      <td>23.0</td>\n",
       "    </tr>\n",
       "    <tr>\n",
       "      <th>213</th>\n",
       "      <td>17-10-2020</td>\n",
       "      <td>Pressure</td>\n",
       "      <td>docetaxel injection</td>\n",
       "      <td>12:30:00</td>\n",
       "      <td>28.0</td>\n",
       "    </tr>\n",
       "    <tr>\n",
       "      <th>214</th>\n",
       "      <td>17-10-2020</td>\n",
       "      <td>Temperature</td>\n",
       "      <td>ketamine hydrochloride</td>\n",
       "      <td>12:30:00</td>\n",
       "      <td>24.0</td>\n",
       "    </tr>\n",
       "    <tr>\n",
       "      <th>215</th>\n",
       "      <td>17-10-2020</td>\n",
       "      <td>Pressure</td>\n",
       "      <td>ketamine hydrochloride</td>\n",
       "      <td>12:30:00</td>\n",
       "      <td>15.0</td>\n",
       "    </tr>\n",
       "  </tbody>\n",
       "</table>\n",
       "<p>216 rows × 5 columns</p>\n",
       "</div>"
      ],
      "text/plain": [
       "           Date    Parameter                Drug_Name  variable  value\n",
       "0    15-10-2020  Temperature  diltiazem hydrochloride   1:30:00   23.0\n",
       "1    15-10-2020     Pressure  diltiazem hydrochloride   1:30:00   12.0\n",
       "2    15-10-2020  Temperature      docetaxel injection   1:30:00    NaN\n",
       "3    15-10-2020     Pressure      docetaxel injection   1:30:00    NaN\n",
       "4    15-10-2020  Temperature   ketamine hydrochloride   1:30:00   24.0\n",
       "..          ...          ...                      ...       ...    ...\n",
       "211  17-10-2020     Pressure  diltiazem hydrochloride  12:30:00   14.0\n",
       "212  17-10-2020  Temperature      docetaxel injection  12:30:00   23.0\n",
       "213  17-10-2020     Pressure      docetaxel injection  12:30:00   28.0\n",
       "214  17-10-2020  Temperature   ketamine hydrochloride  12:30:00   24.0\n",
       "215  17-10-2020     Pressure   ketamine hydrochloride  12:30:00   15.0\n",
       "\n",
       "[216 rows x 5 columns]"
      ]
     },
     "execution_count": 640,
     "metadata": {},
     "output_type": "execute_result"
    }
   ],
   "source": [
    "pd.melt(df2, id_vars=['Date', 'Parameter', 'Drug_Name'])                "
   ]
  },
  {
   "cell_type": "code",
   "execution_count": 641,
   "id": "7710352a",
   "metadata": {},
   "outputs": [],
   "source": [
    "#example4"
   ]
  },
  {
   "cell_type": "code",
   "execution_count": 642,
   "id": "5da5c625",
   "metadata": {},
   "outputs": [
    {
     "name": "stdout",
     "output_type": "stream",
     "text": [
      "Original DataFrame:\n",
      "      Name  Maths  Science  History\n",
      "0    Alice     80       90       85\n",
      "1      Bob     70       75       80\n",
      "2  Charlie     90       85       95\n",
      "(3, 4)\n",
      "\n",
      "Melted DataFrame:\n",
      "      Name  Subject  Score\n",
      "0    Alice    Maths     80\n",
      "1      Bob    Maths     70\n",
      "2  Charlie    Maths     90\n",
      "3    Alice  Science     90\n",
      "4      Bob  Science     75\n",
      "5  Charlie  Science     85\n",
      "6    Alice  History     85\n",
      "7      Bob  History     80\n",
      "8  Charlie  History     95\n",
      "(9, 3)\n"
     ]
    }
   ],
   "source": [
    "import pandas as pd\n",
    "\n",
    "data = {\n",
    "    'Name': ['Alice', 'Bob', 'Charlie'],\n",
    "    'Maths': [80, 70, 90],\n",
    "    'Science': [90, 75, 85],\n",
    "    'History': [85, 80, 95]\n",
    "}\n",
    "\n",
    "df = pd.DataFrame(data)\n",
    "print(\"Original DataFrame:\")\n",
    "print(df)\n",
    "print(df.shape)\n",
    "\n",
    "# melt the DataFrame to transform the subjects columns\n",
    "melted_df = pd.melt(df, id_vars=['Name'], value_vars=['Maths', 'Science', 'History'], var_name='Subject', value_name='Score')\n",
    "print(\"\\nMelted DataFrame:\")\n",
    "print(melted_df)\n",
    "print(melted_df.shape)"
   ]
  },
  {
   "cell_type": "markdown",
   "id": "343e4bc0",
   "metadata": {},
   "source": [
    "# MELT and EXPLODE"
   ]
  },
  {
   "cell_type": "code",
   "execution_count": 643,
   "id": "05ff8fcc",
   "metadata": {},
   "outputs": [
    {
     "name": "stdout",
     "output_type": "stream",
     "text": [
      "Original DataFrame:\n",
      "      Name              Colors\n",
      "0    Alice        [Red, Green]\n",
      "1      Bob       [Blue, Green]\n",
      "2  Charlie  [Red, Blue, Green]\n",
      "(3, 2)\n",
      "\n",
      "Melted DataFrame:\n",
      "      Name Variable               Value\n",
      "0    Alice   Colors        [Red, Green]\n",
      "1      Bob   Colors       [Blue, Green]\n",
      "2  Charlie   Colors  [Red, Blue, Green]\n",
      "(3, 3)\n",
      "\n",
      "Exploded DataFrame:\n",
      "      Name Variable  Value\n",
      "0    Alice   Colors    Red\n",
      "0    Alice   Colors  Green\n",
      "1      Bob   Colors   Blue\n",
      "1      Bob   Colors  Green\n",
      "2  Charlie   Colors    Red\n",
      "2  Charlie   Colors   Blue\n",
      "2  Charlie   Colors  Green\n",
      "(7, 3)\n"
     ]
    }
   ],
   "source": [
    "import pandas as pd\n",
    "\n",
    "data = {\n",
    "    'Name': ['Alice', 'Bob', 'Charlie'],\n",
    "    'Colors': [['Red', 'Green'], ['Blue', 'Green'], ['Red', 'Blue', 'Green']]\n",
    "}\n",
    "\n",
    "df = pd.DataFrame(data)\n",
    "print(\"Original DataFrame:\")\n",
    "print(df)\n",
    "print(df.shape)\n",
    "\n",
    "# melt the DataFrame to transform the 'Colors' column\n",
    "melted_df = pd.melt(df, id_vars=['Name'], var_name='Variable', value_name='Value')\n",
    "print(\"\\nMelted DataFrame:\")\n",
    "print(melted_df)\n",
    "print(melted_df.shape)\n",
    "\n",
    "# explode the 'Value' column to extract each color\n",
    "exploded_df = melted_df.explode('Value')\n",
    "print(\"\\nExploded DataFrame:\")\n",
    "print(exploded_df)\n",
    "print(exploded_df.shape)"
   ]
  },
  {
   "cell_type": "markdown",
   "id": "43ce6525",
   "metadata": {},
   "source": [
    "# How do you calculate the correlation between columns in a DataFrame using pandas?\n"
   ]
  },
  {
   "cell_type": "code",
   "execution_count": 644,
   "id": "ad20804c",
   "metadata": {},
   "outputs": [
    {
     "name": "stdout",
     "output_type": "stream",
     "text": [
      "            Maths   Science   History\n",
      "Maths    1.000000  0.654654  0.981981\n",
      "Science  0.654654  1.000000  0.500000\n",
      "History  0.981981  0.500000  1.000000\n"
     ]
    }
   ],
   "source": [
    "import pandas as pd\n",
    "\n",
    "# create a sample DataFrame\n",
    "data = {\n",
    "    'Name': ['Alice', 'Bob', 'Charlie'],\n",
    "    'Maths': [80, 70, 90],\n",
    "    'Science': [90, 75, 85],\n",
    "    'History': [85, 80, 95]\n",
    "}\n",
    "\n",
    "df = pd.DataFrame(data)\n",
    "\n",
    "# calculate the correlation matrix between all columns\n",
    "correlation_matrix = df.corr()\n",
    "\n",
    "print(correlation_matrix)\n"
   ]
  },
  {
   "cell_type": "markdown",
   "id": "414dc6c8",
   "metadata": {},
   "source": [
    "# How do you handle outliers in a DataFrame using pandas?\n"
   ]
  },
  {
   "cell_type": "code",
   "execution_count": 645,
   "id": "c6f7c1e7",
   "metadata": {},
   "outputs": [
    {
     "name": "stdout",
     "output_type": "stream",
     "text": [
      "   A   B\n",
      "0  1  10\n",
      "1  2  20\n",
      "2  3  30\n",
      "3  4  40\n",
      "4  5  50\n"
     ]
    }
   ],
   "source": [
    "import pandas as pd\n",
    "import numpy as np\n",
    "\n",
    "df = pd.DataFrame({'A': [1, 2, 3, 4, 5, 100],\n",
    "                   'B': [10, 20, 30, 40, 50, 200]})\n",
    "\n",
    "# identify and trim outliers in column A\n",
    "q1 = df['A'].quantile(0.25)\n",
    "q3 = df['A'].quantile(0.75)\n",
    "iqr = q3 - q1\n",
    "lower_bound = q1 - 1.5*iqr\n",
    "upper_bound = q3 + 1.5*iqr\n",
    "df = df[(df['A'] > lower_bound) & (df['A'] < upper_bound)]\n",
    "\n",
    "print(df)"
   ]
  },
  {
   "cell_type": "markdown",
   "id": "db37db5b",
   "metadata": {},
   "source": [
    "# How do you extract unique values from a column in a DataFrame using pandas?\n"
   ]
  },
  {
   "cell_type": "code",
   "execution_count": 646,
   "id": "031f426f",
   "metadata": {},
   "outputs": [
    {
     "name": "stdout",
     "output_type": "stream",
     "text": [
      "[1 2 3 4 5]\n"
     ]
    }
   ],
   "source": [
    "import pandas as pd\n",
    "\n",
    "# create a sample DataFrame\n",
    "df = pd.DataFrame({'A': [1, 2, 3, 4, 5, 1, 2, 3, 4, 5]})\n",
    "\n",
    "# extract unique values from column A\n",
    "unique_values = df['A'].unique()\n",
    "\n",
    "print(unique_values)"
   ]
  },
  {
   "cell_type": "markdown",
   "id": "0c6f7b6a",
   "metadata": {},
   "source": [
    "# How do you calculate cumulative sum in a DataFrame using pandas?\n"
   ]
  },
  {
   "cell_type": "code",
   "execution_count": 647,
   "id": "52c061c0",
   "metadata": {},
   "outputs": [
    {
     "name": "stdout",
     "output_type": "stream",
     "text": [
      "0     1\n",
      "1     3\n",
      "2     6\n",
      "3    10\n",
      "4    15\n",
      "Name: A, dtype: int64\n"
     ]
    }
   ],
   "source": [
    "import pandas as pd\n",
    "\n",
    "# create a sample DataFrame\n",
    "df = pd.DataFrame({'A': [1, 2, 3, 4, 5]})\n",
    "\n",
    "# calculate the cumulative sum of column A\n",
    "cumulative_sum = df['A'].cumsum()\n",
    "\n",
    "print(cumulative_sum)"
   ]
  },
  {
   "cell_type": "markdown",
   "id": "b5d349d9",
   "metadata": {},
   "source": [
    "# How do you convert data types of columns in a DataFrame using pandas?\n"
   ]
  },
  {
   "cell_type": "code",
   "execution_count": 648,
   "id": "5b1c498c",
   "metadata": {},
   "outputs": [
    {
     "name": "stdout",
     "output_type": "stream",
     "text": [
      "A      int32\n",
      "B    float64\n",
      "dtype: object\n"
     ]
    }
   ],
   "source": [
    "import pandas as pd\n",
    "\n",
    "# create a sample DataFrame\n",
    "df = pd.DataFrame({'A': ['1', '2', '3'],\n",
    "                   'B': ['4.0', '5.0', '6.0']})\n",
    "\n",
    "# convert column A to integer type\n",
    "df['A'] = df['A'].astype(int)\n",
    "\n",
    "# convert column B to float type\n",
    "df['B'] = df['B'].astype(float)\n",
    "\n",
    "print(df.dtypes)"
   ]
  },
  {
   "cell_type": "markdown",
   "id": "7e6f8828",
   "metadata": {},
   "source": [
    "# How do you handle datetime data in a DataFrame using pandas?\n"
   ]
  },
  {
   "cell_type": "code",
   "execution_count": 649,
   "id": "68e76d23",
   "metadata": {},
   "outputs": [
    {
     "name": "stdout",
     "output_type": "stream",
     "text": [
      "   value       date\n",
      "0     10 2022-05-01\n",
      "1     20 2022-05-02\n",
      "2     30 2022-05-03\n",
      "3     40 2022-05-04\n",
      "4     50 2022-05-05\n"
     ]
    }
   ],
   "source": [
    "import pandas as pd\n",
    "\n",
    "# create a DataFrame\n",
    "df = pd.DataFrame({\n",
    "    'date_str': ['2022-05-01', '2022-05-02', '2022-05-03', '2022-05-04', '2022-05-05'],\n",
    "    'value': [10, 20, 30, 40, 50]\n",
    "})\n",
    "\n",
    "# convert 'date_str' column to datetime format\n",
    "df['date'] = pd.to_datetime(df['date_str'])\n",
    "\n",
    "# drop the original 'date_str' column\n",
    "df.drop('date_str', axis=1, inplace=True)\n",
    "\n",
    "# print the updated DataFrame\n",
    "print(df)\n"
   ]
  },
  {
   "cell_type": "markdown",
   "id": "00d902c0",
   "metadata": {},
   "source": [
    "# How do you handle multi-level indexing in pandas?\n"
   ]
  },
  {
   "cell_type": "code",
   "execution_count": 650,
   "id": "1de7395f",
   "metadata": {},
   "outputs": [
    {
     "name": "stdout",
     "output_type": "stream",
     "text": [
      "               A  B   C\n",
      "Group  Letter          \n",
      "Group1 A       1  5   9\n",
      "       B       2  6  10\n",
      "Group2 A       3  7  11\n",
      "       B       4  8  12\n"
     ]
    }
   ],
   "source": [
    "import pandas as pd\n",
    "\n",
    "# create a DataFrame with multi-level indexing\n",
    "data = {'A': [1, 2, 3, 4],\n",
    "        'B': [5, 6, 7, 8],\n",
    "        'C': [9, 10, 11, 12]}\n",
    "index = pd.MultiIndex.from_tuples([('Group1', 'A'), ('Group1', 'B'), ('Group2', 'A'), ('Group2', 'B')], names=['Group', 'Letter'])\n",
    "df = pd.DataFrame(data, index=index)\n",
    "\n",
    "# output the DataFrame\n",
    "print(df)\n"
   ]
  },
  {
   "cell_type": "code",
   "execution_count": 32,
   "id": "c1a3e2e0",
   "metadata": {},
   "outputs": [
    {
     "name": "stdout",
     "output_type": "stream",
     "text": [
      "The 25th percentile marks are: 50.0\n"
     ]
    }
   ],
   "source": [
    "import numpy as np\n",
    "\n",
    "marks = [10,0,20, 40, 50, 30, 60, 80, 90, 100, 70]\n",
    "\n",
    "# Calculate the 50th percentile\n",
    "pct = np.percentile(marks, 50)\n",
    "\n",
    "print(\"The 25th percentile marks are:\", pct)"
   ]
  },
  {
   "cell_type": "code",
   "execution_count": null,
   "id": "7dc31b47",
   "metadata": {},
   "outputs": [],
   "source": []
  },
  {
   "cell_type": "code",
   "execution_count": null,
   "id": "59b9833d",
   "metadata": {},
   "outputs": [],
   "source": []
  }
 ],
 "metadata": {
  "kernelspec": {
   "display_name": "Python 3 (ipykernel)",
   "language": "python",
   "name": "python3"
  },
  "language_info": {
   "codemirror_mode": {
    "name": "ipython",
    "version": 3
   },
   "file_extension": ".py",
   "mimetype": "text/x-python",
   "name": "python",
   "nbconvert_exporter": "python",
   "pygments_lexer": "ipython3",
   "version": "3.9.7"
  }
 },
 "nbformat": 4,
 "nbformat_minor": 5
}
